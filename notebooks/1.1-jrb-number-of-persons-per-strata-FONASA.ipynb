{
 "cells": [
  {
   "cell_type": "code",
   "execution_count": 1,
   "metadata": {},
   "outputs": [],
   "source": [
    "import sys\n",
    "import os\n",
    "\n",
    "project_root = os.path.abspath('..')\n",
    "if project_root not in sys.path:\n",
    "    sys.path.append(project_root)\n",
    " \n",
    "%load_ext autoreload\n",
    "%autoreload 2"
   ]
  },
  {
   "cell_type": "code",
   "execution_count": 3,
   "metadata": {},
   "outputs": [],
   "source": [
    "import pandas as pd\n",
    "import numpy as np\n",
    "\n",
    "import matplotlib.pyplot as plt\n",
    "import seaborn as sns\n",
    "\n",
    "import glob\n",
    "\n",
    "sns.set_theme(palette='pastel')\n",
    "plt.rcParams['figure.figsize'] = (12, 6)"
   ]
  },
  {
   "cell_type": "code",
   "execution_count": 4,
   "metadata": {},
   "outputs": [],
   "source": [
    "archivos = glob.glob(\"../data/raw/5.0-poblacion-fonasa/*.csv\")\n",
    "df_fonasa = pd.concat(pd.read_csv(archivo, encoding=\"latin-1\") for archivo in archivos)\n",
    "\n",
    "df_fonasa[\"ANO_INFORMACION\"] = df_fonasa.MES_INFORMACION.astype(str).str[:4]\n",
    "\n",
    "df_fonasa[\"REGION\"] = df_fonasa[\"REGION\"].str.upper().str.strip()\n",
    "df_fonasa[\"SEXO\"] = df_fonasa[\"SEXO\"].str.upper().str.strip()\n",
    "df_fonasa[\"SERVICIO_SALUD\"] = df_fonasa[\"SERVICIO_SALUD\"].str.upper().str.strip()\n",
    "df_fonasa[\"COMUNA\"] = df_fonasa[\"COMUNA\"].str.upper().str.strip()"
   ]
  },
  {
   "cell_type": "code",
   "execution_count": null,
   "metadata": {},
   "outputs": [],
   "source": [
    "# Obtiene estratos a calcular FONASA\n",
    "ESTRATOS_A_CALCULAR_FONASA = {}\n",
    "\n",
    "# Estrato pais\n",
    "df_pais_fonasa = df_fonasa.copy()\n",
    "ESTRATOS_A_CALCULAR_FONASA[\"Pais\"] = df_pais_fonasa\n",
    "\n",
    "# Por region\n",
    "for region in df_pais_fonasa[\"REGION\"].unique():\n",
    "    df_region_fonasa = df_pais_fonasa.query(\"REGION == @region\").copy()\n",
    "    ESTRATOS_A_CALCULAR_FONASA[region] = df_region_fonasa\n",
    "\n",
    "# Obtiene SSMO y SSMC\n",
    "df_ssmo_fonasa = df_pais_fonasa.query(\"SERVICIO_SALUD == 'SERVICIO DE SALUD METROPOLITANO ORIENTE'\")\n",
    "df_ssmc_fonasa = df_pais_fonasa.query(\"SERVICIO_SALUD == 'SERVICIO DE SALUD METROPOLITANO CENTRAL'\")\n",
    "\n",
    "ESTRATOS_A_CALCULAR_FONASA[\"SSMO\"] = df_ssmo_fonasa\n",
    "ESTRATOS_A_CALCULAR_FONASA[\"SSMC\"] = df_ssmc_fonasa"
   ]
  }
 ],
 "metadata": {
  "kernelspec": {
   "display_name": "int-proyeccion",
   "language": "python",
   "name": "python3"
  },
  "language_info": {
   "codemirror_mode": {
    "name": "ipython",
    "version": 3
   },
   "file_extension": ".py",
   "mimetype": "text/x-python",
   "name": "python",
   "nbconvert_exporter": "python",
   "pygments_lexer": "ipython3",
   "version": "3.11.5"
  }
 },
 "nbformat": 4,
 "nbformat_minor": 2
}
