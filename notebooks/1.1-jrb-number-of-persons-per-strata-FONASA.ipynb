{
 "cells": [
  {
   "cell_type": "code",
   "execution_count": 1,
   "metadata": {},
   "outputs": [],
   "source": [
    "import sys\n",
    "import os\n",
    "\n",
    "project_root = os.path.abspath('..')\n",
    "if project_root not in sys.path:\n",
    "    sys.path.append(project_root)\n",
    " \n",
    "%load_ext autoreload\n",
    "%autoreload 2"
   ]
  },
  {
   "cell_type": "code",
   "execution_count": 3,
   "metadata": {},
   "outputs": [],
   "source": [
    "import pandas as pd\n",
    "import numpy as np\n",
    "\n",
    "import matplotlib.pyplot as plt\n",
    "import seaborn as sns\n",
    "\n",
    "import glob\n",
    "\n",
    "sns.set_theme(palette='pastel')\n",
    "plt.rcParams['figure.figsize'] = (12, 6)"
   ]
  },
  {
   "cell_type": "code",
   "execution_count": 17,
   "metadata": {},
   "outputs": [],
   "source": [
    "archivos = glob.glob(\"../data/raw/5.0-poblacion-fonasa/*.csv\")\n",
    "df_fonasa = pd.concat(pd.read_csv(archivo, encoding=\"latin-1\") for archivo in archivos)\n",
    "\n",
    "df_fonasa[\"ANO_INFORMACION\"] = df_fonasa.MES_INFORMACION.astype(str).str[:4]\n",
    "\n",
    "df_fonasa[\"REGION\"] = df_fonasa[\"REGION\"].str.upper().str.strip()\n",
    "df_fonasa[\"SEXO\"] = df_fonasa[\"SEXO\"].str.upper().str.strip()\n",
    "df_fonasa[\"SERVICIO_SALUD\"] = df_fonasa[\"SERVICIO_SALUD\"].str.upper().str.strip()\n",
    "df_fonasa[\"COMUNA\"] = df_fonasa[\"COMUNA\"].str.upper().str.strip()\n",
    "\n",
    "df_fonasa[\"EDAD_TRAMO\"] = df_fonasa[\"EDAD_TRAMO\"].replace(\n",
    "    {\"Más de 99 años\": \"99 años\", \"S.I.\": \"-1\"}\n",
    ")\n",
    "df_fonasa[\"EDAD_TRAMO\"] = df_fonasa[\"EDAD_TRAMO\"].str.split().str[0].astype(int)"
   ]
  },
  {
   "cell_type": "code",
   "execution_count": 5,
   "metadata": {},
   "outputs": [],
   "source": [
    "# Obtiene estratos a calcular FONASA\n",
    "ESTRATOS_A_CALCULAR_FONASA = {}\n",
    "\n",
    "# Estrato pais\n",
    "df_pais_fonasa = df_fonasa.copy()\n",
    "ESTRATOS_A_CALCULAR_FONASA[\"Pais\"] = df_pais_fonasa\n",
    "\n",
    "# Por region\n",
    "for region in df_pais_fonasa[\"REGION\"].unique():\n",
    "    df_region_fonasa = df_pais_fonasa.query(\"REGION == @region\").copy()\n",
    "    ESTRATOS_A_CALCULAR_FONASA[region] = df_region_fonasa\n",
    "\n",
    "# Obtiene SSMO y SSMC\n",
    "df_ssmo_fonasa = df_pais_fonasa.query(\"SERVICIO_SALUD == 'SERVICIO DE SALUD METROPOLITANO ORIENTE'\")\n",
    "df_ssmc_fonasa = df_pais_fonasa.query(\"SERVICIO_SALUD == 'SERVICIO DE SALUD METROPOLITANO CENTRAL'\")\n",
    "\n",
    "ESTRATOS_A_CALCULAR_FONASA[\"SSMO\"] = df_ssmo_fonasa\n",
    "ESTRATOS_A_CALCULAR_FONASA[\"SSMC\"] = df_ssmc_fonasa"
   ]
  },
  {
   "cell_type": "code",
   "execution_count": 9,
   "metadata": {},
   "outputs": [
    {
     "data": {
      "text/plain": [
       "EDAD_TRAMO\n",
       "20 a 24 años      138712\n",
       "25 a 29 años      132628\n",
       "60 a 64 años      127505\n",
       "30 a 34 años      123612\n",
       "35 a 39 años      121486\n",
       "50 a 54 años      120456\n",
       "45 a 49 años      120429\n",
       "40 a 44 años      119824\n",
       "65 a 69 años      119401\n",
       "55 a 59 años      119332\n",
       "15 a 19 años      103927\n",
       "70 a 74 años       82629\n",
       "10 a 14 años       66964\n",
       "05 a 09 años       65544\n",
       "75 a 79 años       60514\n",
       "03 a 04 años       51847\n",
       "00 a 02 años       50573\n",
       "80 a 84 años       43702\n",
       "85 a 89 años       31711\n",
       "90 a 94 años       21490\n",
       "95 a 99 años       12796\n",
       "Más de 99 años      8258\n",
       "S.I.                5127\n",
       "Name: count, dtype: int64"
      ]
     },
     "execution_count": 9,
     "metadata": {},
     "output_type": "execute_result"
    }
   ],
   "source": [
    "ESTRATOS_A_CALCULAR_FONASA[\"Pais\"][\"EDAD_TRAMO\"].value_counts()"
   ]
  },
  {
   "cell_type": "code",
   "execution_count": null,
   "metadata": {},
   "outputs": [],
   "source": []
  }
 ],
 "metadata": {
  "kernelspec": {
   "display_name": "int-proyeccion",
   "language": "python",
   "name": "python3"
  },
  "language_info": {
   "codemirror_mode": {
    "name": "ipython",
    "version": 3
   },
   "file_extension": ".py",
   "mimetype": "text/x-python",
   "name": "python",
   "nbconvert_exporter": "python",
   "pygments_lexer": "ipython3",
   "version": "3.11.5"
  }
 },
 "nbformat": 4,
 "nbformat_minor": 2
}
