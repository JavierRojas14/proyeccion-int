{
 "cells": [
  {
   "cell_type": "code",
   "execution_count": 1,
   "metadata": {},
   "outputs": [],
   "source": [
    "import sys\n",
    "import os\n",
    "\n",
    "project_root = os.path.abspath('..')\n",
    "if project_root not in sys.path:\n",
    "    sys.path.append(project_root)\n",
    " \n",
    "%load_ext autoreload\n",
    "%autoreload 2"
   ]
  },
  {
   "cell_type": "code",
   "execution_count": 3,
   "metadata": {},
   "outputs": [],
   "source": [
    "import pandas as pd\n",
    "import numpy as np\n",
    "\n",
    "import matplotlib.pyplot as plt\n",
    "import seaborn as sns\n",
    "\n",
    "import glob\n",
    "\n",
    "sns.set_theme(palette='pastel')\n",
    "plt.rcParams['figure.figsize'] = (12, 6)"
   ]
  },
  {
   "cell_type": "code",
   "execution_count": 17,
   "metadata": {},
   "outputs": [],
   "source": [
    "archivos = glob.glob(\"../data/raw/5.0-poblacion-fonasa/*.csv\")\n",
    "df_fonasa = pd.concat(pd.read_csv(archivo, encoding=\"latin-1\") for archivo in archivos)\n",
    "\n",
    "df_fonasa[\"ANO_INFORMACION\"] = df_fonasa.MES_INFORMACION.astype(str).str[:4]\n",
    "\n",
    "df_fonasa[\"REGION\"] = df_fonasa[\"REGION\"].str.upper().str.strip()\n",
    "df_fonasa[\"SEXO\"] = df_fonasa[\"SEXO\"].str.upper().str.strip()\n",
    "df_fonasa[\"SERVICIO_SALUD\"] = df_fonasa[\"SERVICIO_SALUD\"].str.upper().str.strip()\n",
    "df_fonasa[\"COMUNA\"] = df_fonasa[\"COMUNA\"].str.upper().str.strip()\n",
    "\n",
    "df_fonasa[\"EDAD_TRAMO\"] = df_fonasa[\"EDAD_TRAMO\"].replace(\n",
    "    {\"Más de 99 años\": \"99 años\", \"S.I.\": \"-1\"}\n",
    ")\n",
    "df_fonasa[\"EDAD_TRAMO\"] = df_fonasa[\"EDAD_TRAMO\"].str.split().str[0].astype(int)"
   ]
  },
  {
   "cell_type": "code",
   "execution_count": 20,
   "metadata": {},
   "outputs": [],
   "source": [
    "# Obtiene estratos a calcular FONASA\n",
    "ESTRATOS_A_CALCULAR_FONASA = {}\n",
    "\n",
    "# Estrato pais\n",
    "df_pais_fonasa = df_fonasa.copy()\n",
    "ESTRATOS_A_CALCULAR_FONASA[\"Pais\"] = df_pais_fonasa\n",
    "\n",
    "# Por region\n",
    "for region in df_pais_fonasa[\"REGION\"].unique():\n",
    "    df_region_fonasa = df_pais_fonasa.query(\"REGION == @region\").copy()\n",
    "    ESTRATOS_A_CALCULAR_FONASA[region] = df_region_fonasa\n",
    "\n",
    "# Obtiene SSMO y SSMC\n",
    "df_ssmo_fonasa = df_pais_fonasa.query(\"SERVICIO_SALUD == 'SERVICIO DE SALUD METROPOLITANO ORIENTE'\")\n",
    "df_ssmc_fonasa = df_pais_fonasa.query(\"SERVICIO_SALUD == 'SERVICIO DE SALUD METROPOLITANO CENTRAL'\")\n",
    "\n",
    "ESTRATOS_A_CALCULAR_FONASA[\"SSMO\"] = df_ssmo_fonasa\n",
    "ESTRATOS_A_CALCULAR_FONASA[\"SSMC\"] = df_ssmc_fonasa"
   ]
  },
  {
   "cell_type": "code",
   "execution_count": 21,
   "metadata": {},
   "outputs": [
    {
     "data": {
      "text/plain": [
       "EDAD_TRAMO\n",
       " 20    138712\n",
       " 25    132628\n",
       " 60    127505\n",
       " 30    123612\n",
       " 35    121486\n",
       " 50    120456\n",
       " 45    120429\n",
       " 40    119824\n",
       " 65    119401\n",
       " 55    119332\n",
       " 15    103927\n",
       " 70     82629\n",
       " 10     66964\n",
       " 5      65544\n",
       " 75     60514\n",
       " 3      51847\n",
       " 0      50573\n",
       " 80     43702\n",
       " 85     31711\n",
       " 90     21490\n",
       " 95     12796\n",
       " 99      8258\n",
       "-1       5127\n",
       "Name: count, dtype: int64"
      ]
     },
     "execution_count": 21,
     "metadata": {},
     "output_type": "execute_result"
    }
   ],
   "source": [
    "# Define todos los grupos etarios a calcular.\n",
    "query_strings = {\n",
    "    \"todos\": \"\", # Todo el pais\n",
    "    \"hombres\": \"SEXO == 'HOMBRE'\", # Hombres\n",
    "    \"mujeres\": \"SEXO == 'MUJER'\", # Mujeres\n",
    "    \"recien_nacidos_vivos\": \"E\", # Recien Nacidos Vivos\n",
    "    \"sobre_15\": \"EDAD_TRAMO >= 15\", # Sobre 15 anios\n",
    "    \"sobre_20\": \"EDAD_TRAMO >= 20\", # Sobre 20 anios\n",
    "    \"sobre_45\": \"EDAD_TRAMO >= 45\", # Sobre 45 anios\n",
    "    \"sobre_60\": \"EDAD_TRAMO >= 60\", # Sobre 60 anios\n",
    "    \"sobre_65\": \"EDAD_TRAMO >= 65\", # Sobre 65 anios\n",
    "    \"sobre_75\": \"EDAD_TRAMO >= 75\", # Sobre 75 anios\n",
    "    \"entre_15_a_24_anios\": \"EDAD_TRAMO >= 15 and EDAD_TRAMO < 25\", # Entre 15 y 24 anios\n",
    "    \"entre_25_a_44_anios\": \"EDAD_TRAMO >= 25 and EDAD_TRAMO < 45\", # Entre 25 y 44 anios\n",
    "    \"entre_45_a_59_anios\": \"EDAD_TRAMO >= 45 and EDAD_TRAMO < 60\", # Entre 45 y 59 anios\n",
    "    \"entre_60_y_70_anios\": \"EDAD_TRAMO >= 60 and EDAD_TRAMO <= 70\", # Entre 60 y 70 anios\n",
    "    \"entre_60_a_74_anios\": \"EDAD_TRAMO >= 60 and EDAD_TRAMO < 75\", # Entre 60 a 74 anios\n",
    "    \"mayores_a_75_anios\": \"EDAD_TRAMO >= 75\", # Mayores a 75 anios\n",
    "\n",
    "}"
   ]
  },
  {
   "cell_type": "code",
   "execution_count": 24,
   "metadata": {},
   "outputs": [
    {
     "data": {
      "text/plain": [
       "EDAD_TRAMO\n",
       "-1       5127\n",
       " 0      50573\n",
       " 3      51847\n",
       " 5      65544\n",
       " 10     66964\n",
       " 15    103927\n",
       " 20    138712\n",
       " 25    132628\n",
       " 30    123612\n",
       " 35    121486\n",
       " 40    119824\n",
       " 45    120429\n",
       " 50    120456\n",
       " 55    119332\n",
       " 60    127505\n",
       " 65    119401\n",
       " 70     82629\n",
       " 75     60514\n",
       " 80     43702\n",
       " 85     31711\n",
       " 90     21490\n",
       " 95     12796\n",
       " 99      8258\n",
       "Name: count, dtype: int64"
      ]
     },
     "execution_count": 24,
     "metadata": {},
     "output_type": "execute_result"
    }
   ],
   "source": [
    "df_fonasa[\"EDAD_TRAMO\"].value_counts().sort_index()"
   ]
  },
  {
   "cell_type": "code",
   "execution_count": null,
   "metadata": {},
   "outputs": [],
   "source": []
  }
 ],
 "metadata": {
  "kernelspec": {
   "display_name": "int-proyeccion",
   "language": "python",
   "name": "python3"
  },
  "language_info": {
   "codemirror_mode": {
    "name": "ipython",
    "version": 3
   },
   "file_extension": ".py",
   "mimetype": "text/x-python",
   "name": "python",
   "nbconvert_exporter": "python",
   "pygments_lexer": "ipython3",
   "version": "3.11.5"
  }
 },
 "nbformat": 4,
 "nbformat_minor": 2
}
