{
 "cells": [
  {
   "cell_type": "code",
   "execution_count": 1,
   "metadata": {},
   "outputs": [],
   "source": [
    "import sys\n",
    "import os\n",
    "\n",
    "project_root = os.path.abspath('..')\n",
    "if project_root not in sys.path:\n",
    "    sys.path.append(project_root)\n",
    "\n",
    "%load_ext autoreload\n",
    "%autoreload 2"
   ]
  },
  {
   "cell_type": "code",
   "execution_count": 2,
   "metadata": {},
   "outputs": [],
   "source": [
    "import pandas as pd\n",
    "import numpy as np\n",
    "\n",
    "import matplotlib.pyplot as plt\n",
    "import seaborn as sns\n",
    "\n",
    "from src.features import build_features\n",
    "\n",
    "sns.set_style()\n",
    "plt.rcParams['figure.figsize'] = (12, 6)"
   ]
  },
  {
   "cell_type": "markdown",
   "metadata": {},
   "source": [
    "# 1. Estimación de Insumos en el INT\n",
    "\n",
    "En este cuadernillo se quieren estimar la cantidad de insumos que necesitará el INT para 2035 considerando su tasa de aumento en cada uno de los diagnósticos más relevantes. Los insumos que se quieren calcular son:\n",
    "\n",
    "- Camas\n",
    "- Pabellones\n",
    "- Procedimientos más importantes (Resonancias, TAC Variadas, Estudios Histopatológicos - Biopsias, etc...)"
   ]
  },
  {
   "cell_type": "code",
   "execution_count": 3,
   "metadata": {},
   "outputs": [],
   "source": [
    "DIAGS_RELEVANTES = [\n",
    "    \"C33X\",\n",
    "    \"C340\",\n",
    "    \"C341\",\n",
    "    \"C342\",\n",
    "    \"C343\",\n",
    "    \"C381\",\n",
    "    \"C384\",\n",
    "    \"C450\",\n",
    "    \"C780\",\n",
    "    \"C782\",\n",
    "    \"D143\",\n",
    "    \"D381\",\n",
    "    \"E848\",\n",
    "    \"I080\",\n",
    "    \"I081\",\n",
    "    \"I340\",\n",
    "    \"I351\",\n",
    "    \"I352\",\n",
    "    \"I420\",\n",
    "    \"I456\",\n",
    "    \"I472\",\n",
    "    \"I495\",\n",
    "    \"I710\",\n",
    "    \"I712\",\n",
    "    \"J47X\",\n",
    "    \"J679\",\n",
    "    \"J841\",\n",
    "    \"J848\",\n",
    "    \"J849\",\n",
    "    \"J860\",\n",
    "    \"J869\",\n",
    "    \"J955\",\n",
    "    \"M348\",\n",
    "    \"T820\",\n",
    "    \"T821\",\n",
    "    \"Z450\",\n",
    "]"
   ]
  },
  {
   "cell_type": "markdown",
   "metadata": {},
   "source": [
    "## Lectura de bases de datos"
   ]
  },
  {
   "cell_type": "code",
   "execution_count": 4,
   "metadata": {},
   "outputs": [],
   "source": [
    "# Lectura de base DEIS\n",
    "egresos_torax_deis = pd.read_csv(\"../data/processed/egresos_torax_mes_y_dia.csv\")\n",
    "egresos_torax_deis = egresos_torax_deis[egresos_torax_deis[\"DIAG1\"].isin(DIAGS_RELEVANTES)]\n",
    "egresos_torax_deis = egresos_torax_deis.drop(\n",
    "    columns=[\n",
    "        \"MES_EGRESO\",\n",
    "        \"DIA_EGRESO\",\n",
    "        \"ESTABLECIMIENTO_SALUD\",\n",
    "        \"GLOSA_ESTABLECIMIENTO_SALUD\",\n",
    "    ]\n",
    ")\n",
    "egresos_torax_deis = egresos_torax_deis.groupby([\"ANO_EGRESO\", \"DIAG1\"]).sum().reset_index()\n",
    "egresos_torax_deis[\"dias_en_anio\"] = egresos_torax_deis[\"ANO_EGRESO\"].apply(\n",
    "    build_features.days_in_year\n",
    ")\n",
    "\n",
    "# Lectura de base GRD\n",
    "egresos_torax_grd = pd.read_excel(\"../data/processed/dias_estada_hospitalizados.xlsx\")\n",
    "egresos_torax_grd = egresos_torax_grd.groupby([\"ANO_EGRESO\", \"DIAG1\"]).sum().reset_index()\n",
    "egresos_torax_deis[\"dias_en_anio\"] = egresos_torax_grd[\"ANO_EGRESO\"].apply(\n",
    "    build_features.days_in_year\n",
    ")"
   ]
  },
  {
   "cell_type": "markdown",
   "metadata": {},
   "source": [
    "## Estimación de Cantidad de Camas\n",
    "\n",
    "Para estimar la cantidad de camas necesarias se utilizarán los días de estada necesarios para\n",
    "cada uno de los diagnósticos. Además, se obtendrán los días para cada uno de los años analizados. La fórmula para calcular la cantidad de camas es:\n",
    "\n",
    "$Cantidad De Camas = \\frac{Dias Estada En Periodo}{Cantidad Dias Periodo}$\n",
    "\n",
    "Por ejemplo:\n",
    "\n",
    "Si un diangóstico X tiene 2450 Días de Estada en 1 año (no bisiesto), entonces se necesitan la siguiente cantidad de camas para suplir tal diagnóstico:\n",
    "\n",
    "$Cantidad De Camas = \\frac{2450}{365} = 6.7 Camas$"
   ]
  },
  {
   "cell_type": "code",
   "execution_count": null,
   "metadata": {},
   "outputs": [],
   "source": []
  },
  {
   "cell_type": "markdown",
   "metadata": {},
   "source": []
  }
 ],
 "metadata": {
  "kernelspec": {
   "display_name": "int-proyeccion",
   "language": "python",
   "name": "python3"
  },
  "language_info": {
   "codemirror_mode": {
    "name": "ipython",
    "version": 3
   },
   "file_extension": ".py",
   "mimetype": "text/x-python",
   "name": "python",
   "nbconvert_exporter": "python",
   "pygments_lexer": "ipython3",
   "version": "3.11.5"
  }
 },
 "nbformat": 4,
 "nbformat_minor": 2
}
