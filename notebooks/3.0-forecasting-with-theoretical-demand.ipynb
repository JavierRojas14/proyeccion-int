{
 "cells": [
  {
   "cell_type": "code",
   "execution_count": 1,
   "metadata": {},
   "outputs": [],
   "source": [
    "import sys\n",
    "import os\n",
    "\n",
    "project_root = os.path.abspath('..')\n",
    "if project_root not in sys.path:\n",
    "    sys.path.append(project_root)\n",
    "\n",
    "%load_ext autoreload\n",
    "%autoreload 2"
   ]
  },
  {
   "cell_type": "code",
   "execution_count": 2,
   "metadata": {},
   "outputs": [],
   "source": [
    "import pandas as pd\n",
    "import numpy as np\n",
    "\n",
    "import matplotlib.pyplot as plt\n",
    "import seaborn as sns\n",
    "\n",
    "from src.features import build_features\n",
    "from src.visualization import visualize\n",
    "\n",
    "sns.set_style()\n",
    "plt.rcParams[\"figure.figsize\"] = (12, 6)\n",
    "\n",
    "DIAGS_RELEVANTES = [\n",
    "    \"C33X\",\n",
    "    \"C340\",\n",
    "    \"C341\",\n",
    "    \"C342\",\n",
    "    \"C343\",\n",
    "    \"C381\",\n",
    "    \"C384\",\n",
    "    \"C450\",\n",
    "    \"C780\",\n",
    "    \"C782\",\n",
    "    \"D143\",\n",
    "    \"D381\",\n",
    "    \"E848\",\n",
    "    \"I080\",\n",
    "    \"I081\",\n",
    "    \"I340\",\n",
    "    \"I350\",\n",
    "    \"I351\",\n",
    "    \"I352\",\n",
    "    \"I420\",\n",
    "    \"I456\",\n",
    "    \"I472\",\n",
    "    \"I495\",\n",
    "    \"I710\",\n",
    "    \"I712\",\n",
    "    \"J398\",\n",
    "    \"J47X\",\n",
    "    \"J679\",\n",
    "    \"J841\",\n",
    "    \"J848\",\n",
    "    \"J849\",\n",
    "    \"J860\",\n",
    "    \"J869\",\n",
    "    \"J90X\",\n",
    "    \"J91X\",\n",
    "    \"J931\",\n",
    "    \"J955\",\n",
    "    \"J980\",\n",
    "    \"M348\",\n",
    "    \"Q211\",\n",
    "    \"Q231\",\n",
    "    \"Q676\",\n",
    "    \"T820\",\n",
    "    \"T821\",\n",
    "    \"Z450\",\n",
    "]\n",
    "\n",
    "DIAGS_FALTANTES_PULMON = [\"C349\", \"C348\"]\n",
    "\n",
    "DIAGS_RELEVANTES += DIAGS_FALTANTES_PULMON"
   ]
  },
  {
   "cell_type": "code",
   "execution_count": 3,
   "metadata": {},
   "outputs": [],
   "source": [
    "# Carga los egresos nacionales\n",
    "egresos_nacionales = pd.read_csv(\n",
    "    \"../data/processed/ranking_nacional_egresos.csv\", sep=\";\", encoding=\"latin-1\"\n",
    ")\n",
    "\n",
    "# Filtra solamente los datos del INT\n",
    "egresos_torax = egresos_nacionales.query(\"ESTABLECIMIENTO_SALUD == 112103\").copy()"
   ]
  },
  {
   "cell_type": "markdown",
   "metadata": {},
   "source": [
    "En primer lugar, se filtrarán ambas bases de datos para solamente tener la información de los diagnósticos más relevantes para el INT. Luego de esto, se calculará la cantidad de egresos, dias de estada y pacientes para cada uno de los diagnósticos. Estos insumos serán utilizados para estimar la demanda.\n"
   ]
  },
  {
   "cell_type": "code",
   "execution_count": 4,
   "metadata": {},
   "outputs": [],
   "source": [
    "# Filtra solamente los diagnosticos mas relevantes del Torax\n",
    "egresos_mas_relevantes_nacionales = (\n",
    "    egresos_nacionales[egresos_nacionales[\"DIAG1\"].isin(DIAGS_RELEVANTES)]\n",
    "    .query(\"ANO_EGRESO >= 2017\")\n",
    "    .copy()\n",
    ")\n",
    "\n",
    "# Agrupa todos los diagnosticos relacionados a cancer de pulmon a un diagnostico comun\n",
    "egresos_mas_relevantes_nacionales[\"DIAG1\"] = egresos_mas_relevantes_nacionales[\"DIAG1\"].replace(\n",
    "    [\"C340\", \"C341\", \"C342\", \"C343\", \"C348\", \"C349\"], \"C34\"\n",
    ")\n",
    "\n",
    "# Filtra solamente los diagnosticos relevantes para el torax\n",
    "egresos_mas_relevantes_torax = egresos_mas_relevantes_nacionales.query(\n",
    "    \"ESTABLECIMIENTO_SALUD == 112103\"\n",
    ").copy()"
   ]
  },
  {
   "cell_type": "code",
   "execution_count": 22,
   "metadata": {},
   "outputs": [],
   "source": [
    "# Obtiene el resumen de metricas para el estrato nacional\n",
    "metricas_diags_relevantes_nacionales = build_features.calculate_discharges_metrics(\n",
    "    egresos_mas_relevantes_nacionales\n",
    ")\n",
    "\n",
    "# Obtiene resumen de metricas para el Torax\n",
    "metricas_diags_relevantes_torax = build_features.calculate_discharges_metrics(\n",
    "    egresos_mas_relevantes_torax\n",
    ")\n",
    "\n",
    "# Obtiene el porcentaje de resolucion de egresosx del Torax\n",
    "porcentaje_egresos_nacionales_torax = (\n",
    "    metricas_diags_relevantes_torax[\"n_egresos\"] / metricas_diags_relevantes_nacionales[\"n_egresos\"]\n",
    ")"
   ]
  },
  {
   "cell_type": "markdown",
   "metadata": {},
   "source": [
    "Una vez ya obtenido las metricas relevantes tanto para el estrato Nacional y del hospital a analizar, se procederá a comparar con los casos teóricos.\n"
   ]
  },
  {
   "cell_type": "code",
   "execution_count": 23,
   "metadata": {},
   "outputs": [],
   "source": [
    "# Importa los casos teoricos por cada problema de salud\n",
    "casos_teoricos = pd.read_excel(\"../data/interim/casos_teoricos_diagnosticos.xlsx\")\n",
    "casos_teoricos[\"Diagnostico\"] = casos_teoricos[\"Diagnostico\"].str.split(\"-\").str[0].str.strip()\n",
    "casos_teoricos = casos_teoricos.set_index(\"Diagnostico\")\n",
    "\n",
    "# Renombra columnas\n",
    "casos_teoricos = casos_teoricos.rename(\n",
    "    columns={\n",
    "        \"Poblacion 2017\": 2017,\n",
    "        \"Poblacion 2018\": 2018,\n",
    "        \"Poblacion 2019\": 2019,\n",
    "        \"Poblacion 2020\": 2020,\n",
    "        \"Poblacion 2021\": 2021,\n",
    "        \"Poblacion 2022\": 2022,\n",
    "        \"Poblacion 2023\": 2023,\n",
    "        \"Poblacion 2024\": 2024,\n",
    "        \"Poblacion 2025\": 2025,\n",
    "        \"Poblacion 2026\": 2026,\n",
    "        \"Poblacion 2027\": 2027,\n",
    "        \"Poblacion 2028\": 2028,\n",
    "        \"Poblacion 2029\": 2029,\n",
    "        \"Poblacion 2030\": 2030,\n",
    "        \"Poblacion 2031\": 2031,\n",
    "        \"Poblacion 2032\": 2032,\n",
    "        \"Poblacion 2033\": 2033,\n",
    "        \"Poblacion 2034\": 2034,\n",
    "        \"Poblacion 2035\": 2035,\n",
    "    }\n",
    ")\n",
    "\n",
    "# Obtiene los casos en el estrato nacional\n",
    "casos_nacionales = casos_teoricos.query(\"Estrato == 'Pais' and Estadística == 'Incidencia'\").copy()\n",
    "casos_nacionales_del_2017_al_2020 = casos_nacionales[[i for i in range(2017, 2021)]]"
   ]
  },
  {
   "cell_type": "markdown",
   "metadata": {},
   "source": [
    "Solamente se compararán los casos reales vs teóricos entre 2017 y 2020, ya que la información se encuentra disponible en tales periodos."
   ]
  },
  {
   "cell_type": "code",
   "execution_count": 25,
   "metadata": {},
   "outputs": [],
   "source": [
    "# Obtiene cuanto se hace cargo el INT de los casos teoricos\n",
    "porcentaje_atencion_teorica_int = (\n",
    "    metricas_diags_relevantes_torax[\"n_pacientes_distintos\"].sum(axis=1)\n",
    "    .div(casos_nacionales_del_2017_al_2020.sum(axis=1), axis=0)\n",
    ")"
   ]
  },
  {
   "cell_type": "code",
   "execution_count": 54,
   "metadata": {},
   "outputs": [],
   "source": [
    "# Se obtiene la cantidad de casos que debiese atender el Torax, asumiendo que atendera\n",
    "# lo mismo que entre 2017 y 2020 del total de casos teoricos\n",
    "cantidad_de_casos_estimados_int = casos_nacionales[[i for i in range(2017, 2036)]].mul(\n",
    "    porcentaje_atencion_teorica_int, axis=0\n",
    ")\n",
    "\n",
    "# Se obtiene la cantidad de egresos que debiese tener el INT, asumiendo que trabajara con la misma\n",
    "# eficiencia\n",
    "egresos_estimados_int = cantidad_de_casos_estimados_int.mul(\n",
    "    metricas_diags_relevantes_torax[\"egresos_por_paciente_agrupado\"][\"2017-2020\"], axis=0\n",
    ")\n",
    "\n",
    "# Se obtiene la cantidad de dias de estada que debiese el INT, asumiendo que trabajara con la misma\n",
    "# eficiencia\n",
    "dias_estada_estimados_int = egresos_estimados_int.mul(\n",
    "    metricas_diags_relevantes_torax[\"dias_estada_promedio_agrupado\"][\"2017-2020\"], axis=0\n",
    ")\n",
    "\n",
    "# Estima la cantidad de camas necesaarias por diagnostico\n",
    "camas_estimadas_int = (dias_estada_estimados_int / 365.25) * 1.2"
   ]
  },
  {
   "cell_type": "code",
   "execution_count": 55,
   "metadata": {},
   "outputs": [
    {
     "data": {
      "text/plain": [
       "2017    46.189548\n",
       "2018    47.212899\n",
       "2019    48.343425\n",
       "2020    49.501767\n",
       "2021    50.408278\n",
       "2022    51.173073\n",
       "2023    51.905465\n",
       "2024    52.628666\n",
       "2025    53.345258\n",
       "2026    54.054643\n",
       "2027    54.757204\n",
       "2028    55.451238\n",
       "2029    56.132028\n",
       "2030    56.793593\n",
       "2031    57.451960\n",
       "2032    58.080672\n",
       "2033    58.694638\n",
       "2034    59.297433\n",
       "2035    59.887932\n",
       "dtype: float64"
      ]
     },
     "execution_count": 55,
     "metadata": {},
     "output_type": "execute_result"
    }
   ],
   "source": [
    "camas_estimadas_int.sum()"
   ]
  },
  {
   "cell_type": "code",
   "execution_count": null,
   "metadata": {},
   "outputs": [],
   "source": []
  }
 ],
 "metadata": {
  "kernelspec": {
   "display_name": "int-proyeccion",
   "language": "python",
   "name": "python3"
  },
  "language_info": {
   "codemirror_mode": {
    "name": "ipython",
    "version": 3
   },
   "file_extension": ".py",
   "mimetype": "text/x-python",
   "name": "python",
   "nbconvert_exporter": "python",
   "pygments_lexer": "ipython3",
   "version": "3.11.5"
  }
 },
 "nbformat": 4,
 "nbformat_minor": 2
}
