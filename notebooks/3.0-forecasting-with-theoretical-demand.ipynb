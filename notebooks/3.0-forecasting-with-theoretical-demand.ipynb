{
 "cells": [
  {
   "cell_type": "code",
   "execution_count": 117,
   "metadata": {},
   "outputs": [
    {
     "name": "stdout",
     "output_type": "stream",
     "text": [
      "The autoreload extension is already loaded. To reload it, use:\n",
      "  %reload_ext autoreload\n"
     ]
    }
   ],
   "source": [
    "import sys\n",
    "import os\n",
    "\n",
    "project_root = os.path.abspath('..')\n",
    "if project_root not in sys.path:\n",
    "    sys.path.append(project_root)\n",
    "\n",
    "%load_ext autoreload\n",
    "%autoreload 2"
   ]
  },
  {
   "cell_type": "code",
   "execution_count": 118,
   "metadata": {},
   "outputs": [],
   "source": [
    "import pandas as pd\n",
    "import numpy as np\n",
    "\n",
    "import matplotlib.pyplot as plt\n",
    "import seaborn as sns\n",
    "\n",
    "from src.features import build_features\n",
    "from src.visualization import visualize\n",
    "\n",
    "sns.set_style()\n",
    "plt.rcParams[\"figure.figsize\"] = (12, 6)\n",
    "\n",
    "# Asumiendo que es una ocupacion del 80% de camas\n",
    "INDICE_OCUPACION_CAMAS = 1.25"
   ]
  },
  {
   "cell_type": "markdown",
   "metadata": {},
   "source": [
    "# Proyección de casos INT al 2035\n",
    "\n",
    "En este cuadernillo se quiere estimar la deminada que atenderá el INT para el 2035. Con esta demanada se calcularán las cantidades de camas necesarias para suplir tal demanda. Para determinar la demanda se utilizarán:\n",
    "\n",
    "1. Cantidad de casos teóricos por problemas de salud relevantes seleccionados: Estos se calcularon según la incidencia de cada problema de salud y la proyección de la población al 2035.\n",
    "\n",
    "2. Cantidad de casos atendidos actualmente por cada problema de salud: Estos se obtuvieron al analizar la base de egresos hospitalarios DEIS.\n",
    "\n",
    "Con ambos datos, se obtendrá cuanto % de atención ha cubierto el INT de los casos teóricos."
   ]
  },
  {
   "cell_type": "markdown",
   "metadata": {},
   "source": [
    "## Obtencion de casos teoricos para cada diagnóstico relevante segun incidencia\n",
    "\n",
    "Estos seran obtenidos desde el cuadernillo 1.0-jrb-number-of-persons-per-strata"
   ]
  },
  {
   "cell_type": "code",
   "execution_count": 119,
   "metadata": {},
   "outputs": [],
   "source": [
    "# Importa los casos teoricos por cada problema de salud\n",
    "casos_teoricos = pd.read_excel(\"../data/interim/casos_teoricos_diagnosticos.xlsx\")\n",
    "casos_teoricos[\"Diagnostico\"] = casos_teoricos[\"Diagnostico\"].str.split(\"-\").str[0].str.strip()\n",
    "\n",
    "# Extrae los diagnosticos relevantes para el recinto hospitalario\n",
    "DIAGNOSTICOS_RELEVANTES = casos_teoricos[\"Diagnostico\"].unique()\n",
    "casos_teoricos = casos_teoricos.set_index(\"Diagnostico\")\n",
    "\n",
    "# Renombra columnas\n",
    "COLUMNAS_A_RENOMBRAR = {\n",
    "    \"Poblacion 2017\": 2017,\n",
    "    \"Poblacion 2018\": 2018,\n",
    "    \"Poblacion 2019\": 2019,\n",
    "    \"Poblacion 2020\": 2020,\n",
    "    \"Poblacion 2021\": 2021,\n",
    "    \"Poblacion 2022\": 2022,\n",
    "    \"Poblacion 2023\": 2023,\n",
    "    \"Poblacion 2024\": 2024,\n",
    "    \"Poblacion 2025\": 2025,\n",
    "    \"Poblacion 2026\": 2026,\n",
    "    \"Poblacion 2027\": 2027,\n",
    "    \"Poblacion 2028\": 2028,\n",
    "    \"Poblacion 2029\": 2029,\n",
    "    \"Poblacion 2030\": 2030,\n",
    "    \"Poblacion 2031\": 2031,\n",
    "    \"Poblacion 2032\": 2032,\n",
    "    \"Poblacion 2033\": 2033,\n",
    "    \"Poblacion 2034\": 2034,\n",
    "    \"Poblacion 2035\": 2035,\n",
    "}\n",
    "casos_teoricos = casos_teoricos.rename(columns=COLUMNAS_A_RENOMBRAR)\n",
    "\n",
    "# Obtiene los casos en el estrato nacional\n",
    "casos_nacionales = casos_teoricos.query(\"Estrato == 'Pais'\").copy().sort_index()\n",
    "casos_nacionales_del_2017_al_2020 = casos_nacionales[[i for i in range(2017, 2021)]]"
   ]
  },
  {
   "cell_type": "code",
   "execution_count": 120,
   "metadata": {},
   "outputs": [
    {
     "name": "stdout",
     "output_type": "stream",
     "text": [
      "Los diagnosticos que seran proyectados son: \n",
      "['A152' 'B441' 'C341' 'C342' 'C343' 'C381' 'C780' 'C782' 'D381' 'E848'\n",
      " 'I051' 'I052' 'I080' 'I081' 'I232' 'I330' 'I340' 'I351' 'I352' 'I361'\n",
      " 'I420' 'I421' 'I495' 'I710' 'I711' 'I712' 'I715' 'J679' 'J841' 'J848'\n",
      " 'J955' 'M051' 'M348' 'Q222' 'Q233' 'Q257' 'Z450' 'I350'] \n",
      "y son 38\n"
     ]
    }
   ],
   "source": [
    "print(\n",
    "    f\"Los diagnosticos que seran proyectados son: \\n{DIAGNOSTICOS_RELEVANTES} \"\n",
    "    f\"\\ny son {len(DIAGNOSTICOS_RELEVANTES)}\"\n",
    ")"
   ]
  },
  {
   "cell_type": "markdown",
   "metadata": {},
   "source": [
    "## Obtención de casos atendidos entre 2017 y 2020 para diagnósticos relevantes.\n",
    "\n",
    "Estos se obtendrán del análisis de egresos hospitalarios a nivel país DEIS."
   ]
  },
  {
   "cell_type": "code",
   "execution_count": 121,
   "metadata": {},
   "outputs": [],
   "source": [
    "# Carga los egresos nacionales\n",
    "egresos_nacionales = pd.read_csv(\n",
    "    \"../data/processed/ranking_nacional_egresos.csv\", sep=\";\", encoding=\"latin-1\"\n",
    ")\n",
    "\n",
    "# Filtra solamente los datos del INT\n",
    "egresos_torax = egresos_nacionales.query(\"ESTABLECIMIENTO_SALUD == 112103\").copy()"
   ]
  },
  {
   "cell_type": "markdown",
   "metadata": {},
   "source": [
    "En primer lugar, se filtrarán ambas bases de datos para solamente tener la información de los diagnósticos más relevantes para el INT. Luego de esto, se calculará la cantidad de egresos, dias de estada y pacientes para cada uno de los diagnósticos. Estos insumos serán utilizados para estimar la demanda.\n"
   ]
  },
  {
   "cell_type": "code",
   "execution_count": 122,
   "metadata": {},
   "outputs": [],
   "source": [
    "# Filtra solamente los diagnosticos mas relevantes del Torax\n",
    "egresos_mas_relevantes_nacionales = (\n",
    "    egresos_nacionales[egresos_nacionales[\"DIAG1\"].isin(DIAGNOSTICOS_RELEVANTES)]\n",
    "    .query(\"ANO_EGRESO >= 2017\")\n",
    "    .copy()\n",
    ")\n",
    "\n",
    "# Filtra solamente los diagnosticos relevantes para el torax\n",
    "egresos_mas_relevantes_torax = egresos_mas_relevantes_nacionales.query(\n",
    "    \"ESTABLECIMIENTO_SALUD == 112103\"\n",
    ").copy()"
   ]
  },
  {
   "cell_type": "code",
   "execution_count": 123,
   "metadata": {},
   "outputs": [],
   "source": [
    "# Obtiene el resumen de metricas para el estrato nacional\n",
    "metricas_diags_relevantes_nacionales = build_features.calculate_discharges_metrics(\n",
    "    egresos_mas_relevantes_nacionales\n",
    ")\n",
    "\n",
    "# Obtiene resumen de metricas para el Torax\n",
    "metricas_diags_relevantes_torax = build_features.calculate_discharges_metrics(\n",
    "    egresos_mas_relevantes_torax\n",
    ")\n",
    "\n",
    "# Obtiene el porcentaje de resolucion de egresos del Torax\n",
    "porcentaje_egresos_nacionales_torax = (\n",
    "    metricas_diags_relevantes_torax[\"n_egresos\"] / metricas_diags_relevantes_nacionales[\"n_egresos\"]\n",
    ")\n",
    "\n",
    "porcentaje_egresos_nacionales_torax_acumulado = (\n",
    "    metricas_diags_relevantes_torax[\"n_egresos\"].sum(axis=1)\n",
    "    / metricas_diags_relevantes_nacionales[\"n_egresos\"].sum(axis=1)\n",
    ").to_frame()"
   ]
  },
  {
   "cell_type": "code",
   "execution_count": 124,
   "metadata": {},
   "outputs": [
    {
     "name": "stdout",
     "output_type": "stream",
     "text": [
      "Porcentaje de atencion (egresos) para ciertos problemas de salud relevantes INT\n"
     ]
    },
    {
     "data": {
      "text/html": [
       "<style type=\"text/css\">\n",
       "</style>\n",
       "<table id=\"T_8eb87\">\n",
       "  <thead>\n",
       "    <tr>\n",
       "      <th class=\"blank level0\" >&nbsp;</th>\n",
       "      <th id=\"T_8eb87_level0_col0\" class=\"col_heading level0 col0\" >2017</th>\n",
       "      <th id=\"T_8eb87_level0_col1\" class=\"col_heading level0 col1\" >2018</th>\n",
       "      <th id=\"T_8eb87_level0_col2\" class=\"col_heading level0 col2\" >2019</th>\n",
       "      <th id=\"T_8eb87_level0_col3\" class=\"col_heading level0 col3\" >2020</th>\n",
       "    </tr>\n",
       "    <tr>\n",
       "      <th class=\"index_name level0\" >DIAG1</th>\n",
       "      <th class=\"blank col0\" >&nbsp;</th>\n",
       "      <th class=\"blank col1\" >&nbsp;</th>\n",
       "      <th class=\"blank col2\" >&nbsp;</th>\n",
       "      <th class=\"blank col3\" >&nbsp;</th>\n",
       "    </tr>\n",
       "  </thead>\n",
       "  <tbody>\n",
       "    <tr>\n",
       "      <th id=\"T_8eb87_level0_row0\" class=\"row_heading level0 row0\" >A152</th>\n",
       "      <td id=\"T_8eb87_row0_col0\" class=\"data row0 col0\" >31.58%</td>\n",
       "      <td id=\"T_8eb87_row0_col1\" class=\"data row0 col1\" >90.68%</td>\n",
       "      <td id=\"T_8eb87_row0_col2\" class=\"data row0 col2\" >46.15%</td>\n",
       "      <td id=\"T_8eb87_row0_col3\" class=\"data row0 col3\" >0.00%</td>\n",
       "    </tr>\n",
       "    <tr>\n",
       "      <th id=\"T_8eb87_level0_row1\" class=\"row_heading level0 row1\" >B441</th>\n",
       "      <td id=\"T_8eb87_row1_col0\" class=\"data row1 col0\" >25.00%</td>\n",
       "      <td id=\"T_8eb87_row1_col1\" class=\"data row1 col1\" >9.09%</td>\n",
       "      <td id=\"T_8eb87_row1_col2\" class=\"data row1 col2\" >31.03%</td>\n",
       "      <td id=\"T_8eb87_row1_col3\" class=\"data row1 col3\" >44.44%</td>\n",
       "    </tr>\n",
       "    <tr>\n",
       "      <th id=\"T_8eb87_level0_row2\" class=\"row_heading level0 row2\" >C341</th>\n",
       "      <td id=\"T_8eb87_row2_col0\" class=\"data row2 col0\" >48.39%</td>\n",
       "      <td id=\"T_8eb87_row2_col1\" class=\"data row2 col1\" >46.03%</td>\n",
       "      <td id=\"T_8eb87_row2_col2\" class=\"data row2 col2\" >44.62%</td>\n",
       "      <td id=\"T_8eb87_row2_col3\" class=\"data row2 col3\" >24.05%</td>\n",
       "    </tr>\n",
       "    <tr>\n",
       "      <th id=\"T_8eb87_level0_row3\" class=\"row_heading level0 row3\" >C342</th>\n",
       "      <td id=\"T_8eb87_row3_col0\" class=\"data row3 col0\" >38.00%</td>\n",
       "      <td id=\"T_8eb87_row3_col1\" class=\"data row3 col1\" >35.29%</td>\n",
       "      <td id=\"T_8eb87_row3_col2\" class=\"data row3 col2\" >38.46%</td>\n",
       "      <td id=\"T_8eb87_row3_col3\" class=\"data row3 col3\" >14.58%</td>\n",
       "    </tr>\n",
       "    <tr>\n",
       "      <th id=\"T_8eb87_level0_row4\" class=\"row_heading level0 row4\" >C343</th>\n",
       "      <td id=\"T_8eb87_row4_col0\" class=\"data row4 col0\" >45.74%</td>\n",
       "      <td id=\"T_8eb87_row4_col1\" class=\"data row4 col1\" >42.32%</td>\n",
       "      <td id=\"T_8eb87_row4_col2\" class=\"data row4 col2\" >43.01%</td>\n",
       "      <td id=\"T_8eb87_row4_col3\" class=\"data row4 col3\" >17.04%</td>\n",
       "    </tr>\n",
       "    <tr>\n",
       "      <th id=\"T_8eb87_level0_row5\" class=\"row_heading level0 row5\" >C381</th>\n",
       "      <td id=\"T_8eb87_row5_col0\" class=\"data row5 col0\" >36.59%</td>\n",
       "      <td id=\"T_8eb87_row5_col1\" class=\"data row5 col1\" >51.22%</td>\n",
       "      <td id=\"T_8eb87_row5_col2\" class=\"data row5 col2\" >36.54%</td>\n",
       "      <td id=\"T_8eb87_row5_col3\" class=\"data row5 col3\" >11.90%</td>\n",
       "    </tr>\n",
       "    <tr>\n",
       "      <th id=\"T_8eb87_level0_row6\" class=\"row_heading level0 row6\" >C780</th>\n",
       "      <td id=\"T_8eb87_row6_col0\" class=\"data row6 col0\" >15.28%</td>\n",
       "      <td id=\"T_8eb87_row6_col1\" class=\"data row6 col1\" >16.62%</td>\n",
       "      <td id=\"T_8eb87_row6_col2\" class=\"data row6 col2\" >14.42%</td>\n",
       "      <td id=\"T_8eb87_row6_col3\" class=\"data row6 col3\" >4.60%</td>\n",
       "    </tr>\n",
       "    <tr>\n",
       "      <th id=\"T_8eb87_level0_row7\" class=\"row_heading level0 row7\" >C782</th>\n",
       "      <td id=\"T_8eb87_row7_col0\" class=\"data row7 col0\" >19.73%</td>\n",
       "      <td id=\"T_8eb87_row7_col1\" class=\"data row7 col1\" >28.19%</td>\n",
       "      <td id=\"T_8eb87_row7_col2\" class=\"data row7 col2\" >18.48%</td>\n",
       "      <td id=\"T_8eb87_row7_col3\" class=\"data row7 col3\" >25.50%</td>\n",
       "    </tr>\n",
       "    <tr>\n",
       "      <th id=\"T_8eb87_level0_row8\" class=\"row_heading level0 row8\" >D381</th>\n",
       "      <td id=\"T_8eb87_row8_col0\" class=\"data row8 col0\" >6.51%</td>\n",
       "      <td id=\"T_8eb87_row8_col1\" class=\"data row8 col1\" >13.26%</td>\n",
       "      <td id=\"T_8eb87_row8_col2\" class=\"data row8 col2\" >14.83%</td>\n",
       "      <td id=\"T_8eb87_row8_col3\" class=\"data row8 col3\" >8.06%</td>\n",
       "    </tr>\n",
       "    <tr>\n",
       "      <th id=\"T_8eb87_level0_row9\" class=\"row_heading level0 row9\" >E848</th>\n",
       "      <td id=\"T_8eb87_row9_col0\" class=\"data row9 col0\" >44.83%</td>\n",
       "      <td id=\"T_8eb87_row9_col1\" class=\"data row9 col1\" >44.87%</td>\n",
       "      <td id=\"T_8eb87_row9_col2\" class=\"data row9 col2\" >73.21%</td>\n",
       "      <td id=\"T_8eb87_row9_col3\" class=\"data row9 col3\" >52.27%</td>\n",
       "    </tr>\n",
       "  </tbody>\n",
       "</table>\n"
      ],
      "text/plain": [
       "<pandas.io.formats.style.Styler at 0x1d454128590>"
      ]
     },
     "metadata": {},
     "output_type": "display_data"
    },
    {
     "name": "stdout",
     "output_type": "stream",
     "text": [
      "Porcentaje de atencion (egresos) acumulada para ciertos problemas de salud relevantes INT\n"
     ]
    },
    {
     "data": {
      "text/html": [
       "<style type=\"text/css\">\n",
       "</style>\n",
       "<table id=\"T_c2b0c\">\n",
       "  <thead>\n",
       "    <tr>\n",
       "      <th class=\"blank level0\" >&nbsp;</th>\n",
       "      <th id=\"T_c2b0c_level0_col0\" class=\"col_heading level0 col0\" >0</th>\n",
       "    </tr>\n",
       "    <tr>\n",
       "      <th class=\"index_name level0\" >DIAG1</th>\n",
       "      <th class=\"blank col0\" >&nbsp;</th>\n",
       "    </tr>\n",
       "  </thead>\n",
       "  <tbody>\n",
       "    <tr>\n",
       "      <th id=\"T_c2b0c_level0_row0\" class=\"row_heading level0 row0\" >A152</th>\n",
       "      <td id=\"T_c2b0c_row0_col0\" class=\"data row0 col0\" >70.62%</td>\n",
       "    </tr>\n",
       "    <tr>\n",
       "      <th id=\"T_c2b0c_level0_row1\" class=\"row_heading level0 row1\" >B441</th>\n",
       "      <td id=\"T_c2b0c_row1_col0\" class=\"data row1 col0\" >25.00%</td>\n",
       "    </tr>\n",
       "    <tr>\n",
       "      <th id=\"T_c2b0c_level0_row2\" class=\"row_heading level0 row2\" >C341</th>\n",
       "      <td id=\"T_c2b0c_row2_col0\" class=\"data row2 col0\" >41.95%</td>\n",
       "    </tr>\n",
       "    <tr>\n",
       "      <th id=\"T_c2b0c_level0_row3\" class=\"row_heading level0 row3\" >C342</th>\n",
       "      <td id=\"T_c2b0c_row3_col0\" class=\"data row3 col0\" >32.11%</td>\n",
       "    </tr>\n",
       "    <tr>\n",
       "      <th id=\"T_c2b0c_level0_row4\" class=\"row_heading level0 row4\" >C343</th>\n",
       "      <td id=\"T_c2b0c_row4_col0\" class=\"data row4 col0\" >37.99%</td>\n",
       "    </tr>\n",
       "    <tr>\n",
       "      <th id=\"T_c2b0c_level0_row5\" class=\"row_heading level0 row5\" >C381</th>\n",
       "      <td id=\"T_c2b0c_row5_col0\" class=\"data row5 col0\" >34.09%</td>\n",
       "    </tr>\n",
       "    <tr>\n",
       "      <th id=\"T_c2b0c_level0_row6\" class=\"row_heading level0 row6\" >C780</th>\n",
       "      <td id=\"T_c2b0c_row6_col0\" class=\"data row6 col0\" >13.06%</td>\n",
       "    </tr>\n",
       "    <tr>\n",
       "      <th id=\"T_c2b0c_level0_row7\" class=\"row_heading level0 row7\" >C782</th>\n",
       "      <td id=\"T_c2b0c_row7_col0\" class=\"data row7 col0\" >23.06%</td>\n",
       "    </tr>\n",
       "    <tr>\n",
       "      <th id=\"T_c2b0c_level0_row8\" class=\"row_heading level0 row8\" >D381</th>\n",
       "      <td id=\"T_c2b0c_row8_col0\" class=\"data row8 col0\" >10.91%</td>\n",
       "    </tr>\n",
       "    <tr>\n",
       "      <th id=\"T_c2b0c_level0_row9\" class=\"row_heading level0 row9\" >E848</th>\n",
       "      <td id=\"T_c2b0c_row9_col0\" class=\"data row9 col0\" >52.97%</td>\n",
       "    </tr>\n",
       "  </tbody>\n",
       "</table>\n"
      ],
      "text/plain": [
       "<pandas.io.formats.style.Styler at 0x1d478137350>"
      ]
     },
     "metadata": {},
     "output_type": "display_data"
    }
   ],
   "source": [
    "# Muestra el porcentaje de atencion del INT para ciertos problemas de salud\n",
    "print(\"Porcentaje de atencion (egresos) para ciertos problemas de salud relevantes INT\")\n",
    "display(porcentaje_egresos_nacionales_torax.head(10).style.format(\"{:,.2%}\"))\n",
    "\n",
    "print(\"Porcentaje de atencion (egresos) acumulada para ciertos problemas de salud relevantes INT\")\n",
    "display(porcentaje_egresos_nacionales_torax_acumulado.head(10).style.format(\"{:,.2%}\"))"
   ]
  },
  {
   "cell_type": "markdown",
   "metadata": {},
   "source": [
    "Solamente se compararán los casos reales vs teóricos entre 2017 y 2020, ya que la información se encuentra disponible en tales periodos.\n",
    "\n",
    "En primer lugar, se obtendrá el porcentaje de atención del INT del total de casos teóricos. O sea:\n",
    "\n",
    "$$\\%atencion = \\frac{Casos Reales}{Casos Teoricos}$$\n",
    "\n",
    "La cantidad de casos están desglosados por año, por lo que es posible calcular un porcentaje de atención anual. Sin embargo, para efectos de cálculo, se obtendrá el porcentaje acumulado entre los años disponibles (2017 a 2020).\n",
    "\n",
    "$$\\%Atencion\\ Acumulada = \\frac{\\sum_{2017}^{2020}Casos Reales}{\\sum_{2017}^{2020}Casos Teoricos}$$"
   ]
  },
  {
   "cell_type": "code",
   "execution_count": 125,
   "metadata": {},
   "outputs": [],
   "source": [
    "# Obtiene cuanto se hace cargo el INT de los pacientes teoricos\n",
    "porcentaje_atencion_teorica_int = (\n",
    "    metricas_diags_relevantes_torax[\"n_pacientes_distintos\"].sum(axis=1)\n",
    "    .div(casos_nacionales_del_2017_al_2020.sum(axis=1), axis=0)\n",
    ")"
   ]
  },
  {
   "cell_type": "code",
   "execution_count": 126,
   "metadata": {},
   "outputs": [
    {
     "data": {
      "text/html": [
       "<style type=\"text/css\">\n",
       "</style>\n",
       "<table id=\"T_29878\">\n",
       "  <thead>\n",
       "    <tr>\n",
       "      <th class=\"blank level0\" >&nbsp;</th>\n",
       "      <th id=\"T_29878_level0_col0\" class=\"col_heading level0 col0\" >0</th>\n",
       "    </tr>\n",
       "  </thead>\n",
       "  <tbody>\n",
       "    <tr>\n",
       "      <th id=\"T_29878_level0_row0\" class=\"row_heading level0 row0\" >A152</th>\n",
       "      <td id=\"T_29878_row0_col0\" class=\"data row0 col0\" >0.14%</td>\n",
       "    </tr>\n",
       "    <tr>\n",
       "      <th id=\"T_29878_level0_row1\" class=\"row_heading level0 row1\" >B441</th>\n",
       "      <td id=\"T_29878_row1_col0\" class=\"data row1 col0\" >0.11%</td>\n",
       "    </tr>\n",
       "    <tr>\n",
       "      <th id=\"T_29878_level0_row2\" class=\"row_heading level0 row2\" >C341</th>\n",
       "      <td id=\"T_29878_row2_col0\" class=\"data row2 col0\" >1.83%</td>\n",
       "    </tr>\n",
       "    <tr>\n",
       "      <th id=\"T_29878_level0_row3\" class=\"row_heading level0 row3\" >C342</th>\n",
       "      <td id=\"T_29878_row3_col0\" class=\"data row3 col0\" >0.20%</td>\n",
       "    </tr>\n",
       "    <tr>\n",
       "      <th id=\"T_29878_level0_row4\" class=\"row_heading level0 row4\" >C343</th>\n",
       "      <td id=\"T_29878_row4_col0\" class=\"data row4 col0\" >1.06%</td>\n",
       "    </tr>\n",
       "    <tr>\n",
       "      <th id=\"T_29878_level0_row5\" class=\"row_heading level0 row5\" >C381</th>\n",
       "      <td id=\"T_29878_row5_col0\" class=\"data row5 col0\" >5.94%</td>\n",
       "    </tr>\n",
       "    <tr>\n",
       "      <th id=\"T_29878_level0_row6\" class=\"row_heading level0 row6\" >C780</th>\n",
       "      <td id=\"T_29878_row6_col0\" class=\"data row6 col0\" >0.57%</td>\n",
       "    </tr>\n",
       "    <tr>\n",
       "      <th id=\"T_29878_level0_row7\" class=\"row_heading level0 row7\" >C782</th>\n",
       "      <td id=\"T_29878_row7_col0\" class=\"data row7 col0\" >0.52%</td>\n",
       "    </tr>\n",
       "    <tr>\n",
       "      <th id=\"T_29878_level0_row8\" class=\"row_heading level0 row8\" >D381</th>\n",
       "      <td id=\"T_29878_row8_col0\" class=\"data row8 col0\" >0.73%</td>\n",
       "    </tr>\n",
       "    <tr>\n",
       "      <th id=\"T_29878_level0_row9\" class=\"row_heading level0 row9\" >E848</th>\n",
       "      <td id=\"T_29878_row9_col0\" class=\"data row9 col0\" >76.96%</td>\n",
       "    </tr>\n",
       "  </tbody>\n",
       "</table>\n"
      ],
      "text/plain": [
       "<pandas.io.formats.style.Styler at 0x1d454128590>"
      ]
     },
     "metadata": {},
     "output_type": "display_data"
    }
   ],
   "source": [
    "display(porcentaje_atencion_teorica_int.to_frame().head(10).style.format(\"{:,.2%}\"))"
   ]
  },
  {
   "cell_type": "markdown",
   "metadata": {},
   "source": [
    "Una vez se sabe la proporcion de los casos que atiende el INT históricamente, se procederá a estimar cuántos casos atenderá si es que se mantiene en las mismas condiciones actuales (mismo porcentaje de atención del nacional, mismos egresos por personas y mismos dias de estada por persona)."
   ]
  },
  {
   "cell_type": "code",
   "execution_count": 127,
   "metadata": {},
   "outputs": [],
   "source": [
    "# Se obtiene la cantidad de casos que debiese atender el Torax, asumiendo que atendera\n",
    "# lo mismo que entre 2017 y 2020 del total de casos teoricos\n",
    "cantidad_de_casos_estimados_int = casos_nacionales[[i for i in range(2017, 2036)]].mul(\n",
    "    porcentaje_atencion_teorica_int, axis=0\n",
    ")\n",
    "\n",
    "# Se obtiene la cantidad de egresos que debiese tener el INT, asumiendo que trabajara con la misma\n",
    "# eficiencia\n",
    "egresos_estimados_int = cantidad_de_casos_estimados_int.mul(\n",
    "    metricas_diags_relevantes_torax[\"egresos_por_paciente_agrupado\"][\"2017-2020\"], axis=0\n",
    ")\n",
    "\n",
    "# Se obtiene la cantidad de dias de estada que debiese el INT, asumiendo que trabajara con la misma\n",
    "# eficiencia\n",
    "dias_estada_estimados_int = egresos_estimados_int.mul(\n",
    "    metricas_diags_relevantes_torax[\"dias_estada_promedio_agrupado\"][\"2017-2020\"], axis=0\n",
    ")\n",
    "\n",
    "# Estima la cantidad de camas necesaarias por diagnostico\n",
    "camas_estimadas_int = (dias_estada_estimados_int / 365.25) * INDICE_OCUPACION_CAMAS\n",
    "\n",
    "# Ademas, obtiene la cantidad de camas utilizadas realmente por el INT\n",
    "camas_reales_ocupadas_int = (\n",
    "    metricas_diags_relevantes_torax[\"dias_estada_totales\"].sum() / 365.25\n",
    ") * INDICE_OCUPACION_CAMAS"
   ]
  },
  {
   "cell_type": "code",
   "execution_count": 128,
   "metadata": {},
   "outputs": [],
   "source": [
    "comparacion_camas = pd.concat([camas_estimadas_int.sum(), camas_reales_ocupadas_int], axis=1)\n",
    "comparacion_camas.columns = [\"Estimadas\", \"Reales\"]"
   ]
  },
  {
   "cell_type": "code",
   "execution_count": 129,
   "metadata": {},
   "outputs": [
    {
     "data": {
      "image/png": "[encoded data removed]",
      "text/plain": [
       "<Figure size 1200x600 with 1 Axes>"
      ]
     },
     "metadata": {},
     "output_type": "display_data"
    }
   ],
   "source": [
    "comparacion_camas.plot(kind=\"bar\")\n",
    "plt.title(\"Comparacion en la cantidad de Camas Estimadas vs Reales INT\")\n",
    "plt.show()"
   ]
  },
  {
   "cell_type": "markdown",
   "metadata": {},
   "source": [
    "En este caso, se muestra la cantidad de camas que necesitaría el INT para atender los problemas de salud relevantes. Cabe destacar que esta es la cantidad de camas siguiendo solamente el crecimiento natural de la población, sin ningún cierre de brecha.\n",
    "\n",
    "Sin embargo, es importante notar la labor sanitaria del INT, y su compromiso con el cierre de brechas. Por lo tanto, es necesario saber en que problemas de salud existe una brecha de atención a nivel nacional."
   ]
  },
  {
   "cell_type": "code",
   "execution_count": 144,
   "metadata": {},
   "outputs": [],
   "source": [
    "porcentaje_atencion_teorica_nacional = (\n",
    "    metricas_diags_relevantes_nacionales[\"n_pacientes_distintos\"]\n",
    "    .sum(axis=1)\n",
    "    .div(casos_nacionales_del_2017_al_2020.sum(axis=1), axis=0)\n",
    ")"
   ]
  },
  {
   "cell_type": "code",
   "execution_count": 161,
   "metadata": {},
   "outputs": [
    {
     "data": {
      "image/png": "[encoded data removed]",
      "text/plain": [
       "<Figure size 1200x1300 with 1 Axes>"
      ]
     },
     "metadata": {},
     "output_type": "display_data"
    }
   ],
   "source": [
    "fig, axis = plt.subplots(figsize=(12, 13))\n",
    "porcentaje_atencion_teorica_nacional.sort_values().plot(kind=\"barh\", ax=axis)\n",
    "plt.axvline(1)\n",
    "plt.title(\"Fraccion de cobertura de casos teoricos segun incidencia en Atencion Cerrada\")\n",
    "plt.show()"
   ]
  },
  {
   "cell_type": "code",
   "execution_count": null,
   "metadata": {},
   "outputs": [],
   "source": []
  }
 ],
 "metadata": {
  "kernelspec": {
   "display_name": "int-proyeccion",
   "language": "python",
   "name": "python3"
  },
  "language_info": {
   "codemirror_mode": {
    "name": "ipython",
    "version": 3
   },
   "file_extension": ".py",
   "mimetype": "text/x-python",
   "name": "python",
   "nbconvert_exporter": "python",
   "pygments_lexer": "ipython3",
   "version": "3.11.5"
  }
 },
 "nbformat": 4,
 "nbformat_minor": 2
}
