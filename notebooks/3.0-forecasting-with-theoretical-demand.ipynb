{
 "cells": [
  {
   "cell_type": "code",
   "execution_count": 1,
   "metadata": {},
   "outputs": [],
   "source": [
    "import sys\n",
    "import os\n",
    "\n",
    "project_root = os.path.abspath('..')\n",
    "if project_root not in sys.path:\n",
    "    sys.path.append(project_root)\n",
    "\n",
    "%load_ext autoreload\n",
    "%autoreload 2"
   ]
  },
  {
   "cell_type": "code",
   "execution_count": 2,
   "metadata": {},
   "outputs": [],
   "source": [
    "import pandas as pd\n",
    "import numpy as np\n",
    "\n",
    "import matplotlib.pyplot as plt\n",
    "import seaborn as sns\n",
    "\n",
    "from src.features import build_features\n",
    "from src.visualization import visualize\n",
    "\n",
    "sns.set_style()\n",
    "plt.rcParams[\"figure.figsize\"] = (12, 6)\n",
    "\n",
    "DIAGS_RELEVANTES = [\n",
    "    \"C33X\",\n",
    "    \"C340\",\n",
    "    \"C341\",\n",
    "    \"C342\",\n",
    "    \"C343\",\n",
    "    \"C381\",\n",
    "    \"C384\",\n",
    "    \"C450\",\n",
    "    \"C780\",\n",
    "    \"C782\",\n",
    "    \"D143\",\n",
    "    \"D381\",\n",
    "    \"E848\",\n",
    "    \"I080\",\n",
    "    \"I081\",\n",
    "    \"I340\",\n",
    "    \"I350\",\n",
    "    \"I351\",\n",
    "    \"I352\",\n",
    "    \"I420\",\n",
    "    \"I456\",\n",
    "    \"I472\",\n",
    "    \"I495\",\n",
    "    \"I710\",\n",
    "    \"I712\",\n",
    "    \"J398\",\n",
    "    \"J47X\",\n",
    "    \"J679\",\n",
    "    \"J841\",\n",
    "    \"J848\",\n",
    "    \"J849\",\n",
    "    \"J860\",\n",
    "    \"J869\",\n",
    "    \"J90X\",\n",
    "    \"J91X\",\n",
    "    \"J931\",\n",
    "    \"J955\",\n",
    "    \"J980\",\n",
    "    \"M348\",\n",
    "    \"Q211\",\n",
    "    \"Q231\",\n",
    "    \"Q676\",\n",
    "    \"T820\",\n",
    "    \"T821\",\n",
    "    \"Z450\",\n",
    "]\n",
    "\n",
    "DIAGS_FALTANTES_PULMON = [\"C349\", \"C348\"]\n",
    "\n",
    "DIAGS_RELEVANTES += DIAGS_FALTANTES_PULMON"
   ]
  },
  {
   "cell_type": "code",
   "execution_count": 3,
   "metadata": {},
   "outputs": [],
   "source": [
    "# Carga los egresos nacionales\n",
    "egresos_nacionales = pd.read_csv(\n",
    "    \"../data/processed/ranking_nacional_egresos.csv\", sep=\";\", encoding=\"latin-1\"\n",
    ")\n",
    "\n",
    "# Filtra solamente los datos del INT\n",
    "egresos_torax = egresos_nacionales.query(\"ESTABLECIMIENTO_SALUD == 112103\").copy()"
   ]
  },
  {
   "cell_type": "markdown",
   "metadata": {},
   "source": [
    "En primer lugar, se filtrarán ambas bases de datos para solamente tener la información de los diagnósticos más relevantes para el INT. Luego de esto, se calculará la cantidad de egresos, dias de estada y pacientes para cada uno de los diagnósticos. Estos insumos serán utilizados para estimar la demanda."
   ]
  },
  {
   "cell_type": "code",
   "execution_count": 4,
   "metadata": {},
   "outputs": [],
   "source": [
    "# Filtra solamente los diagnosticos mas relevantes del Torax\n",
    "egresos_mas_relevantes_nacionales = (\n",
    "    egresos_nacionales[egresos_nacionales[\"DIAG1\"].isin(DIAGS_RELEVANTES)]\n",
    "    .query(\"ANO_EGRESO >= 2017\")\n",
    "    .copy()\n",
    ")\n",
    "\n",
    "# Agrupa todos los diagnosticos relacionados a cancer de pulmon a un diagnostico comun\n",
    "egresos_mas_relevantes_nacionales[\"DIAG1\"] = egresos_mas_relevantes_nacionales[\"DIAG1\"].replace(\n",
    "    [\"C340\", \"C341\", \"C342\", \"C343\", \"C348\", \"C349\"], \"C34\"\n",
    ")\n",
    "\n",
    "# Filtra solamente los diagnosticos relevantes para el torax\n",
    "egresos_mas_relevantes_torax = egresos_mas_relevantes_nacionales.query(\n",
    "    \"ESTABLECIMIENTO_SALUD == 112103\"\n",
    ").copy()"
   ]
  },
  {
   "cell_type": "code",
   "execution_count": 63,
   "metadata": {},
   "outputs": [],
   "source": [
    "def calculate_metrics(df):\n",
    "    metricas = pd.pivot_table(\n",
    "        df,\n",
    "        index=\"DIAG1\",\n",
    "        columns=\"ANO_EGRESO\",\n",
    "        values=[\"n_pacientes_distintos\", \"n_egresos\", \"dias_estada_totales\"],\n",
    "        aggfunc=\"sum\",\n",
    "        fill_value=0,\n",
    "    ).sort_index()\n",
    "\n",
    "    # Obtiene dias de estada promedio\n",
    "    dias_estada_promedio = metricas[\"dias_estada_totales\"] / metricas[\"n_egresos\"]\n",
    "    dias_estada_promedio.columns = [\n",
    "        (\"dias_estada_promedio\", i) for i in dias_estada_promedio.columns\n",
    "    ]\n",
    "\n",
    "    # Obtiene egresos por paciente\n",
    "    egresos_por_paciente = metricas[\"n_egresos\"] / metricas[\"n_pacientes_distintos\"]\n",
    "    egresos_por_paciente.columns = [\n",
    "        (\"egresos_por_paciente\", i) for i in egresos_por_paciente.columns\n",
    "    ]\n",
    "\n",
    "    metricas = pd.concat([metricas, dias_estada_promedio], axis=1)\n",
    "    metricas = pd.concat([metricas, egresos_por_paciente], axis=1)\n",
    "\n",
    "    return metricas"
   ]
  },
  {
   "cell_type": "code",
   "execution_count": 70,
   "metadata": {},
   "outputs": [],
   "source": [
    "# Obtiene el resumen de metricas para el estrato nacional\n",
    "metricas_diags_relevantes_nacionales = calculate_metrics(egresos_mas_relevantes_nacionales)\n",
    "\n",
    "# Obtiene resumen de metricas para el Torax\n",
    "metricas_diags_relevantes_torax = calculate_metrics(egresos_mas_relevantes_torax)\n",
    "\n",
    "# Obtiene el porcentaje de resolucion de egresosx del Torax\n",
    "porcentaje_egresos_nacionales_torax = (\n",
    "    metricas_diags_relevantes_torax[\"n_egresos\"] / metricas_diags_relevantes_nacionales[\"n_egresos\"]\n",
    ")"
   ]
  },
  {
   "cell_type": "markdown",
   "metadata": {},
   "source": [
    "Una vez ya obtenido las metricas relevantes tanto para el estrato Nacional y del hospital a analizar, se procederá a comparar con los casos teóricos."
   ]
  },
  {
   "cell_type": "code",
   "execution_count": null,
   "metadata": {},
   "outputs": [],
   "source": [
    "# Importa los casos teoricos por cada problema de salud\n",
    "casos_teoricos = pd.read_excel(\"../data/interim/casos_teoricos_diagnosticos.xlsx\")\n",
    "casos_teoricos[\"Diagnostico\"] = casos_teoricos[\"Diagnostico\"].str.split(\"-\").str[0].str.strip()\n",
    "casos_teoricos = casos_teoricos.set_index(\"Diagnostico\")\n",
    "\n",
    "# Obtiene los casos en el estrato nacional\n",
    "casos_nacionales = casos_teoricos.query(\"Estrato == 'Pais' and Estadística == 'Incidencia'\").copy()\n",
    "casos_nacionales_del_2017_al_2020 = casos_nacionales[[f\"Poblacion {i}\" for i in range(2017, 2021)]]"
   ]
  },
  {
   "cell_type": "code",
   "execution_count": null,
   "metadata": {},
   "outputs": [],
   "source": [
    "# Une la cantidad de casos teoricos y reales\n",
    "union_de_pacientes_teoricos_y_vistos = casos_nacionales_del_2017_al_2020.merge(\n",
    "    resumen_egresos_mas_relevantes_nacionales[\"n_pacientes_distintos\"],\n",
    "    how=\"left\",\n",
    "    left_index=True,\n",
    "    right_index=True,\n",
    ")\n",
    "\n",
    "# Renombra las columnas\n",
    "niveles_columnas = [\n",
    "    (\"poblacion_teorica\", \"2017\"),\n",
    "    (\"poblacion_teorica\", \"2018\"),\n",
    "    (\"poblacion_teorica\", \"2019\"),\n",
    "    (\"poblacion_teorica\", \"2020\"),\n",
    "    (\"poblacion_vista\", \"2017\"),\n",
    "    (\"poblacion_vista\", \"2018\"),\n",
    "    (\"poblacion_vista\", \"2019\"),\n",
    "    (\"poblacion_vista\", \"2020\"),\n",
    "]\n",
    "\n",
    "union_de_pacientes_teoricos_y_vistos.columns = pd.MultiIndex.from_tuples(niveles_columnas)\n",
    "\n",
    "# Calcula la cantidad de cumplimiento de los casos teoricos\n",
    "porcentaje_de_atencion_casos_teoricos = union_de_pacientes_teoricos_y_vistos[\"poblacion_vista\"].sum(\n",
    "    axis=1\n",
    ") / union_de_pacientes_teoricos_y_vistos[\"poblacion_teorica\"].sum(axis=1)"
   ]
  },
  {
   "cell_type": "code",
   "execution_count": null,
   "metadata": {},
   "outputs": [],
   "source": [
    "proyeccion_de_casos_a_atender = casos_nacionales[[f\"Poblacion {i}\" for i in range(2017, 2036)]].mul(\n",
    "    porcentaje_de_atencion_casos_teoricos, axis=0\n",
    ")"
   ]
  },
  {
   "cell_type": "code",
   "execution_count": null,
   "metadata": {},
   "outputs": [],
   "source": [
    "# Obtiene egresos por caso por diagnostico\n",
    "egresos_por_persona_nacionales = resumen_egresos_mas_relevantes_nacionales[\"n_egresos\"].sum(\n",
    "    axis=1\n",
    ") / resumen_egresos_mas_relevantes_nacionales[\"n_pacientes_distintos\"].sum(axis=1)\n",
    "\n",
    "# Obtiene dias de estada por egreso\n",
    "dias_de_estada_por_egreso_nacionales = resumen_egresos_mas_relevantes_nacionales[\n",
    "    \"dias_estada_totales\"\n",
    "].sum(axis=1) / resumen_egresos_mas_relevantes_nacionales[\"n_egresos\"].sum(axis=1)\n",
    "\n",
    "# Obtiene porcentaje de atendimiento del torax de egresos nacionales\n",
    "porcentaje_de_atendimiento_torax = resumen_egresos_mas_relevantes_torax[\"n_egresos\"].sum(\n",
    "    axis=1\n",
    ") / resumen_egresos_mas_relevantes_nacionales[\"n_egresos\"].sum(axis=1)\n",
    "\n",
    "# Obtiene dias de estada por egresos\n",
    "dias_de_estada_por_egreso_torax = resumen_egresos_mas_relevantes_torax[\"dias_estada_totales\"].sum(\n",
    "    axis=1\n",
    ") / resumen_egresos_mas_relevantes_torax[\"n_egresos\"].sum(axis=1)"
   ]
  },
  {
   "cell_type": "code",
   "execution_count": null,
   "metadata": {},
   "outputs": [],
   "source": [
    "# Obtiene la cantidad de egresos, dias de estada y camas por la proyeccion\n",
    "proyeccion_de_egresos_nacionales = proyeccion_de_casos_a_atender.mul(\n",
    "    egresos_por_persona_nacionales, axis=0\n",
    ")\n",
    "proyeccion_de_egresos_int = proyeccion_de_egresos_nacionales.mul(\n",
    "    porcentaje_de_atendimiento_torax, axis=0\n",
    ")\n",
    "proyeccion_de_dias_de_estada_int = proyeccion_de_egresos_int.mul(\n",
    "    dias_de_estada_por_egreso_torax, axis=0\n",
    ")\n",
    "proyeccion_de_camas_a_tener_int = proyeccion_de_dias_de_estada_int / 365.25"
   ]
  },
  {
   "cell_type": "code",
   "execution_count": null,
   "metadata": {},
   "outputs": [
    {
     "data": {
      "text/plain": [
       "<Axes: >"
      ]
     },
     "execution_count": 12,
     "metadata": {},
     "output_type": "execute_result"
    },
    {
     "data": {
      "image/png": "[encoded data removed]",
      "text/plain": [
       "<Figure size 1200x600 with 1 Axes>"
      ]
     },
     "metadata": {},
     "output_type": "display_data"
    }
   ],
   "source": [
    "proyeccion_de_camas_a_tener_int.sum().plot(kind=\"bar\")"
   ]
  }
 ],
 "metadata": {
  "kernelspec": {
   "display_name": "int-proyeccion",
   "language": "python",
   "name": "python3"
  },
  "language_info": {
   "codemirror_mode": {
    "name": "ipython",
    "version": 3
   },
   "file_extension": ".py",
   "mimetype": "text/x-python",
   "name": "python",
   "nbconvert_exporter": "python",
   "pygments_lexer": "ipython3",
   "version": "3.11.5"
  }
 },
 "nbformat": 4,
 "nbformat_minor": 2
}
