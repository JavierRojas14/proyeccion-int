{
 "cells": [
  {
   "cell_type": "code",
   "execution_count": 1,
   "metadata": {},
   "outputs": [],
   "source": [
    "import sys\n",
    "import os\n",
    "\n",
    "project_root = os.path.abspath('..')\n",
    "if project_root not in sys.path:\n",
    "    sys.path.append(project_root)\n",
    " \n",
    "%load_ext autoreload\n",
    "%autoreload 2"
   ]
  },
  {
   "cell_type": "code",
   "execution_count": 7,
   "metadata": {},
   "outputs": [],
   "source": [
    "import pandas as pd\n",
    "\n",
    "from src.features import build_features\n",
    "import src.features.pabellon as pb\n",
    "\n",
    "pd.set_option(\"display.max_columns\", None)\n",
    "\n",
    "ANIO_INICIO = 2017\n",
    "ANIO_TERMINO = 2035\n",
    "COLUMNAS_POBLACION_INTERES = {str(i): i for i in range(2017, 2036)}"
   ]
  },
  {
   "cell_type": "markdown",
   "metadata": {},
   "source": [
    "## Obtencion de casos por area de influencia INT"
   ]
  },
  {
   "cell_type": "code",
   "execution_count": null,
   "metadata": {},
   "outputs": [],
   "source": [
    "# Cargar datos\n",
    "casos_area_de_influencia = build_features.leer_casos_area_de_influencia(\n",
    "    COLUMNAS_POBLACION_INTERES\n",
    ")"
   ]
  },
  {
   "cell_type": "markdown",
   "metadata": {},
   "source": [
    "## Obtencion de porcentajes de quirurgicos"
   ]
  },
  {
   "cell_type": "code",
   "execution_count": 14,
   "metadata": {},
   "outputs": [],
   "source": [
    "# Define la ruta donde estan los porcentajes de quirurgicos\n",
    "RUTA_PLANILLA_PORCENTAJES = (\n",
    "    \"../data/raw/3_incidencias_y_porcentajes_marcoprocesos/incidencias_y_prevalencias_INT.xlsx\"\n",
    ")\n",
    "\n",
    "# Lee porcentajes y especialidades quirurgicas de trazadoras\n",
    "porcentajes_quirurgicos = pd.read_excel(\n",
    "    RUTA_PLANILLA_PORCENTAJES,\n",
    "    sheet_name=\"porcentaje_trazadoras\",\n",
    "    usecols=[\"Diagnostico\", \"Porcentaje Pacientes Quirúrgicos\", \"Especialidad Quirúrgica\"],\n",
    ")\n",
    "\n",
    "# Deja los diagnosticos que SI aportan a los quirofanos (porcentaje > 0)\n",
    "porcentajes_quirurgicos = porcentajes_quirurgicos.query(\"`Porcentaje Pacientes Quirúrgicos` > 0\")\n",
    "\n",
    "# Formatea la columna de diagnosticos\n",
    "porcentajes_quirurgicos[\"Diagnostico\"] = (\n",
    "    porcentajes_quirurgicos[\"Diagnostico\"].str.split(\" - \").str[0]\n",
    ")\n",
    "\n",
    "# Deja los diagnosticos como el indice\n",
    "porcentajes_quirurgicos = porcentajes_quirurgicos.set_index(\"Diagnostico\")"
   ]
  },
  {
   "cell_type": "markdown",
   "metadata": {},
   "source": [
    "Una vez se han obtenido los casos de area de influencia totales, y tambien los porcentajes de quirurgicos, se procederá a solamente dejar la información de los diagnósticos que SÍ aportan a los quirofanos (un porcentaje > 0).\n",
    "\n",
    "Posteriormente, se reasignarán los diagnósticos para agrupar algunas patologías."
   ]
  },
  {
   "cell_type": "code",
   "execution_count": 16,
   "metadata": {},
   "outputs": [],
   "source": [
    "# Filtra los casos de area de influencia solamente a los diagnosticos que tengan un porcentaje de\n",
    "# quirofanos mayor a 0\n",
    "casos_area_de_influencia_para_quir = casos_area_de_influencia[\n",
    "    casos_area_de_influencia.index.isin(porcentajes_quirurgicos.index)\n",
    "]"
   ]
  },
  {
   "cell_type": "markdown",
   "metadata": {},
   "source": [
    "Luego, se obtendrán todos los diagnósticos que deben ser buscados en la base de datos de Pabellon y GRD del INT."
   ]
  },
  {
   "cell_type": "code",
   "execution_count": 18,
   "metadata": {},
   "outputs": [],
   "source": [
    "# Los diagnosticos que tienen un porcentaje de hosp. mayor a 0\n",
    "diagnosticos_relevantes = list(casos_area_de_influencia_para_quir.index)\n",
    "\n",
    "# Ademas, los diagnosticos que estan agrupados dentro de los que aportan a AC\n",
    "# Solo deja los diagnosticos que esten agrupados\n",
    "diagnosticos_a_reasignar = casos_area_de_influencia_para_quir.dropna(subset=\"Diagnosticos Contenidos\")\n",
    "\n",
    "# Separa la lista de diagnosticos en filas\n",
    "diagnosticos_agrupados = diagnosticos_a_reasignar.explode(\"Diagnosticos Contenidos\")\n",
    "diagnosticos_agrupados = list(diagnosticos_agrupados[\"Diagnosticos Contenidos\"].unique())\n",
    "\n",
    "# Suma los diagnosticos relevantes y los agrupados\n",
    "diagnosticos_a_buscar_en_quir = sorted(diagnosticos_relevantes + diagnosticos_agrupados)"
   ]
  },
  {
   "cell_type": "markdown",
   "metadata": {},
   "source": [
    "## Obtencion de tiempos quirurgicos entre 2015 y 2022 en pabellon para diagnosticos relevantes\n",
    "\n",
    "Estos se obtendran a partir de la union de la base de GRD (2015 a 2022, tiene los diagnosticos codificados) y Pabellon (2015 a 2022, tiene los tiempos quirurgicos)."
   ]
  },
  {
   "cell_type": "code",
   "execution_count": 39,
   "metadata": {},
   "outputs": [],
   "source": [
    "# Lee la base de GRD unida con Pabellon\n",
    "grd_y_pabellon = pd.read_csv(\"../data/raw/5_duracion_int_q/grd_interno_y_pabellon.csv\")\n",
    "grd_y_pabellon[\"duracion\"] = pd.to_timedelta(grd_y_pabellon[\"duracion\"])"
   ]
  },
  {
   "cell_type": "code",
   "execution_count": 40,
   "metadata": {},
   "outputs": [],
   "source": [
    "# Filtra solamente los diagnosticos que aportan a quirurgico\n",
    "grd_y_pabellon_relevantes = grd_y_pabellon.query(\n",
    "    \"diag_01_principal_cod.isin(@diagnosticos_a_buscar_en_quir)\"\n",
    ").copy()"
   ]
  },
  {
   "cell_type": "markdown",
   "metadata": {},
   "source": [
    "## Reasginar diagnosticos"
   ]
  },
  {
   "cell_type": "code",
   "execution_count": 41,
   "metadata": {},
   "outputs": [
    {
     "name": "stdout",
     "output_type": "stream",
     "text": [
      "Cambiando ['C341', 'C342', 'C343', 'C780', 'C782', 'D381'] a C34N\n",
      "Cambiando ['I052', 'I080', 'I081'] a I051\n",
      "Cambiando ['I352'] a I350\n",
      "Cambiando ['Q201', 'Q202', 'Q203', 'Q204', 'Q205', 'Q206', 'Q208', 'Q209', 'Q210', 'Q211', 'Q212', 'Q213', 'Q214', 'Q218', 'Q220', 'Q221', 'Q222', 'Q223', 'Q224', 'Q225', 'Q228', 'Q230', 'Q231', 'Q233', 'Q240', 'Q241', 'Q244', 'Q245', 'Q246', 'Q248', 'Q249', 'Q250', 'Q251', 'Q253', 'Q254', 'Q255', 'Q256', 'Q257', 'Q258', 'Q259', 'Q264', 'Q268', 'Q272', 'Q273', 'Q288', 'Q289', 'Q311', 'Q320', 'Q321', 'Q330', 'Q331', 'Q332', 'Q334', 'Q338', 'Q341', 'Q348', 'Q676', 'Q677', 'Q678', 'Q765', 'Q766', 'Q767', 'Q768', 'Q769', 'Q780', 'Q790', 'Q798', 'Q839', 'Q850', 'Q858', 'Q859', 'Q874', 'Q893'] a QXXX\n"
     ]
    }
   ],
   "source": [
    "for row in diagnosticos_a_reasignar.itertuples():\n",
    "    diagnostico_nuevo = row[0]\n",
    "    diagnosticos_antiguos = row[1]\n",
    "\n",
    "    print(f\"Cambiando {diagnosticos_antiguos} a {diagnostico_nuevo}\")\n",
    "    diagnosticos_cambiados = grd_y_pabellon_relevantes[\"diag_01_principal_cod\"].replace(\n",
    "        diagnosticos_antiguos, diagnostico_nuevo\n",
    "    )\n",
    "    grd_y_pabellon_relevantes[\"diag_01_principal_cod\"] = diagnosticos_cambiados"
   ]
  },
  {
   "cell_type": "markdown",
   "metadata": {},
   "source": [
    "## Obtener tiempos quirurgicos"
   ]
  },
  {
   "cell_type": "code",
   "execution_count": 42,
   "metadata": {},
   "outputs": [],
   "source": [
    "# Obtiene el resumen de duraciones de las int. q por diagnostico acumuladas\n",
    "resumen_duraciones_diags_relevantes = grd_y_pabellon_relevantes.groupby([\"diag_01_principal_cod\"])[\n",
    "    \"duracion\"\n",
    "].describe()[\"75%\"]"
   ]
  },
  {
   "cell_type": "code",
   "execution_count": null,
   "metadata": {},
   "outputs": [
    {
     "name": "stdout",
     "output_type": "stream",
     "text": [
      "Tiempo utilizado en pabellón calculado (en horas):\n",
      "+------+--------------------+--------------------+--------------------+--------------------+--------------------+--------------------+--------------------+--------------------+--------------------+--------------------+--------------------+--------------------+--------------------+--------------------+--------------------+--------------------+--------------------+--------------------+--------------------+\n",
      "|      |        2017        |        2018        |        2019        |        2020        |        2021        |        2022        |        2023        |        2024        |        2025        |        2026        |        2027        |        2028        |        2029        |        2030        |        2031        |        2032        |        2033        |        2034        |        2035        |\n",
      "+------+--------------------+--------------------+--------------------+--------------------+--------------------+--------------------+--------------------+--------------------+--------------------+--------------------+--------------------+--------------------+--------------------+--------------------+--------------------+--------------------+--------------------+--------------------+--------------------+\n",
      "| A152 |        0.0         |        0.0         |        0.0         |        0.0         |        0.0         |        0.0         |        0.0         |        0.0         |        0.0         |        0.0         |        0.0         |        0.0         |        0.0         |        0.0         |        0.0         |        0.0         |        0.0         |        0.0         |        0.0         |\n",
      "| B441 |        0.0         |        0.0         |        0.0         |        0.0         |        0.0         |        0.0         |        0.0         |        0.0         |        0.0         |        0.0         |        0.0         |        0.0         |        0.0         |        0.0         |        0.0         |        0.0         |        0.0         |        0.0         |        0.0         |\n",
      "| C34N | 2836.9534976653795 | 2901.2983254462606 | 2971.177757401449  | 3040.2141699383683 | 3080.3157756573573 | 3105.0906970182655 |     3126.11208     | 3145.829952135903  | 3164.6894597421006 | 3182.744529310547  | 3199.964316910992  | 3216.302816783742  | 3231.708495435882  | 3246.1451020713466 | 3259.8079569831534 | 3272.6139720322985 | 3284.500803433195  | 3295.4737913658673 | 3305.5448484004683 |\n",
      "| C381 | 135.09302369835137 | 138.15706311648833 | 141.48465511435472 | 144.77210333039832 | 146.68170360273112 | 147.86146176277444 | 148.86247999999998 | 149.80142629218582 | 150.69949808295692 | 151.55926330050195 | 152.37925318623752 | 153.15727698970196 | 153.89088073504192 | 154.5783381938736  | 155.2289503325311  | 155.83876057296638 | 156.40480016348528 | 156.92732339837443 | 157.40689754287945 |\n",
      "| E848 |        0.0         |        0.0         |        0.0         |        0.0         |        0.0         |        0.0         |        0.0         |        0.0         |        0.0         |        0.0         |        0.0         |        0.0         |        0.0         |        0.0         |        0.0         |        0.0         |        0.0         |        0.0         |        0.0         |\n",
      "+------+--------------------+--------------------+--------------------+--------------------+--------------------+--------------------+--------------------+--------------------+--------------------+--------------------+--------------------+--------------------+--------------------+--------------------+--------------------+--------------------+--------------------+--------------------+--------------------+\n",
      "\n",
      "Horas laborales por año calculadas:\n",
      "+---+-------+------+\n",
      "|   | fecha |  0   |\n",
      "+---+-------+------+\n",
      "| 0 | 2017  | 2976 |\n",
      "| 1 | 2018  | 2964 |\n",
      "| 2 | 2019  | 2988 |\n",
      "| 3 | 2020  | 3024 |\n",
      "| 4 | 2021  | 3012 |\n",
      "+---+-------+------+\n",
      "\n",
      "Cantidad de pabellones necesarios calculada:\n",
      "+------+----------------------+---------------------+----------------------+---------------------+---------------------+----------------------+---------------------+---------------------+---------------------+---------------------+----------------------+----------------------+---------------------+----------------------+----------------------+----------------------+---------------------+---------------------+---------------------+\n",
      "|      |         2017         |        2018         |         2019         |        2020         |        2021         |         2022         |        2023         |        2024         |        2025         |        2026         |         2027         |         2028         |        2029         |         2030         |         2031         |         2032         |        2033         |        2034         |        2035         |\n",
      "+------+----------------------+---------------------+----------------------+---------------------+---------------------+----------------------+---------------------+---------------------+---------------------+---------------------+----------------------+----------------------+---------------------+----------------------+----------------------+----------------------+---------------------+---------------------+---------------------+\n",
      "| A152 |         0.0          |         0.0         |         0.0          |         0.0         |         0.0         |         0.0          |         0.0         |         0.0         |         0.0         |         0.0         |         0.0          |         0.0          |         0.0         |         0.0          |         0.0          |         0.0          |         0.0         |         0.0         |         0.0         |\n",
      "| B441 |         0.0          |         0.0         |         0.0          |         0.0         |         0.0         |         0.0          |         0.0         |         0.0         |         0.0         |         0.0         |         0.0          |         0.0          |         0.0         |         0.0          |         0.0          |         0.0          |         0.0         |         0.0         |         0.0         |\n",
      "| C34N |  0.9532773849682055  | 0.9788455888820042  |  0.994370066064742   | 1.0053618286833228  | 1.0226812004174493  |  1.0350302323394218  | 1.0546936842105263  | 1.0528212691217882  | 1.0591330186553214  | 1.0566880907405534  |  1.0624051516968764  |  1.0807469142418489  | 1.0947522003509085  |   1.09077456386806   |  1.086602652327718   |  1.0779360909197295  | 1.0904717142872493  | 1.1118332629439498  |  1.119764515040809  |\n",
      "| C381 | 0.045394161188962154 | 0.04661169470866678 | 0.047350955526892474 | 0.04787437279444389 | 0.04869910478178324 | 0.049287153920924816 | 0.05022350877192982 | 0.05013434614865657 | 0.05043490565025332 | 0.05031848051145483 | 0.050590721509375006 | 0.051464138773421354 | 0.05213105715956705 | 0.051941645898479036 | 0.051742983444177035 | 0.051330290043796564 | 0.05192722448986895 | 0.05294444109256897 | 0.05332211976384805 |\n",
      "| E848 |         0.0          |         0.0         |         0.0          |         0.0         |         0.0         |         0.0          |         0.0         |         0.0         |         0.0         |         0.0         |         0.0          |         0.0          |         0.0         |         0.0          |         0.0          |         0.0          |         0.0         |         0.0         |         0.0         |\n",
      "+------+----------------------+---------------------+----------------------+---------------------+---------------------+----------------------+---------------------+---------------------+---------------------+---------------------+----------------------+----------------------+---------------------+----------------------+----------------------+----------------------+---------------------+---------------------+---------------------+\n",
      "\n"
     ]
    }
   ],
   "source": [
    "# Calcular tiempo utilizado en pabellón en horas\n",
    "tiempo_utilizado_pabellon_horas = pb.calcular_tiempo_utilizado_pabellon(\n",
    "    casos_quirurgicos, resumen_duraciones_diags_relevantes\n",
    ")\n",
    "\n",
    "# Calcular horas laborales\n",
    "horas_laborales = pb.calcular_horas_laborales(ANIO_INICIO, ANIO_TERMINO, 12)\n",
    "\n",
    "# Calcular cantidad de pabellones necesarios\n",
    "cantidad_de_pabellones_necesarios = pb.calcular_cantidad_de_pabellones_necesarios(\n",
    "    tiempo_utilizado_pabellon_horas, horas_laborales\n",
    ")\n",
    "\n",
    "# Obtiene la suma total de pabellones\n",
    "suma_total_pabellones = cantidad_de_pabellones_necesarios.sum()"
   ]
  },
  {
   "cell_type": "markdown",
   "metadata": {},
   "source": [
    "## Complicaciones"
   ]
  },
  {
   "cell_type": "code",
   "execution_count": null,
   "metadata": {},
   "outputs": [],
   "source": [
    "# Define las complicaciones a buscar\n",
    "a_buscar_operaciones = {\n",
    "    \"ecmo\": r\"ECMO\",\n",
    "    \"trasplantes\": r\"TRASPLANTE|TRANSPLANTE\",\n",
    "    \"aseos\": r\"ASEO\",\n",
    "    \"drenajes\": r\"DRENAJE\",\n",
    "    \"traqueostomias\": r\"TRAQUEOSTOMIA|TRAQUEOSTOMÍA\",\n",
    "    \"reintervenciones_reoperaciones\": r\"REINTERVENCION|REOPERACION|REINTERVENCIÓN|REOPERACIÓN\",\n",
    "}\n",
    "\n",
    "# Define los diagnosticos que son complicaciones\n",
    "a_buscar_diagnosticos = {\n",
    "    \"empiemas\": r\"EMPIEMA\",\n",
    "    \"rupturas\": r\"ANEURISMA\",\n",
    "}\n",
    "\n",
    "# Busca los nombres de las operaciones en la base de pabellon\n",
    "resultados_operaciones = pb.iterar_en_complicaciones_a_buscar(\n",
    "    grd_y_pabellon, a_buscar_operaciones, \"intervencion_quirurgica\"\n",
    ")\n",
    "\n",
    "# Busca los diagnosticos en el primer diagnostico y segundo\n",
    "resultados_diagnosticos = pb.iterar_en_complicaciones_a_buscar(\n",
    "    grd_y_pabellon, a_buscar_diagnosticos, \"diagnostico\"\n",
    ")\n",
    "\n",
    "# Obtiene resumen de complicaciones\n",
    "resumen_complicaciones = pd.concat([resultados_operaciones, resultados_diagnosticos])"
   ]
  },
  {
   "cell_type": "code",
   "execution_count": null,
   "metadata": {},
   "outputs": [
    {
     "name": "stdout",
     "output_type": "stream",
     "text": [
      "Cantidad de pabellones necesarios calculada:\n",
      "+--------------------+----------------------+----------------------+----------------------+---------------------+----------------------+---------------------+----------------------+----------------------+----------------------+----------------------+----------------------+----------------------+----------------------+----------------------+----------------------+----------------------+----------------------+----------------------+----------------------+\n",
      "|                    |         2017         |         2018         |         2019         |        2020         |         2021         |        2022         |         2023         |         2024         |         2025         |         2026         |         2027         |         2028         |         2029         |         2030         |         2031         |         2032         |         2033         |         2034         |         2035         |\n",
      "+--------------------+----------------------+----------------------+----------------------+---------------------+----------------------+---------------------+----------------------+----------------------+----------------------+----------------------+----------------------+----------------------+----------------------+----------------------+----------------------+----------------------+----------------------+----------------------+----------------------+\n",
      "|  ('aseos', 'CT')   | 0.08650388928469394  | 0.08882404196579576  | 0.09023279001394448  | 0.09123022290346286 | 0.09280184627205806  | 0.09392244276054722 | 0.09570677656562285  |  0.0955368667470483  | 0.09610961806943459  | 0.09588775633539676  | 0.09640654343325292  | 0.09807094229710443  | 0.09934183337045026  | 0.09898088803454617  | 0.09860231346676361  | 0.09781587787064311  |  0.0989534063518571  | 0.10089183169277768  | 0.10161154262276959  |\n",
      "|  ('aseos', 'CV')   | 0.09309435720814255  |  0.0949702001466395  | 0.09609498155819937  | 0.09690040305743708 | 0.09843584144679321  | 0.09952012612530056 | 0.10129205578928681  | 0.10098679148028886  | 0.10146194433827198  | 0.10109549280846769  | 0.10150933284981879  | 0.10312905299121893  | 0.10433548708820932  | 0.10383202980890822  | 0.10338254803207565  | 0.10247110438168021  |  0.103582229499617   | 0.10553909783628805  |  0.1062302392284631  |\n",
      "|  ('aseos', 'MCP')  |         0.0          |         0.0          |         0.0          |         0.0         |         0.0          |         0.0         |         0.0          |         0.0          |         0.0          |         0.0          |         0.0          |         0.0          |         0.0          |         0.0          |         0.0          |         0.0          |         0.0          |         0.0          |         0.0          |\n",
      "| ('drenajes', 'CT') | 0.009804276902362791 | 0.010067241024894006 | 0.010226907325032909 | 0.01033995551652144 | 0.010518081966318616 | 0.01064508941488324 | 0.010847324283810729 | 0.010828066850144933 | 0.010892981995663858 | 0.010867836376287257 | 0.010926635262705198 | 0.011115276807867103 | 0.011259318516267219 | 0.011218409280288512 | 0.011175501962231204 | 0.011086368023699677 | 0.011215294529852997 | 0.011434994001796935 | 0.011516565423679145 |\n",
      "| ('drenajes', 'CV') | 0.02768022963271552  | 0.02823798377431633  | 0.028572420884064868 | 0.02881190104933605 | 0.029268440935091396 | 0.02959083694048204 | 0.030117694007473758 | 0.030026928182077476 | 0.03016820785373578  | 0.030059248913597646 | 0.030182298126453816 | 0.030663897944093115 | 0.03102261327166949  | 0.030872917699142393 | 0.030739270943618523 | 0.030468266660471473 | 0.030798643273378338 | 0.03138048911822303  | 0.03158598978462013  |\n",
      "+--------------------+----------------------+----------------------+----------------------+---------------------+----------------------+---------------------+----------------------+----------------------+----------------------+----------------------+----------------------+----------------------+----------------------+----------------------+----------------------+----------------------+----------------------+----------------------+----------------------+\n",
      "\n"
     ]
    }
   ],
   "source": [
    "# Une los datos de complicaciones y los casos de especialidad\n",
    "casos_complicaciones = (\n",
    "    casos_especialidad.merge(\n",
    "        resumen_complicaciones[[\"fraccion\", \"tiempo_operacion_75%\", \"complicacion\"]],\n",
    "        how=\"left\",\n",
    "        left_index=True,\n",
    "        right_index=True,\n",
    "    )\n",
    "    .reset_index()\n",
    "    .sort_values([\"complicacion\", \"especialidades\"])\n",
    "    .set_index([\"complicacion\", \"especialidades\"])\n",
    ")\n",
    "\n",
    "# Obtiene los casos de complicaciones\n",
    "casos_complicaciones[COLUMNAS_POBLACION_INE] = casos_complicaciones[COLUMNAS_POBLACION_INE].mul(\n",
    "    casos_complicaciones[\"fraccion\"], axis=0\n",
    ")\n",
    "\n",
    "# Obtiene el tiempo de pabellon por las complicaciones\n",
    "tiempo_utilizado_pabellon_complicaciones_horas = (\n",
    "    casos_complicaciones[COLUMNAS_POBLACION_INE]\n",
    "    .mul(casos_complicaciones[\"tiempo_operacion_75%\"], axis=0)\n",
    "    .apply(lambda x: x.dt.total_seconds() / 3600)\n",
    ")\n",
    "\n",
    "# Divide por las horas laborales\n",
    "pabellones_por_complicaciones = pb.calcular_cantidad_de_pabellones_necesarios(\n",
    "    tiempo_utilizado_pabellon_complicaciones_horas, horas_laborales\n",
    ")\n",
    "\n",
    "# # Obtiene los pabellones de emergencia por anio\n",
    "suma_total_pabellones_complicaciones = pabellones_por_complicaciones.sum()"
   ]
  },
  {
   "cell_type": "code",
   "execution_count": null,
   "metadata": {},
   "outputs": [],
   "source": [
    "# Carga el resumen de area de estudio para MINSAL\n",
    "resumen_area_de_estudio_minsal = (\n",
    "    pd.read_excel(\n",
    "        \"../data/interim/casos_teoricos_diagnosticos.xlsx\", sheet_name=\"resumen_total_INT\"\n",
    "    )\n",
    "    .drop(columns=\"Porcentaje Hospitalizados de Ambulatorios\")\n",
    "    .sort_values(\"Diagnostico\")\n",
    ")\n",
    "resumen_area_de_estudio_minsal[\"diagnostico_separado\"] = (\n",
    "    resumen_area_de_estudio_minsal[\"Diagnostico\"].str.split(\" - \").str[0]\n",
    ")\n",
    "resumen_area_de_estudio_minsal = resumen_area_de_estudio_minsal.set_index(\"diagnostico_separado\")\n",
    "\n",
    "# Sintetiza informacion de pabellon para el 2035\n",
    "resumen_quirurgicos = pd.DataFrame(\n",
    "    {\n",
    "        \"porcentaje_quirurgico\": porcentajes_de_quirurgicos,\n",
    "        \"casos_quirurgicos_2035\": casos_quirurgicos[\"2035\"],\n",
    "        \"tiempo_quirurgico_75%_2019_a_2022\": resumen_duraciones_diags_relevantes,\n",
    "        \"horas_pabellon_2035\": tiempo_utilizado_pabellon_horas[\"2035\"],\n",
    "        \"horas_laborales_2035_pabellon_12_hrs\": horas_laborales[\"2035\"],\n",
    "        \"cantidad_de_pabellones\": cantidad_de_pabellones_necesarios[\"2035\"],\n",
    "    }\n",
    ")\n",
    "\n",
    "# Une ambos resumenes segun el diagnostico\n",
    "resumen_minsal = resumen_area_de_estudio_minsal.merge(\n",
    "    resumen_quirurgicos, how=\"left\", left_index=True, right_index=True\n",
    ")"
   ]
  },
  {
   "cell_type": "code",
   "execution_count": null,
   "metadata": {},
   "outputs": [
    {
     "name": "stdout",
     "output_type": "stream",
     "text": [
      "> Pabellones 2035: 5.44\n",
      "> Pabellones de Emergencia 2035: 0.97\n"
     ]
    }
   ],
   "source": [
    "print(f\"> Pabellones 2035: {resumen_minsal['cantidad_de_pabellones'].sum():.2f}\")\n",
    "print(f\"> Pabellones de Emergencia 2035: {suma_total_pabellones_complicaciones['2035']:.2f}\")"
   ]
  },
  {
   "cell_type": "code",
   "execution_count": null,
   "metadata": {},
   "outputs": [],
   "source": [
    "a_guardar = {\n",
    "    \"casos_area_de_influencia\": casos_area_de_influencia,\n",
    "    \"porcentajes_quirurgicos\": porcentajes_de_quirurgicos,\n",
    "    \"casos_quirurgicos\": casos_quirurgicos,\n",
    "    \"casos_por_especialidad\": casos_especialidad,\n",
    "    \"casos_complicaciones\": casos_complicaciones,\n",
    "    \"resumen_duraciones_int_q_rel\": resumen_duraciones_diags_relevantes,\n",
    "    \"tiempo_utilizado_pabellon\": tiempo_utilizado_pabellon_horas,\n",
    "    \"horas_laborales_por_anio\": horas_laborales,\n",
    "    \"pabellones_desg\": cantidad_de_pabellones_necesarios,\n",
    "    \"pabellones\": suma_total_pabellones,\n",
    "    \"pabellones_desg_emergencia\": pabellones_por_complicaciones,\n",
    "    \"pabellones_emergencia\": suma_total_pabellones_complicaciones,\n",
    "    \"resumen_MINSAL\": resumen_minsal,\n",
    "}"
   ]
  },
  {
   "cell_type": "code",
   "execution_count": null,
   "metadata": {},
   "outputs": [],
   "source": [
    "with pd.ExcelWriter(\"../data/interim/estimacion_pabellones_INT.xlsx\") as file:\n",
    "    for nombre_hoja, df_a_guardar in a_guardar.items():\n",
    "        df_a_guardar.to_excel(file, sheet_name=nombre_hoja)"
   ]
  }
 ],
 "metadata": {
  "kernelspec": {
   "display_name": "base",
   "language": "python",
   "name": "python3"
  },
  "language_info": {
   "codemirror_mode": {
    "name": "ipython",
    "version": 3
   },
   "file_extension": ".py",
   "mimetype": "text/x-python",
   "name": "python",
   "nbconvert_exporter": "python",
   "pygments_lexer": "ipython3",
   "version": "3.11.8"
  }
 },
 "nbformat": 4,
 "nbformat_minor": 2
}
