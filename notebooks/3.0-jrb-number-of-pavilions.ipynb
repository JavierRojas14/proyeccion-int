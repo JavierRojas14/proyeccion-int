{
 "cells": [
  {
   "cell_type": "code",
   "execution_count": 1,
   "metadata": {},
   "outputs": [],
   "source": [
    "import sys\n",
    "import os\n",
    "\n",
    "project_root = os.path.abspath('..')\n",
    "if project_root not in sys.path:\n",
    "    sys.path.append(project_root)\n",
    " \n",
    "%load_ext autoreload\n",
    "%autoreload 2"
   ]
  },
  {
   "cell_type": "code",
   "execution_count": 2,
   "metadata": {},
   "outputs": [],
   "source": [
    "import pandas as pd\n",
    "\n",
    "from src.features import build_features\n",
    "import src.features.pabellon as pb\n",
    "\n",
    "pd.set_option(\"display.max_columns\", None)\n",
    "\n",
    "ANIO_INICIO = 2017\n",
    "ANIO_TERMINO = 2035\n",
    "COLUMNAS_POBLACION_INTERES = {str(i): i for i in range(2017, 2036)}"
   ]
  },
  {
   "cell_type": "markdown",
   "metadata": {},
   "source": [
    "## Obtencion de casos por area de influencia INT"
   ]
  },
  {
   "cell_type": "code",
   "execution_count": 3,
   "metadata": {},
   "outputs": [],
   "source": [
    "# Cargar datos\n",
    "casos_area_de_influencia = build_features.leer_casos_area_de_influencia(\n",
    "    COLUMNAS_POBLACION_INTERES\n",
    ")"
   ]
  },
  {
   "cell_type": "markdown",
   "metadata": {},
   "source": [
    "## Obtencion de porcentajes de quirurgicos"
   ]
  },
  {
   "cell_type": "code",
   "execution_count": 4,
   "metadata": {},
   "outputs": [],
   "source": [
    "# Define la ruta donde estan los porcentajes de quirurgicos\n",
    "RUTA_PLANILLA_PORCENTAJES = (\n",
    "    \"../data/raw/3_incidencias_y_porcentajes_marcoprocesos/incidencias_y_prevalencias_INT.xlsx\"\n",
    ")\n",
    "\n",
    "# Lee porcentajes y especialidades quirurgicas de trazadoras\n",
    "porcentajes_quirurgicos = pd.read_excel(\n",
    "    RUTA_PLANILLA_PORCENTAJES,\n",
    "    sheet_name=\"porcentaje_trazadoras\",\n",
    "    usecols=[\"Diagnostico\", \"Porcentaje Pacientes Quirúrgicos\", \"Especialidad Quirúrgica\"],\n",
    ")\n",
    "\n",
    "# Deja los diagnosticos que SI aportan a los quirofanos (porcentaje > 0)\n",
    "porcentajes_quirurgicos = porcentajes_quirurgicos.query(\"`Porcentaje Pacientes Quirúrgicos` > 0\")\n",
    "\n",
    "# Formatea la columna de diagnosticos\n",
    "porcentajes_quirurgicos[\"Diagnostico\"] = (\n",
    "    porcentajes_quirurgicos[\"Diagnostico\"].str.split(\" - \").str[0]\n",
    ")\n",
    "\n",
    "# Deja los diagnosticos como el indice\n",
    "porcentajes_quirurgicos = porcentajes_quirurgicos.set_index(\"Diagnostico\")"
   ]
  },
  {
   "cell_type": "markdown",
   "metadata": {},
   "source": [
    "Una vez se han obtenido los casos de area de influencia totales, y tambien los porcentajes de quirurgicos, se procederá a solamente dejar la información de los diagnósticos que SÍ aportan a los quirofanos (un porcentaje > 0).\n",
    "\n",
    "Posteriormente, se reasignarán los diagnósticos para agrupar algunas patologías."
   ]
  },
  {
   "cell_type": "code",
   "execution_count": 5,
   "metadata": {},
   "outputs": [],
   "source": [
    "# Filtra los casos de area de influencia solamente a los diagnosticos que tengan un porcentaje de\n",
    "# quirofanos mayor a 0\n",
    "casos_area_de_influencia_para_quir = casos_area_de_influencia[\n",
    "    casos_area_de_influencia.index.isin(porcentajes_quirurgicos.index)\n",
    "]"
   ]
  },
  {
   "cell_type": "markdown",
   "metadata": {},
   "source": [
    "Luego, se obtendrán todos los diagnósticos que deben ser buscados en la base de datos de Pabellon y GRD del INT."
   ]
  },
  {
   "cell_type": "code",
   "execution_count": 6,
   "metadata": {},
   "outputs": [],
   "source": [
    "# Los diagnosticos que tienen un porcentaje de hosp. mayor a 0\n",
    "diagnosticos_relevantes = list(casos_area_de_influencia_para_quir.index)\n",
    "\n",
    "# Ademas, los diagnosticos que estan agrupados dentro de los que aportan a AC\n",
    "# Solo deja los diagnosticos que esten agrupados\n",
    "diagnosticos_a_reasignar = casos_area_de_influencia_para_quir.dropna(subset=\"Diagnosticos Contenidos\")\n",
    "\n",
    "# Separa la lista de diagnosticos en filas\n",
    "diagnosticos_agrupados = diagnosticos_a_reasignar.explode(\"Diagnosticos Contenidos\")\n",
    "diagnosticos_agrupados = list(diagnosticos_agrupados[\"Diagnosticos Contenidos\"].unique())\n",
    "\n",
    "# Suma los diagnosticos relevantes y los agrupados\n",
    "diagnosticos_a_buscar_en_quir = sorted(diagnosticos_relevantes + diagnosticos_agrupados)"
   ]
  },
  {
   "cell_type": "markdown",
   "metadata": {},
   "source": [
    "## Obtencion de tiempos quirurgicos entre 2015 y 2022 en pabellon para diagnosticos relevantes\n",
    "\n",
    "Estos se obtendran a partir de la union de la base de GRD (2015 a 2022, tiene los diagnosticos codificados) y Pabellon (2015 a 2022, tiene los tiempos quirurgicos)."
   ]
  },
  {
   "cell_type": "code",
   "execution_count": 7,
   "metadata": {},
   "outputs": [],
   "source": [
    "# Lee la base de GRD unida con Pabellon\n",
    "grd_y_pabellon = pd.read_csv(\"../data/raw/5_duracion_int_q/grd_interno_y_pabellon.csv\")\n",
    "grd_y_pabellon[\"duracion\"] = pd.to_timedelta(grd_y_pabellon[\"duracion\"])"
   ]
  },
  {
   "cell_type": "code",
   "execution_count": 8,
   "metadata": {},
   "outputs": [],
   "source": [
    "# Filtra solamente los diagnosticos que aportan a quirurgico\n",
    "grd_y_pabellon_relevantes = grd_y_pabellon.query(\n",
    "    \"diag_01_principal_cod.isin(@diagnosticos_a_buscar_en_quir)\"\n",
    ").copy()"
   ]
  },
  {
   "cell_type": "markdown",
   "metadata": {},
   "source": [
    "## Reasginar diagnosticos"
   ]
  },
  {
   "cell_type": "code",
   "execution_count": 9,
   "metadata": {},
   "outputs": [
    {
     "name": "stdout",
     "output_type": "stream",
     "text": [
      "Cambiando ['C341', 'C342', 'C343', 'C780', 'C782', 'D381'] a C34N\n",
      "Cambiando ['I052', 'I080', 'I081'] a I051\n",
      "Cambiando ['I352'] a I350\n",
      "Cambiando ['Q201', 'Q202', 'Q203', 'Q204', 'Q205', 'Q206', 'Q208', 'Q209', 'Q210', 'Q211', 'Q212', 'Q213', 'Q214', 'Q218', 'Q220', 'Q221', 'Q222', 'Q223', 'Q224', 'Q225', 'Q228', 'Q230', 'Q231', 'Q233', 'Q240', 'Q241', 'Q244', 'Q245', 'Q246', 'Q248', 'Q249', 'Q250', 'Q251', 'Q253', 'Q254', 'Q255', 'Q256', 'Q257', 'Q258', 'Q259', 'Q264', 'Q268', 'Q272', 'Q273', 'Q288', 'Q289', 'Q311', 'Q320', 'Q321', 'Q330', 'Q331', 'Q332', 'Q334', 'Q338', 'Q341', 'Q348', 'Q676', 'Q677', 'Q678', 'Q765', 'Q766', 'Q767', 'Q768', 'Q769', 'Q780', 'Q790', 'Q798', 'Q839', 'Q850', 'Q858', 'Q859', 'Q874', 'Q893'] a QXXX\n"
     ]
    }
   ],
   "source": [
    "for row in diagnosticos_a_reasignar.itertuples():\n",
    "    diagnostico_nuevo = row[0]\n",
    "    diagnosticos_antiguos = row[1]\n",
    "\n",
    "    print(f\"Cambiando {diagnosticos_antiguos} a {diagnostico_nuevo}\")\n",
    "    diagnosticos_cambiados = grd_y_pabellon_relevantes[\"diag_01_principal_cod\"].replace(\n",
    "        diagnosticos_antiguos, diagnostico_nuevo\n",
    "    )\n",
    "    grd_y_pabellon_relevantes[\"diag_01_principal_cod\"] = diagnosticos_cambiados"
   ]
  },
  {
   "cell_type": "markdown",
   "metadata": {},
   "source": [
    "## Obtener tiempos quirurgicos"
   ]
  },
  {
   "cell_type": "code",
   "execution_count": 10,
   "metadata": {},
   "outputs": [],
   "source": [
    "# Obtiene el resumen de duraciones de las int. q por diagnostico acumuladas\n",
    "tiempos_quir = grd_y_pabellon_relevantes.groupby([\"diag_01_principal_cod\"])[\"duracion\"].describe()[\n",
    "    \"75%\"\n",
    "]\n",
    "\n",
    "# Convierte los tiempos quirurgicos a tiempo nuevamente\n",
    "tiempos_quir = pd.to_timedelta(tiempos_quir)"
   ]
  },
  {
   "cell_type": "code",
   "execution_count": 11,
   "metadata": {},
   "outputs": [
    {
     "name": "stdout",
     "output_type": "stream",
     "text": [
      "Tiempo utilizado en pabellón calculado (en horas):\n",
      "+-------------+--------------------+--------------------+--------------------+--------------------+--------------------+--------------------+--------------------+-------------------+--------------------+--------------------+--------------------+--------------------+--------------------+--------------------+--------------------+--------------------+--------------------+--------------------+--------------------+\n",
      "| Diagnostico |        2017        |        2018        |        2019        |        2020        |        2021        |        2022        |        2023        |       2024        |        2025        |        2026        |        2027        |        2028        |        2029        |        2030        |        2031        |        2032        |        2033        |        2034        |        2035        |\n",
      "+-------------+--------------------+--------------------+--------------------+--------------------+--------------------+--------------------+--------------------+-------------------+--------------------+--------------------+--------------------+--------------------+--------------------+--------------------+--------------------+--------------------+--------------------+--------------------+--------------------+\n",
      "|    C34N     | 2972.0465213637312 | 3039.4553885627492 | 3112.6624125158046 | 3184.986273268767  | 3226.9974792600883 |  3252.95215878104  | 3274.9745599999997 | 3295.631378428089 | 3315.388957825058  | 3334.3037926110496 | 3352.3435700972295 | 3369.460093773444  | 3385.5993761709237 |  3400.72344026522  | 3415.036907315685  | 3428.452732605265  | 3440.9056035966805 | 3452.401114764242  | 3462.9517459433478 |\n",
      "|    C381     | 175.62093080785667 |  179.604182051435  | 183.93005164866113 | 188.20373432951806 | 190.68621468355056 | 192.21990029160668 |     193.521224     | 194.7418541798414 | 195.9093475078442  | 197.0270422906528  | 198.0930291421089  | 199.1044600866125  | 200.05814495555444 | 200.95183965203557 | 201.79763543229026 | 202.5903887448564  | 203.32624021253113 | 204.00552041788694 | 204.62896680574303 |\n",
      "|    I051     | 275.6441932194667  | 282.7878424878942  | 290.67767346514336 | 298.37359871941976 | 302.5641958046903  | 305.0571533614008  | 307.10910229999996 | 309.032322203662  | 310.88630456645114 | 312.69033843934363 | 314.43934775629333 | 316.1337386025833  |  317.759704078568  | 319.31886852538196 | 320.8268662264481  | 322.28390022440834 | 323.67210276677946 | 324.99858034602613 | 326.2576477681764  |\n",
      "|    I232     | 179.90312251464584 | 184.5560468323986  | 189.6428025960325  | 194.67121741026997 | 197.4837303576186  | 199.1255429068536  | 200.48657615999971 | 201.7549587144539 |  202.965263872055  | 204.1220918226528  | 205.22364561708721 | 206.26666678754833 | 207.24763331368248 | 208.1648920022622  | 209.02975165333444 | 209.83825897874777 | 210.5860773411953  | 211.27387760169722 | 211.90206706872974 |\n",
      "|    I330     | 76.63169119251222  | 78.61769321320389  | 80.81114080209694  | 82.95068076714472  | 84.11570636772028  | 84.80877213272196  | 85.37923333333333  | 85.91390664544389 |  86.4293312667364  | 86.93086973570861  | 87.41711085801862  | 87.88816752921416  | 88.34020130068612  | 88.77366375462361  | 89.19290136959889  | 89.59797059338555  | 89.98390402190138  | 90.35267732722416  | 90.70270997169195  |\n",
      "+-------------+--------------------+--------------------+--------------------+--------------------+--------------------+--------------------+--------------------+-------------------+--------------------+--------------------+--------------------+--------------------+--------------------+--------------------+--------------------+--------------------+--------------------+--------------------+--------------------+\n",
      "\n",
      "Horas laborales por año calculadas:\n",
      "+---+-------+------+\n",
      "|   | fecha |  0   |\n",
      "+---+-------+------+\n",
      "| 0 | 2017  | 2976 |\n",
      "| 1 | 2018  | 2964 |\n",
      "| 2 | 2019  | 2988 |\n",
      "| 3 | 2020  | 3024 |\n",
      "| 4 | 2021  | 3012 |\n",
      "+---+-------+------+\n",
      "\n",
      "Cantidad de pabellones necesarios calculada:\n",
      "+-------------+----------------------+----------------------+---------------------+----------------------+----------------------+---------------------+----------------------+---------------------+---------------------+----------------------+---------------------+----------------------+----------------------+---------------------+----------------------+----------------------+----------------------+----------------------+---------------------+\n",
      "| Diagnostico |         2017         |         2018         |        2019         |         2020         |         2021         |        2022         |         2023         |        2024         |        2025         |         2026         |        2027         |         2028         |         2029         |        2030         |         2031         |         2032         |         2033         |         2034         |        2035         |\n",
      "+-------------+----------------------+----------------------+---------------------+----------------------+----------------------+---------------------+----------------------+---------------------+---------------------+----------------------+---------------------+----------------------+----------------------+---------------------+----------------------+----------------------+----------------------+----------------------+---------------------+\n",
      "|    C34N     |  0.9986715461571678  |  1.0254572835906712  | 1.0417210215916348  |  1.053236201477767   |  1.0713803051992326  | 1.0843173862603466  |  1.104917192982456   |  1.102955615270445  |  1.109567924305575  |  1.1070065712520085  | 1.1129958732062515  |  1.1322110530152703  |  1.1468832575104755  | 1.1427162097665389  |  1.1383456357718948  |  1.129266380963526   |  1.1423989387771183  |  1.1647777040365188  | 1.1730866348046571  |\n",
      "|    C381     | 0.05901240954565076  | 0.06059520312126687  | 0.06155624218496022 | 0.06223668463277714  | 0.06330883621631825  | 0.06407330009720223 | 0.06529056140350877  | 0.06517464999325348 | 0.06556537734532938 | 0.06541402466489137  | 0.06576793796218755 | 0.06690338040544776  | 0.06777037430743714  | 0.0675241396680227  | 0.06726587847743008  | 0.06672937705693557  | 0.06750539183682973  | 0.06882777342033973  | 0.06931875569300239 |\n",
      "|    I051     | 0.09262237675385304  | 0.09540750421318966  | 0.09728168455995427 | 0.09866851809504622  | 0.10045292025388125  | 0.1016857177871336  | 0.10361305745614034  | 0.10342447195571017 |  0.10404494798074   | 0.10381485339951647  | 0.10439553378362992 | 0.10622773474549171  |  0.1076421761783767  | 0.10729800689696975 | 0.10694228874214937  | 0.10615411733346783  | 0.10746085749229066  | 0.10964864384143931  | 0.11052088339030366 |\n",
      "|    I232     | 0.060451318049276156 | 0.062265872750471865 | 0.06346814009238036 | 0.06437540258276124  | 0.06556564752908985  | 0.0663751809689512  |  0.0676405452631578  | 0.06752173986427507 | 0.06792679513790328 | 0.06776961879902152  | 0.06813534051032112 | 0.06931003588291275  | 0.07020583784338838  | 0.06994788037710424 | 0.06967658388444481  | 0.06911668609313168  |  0.0699156963284181  | 0.07127998569557936  | 0.07178254304496265 |\n",
      "|    I330     | 0.025749896234043085 | 0.02652418799365853  | 0.02704522784541397 | 0.027430780676965846 | 0.027926861343864635 | 0.02826959071090732 | 0.028805409356725147 | 0.02875298080503477 | 0.02892547900493186 | 0.028861510536423843 | 0.02902294517198493 | 0.029532314357934866 | 0.029925542446031884 | 0.02982986013260202 | 0.029730967123199628 | 0.029511848021536745 | 0.029875134137417457 | 0.030483359422140404 | 0.03072585026141326 |\n",
      "+-------------+----------------------+----------------------+---------------------+----------------------+----------------------+---------------------+----------------------+---------------------+---------------------+----------------------+---------------------+----------------------+----------------------+---------------------+----------------------+----------------------+----------------------+----------------------+---------------------+\n",
      "\n"
     ]
    }
   ],
   "source": [
    "# Se obtiene la cantidad de pacientes que requeriran quirofanos\n",
    "casos_quirurgicos = casos_area_de_influencia_para_quir[COLUMNAS_POBLACION_INTERES.values()].mul(\n",
    "    porcentajes_quirurgicos[\"Porcentaje Pacientes Quirúrgicos\"], axis=0\n",
    ")\n",
    "\n",
    "# Calcular tiempo utilizado en pabellón en horas\n",
    "tiempo_utilizado_pabellon_horas = pb.calcular_tiempo_utilizado_pabellon(\n",
    "    casos_quirurgicos,\n",
    "    tiempos_quir,\n",
    ")\n",
    "\n",
    "# Calcular horas laborales\n",
    "horas_laborales = pb.calcular_horas_laborales(ANIO_INICIO, ANIO_TERMINO, 12)\n",
    "horas_laborales.index = horas_laborales.index.astype(int)\n",
    "\n",
    "# Calcular cantidad de pabellones necesarios\n",
    "cantidad_de_pabellones_necesarios = pb.calcular_cantidad_de_pabellones_necesarios(\n",
    "    tiempo_utilizado_pabellon_horas, horas_laborales\n",
    ")\n",
    "\n",
    "# Obtiene la suma total de pabellones\n",
    "suma_total_pabellones = cantidad_de_pabellones_necesarios.sum()"
   ]
  },
  {
   "cell_type": "code",
   "execution_count": 12,
   "metadata": {},
   "outputs": [
    {
     "name": "stdout",
     "output_type": "stream",
     "text": [
      "> Pabellones 2035: 5.86\n"
     ]
    }
   ],
   "source": [
    "print(f\"> Pabellones 2035: {suma_total_pabellones[2035]:.2f}\")"
   ]
  },
  {
   "cell_type": "markdown",
   "metadata": {},
   "source": [
    "## Complicaciones"
   ]
  },
  {
   "cell_type": "code",
   "execution_count": 13,
   "metadata": {},
   "outputs": [],
   "source": [
    "# Define las complicaciones a buscar\n",
    "a_buscar_operaciones = {\n",
    "    \"ecmo\": r\"ECMO\",\n",
    "    \"trasplantes\": r\"TRASPLANTE|TRANSPLANTE\",\n",
    "    \"aseos\": r\"ASEO\",\n",
    "    \"drenajes\": r\"DRENAJE\",\n",
    "    \"traqueostomias\": r\"TRAQUEOSTOMIA|TRAQUEOSTOMÍA\",\n",
    "    \"reintervenciones_reoperaciones\": r\"REINTERVENCION|REOPERACION|REINTERVENCIÓN|REOPERACIÓN\",\n",
    "}\n",
    "\n",
    "# Define los diagnosticos que son complicaciones\n",
    "a_buscar_diagnosticos = {\n",
    "    \"empiemas\": r\"EMPIEMA\",\n",
    "    \"rupturas\": r\"ANEURISMA\",\n",
    "}\n",
    "\n",
    "# Busca los nombres de las operaciones en la base de pabellon\n",
    "resultados_operaciones = pb.iterar_en_complicaciones_a_buscar(\n",
    "    grd_y_pabellon, a_buscar_operaciones, \"intervencion_quirurgica\"\n",
    ")\n",
    "\n",
    "# Busca los diagnosticos en el primer diagnostico y segundo\n",
    "resultados_diagnosticos = pb.iterar_en_complicaciones_a_buscar(\n",
    "    grd_y_pabellon, a_buscar_diagnosticos, \"diagnostico\"\n",
    ")\n",
    "\n",
    "# Obtiene resumen de complicaciones\n",
    "resumen_complicaciones = pd.concat([resultados_operaciones, resultados_diagnosticos])"
   ]
  },
  {
   "cell_type": "code",
   "execution_count": 14,
   "metadata": {},
   "outputs": [],
   "source": [
    "# Convierte los anios INE en int a una lista para que si se pueda utilizar\n",
    "ANIOS_INE = list(COLUMNAS_POBLACION_INTERES.values())\n",
    "\n",
    "# Une los casos quirurgicos (despues de aplicar el % quir) con su especialidad\n",
    "casos_especialidad = casos_quirurgicos.merge(\n",
    "    porcentajes_quirurgicos[\"Especialidad Quirúrgica\"],\n",
    "    how=\"inner\",\n",
    "    left_index=True,\n",
    "    right_index=True,\n",
    ")\n",
    "\n",
    "# Obtiene los casos por especialidad por anio\n",
    "casos_especialidad = casos_especialidad.groupby(\"Especialidad Quirúrgica\")[ANIOS_INE].sum()"
   ]
  },
  {
   "cell_type": "code",
   "execution_count": 15,
   "metadata": {},
   "outputs": [
    {
     "name": "stdout",
     "output_type": "stream",
     "text": [
      "Cantidad de pabellones necesarios calculada:\n",
      "+--------------------+-----------------------+------------------------+-----------------------+------------------------+------------------------+-----------------------+------------------------+------------------------+----------------------+------------------------+-----------------------+------------------------+-----------------------+----------------------+----------------------+-----------------------+-----------------------+-----------------------+-----------------------+\n",
      "|                    |         2017          |          2018          |         2019          |          2020          |          2021          |         2022          |          2023          |          2024          |         2025         |          2026          |         2027          |          2028          |         2029          |         2030         |         2031         |         2032          |         2033          |         2034          |         2035          |\n",
      "+--------------------+-----------------------+------------------------+-----------------------+------------------------+------------------------+-----------------------+------------------------+------------------------+----------------------+------------------------+-----------------------+------------------------+-----------------------+----------------------+----------------------+-----------------------+-----------------------+-----------------------+-----------------------+\n",
      "|  ('aseos', 'CT')   |  0.08650388928469394  |  0.08882404196579576   |  0.09023279001394448  |  0.09123022290346286   |  0.09280184627205806   |  0.09392244276054722  |  0.09570677656562285   |   0.0955368667470483   | 0.09610961806943459  |  0.09588775633539676   |  0.09640654343325292  |  0.09807094229710443   |  0.09934183337045026  | 0.09898088803454617  | 0.09860231346676361  |  0.09781587787064311  |  0.0989534063518571   |  0.10089183169277768  |  0.10161154262276959  |\n",
      "|  ('aseos', 'CV')   |  0.09309435720814255  |   0.0949702001466395   |  0.09609498155819937  |  0.09690040305743708   |  0.09843584144679321   |  0.09952012612530056  |  0.10129205578928681   |  0.10098679148028886   | 0.10146194433827198  |  0.10109549280846769   |  0.10150933284981879  |  0.10312905299121893   |  0.10433548708820932  | 0.10383202980890822  | 0.10338254803207565  |  0.10247110438168021  |   0.103582229499617   |  0.10553909783628805  |  0.1062302392284631   |\n",
      "| ('drenajes', 'CT') | 0.009804276902362791  |  0.010067241024894006  | 0.010226907325032909  |  0.01033995551652144   |  0.010518081966318616  |  0.01064508941488324  |  0.010847324283810729  |  0.010828066850144933  | 0.010892981995663858 |  0.010867836376287257  | 0.010926635262705198  |  0.011115276807867103  | 0.011259318516267219  | 0.011218409280288512 | 0.011175501962231204 | 0.011086368023699677  | 0.011215294529852997  | 0.011434994001796935  | 0.011516565423679145  |\n",
      "| ('drenajes', 'CV') |  0.02768022963271552  |  0.02823798377431633   | 0.028572420884064868  |  0.02881190104933605   |  0.029268440935091396  |  0.02959083694048204  |  0.030117694007473758  |  0.030026928182077476  | 0.03016820785373578  |  0.030059248913597646  | 0.030182298126453816  |  0.030663897944093115  |  0.03102261327166949  | 0.030872917699142393 | 0.030739270943618523 | 0.030468266660471473  | 0.030798643273378338  |  0.03138048911822303  |  0.03158598978462013  |\n",
      "|   ('ecmo', 'CT')   | 0.0002394506089615069 | 0.00024587300195409733 | 0.0002497725442844526 | 0.00025253352896118094 | 0.00025688392494660245 | 0.0002599858376326852 | 0.00026492503539304993 | 0.00026445470960927045 | 0.00026604013720177  | 0.00026542600380542644 | 0.0002668620535314298 | 0.00027146926049973863 | 0.0002749872022241983 | 0.000273988072806993 |  0.0002729401440775  | 0.0002707632190403125 | 0.0002739120010175041 | 0.0002792777381207827 | 0.0002812699632320837 |\n",
      "+--------------------+-----------------------+------------------------+-----------------------+------------------------+------------------------+-----------------------+------------------------+------------------------+----------------------+------------------------+-----------------------+------------------------+-----------------------+----------------------+----------------------+-----------------------+-----------------------+-----------------------+-----------------------+\n",
      "\n"
     ]
    }
   ],
   "source": [
    "# Une los datos de complicaciones y los casos de especialidad\n",
    "casos_complicaciones = (\n",
    "    casos_especialidad.merge(\n",
    "        resumen_complicaciones[[\"fraccion\", \"tiempo_operacion_75%\", \"complicacion\"]],\n",
    "        how=\"left\",\n",
    "        left_index=True,\n",
    "        right_index=True,\n",
    "    )\n",
    "    .reset_index()\n",
    "    .sort_values([\"complicacion\", \"Especialidad Quirúrgica\"])\n",
    "    .set_index([\"complicacion\", \"Especialidad Quirúrgica\"])\n",
    ")\n",
    "\n",
    "# Obtiene los casos de complicaciones\n",
    "casos_complicaciones[ANIOS_INE] = casos_complicaciones[ANIOS_INE].mul(\n",
    "    casos_complicaciones[\"fraccion\"], axis=0\n",
    ")\n",
    "\n",
    "# Obtiene el tiempo de pabellon por las complicaciones\n",
    "tiempo_utilizado_pabellon_complicaciones_horas = (\n",
    "    casos_complicaciones[ANIOS_INE]\n",
    "    .mul(casos_complicaciones[\"tiempo_operacion_75%\"], axis=0)\n",
    "    .apply(lambda x: x.dt.total_seconds() / 3600)\n",
    ")\n",
    "\n",
    "# Divide por las horas laborales\n",
    "pabellones_por_complicaciones = pb.calcular_cantidad_de_pabellones_necesarios(\n",
    "    tiempo_utilizado_pabellon_complicaciones_horas, horas_laborales\n",
    ")\n",
    "\n",
    "# # Obtiene los pabellones de emergencia por anio\n",
    "suma_total_pabellones_complicaciones = pabellones_por_complicaciones.sum()"
   ]
  },
  {
   "cell_type": "code",
   "execution_count": 16,
   "metadata": {},
   "outputs": [
    {
     "name": "stdout",
     "output_type": "stream",
     "text": [
      "> Pabellones de Emergencia 2035: 0.97\n"
     ]
    }
   ],
   "source": [
    "print(f\"> Pabellones de Emergencia 2035: {suma_total_pabellones_complicaciones[2035]:.2f}\")"
   ]
  },
  {
   "cell_type": "code",
   "execution_count": 21,
   "metadata": {},
   "outputs": [],
   "source": [
    "# Carga el resumen de area de estudio para MINSAL\n",
    "resumen_area_de_estudio_minsal = (\n",
    "    pd.read_excel(\n",
    "        \"../data/interim/casos_teoricos_diagnosticos.xlsx\", sheet_name=\"resumen_total_INT\"\n",
    "    )\n",
    "    .sort_values(\"Diagnostico\")\n",
    ")\n",
    "resumen_area_de_estudio_minsal[\"diagnostico_separado\"] = (\n",
    "    resumen_area_de_estudio_minsal[\"Diagnostico\"].str.split(\" - \").str[0]\n",
    ")\n",
    "resumen_area_de_estudio_minsal = resumen_area_de_estudio_minsal.set_index(\"diagnostico_separado\")\n",
    "\n",
    "# Sintetiza informacion de pabellon para el 2035\n",
    "resumen_quirurgicos = pd.DataFrame(\n",
    "    {\n",
    "        \"porcentaje_quirurgico\": porcentajes_quirurgicos[\"Porcentaje Pacientes Quirúrgicos\"],\n",
    "        \"especilidad_quirurgica\": porcentajes_quirurgicos[\"Especialidad Quirúrgica\"],\n",
    "        \"casos_quirurgicos_2035\": casos_quirurgicos[2035],\n",
    "        \"tiempo_quirurgico_75%_2019_a_2022\": tiempos_quir,\n",
    "        \"horas_pabellon_2035\": tiempo_utilizado_pabellon_horas[2035],\n",
    "        \"horas_laborales_2035_pabellon_12_hrs\": horas_laborales[2035],\n",
    "        \"cantidad_de_pabellones\": cantidad_de_pabellones_necesarios[2035],\n",
    "    }\n",
    ")\n",
    "\n",
    "# Une ambos resumenes segun el diagnostico\n",
    "resumen_minsal = resumen_area_de_estudio_minsal.merge(\n",
    "    resumen_quirurgicos, how=\"inner\", left_index=True, right_index=True\n",
    ")"
   ]
  },
  {
   "cell_type": "code",
   "execution_count": 22,
   "metadata": {},
   "outputs": [],
   "source": [
    "a_guardar = {\n",
    "    \"casos_area_de_influencia\": casos_area_de_influencia,\n",
    "    \"porcentajes_quirurgicos\": porcentajes_quirurgicos,\n",
    "    \"casos_quirurgicos\": casos_quirurgicos,\n",
    "    \"casos_por_especialidad\": casos_especialidad,\n",
    "    \"casos_complicaciones\": casos_complicaciones,\n",
    "    \"resumen_duraciones_int_q_rel\": tiempos_quir,\n",
    "    \"tiempo_utilizado_pabellon\": tiempo_utilizado_pabellon_horas,\n",
    "    \"horas_laborales_por_anio\": horas_laborales,\n",
    "    \"pabellones_desg\": cantidad_de_pabellones_necesarios,\n",
    "    \"pabellones\": suma_total_pabellones,\n",
    "    \"pabellones_desg_emergencia\": pabellones_por_complicaciones,\n",
    "    \"pabellones_emergencia\": suma_total_pabellones_complicaciones,\n",
    "    \"resumen_MINSAL\": resumen_minsal,\n",
    "}"
   ]
  },
  {
   "cell_type": "code",
   "execution_count": 23,
   "metadata": {},
   "outputs": [],
   "source": [
    "with pd.ExcelWriter(\"../data/interim/estimacion_pabellones_INT.xlsx\") as file:\n",
    "    for nombre_hoja, df_a_guardar in a_guardar.items():\n",
    "        df_a_guardar.to_excel(file, sheet_name=nombre_hoja)"
   ]
  }
 ],
 "metadata": {
  "kernelspec": {
   "display_name": "base",
   "language": "python",
   "name": "python3"
  },
  "language_info": {
   "codemirror_mode": {
    "name": "ipython",
    "version": 3
   },
   "file_extension": ".py",
   "mimetype": "text/x-python",
   "name": "python",
   "nbconvert_exporter": "python",
   "pygments_lexer": "ipython3",
   "version": "3.11.8"
  }
 },
 "nbformat": 4,
 "nbformat_minor": 2
}
