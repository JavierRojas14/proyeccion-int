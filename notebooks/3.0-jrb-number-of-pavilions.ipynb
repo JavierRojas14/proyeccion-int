{
 "cells": [
  {
   "cell_type": "code",
   "execution_count": 1,
   "metadata": {},
   "outputs": [],
   "source": [
    "import sys\n",
    "import os\n",
    "\n",
    "project_root = os.path.abspath('..')\n",
    "if project_root not in sys.path:\n",
    "    sys.path.append(project_root)\n",
    " \n",
    "%load_ext autoreload\n",
    "%autoreload 2"
   ]
  },
  {
   "cell_type": "code",
   "execution_count": 7,
   "metadata": {},
   "outputs": [],
   "source": [
    "import pandas as pd\n",
    "\n",
    "from src.features import build_features\n",
    "import src.features.pabellon as pb\n",
    "\n",
    "pd.set_option(\"display.max_columns\", None)\n",
    "\n",
    "ANIO_INICIO = 2017\n",
    "ANIO_TERMINO = 2035\n",
    "COLUMNAS_POBLACION_INTERES = {str(i): i for i in range(2017, 2036)}"
   ]
  },
  {
   "cell_type": "markdown",
   "metadata": {},
   "source": [
    "## Obtencion de casos por area de influencia INT"
   ]
  },
  {
   "cell_type": "code",
   "execution_count": null,
   "metadata": {},
   "outputs": [],
   "source": [
    "# Cargar datos\n",
    "casos_area_de_influencia = build_features.leer_casos_area_de_influencia(\n",
    "    COLUMNAS_POBLACION_INTERES\n",
    ")"
   ]
  },
  {
   "cell_type": "markdown",
   "metadata": {},
   "source": [
    "## Obtencion de porcentajes de quirurgicos"
   ]
  },
  {
   "cell_type": "code",
   "execution_count": 14,
   "metadata": {},
   "outputs": [],
   "source": [
    "# Define la ruta donde estan los porcentajes de quirurgicos\n",
    "RUTA_PLANILLA_PORCENTAJES = (\n",
    "    \"../data/raw/3_incidencias_y_porcentajes_marcoprocesos/incidencias_y_prevalencias_INT.xlsx\"\n",
    ")\n",
    "\n",
    "# Lee porcentajes y especialidades quirurgicas de trazadoras\n",
    "porcentajes_quirurgicos = pd.read_excel(\n",
    "    RUTA_PLANILLA_PORCENTAJES,\n",
    "    sheet_name=\"porcentaje_trazadoras\",\n",
    "    usecols=[\"Diagnostico\", \"Porcentaje Pacientes Quirúrgicos\", \"Especialidad Quirúrgica\"],\n",
    ")\n",
    "\n",
    "# Deja los diagnosticos que SI aportan a los quirofanos (porcentaje > 0)\n",
    "porcentajes_quirurgicos = porcentajes_quirurgicos.query(\"`Porcentaje Pacientes Quirúrgicos` > 0\")\n",
    "\n",
    "# Formatea la columna de diagnosticos\n",
    "porcentajes_quirurgicos[\"Diagnostico\"] = (\n",
    "    porcentajes_quirurgicos[\"Diagnostico\"].str.split(\" - \").str[0]\n",
    ")\n",
    "\n",
    "# Deja los diagnosticos como el indice\n",
    "porcentajes_quirurgicos = porcentajes_quirurgicos.set_index(\"Diagnostico\")"
   ]
  },
  {
   "cell_type": "markdown",
   "metadata": {},
   "source": [
    "Una vez se han obtenido los casos de area de influencia totales, y tambien los porcentajes de quirurgicos, se procederá a solamente dejar la información de los diagnósticos que SÍ aportan a los quirofanos (un porcentaje > 0).\n",
    "\n",
    "Posteriormente, se reasignarán los diagnósticos para agrupar algunas patologías."
   ]
  },
  {
   "cell_type": "code",
   "execution_count": 95,
   "metadata": {},
   "outputs": [],
   "source": [
    "# Filtra los casos de area de influencia solamente a los diagnosticos que tengan un porcentaje de\n",
    "# quirofanos mayor a 0\n",
    "casos_area_de_influencia_para_quir = casos_area_de_influencia[\n",
    "    casos_area_de_influencia.index.isin(porcentajes_quirurgicos.index)\n",
    "]\n",
    "\n",
    "# Agrega el tipo de especialidad de cada diagnostico\n",
    "casos_area_de_influencia_para_quir = casos_area_de_influencia_para_quir.merge(\n",
    "    porcentajes_quirurgicos[\"Especialidad Quirúrgica\"],\n",
    "    how=\"inner\",\n",
    "    left_index=True,\n",
    "    right_index=True,\n",
    ")"
   ]
  },
  {
   "cell_type": "markdown",
   "metadata": {},
   "source": [
    "Luego, se obtendrán todos los diagnósticos que deben ser buscados en la base de datos de Pabellon y GRD del INT."
   ]
  },
  {
   "cell_type": "code",
   "execution_count": 96,
   "metadata": {},
   "outputs": [],
   "source": [
    "# Los diagnosticos que tienen un porcentaje de hosp. mayor a 0\n",
    "diagnosticos_relevantes = list(casos_area_de_influencia_para_quir.index)\n",
    "\n",
    "# Ademas, los diagnosticos que estan agrupados dentro de los que aportan a AC\n",
    "# Solo deja los diagnosticos que esten agrupados\n",
    "diagnosticos_a_reasignar = casos_area_de_influencia_para_quir.dropna(subset=\"Diagnosticos Contenidos\")\n",
    "\n",
    "# Separa la lista de diagnosticos en filas\n",
    "diagnosticos_agrupados = diagnosticos_a_reasignar.explode(\"Diagnosticos Contenidos\")\n",
    "diagnosticos_agrupados = list(diagnosticos_agrupados[\"Diagnosticos Contenidos\"].unique())\n",
    "\n",
    "# Suma los diagnosticos relevantes y los agrupados\n",
    "diagnosticos_a_buscar_en_quir = sorted(diagnosticos_relevantes + diagnosticos_agrupados)"
   ]
  },
  {
   "cell_type": "markdown",
   "metadata": {},
   "source": [
    "## Obtencion de tiempos quirurgicos entre 2015 y 2022 en pabellon para diagnosticos relevantes\n",
    "\n",
    "Estos se obtendran a partir de la union de la base de GRD (2015 a 2022, tiene los diagnosticos codificados) y Pabellon (2015 a 2022, tiene los tiempos quirurgicos)."
   ]
  },
  {
   "cell_type": "code",
   "execution_count": 97,
   "metadata": {},
   "outputs": [],
   "source": [
    "# Lee la base de GRD unida con Pabellon\n",
    "grd_y_pabellon = pd.read_csv(\"../data/raw/5_duracion_int_q/grd_interno_y_pabellon.csv\")\n",
    "grd_y_pabellon[\"duracion\"] = pd.to_timedelta(grd_y_pabellon[\"duracion\"])"
   ]
  },
  {
   "cell_type": "code",
   "execution_count": 98,
   "metadata": {},
   "outputs": [],
   "source": [
    "# Filtra solamente los diagnosticos que aportan a quirurgico\n",
    "grd_y_pabellon_relevantes = grd_y_pabellon.query(\n",
    "    \"diag_01_principal_cod.isin(@diagnosticos_a_buscar_en_quir)\"\n",
    ").copy()"
   ]
  },
  {
   "cell_type": "markdown",
   "metadata": {},
   "source": [
    "## Reasginar diagnosticos"
   ]
  },
  {
   "cell_type": "code",
   "execution_count": 99,
   "metadata": {},
   "outputs": [
    {
     "name": "stdout",
     "output_type": "stream",
     "text": [
      "Cambiando ['C341', 'C342', 'C343', 'C780', 'C782', 'D381'] a C34N\n",
      "Cambiando ['I052', 'I080', 'I081'] a I051\n",
      "Cambiando ['I352'] a I350\n",
      "Cambiando ['Q201', 'Q202', 'Q203', 'Q204', 'Q205', 'Q206', 'Q208', 'Q209', 'Q210', 'Q211', 'Q212', 'Q213', 'Q214', 'Q218', 'Q220', 'Q221', 'Q222', 'Q223', 'Q224', 'Q225', 'Q228', 'Q230', 'Q231', 'Q233', 'Q240', 'Q241', 'Q244', 'Q245', 'Q246', 'Q248', 'Q249', 'Q250', 'Q251', 'Q253', 'Q254', 'Q255', 'Q256', 'Q257', 'Q258', 'Q259', 'Q264', 'Q268', 'Q272', 'Q273', 'Q288', 'Q289', 'Q311', 'Q320', 'Q321', 'Q330', 'Q331', 'Q332', 'Q334', 'Q338', 'Q341', 'Q348', 'Q676', 'Q677', 'Q678', 'Q765', 'Q766', 'Q767', 'Q768', 'Q769', 'Q780', 'Q790', 'Q798', 'Q839', 'Q850', 'Q858', 'Q859', 'Q874', 'Q893'] a QXXX\n"
     ]
    }
   ],
   "source": [
    "for row in diagnosticos_a_reasignar.itertuples():\n",
    "    diagnostico_nuevo = row[0]\n",
    "    diagnosticos_antiguos = row[1]\n",
    "\n",
    "    print(f\"Cambiando {diagnosticos_antiguos} a {diagnostico_nuevo}\")\n",
    "    diagnosticos_cambiados = grd_y_pabellon_relevantes[\"diag_01_principal_cod\"].replace(\n",
    "        diagnosticos_antiguos, diagnostico_nuevo\n",
    "    )\n",
    "    grd_y_pabellon_relevantes[\"diag_01_principal_cod\"] = diagnosticos_cambiados"
   ]
  },
  {
   "cell_type": "markdown",
   "metadata": {},
   "source": [
    "## Obtener tiempos quirurgicos"
   ]
  },
  {
   "cell_type": "code",
   "execution_count": 100,
   "metadata": {},
   "outputs": [],
   "source": [
    "# Obtiene el resumen de duraciones de las int. q por diagnostico acumuladas\n",
    "tiempos_quir = grd_y_pabellon_relevantes.groupby([\"diag_01_principal_cod\"])[\"duracion\"].describe()[\n",
    "    \"75%\"\n",
    "]\n",
    "\n",
    "# Convierte los tiempos quirurgicos a tiempo nuevamente\n",
    "tiempos_quir = pd.to_timedelta(tiempos_quir)"
   ]
  },
  {
   "cell_type": "code",
   "execution_count": 101,
   "metadata": {},
   "outputs": [
    {
     "name": "stdout",
     "output_type": "stream",
     "text": [
      "Tiempo utilizado en pabellón calculado (en horas):\n",
      "+-------------+--------------------+--------------------+--------------------+--------------------+--------------------+--------------------+--------------------+-------------------+--------------------+--------------------+--------------------+--------------------+--------------------+--------------------+--------------------+--------------------+--------------------+--------------------+--------------------+\n",
      "| Diagnostico |        2017        |        2018        |        2019        |        2020        |        2021        |        2022        |        2023        |       2024        |        2025        |        2026        |        2027        |        2028        |        2029        |        2030        |        2031        |        2032        |        2033        |        2034        |        2035        |\n",
      "+-------------+--------------------+--------------------+--------------------+--------------------+--------------------+--------------------+--------------------+-------------------+--------------------+--------------------+--------------------+--------------------+--------------------+--------------------+--------------------+--------------------+--------------------+--------------------+--------------------+\n",
      "|    C34N     | 2972.0465213637312 | 3039.4553885627492 | 3112.6624125158046 | 3184.986273268767  | 3226.9974792600883 |  3252.95215878104  | 3274.9745599999997 | 3295.631378428089 | 3315.388957825058  | 3334.3037926110496 | 3352.3435700972295 | 3369.460093773444  | 3385.5993761709237 |  3400.72344026522  | 3415.036907315685  | 3428.452732605265  | 3440.9056035966805 | 3452.401114764242  | 3462.9517459433478 |\n",
      "|    C381     | 175.62093080785667 |  179.604182051435  | 183.93005164866113 | 188.20373432951806 | 190.68621468355056 | 192.21990029160668 |     193.521224     | 194.7418541798414 | 195.9093475078442  | 197.0270422906528  | 198.0930291421089  | 199.1044600866125  | 200.05814495555444 | 200.95183965203557 | 201.79763543229026 | 202.5903887448564  | 203.32624021253113 | 204.00552041788694 | 204.62896680574303 |\n",
      "|    I051     | 275.6441932194667  | 282.7878424878942  | 290.67767346514336 | 298.37359871941976 | 302.5641958046903  | 305.0571533614008  | 307.10910229999996 | 309.032322203662  | 310.88630456645114 | 312.69033843934363 | 314.43934775629333 | 316.1337386025833  |  317.759704078568  | 319.31886852538196 | 320.8268662264481  | 322.28390022440834 | 323.67210276677946 | 324.99858034602613 | 326.2576477681764  |\n",
      "|    I232     | 179.90312251464584 | 184.5560468323986  | 189.6428025960325  | 194.67121741026997 | 197.4837303576186  | 199.1255429068536  | 200.48657615999971 | 201.7549587144539 |  202.965263872055  | 204.1220918226528  | 205.22364561708721 | 206.26666678754833 | 207.24763331368248 | 208.1648920022622  | 209.02975165333444 | 209.83825897874777 | 210.5860773411953  | 211.27387760169722 | 211.90206706872974 |\n",
      "|    I330     | 76.63169119251222  | 78.61769321320389  | 80.81114080209694  | 82.95068076714472  | 84.11570636772028  | 84.80877213272196  | 85.37923333333333  | 85.91390664544389 |  86.4293312667364  | 86.93086973570861  | 87.41711085801862  | 87.88816752921416  | 88.34020130068612  | 88.77366375462361  | 89.19290136959889  | 89.59797059338555  | 89.98390402190138  | 90.35267732722416  | 90.70270997169195  |\n",
      "+-------------+--------------------+--------------------+--------------------+--------------------+--------------------+--------------------+--------------------+-------------------+--------------------+--------------------+--------------------+--------------------+--------------------+--------------------+--------------------+--------------------+--------------------+--------------------+--------------------+\n",
      "\n",
      "Horas laborales por año calculadas:\n",
      "+---+-------+------+\n",
      "|   | fecha |  0   |\n",
      "+---+-------+------+\n",
      "| 0 | 2017  | 2976 |\n",
      "| 1 | 2018  | 2964 |\n",
      "| 2 | 2019  | 2988 |\n",
      "| 3 | 2020  | 3024 |\n",
      "| 4 | 2021  | 3012 |\n",
      "+---+-------+------+\n",
      "\n",
      "Cantidad de pabellones necesarios calculada:\n",
      "+-------------+----------------------+----------------------+---------------------+----------------------+----------------------+---------------------+----------------------+---------------------+---------------------+----------------------+---------------------+----------------------+----------------------+---------------------+----------------------+----------------------+----------------------+----------------------+---------------------+\n",
      "| Diagnostico |         2017         |         2018         |        2019         |         2020         |         2021         |        2022         |         2023         |        2024         |        2025         |         2026         |        2027         |         2028         |         2029         |        2030         |         2031         |         2032         |         2033         |         2034         |        2035         |\n",
      "+-------------+----------------------+----------------------+---------------------+----------------------+----------------------+---------------------+----------------------+---------------------+---------------------+----------------------+---------------------+----------------------+----------------------+---------------------+----------------------+----------------------+----------------------+----------------------+---------------------+\n",
      "|    C34N     |  0.9986715461571678  |  1.0254572835906712  | 1.0417210215916348  |  1.053236201477767   |  1.0713803051992326  | 1.0843173862603466  |  1.104917192982456   |  1.102955615270445  |  1.109567924305575  |  1.1070065712520085  | 1.1129958732062515  |  1.1322110530152703  |  1.1468832575104755  | 1.1427162097665389  |  1.1383456357718948  |  1.129266380963526   |  1.1423989387771183  |  1.1647777040365188  | 1.1730866348046571  |\n",
      "|    C381     | 0.05901240954565076  | 0.06059520312126687  | 0.06155624218496022 | 0.06223668463277714  | 0.06330883621631825  | 0.06407330009720223 | 0.06529056140350877  | 0.06517464999325348 | 0.06556537734532938 | 0.06541402466489137  | 0.06576793796218755 | 0.06690338040544776  | 0.06777037430743714  | 0.0675241396680227  | 0.06726587847743008  | 0.06672937705693557  | 0.06750539183682973  | 0.06882777342033973  | 0.06931875569300239 |\n",
      "|    I051     | 0.09262237675385304  | 0.09540750421318966  | 0.09728168455995427 | 0.09866851809504622  | 0.10045292025388125  | 0.1016857177871336  | 0.10361305745614034  | 0.10342447195571017 |  0.10404494798074   | 0.10381485339951647  | 0.10439553378362992 | 0.10622773474549171  |  0.1076421761783767  | 0.10729800689696975 | 0.10694228874214937  | 0.10615411733346783  | 0.10746085749229066  | 0.10964864384143931  | 0.11052088339030366 |\n",
      "|    I232     | 0.060451318049276156 | 0.062265872750471865 | 0.06346814009238036 | 0.06437540258276124  | 0.06556564752908985  | 0.0663751809689512  |  0.0676405452631578  | 0.06752173986427507 | 0.06792679513790328 | 0.06776961879902152  | 0.06813534051032112 | 0.06931003588291275  | 0.07020583784338838  | 0.06994788037710424 | 0.06967658388444481  | 0.06911668609313168  |  0.0699156963284181  | 0.07127998569557936  | 0.07178254304496265 |\n",
      "|    I330     | 0.025749896234043085 | 0.02652418799365853  | 0.02704522784541397 | 0.027430780676965846 | 0.027926861343864635 | 0.02826959071090732 | 0.028805409356725147 | 0.02875298080503477 | 0.02892547900493186 | 0.028861510536423843 | 0.02902294517198493 | 0.029532314357934866 | 0.029925542446031884 | 0.02982986013260202 | 0.029730967123199628 | 0.029511848021536745 | 0.029875134137417457 | 0.030483359422140404 | 0.03072585026141326 |\n",
      "+-------------+----------------------+----------------------+---------------------+----------------------+----------------------+---------------------+----------------------+---------------------+---------------------+----------------------+---------------------+----------------------+----------------------+---------------------+----------------------+----------------------+----------------------+----------------------+---------------------+\n",
      "\n"
     ]
    }
   ],
   "source": [
    "# Se obtiene la cantidad de pacientes que requeriran quirofanos\n",
    "casos_quirurgicos = casos_area_de_influencia_para_quir[COLUMNAS_POBLACION_INTERES.values()].mul(\n",
    "    porcentajes_quirurgicos[\"Porcentaje Pacientes Quirúrgicos\"], axis=0\n",
    ")\n",
    "\n",
    "# Calcular tiempo utilizado en pabellón en horas\n",
    "tiempo_utilizado_pabellon_horas = pb.calcular_tiempo_utilizado_pabellon(\n",
    "    casos_quirurgicos,\n",
    "    tiempos_quir,\n",
    ")\n",
    "\n",
    "# Calcular horas laborales\n",
    "horas_laborales = pb.calcular_horas_laborales(ANIO_INICIO, ANIO_TERMINO, 12)\n",
    "horas_laborales.index = horas_laborales.index.astype(int)\n",
    "\n",
    "# Calcular cantidad de pabellones necesarios\n",
    "cantidad_de_pabellones_necesarios = pb.calcular_cantidad_de_pabellones_necesarios(\n",
    "    tiempo_utilizado_pabellon_horas, horas_laborales\n",
    ")\n",
    "\n",
    "# Obtiene la suma total de pabellones\n",
    "suma_total_pabellones = cantidad_de_pabellones_necesarios.sum()"
   ]
  },
  {
   "cell_type": "code",
   "execution_count": 134,
   "metadata": {},
   "outputs": [
    {
     "name": "stdout",
     "output_type": "stream",
     "text": [
      "> Pabellones 2035: 5.86\n"
     ]
    }
   ],
   "source": [
    "print(f\"> Pabellones 2035: {suma_total_pabellones[2035]:.2f}\")"
   ]
  },
  {
   "cell_type": "markdown",
   "metadata": {},
   "source": [
    "## Complicaciones"
   ]
  },
  {
   "cell_type": "code",
   "execution_count": 102,
   "metadata": {},
   "outputs": [],
   "source": [
    "# Define las complicaciones a buscar\n",
    "a_buscar_operaciones = {\n",
    "    \"ecmo\": r\"ECMO\",\n",
    "    \"trasplantes\": r\"TRASPLANTE|TRANSPLANTE\",\n",
    "    \"aseos\": r\"ASEO\",\n",
    "    \"drenajes\": r\"DRENAJE\",\n",
    "    \"traqueostomias\": r\"TRAQUEOSTOMIA|TRAQUEOSTOMÍA\",\n",
    "    \"reintervenciones_reoperaciones\": r\"REINTERVENCION|REOPERACION|REINTERVENCIÓN|REOPERACIÓN\",\n",
    "}\n",
    "\n",
    "# Define los diagnosticos que son complicaciones\n",
    "a_buscar_diagnosticos = {\n",
    "    \"empiemas\": r\"EMPIEMA\",\n",
    "    \"rupturas\": r\"ANEURISMA\",\n",
    "}\n",
    "\n",
    "# Busca los nombres de las operaciones en la base de pabellon\n",
    "resultados_operaciones = pb.iterar_en_complicaciones_a_buscar(\n",
    "    grd_y_pabellon, a_buscar_operaciones, \"intervencion_quirurgica\"\n",
    ")\n",
    "\n",
    "# Busca los diagnosticos en el primer diagnostico y segundo\n",
    "resultados_diagnosticos = pb.iterar_en_complicaciones_a_buscar(\n",
    "    grd_y_pabellon, a_buscar_diagnosticos, \"diagnostico\"\n",
    ")\n",
    "\n",
    "# Obtiene resumen de complicaciones\n",
    "resumen_complicaciones = pd.concat([resultados_operaciones, resultados_diagnosticos])"
   ]
  },
  {
   "cell_type": "code",
   "execution_count": 114,
   "metadata": {},
   "outputs": [],
   "source": [
    "# Obtiene los casos por especialidad\n",
    "casos_especialidad = casos_area_de_influencia_para_quir.groupby(\"Especialidad Quirúrgica\")[\n",
    "    list(COLUMNAS_POBLACION_INTERES.values())\n",
    "].sum()"
   ]
  },
  {
   "cell_type": "code",
   "execution_count": 121,
   "metadata": {},
   "outputs": [
    {
     "name": "stdout",
     "output_type": "stream",
     "text": [
      "Cantidad de pabellones necesarios calculada:\n",
      "+--------------------+----------------------+-----------------------+-----------------------+-----------------------+-----------------------+-----------------------+-----------------------+-----------------------+-----------------------+-----------------------+-----------------------+----------------------+-----------------------+-----------------------+-----------------------+-----------------------+-----------------------+-----------------------+-----------------------+\n",
      "|                    |         2017         |         2018          |         2019          |         2020          |         2021          |         2022          |         2023          |         2024          |         2025          |         2026          |         2027          |         2028         |         2029          |         2030          |         2031          |         2032          |         2033          |         2034          |         2035          |\n",
      "+--------------------+----------------------+-----------------------+-----------------------+-----------------------+-----------------------+-----------------------+-----------------------+-----------------------+-----------------------+-----------------------+-----------------------+----------------------+-----------------------+-----------------------+-----------------------+-----------------------+-----------------------+-----------------------+-----------------------+\n",
      "|  ('aseos', 'CT')   |  0.2828539871848723  |  0.2904405181738719   |  0.2950469006805171   |  0.2983083479065613   |  0.30344730685784066  |  0.3071114795027417   |  0.3129459678177512   |  0.31239038968082466  |  0.31426319559211957  |   0.313537742937964   |  0.3152340944007953   | 0.32067641449529394  |   0.324832026576393   |  0.32365179262089727  |  0.32241391387544927  |  0.3198423943071824   |  0.3235619318806759   |  0.32990027505892394  |  0.3322536155601673   |\n",
      "|  ('aseos', 'CV')   | 0.43053566578529434  |  0.4384152874209446   |  0.44284117483945995  |  0.4458531493276942   |  0.45263892180974596  |  0.4575390401200289   |   0.465629774719175   |   0.464177719451242   |  0.46631217081091475  |  0.4645768299919352   |  0.4664267923181078   |  0.4738171401912388  |  0.47930983163293095  |  0.4769500744654013   |  0.4748696377927462   |  0.47065206006647725  |  0.4757283157922219   |  0.48469216019790207  |  0.4878478620764189   |\n",
      "| ('drenajes', 'CT') |  0.0320584292362976  |  0.03291828017663761  | 0.033440363634234714  |  0.03381001327624494  | 0.034392458493042094  | 0.034807752689935835  |  0.03546902861055593  |  0.03540605985920413  |  0.0356183220810597   |  0.03553609989706646  | 0.035728362922496405  | 0.03634519083207335  |  0.03681618435477858  |  0.03668241764665789  |  0.03654211752729583  |  0.03625066369654196  |  0.03667223290713848  |  0.03739061530746298  |  0.03765734090917325  |\n",
      "| ('drenajes', 'CV') | 0.12801340974261202  |  0.13035629864409562  |  0.13167227077975524  |  0.13256783682674778  |  0.1345854858676944   |  0.13604246354200009  |   0.138448123759418   |  0.1380163766110284   |  0.13865102414013164  |  0.13813504622481104  |  0.13868510514928303  |  0.1408825157370864  |  0.14251568626392888  |  0.14181404738662698  |  0.14119546032547287  |  0.13994142599452059  |  0.14145077552307297  |  0.1441160420223776   |  0.14505434328218902  |\n",
      "|   ('ecmo', 'CT')   | 0.000782965483271076 | 0.0008039656889293747 | 0.0008167165733745166 | 0.0008257445550158915 | 0.0008399696593492696 | 0.0008501124214657408 | 0.0008662628141423939 | 0.0008647249234844005 | 0.0008699090200566153 | 0.0008679009013321713 | 0.0008725965559916814 | 0.000887661391475601 | 0.0008991645025109153 | 0.0008958975079087329 | 0.0008924709473012038 | 0.0008853527479732103 | 0.0008956487652320347 | 0.0009131938738553381 | 0.0009197081337432248 |\n",
      "+--------------------+----------------------+-----------------------+-----------------------+-----------------------+-----------------------+-----------------------+-----------------------+-----------------------+-----------------------+-----------------------+-----------------------+----------------------+-----------------------+-----------------------+-----------------------+-----------------------+-----------------------+-----------------------+-----------------------+\n",
      "\n"
     ]
    }
   ],
   "source": [
    "# Une los datos de complicaciones y los casos de especialidad\n",
    "casos_complicaciones = (\n",
    "    casos_especialidad.merge(\n",
    "        resumen_complicaciones[[\"fraccion\", \"tiempo_operacion_75%\", \"complicacion\"]],\n",
    "        how=\"left\",\n",
    "        left_index=True,\n",
    "        right_index=True,\n",
    "    )\n",
    "    .reset_index()\n",
    "    .sort_values([\"complicacion\", \"Especialidad Quirúrgica\"])\n",
    "    .set_index([\"complicacion\", \"Especialidad Quirúrgica\"])\n",
    ")\n",
    "\n",
    "# Obtiene los casos de complicaciones\n",
    "casos_complicaciones[list(COLUMNAS_POBLACION_INTERES.values())] = casos_complicaciones[\n",
    "    list(COLUMNAS_POBLACION_INTERES.values())\n",
    "].mul(casos_complicaciones[\"fraccion\"], axis=0)\n",
    "\n",
    "# Obtiene el tiempo de pabellon por las complicaciones\n",
    "tiempo_utilizado_pabellon_complicaciones_horas = (\n",
    "    casos_complicaciones[list(COLUMNAS_POBLACION_INTERES.values())]\n",
    "    .mul(casos_complicaciones[\"tiempo_operacion_75%\"], axis=0)\n",
    "    .apply(lambda x: x.dt.total_seconds() / 3600)\n",
    ")\n",
    "\n",
    "# Divide por las horas laborales\n",
    "pabellones_por_complicaciones = pb.calcular_cantidad_de_pabellones_necesarios(\n",
    "    tiempo_utilizado_pabellon_complicaciones_horas, horas_laborales\n",
    ")\n",
    "\n",
    "# # Obtiene los pabellones de emergencia por anio\n",
    "suma_total_pabellones_complicaciones = pabellones_por_complicaciones.sum()"
   ]
  },
  {
   "cell_type": "code",
   "execution_count": 126,
   "metadata": {},
   "outputs": [
    {
     "name": "stdout",
     "output_type": "stream",
     "text": [
      "> Pabellones 2035: 5.86\n",
      "> Pabellones de Emergencia 2035: 4.16\n"
     ]
    }
   ],
   "source": [
    "print(f\"> Pabellones de Emergencia 2035: {suma_total_pabellones_complicaciones[2035]:.2f}\")"
   ]
  },
  {
   "cell_type": "code",
   "execution_count": 122,
   "metadata": {},
   "outputs": [
    {
     "ename": "KeyError",
     "evalue": "\"['Porcentaje Hospitalizados de Ambulatorios'] not found in axis\"",
     "output_type": "error",
     "traceback": [
      "\u001b[1;31m---------------------------------------------------------------------------\u001b[0m",
      "\u001b[1;31mKeyError\u001b[0m                                  Traceback (most recent call last)",
      "Cell \u001b[1;32mIn[122], line 6\u001b[0m\n\u001b[0;32m      1\u001b[0m \u001b[38;5;66;03m# Carga el resumen de area de estudio para MINSAL\u001b[39;00m\n\u001b[0;32m      2\u001b[0m resumen_area_de_estudio_minsal \u001b[38;5;241m=\u001b[39m (\n\u001b[0;32m      3\u001b[0m     \u001b[43mpd\u001b[49m\u001b[38;5;241;43m.\u001b[39;49m\u001b[43mread_excel\u001b[49m\u001b[43m(\u001b[49m\n\u001b[0;32m      4\u001b[0m \u001b[43m        \u001b[49m\u001b[38;5;124;43m\"\u001b[39;49m\u001b[38;5;124;43m../data/interim/casos_teoricos_diagnosticos.xlsx\u001b[39;49m\u001b[38;5;124;43m\"\u001b[39;49m\u001b[43m,\u001b[49m\u001b[43m \u001b[49m\u001b[43msheet_name\u001b[49m\u001b[38;5;241;43m=\u001b[39;49m\u001b[38;5;124;43m\"\u001b[39;49m\u001b[38;5;124;43mresumen_total_INT\u001b[39;49m\u001b[38;5;124;43m\"\u001b[39;49m\n\u001b[0;32m      5\u001b[0m \u001b[43m    \u001b[49m\u001b[43m)\u001b[49m\n\u001b[1;32m----> 6\u001b[0m \u001b[43m    \u001b[49m\u001b[38;5;241;43m.\u001b[39;49m\u001b[43mdrop\u001b[49m\u001b[43m(\u001b[49m\u001b[43mcolumns\u001b[49m\u001b[38;5;241;43m=\u001b[39;49m\u001b[38;5;124;43m\"\u001b[39;49m\u001b[38;5;124;43mPorcentaje Hospitalizados de Ambulatorios\u001b[39;49m\u001b[38;5;124;43m\"\u001b[39;49m\u001b[43m)\u001b[49m\n\u001b[0;32m      7\u001b[0m     \u001b[38;5;241m.\u001b[39msort_values(\u001b[38;5;124m\"\u001b[39m\u001b[38;5;124mDiagnostico\u001b[39m\u001b[38;5;124m\"\u001b[39m)\n\u001b[0;32m      8\u001b[0m )\n\u001b[0;32m      9\u001b[0m resumen_area_de_estudio_minsal[\u001b[38;5;124m\"\u001b[39m\u001b[38;5;124mdiagnostico_separado\u001b[39m\u001b[38;5;124m\"\u001b[39m] \u001b[38;5;241m=\u001b[39m (\n\u001b[0;32m     10\u001b[0m     resumen_area_de_estudio_minsal[\u001b[38;5;124m\"\u001b[39m\u001b[38;5;124mDiagnostico\u001b[39m\u001b[38;5;124m\"\u001b[39m]\u001b[38;5;241m.\u001b[39mstr\u001b[38;5;241m.\u001b[39msplit(\u001b[38;5;124m\"\u001b[39m\u001b[38;5;124m - \u001b[39m\u001b[38;5;124m\"\u001b[39m)\u001b[38;5;241m.\u001b[39mstr[\u001b[38;5;241m0\u001b[39m]\n\u001b[0;32m     11\u001b[0m )\n\u001b[0;32m     12\u001b[0m resumen_area_de_estudio_minsal \u001b[38;5;241m=\u001b[39m resumen_area_de_estudio_minsal\u001b[38;5;241m.\u001b[39mset_index(\u001b[38;5;124m\"\u001b[39m\u001b[38;5;124mdiagnostico_separado\u001b[39m\u001b[38;5;124m\"\u001b[39m)\n",
      "File \u001b[1;32mc:\\Users\\javie\\anaconda3\\envs\\int-proyeccion\\Lib\\site-packages\\pandas\\core\\frame.py:5347\u001b[0m, in \u001b[0;36mDataFrame.drop\u001b[1;34m(self, labels, axis, index, columns, level, inplace, errors)\u001b[0m\n\u001b[0;32m   5199\u001b[0m \u001b[38;5;28;01mdef\u001b[39;00m \u001b[38;5;21mdrop\u001b[39m(\n\u001b[0;32m   5200\u001b[0m     \u001b[38;5;28mself\u001b[39m,\n\u001b[0;32m   5201\u001b[0m     labels: IndexLabel \u001b[38;5;241m|\u001b[39m \u001b[38;5;28;01mNone\u001b[39;00m \u001b[38;5;241m=\u001b[39m \u001b[38;5;28;01mNone\u001b[39;00m,\n\u001b[1;32m   (...)\u001b[0m\n\u001b[0;32m   5208\u001b[0m     errors: IgnoreRaise \u001b[38;5;241m=\u001b[39m \u001b[38;5;124m\"\u001b[39m\u001b[38;5;124mraise\u001b[39m\u001b[38;5;124m\"\u001b[39m,\n\u001b[0;32m   5209\u001b[0m ) \u001b[38;5;241m-\u001b[39m\u001b[38;5;241m>\u001b[39m DataFrame \u001b[38;5;241m|\u001b[39m \u001b[38;5;28;01mNone\u001b[39;00m:\n\u001b[0;32m   5210\u001b[0m \u001b[38;5;250m    \u001b[39m\u001b[38;5;124;03m\"\"\"\u001b[39;00m\n\u001b[0;32m   5211\u001b[0m \u001b[38;5;124;03m    Drop specified labels from rows or columns.\u001b[39;00m\n\u001b[0;32m   5212\u001b[0m \n\u001b[1;32m   (...)\u001b[0m\n\u001b[0;32m   5345\u001b[0m \u001b[38;5;124;03m            weight  1.0     0.8\u001b[39;00m\n\u001b[0;32m   5346\u001b[0m \u001b[38;5;124;03m    \"\"\"\u001b[39;00m\n\u001b[1;32m-> 5347\u001b[0m     \u001b[38;5;28;01mreturn\u001b[39;00m \u001b[38;5;28;43msuper\u001b[39;49m\u001b[43m(\u001b[49m\u001b[43m)\u001b[49m\u001b[38;5;241;43m.\u001b[39;49m\u001b[43mdrop\u001b[49m\u001b[43m(\u001b[49m\n\u001b[0;32m   5348\u001b[0m \u001b[43m        \u001b[49m\u001b[43mlabels\u001b[49m\u001b[38;5;241;43m=\u001b[39;49m\u001b[43mlabels\u001b[49m\u001b[43m,\u001b[49m\n\u001b[0;32m   5349\u001b[0m \u001b[43m        \u001b[49m\u001b[43maxis\u001b[49m\u001b[38;5;241;43m=\u001b[39;49m\u001b[43maxis\u001b[49m\u001b[43m,\u001b[49m\n\u001b[0;32m   5350\u001b[0m \u001b[43m        \u001b[49m\u001b[43mindex\u001b[49m\u001b[38;5;241;43m=\u001b[39;49m\u001b[43mindex\u001b[49m\u001b[43m,\u001b[49m\n\u001b[0;32m   5351\u001b[0m \u001b[43m        \u001b[49m\u001b[43mcolumns\u001b[49m\u001b[38;5;241;43m=\u001b[39;49m\u001b[43mcolumns\u001b[49m\u001b[43m,\u001b[49m\n\u001b[0;32m   5352\u001b[0m \u001b[43m        \u001b[49m\u001b[43mlevel\u001b[49m\u001b[38;5;241;43m=\u001b[39;49m\u001b[43mlevel\u001b[49m\u001b[43m,\u001b[49m\n\u001b[0;32m   5353\u001b[0m \u001b[43m        \u001b[49m\u001b[43minplace\u001b[49m\u001b[38;5;241;43m=\u001b[39;49m\u001b[43minplace\u001b[49m\u001b[43m,\u001b[49m\n\u001b[0;32m   5354\u001b[0m \u001b[43m        \u001b[49m\u001b[43merrors\u001b[49m\u001b[38;5;241;43m=\u001b[39;49m\u001b[43merrors\u001b[49m\u001b[43m,\u001b[49m\n\u001b[0;32m   5355\u001b[0m \u001b[43m    \u001b[49m\u001b[43m)\u001b[49m\n",
      "File \u001b[1;32mc:\\Users\\javie\\anaconda3\\envs\\int-proyeccion\\Lib\\site-packages\\pandas\\core\\generic.py:4711\u001b[0m, in \u001b[0;36mNDFrame.drop\u001b[1;34m(self, labels, axis, index, columns, level, inplace, errors)\u001b[0m\n\u001b[0;32m   4709\u001b[0m \u001b[38;5;28;01mfor\u001b[39;00m axis, labels \u001b[38;5;129;01min\u001b[39;00m axes\u001b[38;5;241m.\u001b[39mitems():\n\u001b[0;32m   4710\u001b[0m     \u001b[38;5;28;01mif\u001b[39;00m labels \u001b[38;5;129;01mis\u001b[39;00m \u001b[38;5;129;01mnot\u001b[39;00m \u001b[38;5;28;01mNone\u001b[39;00m:\n\u001b[1;32m-> 4711\u001b[0m         obj \u001b[38;5;241m=\u001b[39m \u001b[43mobj\u001b[49m\u001b[38;5;241;43m.\u001b[39;49m\u001b[43m_drop_axis\u001b[49m\u001b[43m(\u001b[49m\u001b[43mlabels\u001b[49m\u001b[43m,\u001b[49m\u001b[43m \u001b[49m\u001b[43maxis\u001b[49m\u001b[43m,\u001b[49m\u001b[43m \u001b[49m\u001b[43mlevel\u001b[49m\u001b[38;5;241;43m=\u001b[39;49m\u001b[43mlevel\u001b[49m\u001b[43m,\u001b[49m\u001b[43m \u001b[49m\u001b[43merrors\u001b[49m\u001b[38;5;241;43m=\u001b[39;49m\u001b[43merrors\u001b[49m\u001b[43m)\u001b[49m\n\u001b[0;32m   4713\u001b[0m \u001b[38;5;28;01mif\u001b[39;00m inplace:\n\u001b[0;32m   4714\u001b[0m     \u001b[38;5;28mself\u001b[39m\u001b[38;5;241m.\u001b[39m_update_inplace(obj)\n",
      "File \u001b[1;32mc:\\Users\\javie\\anaconda3\\envs\\int-proyeccion\\Lib\\site-packages\\pandas\\core\\generic.py:4753\u001b[0m, in \u001b[0;36mNDFrame._drop_axis\u001b[1;34m(self, labels, axis, level, errors, only_slice)\u001b[0m\n\u001b[0;32m   4751\u001b[0m         new_axis \u001b[38;5;241m=\u001b[39m axis\u001b[38;5;241m.\u001b[39mdrop(labels, level\u001b[38;5;241m=\u001b[39mlevel, errors\u001b[38;5;241m=\u001b[39merrors)\n\u001b[0;32m   4752\u001b[0m     \u001b[38;5;28;01melse\u001b[39;00m:\n\u001b[1;32m-> 4753\u001b[0m         new_axis \u001b[38;5;241m=\u001b[39m \u001b[43maxis\u001b[49m\u001b[38;5;241;43m.\u001b[39;49m\u001b[43mdrop\u001b[49m\u001b[43m(\u001b[49m\u001b[43mlabels\u001b[49m\u001b[43m,\u001b[49m\u001b[43m \u001b[49m\u001b[43merrors\u001b[49m\u001b[38;5;241;43m=\u001b[39;49m\u001b[43merrors\u001b[49m\u001b[43m)\u001b[49m\n\u001b[0;32m   4754\u001b[0m     indexer \u001b[38;5;241m=\u001b[39m axis\u001b[38;5;241m.\u001b[39mget_indexer(new_axis)\n\u001b[0;32m   4756\u001b[0m \u001b[38;5;66;03m# Case for non-unique axis\u001b[39;00m\n\u001b[0;32m   4757\u001b[0m \u001b[38;5;28;01melse\u001b[39;00m:\n",
      "File \u001b[1;32mc:\\Users\\javie\\anaconda3\\envs\\int-proyeccion\\Lib\\site-packages\\pandas\\core\\indexes\\base.py:6992\u001b[0m, in \u001b[0;36mIndex.drop\u001b[1;34m(self, labels, errors)\u001b[0m\n\u001b[0;32m   6990\u001b[0m \u001b[38;5;28;01mif\u001b[39;00m mask\u001b[38;5;241m.\u001b[39many():\n\u001b[0;32m   6991\u001b[0m     \u001b[38;5;28;01mif\u001b[39;00m errors \u001b[38;5;241m!=\u001b[39m \u001b[38;5;124m\"\u001b[39m\u001b[38;5;124mignore\u001b[39m\u001b[38;5;124m\"\u001b[39m:\n\u001b[1;32m-> 6992\u001b[0m         \u001b[38;5;28;01mraise\u001b[39;00m \u001b[38;5;167;01mKeyError\u001b[39;00m(\u001b[38;5;124mf\u001b[39m\u001b[38;5;124m\"\u001b[39m\u001b[38;5;132;01m{\u001b[39;00mlabels[mask]\u001b[38;5;241m.\u001b[39mtolist()\u001b[38;5;132;01m}\u001b[39;00m\u001b[38;5;124m not found in axis\u001b[39m\u001b[38;5;124m\"\u001b[39m)\n\u001b[0;32m   6993\u001b[0m     indexer \u001b[38;5;241m=\u001b[39m indexer[\u001b[38;5;241m~\u001b[39mmask]\n\u001b[0;32m   6994\u001b[0m \u001b[38;5;28;01mreturn\u001b[39;00m \u001b[38;5;28mself\u001b[39m\u001b[38;5;241m.\u001b[39mdelete(indexer)\n",
      "\u001b[1;31mKeyError\u001b[0m: \"['Porcentaje Hospitalizados de Ambulatorios'] not found in axis\""
     ]
    }
   ],
   "source": [
    "# Carga el resumen de area de estudio para MINSAL\n",
    "resumen_area_de_estudio_minsal = (\n",
    "    pd.read_excel(\n",
    "        \"../data/interim/casos_teoricos_diagnosticos.xlsx\", sheet_name=\"resumen_total_INT\"\n",
    "    )\n",
    "    .drop(columns=\"Porcentaje Hospitalizados de Ambulatorios\")\n",
    "    .sort_values(\"Diagnostico\")\n",
    ")\n",
    "resumen_area_de_estudio_minsal[\"diagnostico_separado\"] = (\n",
    "    resumen_area_de_estudio_minsal[\"Diagnostico\"].str.split(\" - \").str[0]\n",
    ")\n",
    "resumen_area_de_estudio_minsal = resumen_area_de_estudio_minsal.set_index(\"diagnostico_separado\")\n",
    "\n",
    "# Sintetiza informacion de pabellon para el 2035\n",
    "resumen_quirurgicos = pd.DataFrame(\n",
    "    {\n",
    "        \"porcentaje_quirurgico\": porcentajes_quirurgicos,\n",
    "        \"casos_quirurgicos_2035\": casos_quirurgicos[\"2035\"],\n",
    "        \"tiempo_quirurgico_75%_2019_a_2022\": tiempos_quir,\n",
    "        \"horas_pabellon_2035\": tiempo_utilizado_pabellon_horas[\"2035\"],\n",
    "        \"horas_laborales_2035_pabellon_12_hrs\": horas_laborales[\"2035\"],\n",
    "        \"cantidad_de_pabellones\": cantidad_de_pabellones_necesarios[\"2035\"],\n",
    "    }\n",
    ")\n",
    "\n",
    "# Une ambos resumenes segun el diagnostico\n",
    "resumen_minsal = resumen_area_de_estudio_minsal.merge(\n",
    "    resumen_quirurgicos, how=\"left\", left_index=True, right_index=True\n",
    ")"
   ]
  },
  {
   "cell_type": "code",
   "execution_count": null,
   "metadata": {},
   "outputs": [],
   "source": [
    "a_guardar = {\n",
    "    \"casos_area_de_influencia\": casos_area_de_influencia,\n",
    "    \"porcentajes_quirurgicos\": porcentajes_quirurgicos,\n",
    "    \"casos_quirurgicos\": casos_quirurgicos,\n",
    "    \"casos_por_especialidad\": casos_especialidad,\n",
    "    \"casos_complicaciones\": casos_complicaciones,\n",
    "    \"resumen_duraciones_int_q_rel\": tiempos_quir,\n",
    "    \"tiempo_utilizado_pabellon\": tiempo_utilizado_pabellon_horas,\n",
    "    \"horas_laborales_por_anio\": horas_laborales,\n",
    "    \"pabellones_desg\": cantidad_de_pabellones_necesarios,\n",
    "    \"pabellones\": suma_total_pabellones,\n",
    "    \"pabellones_desg_emergencia\": pabellones_por_complicaciones,\n",
    "    \"pabellones_emergencia\": suma_total_pabellones_complicaciones,\n",
    "    \"resumen_MINSAL\": resumen_minsal,\n",
    "}"
   ]
  },
  {
   "cell_type": "code",
   "execution_count": null,
   "metadata": {},
   "outputs": [],
   "source": [
    "with pd.ExcelWriter(\"../data/interim/estimacion_pabellones_INT.xlsx\") as file:\n",
    "    for nombre_hoja, df_a_guardar in a_guardar.items():\n",
    "        df_a_guardar.to_excel(file, sheet_name=nombre_hoja)"
   ]
  }
 ],
 "metadata": {
  "kernelspec": {
   "display_name": "base",
   "language": "python",
   "name": "python3"
  },
  "language_info": {
   "codemirror_mode": {
    "name": "ipython",
    "version": 3
   },
   "file_extension": ".py",
   "mimetype": "text/x-python",
   "name": "python",
   "nbconvert_exporter": "python",
   "pygments_lexer": "ipython3",
   "version": "3.11.8"
  }
 },
 "nbformat": 4,
 "nbformat_minor": 2
}
