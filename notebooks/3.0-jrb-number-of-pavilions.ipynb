{
 "cells": [
  {
   "cell_type": "code",
   "execution_count": 1,
   "metadata": {},
   "outputs": [],
   "source": [
    "import sys\n",
    "import os\n",
    "\n",
    "project_root = os.path.abspath('..')\n",
    "if project_root not in sys.path:\n",
    "    sys.path.append(project_root)\n",
    " \n",
    "%load_ext autoreload\n",
    "%autoreload 2"
   ]
  },
  {
   "cell_type": "code",
   "execution_count": 7,
   "metadata": {},
   "outputs": [],
   "source": [
    "import pandas as pd\n",
    "\n",
    "from src.features import build_features\n",
    "import src.features.pabellon as pb\n",
    "\n",
    "pd.set_option(\"display.max_columns\", None)\n",
    "\n",
    "ANIO_INICIO = 2017\n",
    "ANIO_TERMINO = 2035\n",
    "COLUMNAS_POBLACION_INTERES = {str(i): i for i in range(2017, 2036)}"
   ]
  },
  {
   "cell_type": "code",
   "execution_count": 8,
   "metadata": {},
   "outputs": [
    {
     "ename": "FileNotFoundError",
     "evalue": "[Errno 2] No such file or directory: '../data/external/incidencias_y_prevalencias_INT.xlsx'",
     "output_type": "error",
     "traceback": [
      "\u001b[1;31m---------------------------------------------------------------------------\u001b[0m",
      "\u001b[1;31mFileNotFoundError\u001b[0m                         Traceback (most recent call last)",
      "Cell \u001b[1;32mIn[8], line 7\u001b[0m\n\u001b[0;32m      2\u001b[0m casos_area_de_influencia \u001b[38;5;241m=\u001b[39m build_features\u001b[38;5;241m.\u001b[39mleer_casos_area_de_influencia(\n\u001b[0;32m      3\u001b[0m     COLUMNAS_POBLACION_INTERES\n\u001b[0;32m      4\u001b[0m )\n\u001b[0;32m      6\u001b[0m \u001b[38;5;66;03m# Lee porcentajes y especialidades quirurgicas de trazadoras\u001b[39;00m\n\u001b[1;32m----> 7\u001b[0m porcentajes_de_quirurgicos, especialidades_quirurgicas \u001b[38;5;241m=\u001b[39m \u001b[43mpb\u001b[49m\u001b[38;5;241;43m.\u001b[39;49m\u001b[43mcargar_porcentajes_de_quirurgicos\u001b[49m\u001b[43m(\u001b[49m\n\u001b[0;32m      8\u001b[0m \u001b[43m    \u001b[49m\u001b[38;5;124;43m\"\u001b[39;49m\u001b[38;5;124;43m../data/external/incidencias_y_prevalencias_INT.xlsx\u001b[39;49m\u001b[38;5;124;43m\"\u001b[39;49m\n\u001b[0;32m      9\u001b[0m \u001b[43m)\u001b[49m\n\u001b[0;32m     11\u001b[0m \u001b[38;5;66;03m# Calcular casos quirúrgicos\u001b[39;00m\n\u001b[0;32m     12\u001b[0m DIAGS_AREA_DE_INFLUENCIA \u001b[38;5;241m=\u001b[39m casos_area_de_influencia\u001b[38;5;241m.\u001b[39mindex\n",
      "File \u001b[1;32mc:\\Users\\javie\\OneDrive\\Documents\\Trabajo\\SSMO\\EPH\\8.0-proyeccion-int\\src\\features\\pabellon.py:21\u001b[0m, in \u001b[0;36mcargar_porcentajes_de_quirurgicos\u001b[1;34m(ruta)\u001b[0m\n\u001b[0;32m     11\u001b[0m \u001b[38;5;28;01mdef\u001b[39;00m \u001b[38;5;21mcargar_porcentajes_de_quirurgicos\u001b[39m(ruta):\n\u001b[0;32m     12\u001b[0m \u001b[38;5;250m    \u001b[39m\u001b[38;5;124;03m\"\"\"\u001b[39;00m\n\u001b[0;32m     13\u001b[0m \u001b[38;5;124;03m    Carga los porcentajes de quirúrgicos y formatea los diagnósticos.\u001b[39;00m\n\u001b[0;32m     14\u001b[0m \n\u001b[1;32m   (...)\u001b[0m\n\u001b[0;32m     19\u001b[0m \u001b[38;5;124;03m    Series: Porcentajes quirúrgicos con diagnósticos formateados.\u001b[39;00m\n\u001b[0;32m     20\u001b[0m \u001b[38;5;124;03m    \"\"\"\u001b[39;00m\n\u001b[1;32m---> 21\u001b[0m     df \u001b[38;5;241m=\u001b[39m \u001b[43mpd\u001b[49m\u001b[38;5;241;43m.\u001b[39;49m\u001b[43mread_excel\u001b[49m\u001b[43m(\u001b[49m\u001b[43mruta\u001b[49m\u001b[43m,\u001b[49m\u001b[43m \u001b[49m\u001b[43msheet_name\u001b[49m\u001b[38;5;241;43m=\u001b[39;49m\u001b[38;5;124;43m\"\u001b[39;49m\u001b[38;5;124;43mporcentajes_trazadoras\u001b[39;49m\u001b[38;5;124;43m\"\u001b[39;49m\u001b[43m)\u001b[49m\n\u001b[0;32m     22\u001b[0m     df[\u001b[38;5;124m\"\u001b[39m\u001b[38;5;124mDiagnostico\u001b[39m\u001b[38;5;124m\"\u001b[39m] \u001b[38;5;241m=\u001b[39m df[\u001b[38;5;124m\"\u001b[39m\u001b[38;5;124mDiagnostico\u001b[39m\u001b[38;5;124m\"\u001b[39m]\u001b[38;5;241m.\u001b[39mstr\u001b[38;5;241m.\u001b[39msplit(\u001b[38;5;124m\"\u001b[39m\u001b[38;5;124m - \u001b[39m\u001b[38;5;124m\"\u001b[39m)\u001b[38;5;241m.\u001b[39mstr[\u001b[38;5;241m0\u001b[39m]\n\u001b[0;32m     23\u001b[0m     df \u001b[38;5;241m=\u001b[39m df\u001b[38;5;241m.\u001b[39mset_index(\u001b[38;5;124m\"\u001b[39m\u001b[38;5;124mDiagnostico\u001b[39m\u001b[38;5;124m\"\u001b[39m)\u001b[38;5;241m.\u001b[39mdropna(subset\u001b[38;5;241m=\u001b[39m\u001b[38;5;124m\"\u001b[39m\u001b[38;5;124mPorcentaje Quirúrgico\u001b[39m\u001b[38;5;124m\"\u001b[39m)\n",
      "File \u001b[1;32mc:\\Users\\javie\\anaconda3\\envs\\int-proyeccion\\Lib\\site-packages\\pandas\\io\\excel\\_base.py:504\u001b[0m, in \u001b[0;36mread_excel\u001b[1;34m(io, sheet_name, header, names, index_col, usecols, dtype, engine, converters, true_values, false_values, skiprows, nrows, na_values, keep_default_na, na_filter, verbose, parse_dates, date_parser, date_format, thousands, decimal, comment, skipfooter, storage_options, dtype_backend, engine_kwargs)\u001b[0m\n\u001b[0;32m    502\u001b[0m \u001b[38;5;28;01mif\u001b[39;00m \u001b[38;5;129;01mnot\u001b[39;00m \u001b[38;5;28misinstance\u001b[39m(io, ExcelFile):\n\u001b[0;32m    503\u001b[0m     should_close \u001b[38;5;241m=\u001b[39m \u001b[38;5;28;01mTrue\u001b[39;00m\n\u001b[1;32m--> 504\u001b[0m     io \u001b[38;5;241m=\u001b[39m \u001b[43mExcelFile\u001b[49m\u001b[43m(\u001b[49m\n\u001b[0;32m    505\u001b[0m \u001b[43m        \u001b[49m\u001b[43mio\u001b[49m\u001b[43m,\u001b[49m\n\u001b[0;32m    506\u001b[0m \u001b[43m        \u001b[49m\u001b[43mstorage_options\u001b[49m\u001b[38;5;241;43m=\u001b[39;49m\u001b[43mstorage_options\u001b[49m\u001b[43m,\u001b[49m\n\u001b[0;32m    507\u001b[0m \u001b[43m        \u001b[49m\u001b[43mengine\u001b[49m\u001b[38;5;241;43m=\u001b[39;49m\u001b[43mengine\u001b[49m\u001b[43m,\u001b[49m\n\u001b[0;32m    508\u001b[0m \u001b[43m        \u001b[49m\u001b[43mengine_kwargs\u001b[49m\u001b[38;5;241;43m=\u001b[39;49m\u001b[43mengine_kwargs\u001b[49m\u001b[43m,\u001b[49m\n\u001b[0;32m    509\u001b[0m \u001b[43m    \u001b[49m\u001b[43m)\u001b[49m\n\u001b[0;32m    510\u001b[0m \u001b[38;5;28;01melif\u001b[39;00m engine \u001b[38;5;129;01mand\u001b[39;00m engine \u001b[38;5;241m!=\u001b[39m io\u001b[38;5;241m.\u001b[39mengine:\n\u001b[0;32m    511\u001b[0m     \u001b[38;5;28;01mraise\u001b[39;00m \u001b[38;5;167;01mValueError\u001b[39;00m(\n\u001b[0;32m    512\u001b[0m         \u001b[38;5;124m\"\u001b[39m\u001b[38;5;124mEngine should not be specified when passing \u001b[39m\u001b[38;5;124m\"\u001b[39m\n\u001b[0;32m    513\u001b[0m         \u001b[38;5;124m\"\u001b[39m\u001b[38;5;124man ExcelFile - ExcelFile already has the engine set\u001b[39m\u001b[38;5;124m\"\u001b[39m\n\u001b[0;32m    514\u001b[0m     )\n",
      "File \u001b[1;32mc:\\Users\\javie\\anaconda3\\envs\\int-proyeccion\\Lib\\site-packages\\pandas\\io\\excel\\_base.py:1563\u001b[0m, in \u001b[0;36mExcelFile.__init__\u001b[1;34m(self, path_or_buffer, engine, storage_options, engine_kwargs)\u001b[0m\n\u001b[0;32m   1561\u001b[0m     ext \u001b[38;5;241m=\u001b[39m \u001b[38;5;124m\"\u001b[39m\u001b[38;5;124mxls\u001b[39m\u001b[38;5;124m\"\u001b[39m\n\u001b[0;32m   1562\u001b[0m \u001b[38;5;28;01melse\u001b[39;00m:\n\u001b[1;32m-> 1563\u001b[0m     ext \u001b[38;5;241m=\u001b[39m \u001b[43minspect_excel_format\u001b[49m\u001b[43m(\u001b[49m\n\u001b[0;32m   1564\u001b[0m \u001b[43m        \u001b[49m\u001b[43mcontent_or_path\u001b[49m\u001b[38;5;241;43m=\u001b[39;49m\u001b[43mpath_or_buffer\u001b[49m\u001b[43m,\u001b[49m\u001b[43m \u001b[49m\u001b[43mstorage_options\u001b[49m\u001b[38;5;241;43m=\u001b[39;49m\u001b[43mstorage_options\u001b[49m\n\u001b[0;32m   1565\u001b[0m \u001b[43m    \u001b[49m\u001b[43m)\u001b[49m\n\u001b[0;32m   1566\u001b[0m     \u001b[38;5;28;01mif\u001b[39;00m ext \u001b[38;5;129;01mis\u001b[39;00m \u001b[38;5;28;01mNone\u001b[39;00m:\n\u001b[0;32m   1567\u001b[0m         \u001b[38;5;28;01mraise\u001b[39;00m \u001b[38;5;167;01mValueError\u001b[39;00m(\n\u001b[0;32m   1568\u001b[0m             \u001b[38;5;124m\"\u001b[39m\u001b[38;5;124mExcel file format cannot be determined, you must specify \u001b[39m\u001b[38;5;124m\"\u001b[39m\n\u001b[0;32m   1569\u001b[0m             \u001b[38;5;124m\"\u001b[39m\u001b[38;5;124man engine manually.\u001b[39m\u001b[38;5;124m\"\u001b[39m\n\u001b[0;32m   1570\u001b[0m         )\n",
      "File \u001b[1;32mc:\\Users\\javie\\anaconda3\\envs\\int-proyeccion\\Lib\\site-packages\\pandas\\io\\excel\\_base.py:1419\u001b[0m, in \u001b[0;36minspect_excel_format\u001b[1;34m(content_or_path, storage_options)\u001b[0m\n\u001b[0;32m   1416\u001b[0m \u001b[38;5;28;01mif\u001b[39;00m \u001b[38;5;28misinstance\u001b[39m(content_or_path, \u001b[38;5;28mbytes\u001b[39m):\n\u001b[0;32m   1417\u001b[0m     content_or_path \u001b[38;5;241m=\u001b[39m BytesIO(content_or_path)\n\u001b[1;32m-> 1419\u001b[0m \u001b[38;5;28;01mwith\u001b[39;00m \u001b[43mget_handle\u001b[49m\u001b[43m(\u001b[49m\n\u001b[0;32m   1420\u001b[0m \u001b[43m    \u001b[49m\u001b[43mcontent_or_path\u001b[49m\u001b[43m,\u001b[49m\u001b[43m \u001b[49m\u001b[38;5;124;43m\"\u001b[39;49m\u001b[38;5;124;43mrb\u001b[39;49m\u001b[38;5;124;43m\"\u001b[39;49m\u001b[43m,\u001b[49m\u001b[43m \u001b[49m\u001b[43mstorage_options\u001b[49m\u001b[38;5;241;43m=\u001b[39;49m\u001b[43mstorage_options\u001b[49m\u001b[43m,\u001b[49m\u001b[43m \u001b[49m\u001b[43mis_text\u001b[49m\u001b[38;5;241;43m=\u001b[39;49m\u001b[38;5;28;43;01mFalse\u001b[39;49;00m\n\u001b[0;32m   1421\u001b[0m \u001b[43m\u001b[49m\u001b[43m)\u001b[49m \u001b[38;5;28;01mas\u001b[39;00m handle:\n\u001b[0;32m   1422\u001b[0m     stream \u001b[38;5;241m=\u001b[39m handle\u001b[38;5;241m.\u001b[39mhandle\n\u001b[0;32m   1423\u001b[0m     stream\u001b[38;5;241m.\u001b[39mseek(\u001b[38;5;241m0\u001b[39m)\n",
      "File \u001b[1;32mc:\\Users\\javie\\anaconda3\\envs\\int-proyeccion\\Lib\\site-packages\\pandas\\io\\common.py:872\u001b[0m, in \u001b[0;36mget_handle\u001b[1;34m(path_or_buf, mode, encoding, compression, memory_map, is_text, errors, storage_options)\u001b[0m\n\u001b[0;32m    863\u001b[0m         handle \u001b[38;5;241m=\u001b[39m \u001b[38;5;28mopen\u001b[39m(\n\u001b[0;32m    864\u001b[0m             handle,\n\u001b[0;32m    865\u001b[0m             ioargs\u001b[38;5;241m.\u001b[39mmode,\n\u001b[1;32m   (...)\u001b[0m\n\u001b[0;32m    868\u001b[0m             newline\u001b[38;5;241m=\u001b[39m\u001b[38;5;124m\"\u001b[39m\u001b[38;5;124m\"\u001b[39m,\n\u001b[0;32m    869\u001b[0m         )\n\u001b[0;32m    870\u001b[0m     \u001b[38;5;28;01melse\u001b[39;00m:\n\u001b[0;32m    871\u001b[0m         \u001b[38;5;66;03m# Binary mode\u001b[39;00m\n\u001b[1;32m--> 872\u001b[0m         handle \u001b[38;5;241m=\u001b[39m \u001b[38;5;28mopen\u001b[39m(handle, ioargs\u001b[38;5;241m.\u001b[39mmode)\n\u001b[0;32m    873\u001b[0m     handles\u001b[38;5;241m.\u001b[39mappend(handle)\n\u001b[0;32m    875\u001b[0m \u001b[38;5;66;03m# Convert BytesIO or file objects passed with an encoding\u001b[39;00m\n",
      "\u001b[1;31mFileNotFoundError\u001b[0m: [Errno 2] No such file or directory: '../data/external/incidencias_y_prevalencias_INT.xlsx'"
     ]
    }
   ],
   "source": [
    "# Cargar datos\n",
    "casos_area_de_influencia = build_features.leer_casos_area_de_influencia(\n",
    "    COLUMNAS_POBLACION_INTERES\n",
    ")\n",
    "\n",
    "# Lee porcentajes y especialidades quirurgicas de trazadoras\n",
    "porcentajes_de_quirurgicos, especialidades_quirurgicas = pb.cargar_porcentajes_de_quirurgicos(\n",
    "    \"../data/external/incidencias_y_prevalencias_INT.xlsx\"\n",
    ")\n",
    "\n",
    "# Calcular casos quirúrgicos\n",
    "DIAGS_AREA_DE_INFLUENCIA = casos_area_de_influencia.index\n",
    "casos_quirurgicos = pb.calcular_casos_quirurgicos(\n",
    "    casos_area_de_influencia, porcentajes_de_quirurgicos\n",
    ")\n",
    "\n",
    "# Calcula los casos quirurgicos por especialidad para las complicaciones\n",
    "casos_especialidad = pb.calcular_casos_quirurgicos_por_especialidad(\n",
    "    casos_quirurgicos, especialidades_quirurgicas\n",
    ")"
   ]
  },
  {
   "cell_type": "code",
   "execution_count": null,
   "metadata": {},
   "outputs": [
    {
     "name": "stdout",
     "output_type": "stream",
     "text": [
      "Cambiando ['C341', 'C342', 'C343', 'C780', 'C782', 'D381'] a C34N\n",
      "Cambiando ['I052', 'I080', 'I081'] a I051\n",
      "Cambiando ['I352'] a I350\n",
      "Cambiando ['Q201', 'Q202', 'Q203', 'Q204', 'Q205', 'Q206', 'Q208', 'Q209', 'Q210', 'Q211', 'Q212', 'Q213', 'Q214', 'Q218', 'Q220', 'Q221', 'Q222', 'Q223', 'Q224', 'Q225', 'Q228', 'Q230', 'Q231', 'Q233', 'Q240', 'Q241', 'Q244', 'Q245', 'Q246', 'Q248', 'Q249', 'Q250', 'Q251', 'Q253', 'Q254', 'Q255', 'Q256', 'Q257', 'Q258', 'Q259', 'Q264', 'Q268', 'Q272', 'Q273', 'Q288', 'Q289', 'Q311', 'Q320', 'Q321', 'Q330', 'Q331', 'Q332', 'Q334', 'Q338', 'Q341', 'Q348', 'Q676', 'Q677', 'Q678', 'Q765', 'Q766', 'Q767', 'Q768', 'Q769', 'Q780', 'Q790', 'Q798', 'Q839', 'Q850', 'Q858', 'Q859', 'Q874', 'Q893'] a QXXX\n"
     ]
    }
   ],
   "source": [
    "# Lee la base de GRD unida con Pabellon\n",
    "grd_y_pabellon = pd.read_csv(\"../data/raw/5_duracion_int_q/grd_interno_y_pabellon.csv\")\n",
    "grd_y_pabellon[\"duracion\"] = pd.to_timedelta(grd_y_pabellon[\"duracion\"])\n",
    "\n",
    "# Extrae los diagnosticos que se van a reasignar\n",
    "diagnosticos_a_reasignar = casos_area_de_influencia.dropna(subset=\"Diagnosticos Contenidos\")\n",
    "diagnosticos_a_reasignar = diagnosticos_a_reasignar[\"Diagnosticos Contenidos\"].str.split(\", \")\n",
    "diagnosticos_a_reasignar = diagnosticos_a_reasignar.reset_index()\n",
    "\n",
    "# Reasigna diagnosticos y los agrupa\n",
    "grd_y_pabellon = pb.reasignar_diagnosticos(\n",
    "    grd_y_pabellon, \"diag_01_principal_cod\", diagnosticos_a_reasignar\n",
    ")"
   ]
  },
  {
   "cell_type": "code",
   "execution_count": null,
   "metadata": {},
   "outputs": [],
   "source": [
    "# Obtiene el resumen de duraciones de las int. q por diagnostico acumuladas\n",
    "resumen_duraciones_int_q_acumuladas = (\n",
    "    grd_y_pabellon.query(\"ano_de_egreso >= 2019 \")\n",
    "    .groupby([\"diag_01_principal_cod\"])[\"duracion\"]\n",
    "    .describe()\n",
    ")\n",
    "\n",
    "# Obtiene el resumen de duraciones para los diagnosticos relevantes\n",
    "resumen_duraciones_diags_relevantes = resumen_duraciones_int_q_acumuladas[\n",
    "    resumen_duraciones_int_q_acumuladas.index.isin(DIAGS_AREA_DE_INFLUENCIA)\n",
    "][\"75%\"]"
   ]
  },
  {
   "cell_type": "code",
   "execution_count": null,
   "metadata": {},
   "outputs": [
    {
     "name": "stdout",
     "output_type": "stream",
     "text": [
      "Tiempo utilizado en pabellón calculado (en horas):\n",
      "+------+--------------------+--------------------+--------------------+--------------------+--------------------+--------------------+--------------------+--------------------+--------------------+--------------------+--------------------+--------------------+--------------------+--------------------+--------------------+--------------------+--------------------+--------------------+--------------------+\n",
      "|      |        2017        |        2018        |        2019        |        2020        |        2021        |        2022        |        2023        |        2024        |        2025        |        2026        |        2027        |        2028        |        2029        |        2030        |        2031        |        2032        |        2033        |        2034        |        2035        |\n",
      "+------+--------------------+--------------------+--------------------+--------------------+--------------------+--------------------+--------------------+--------------------+--------------------+--------------------+--------------------+--------------------+--------------------+--------------------+--------------------+--------------------+--------------------+--------------------+--------------------+\n",
      "| A152 |        0.0         |        0.0         |        0.0         |        0.0         |        0.0         |        0.0         |        0.0         |        0.0         |        0.0         |        0.0         |        0.0         |        0.0         |        0.0         |        0.0         |        0.0         |        0.0         |        0.0         |        0.0         |        0.0         |\n",
      "| B441 |        0.0         |        0.0         |        0.0         |        0.0         |        0.0         |        0.0         |        0.0         |        0.0         |        0.0         |        0.0         |        0.0         |        0.0         |        0.0         |        0.0         |        0.0         |        0.0         |        0.0         |        0.0         |        0.0         |\n",
      "| C34N | 2836.9534976653795 | 2901.2983254462606 | 2971.177757401449  | 3040.2141699383683 | 3080.3157756573573 | 3105.0906970182655 |     3126.11208     | 3145.829952135903  | 3164.6894597421006 | 3182.744529310547  | 3199.964316910992  | 3216.302816783742  | 3231.708495435882  | 3246.1451020713466 | 3259.8079569831534 | 3272.6139720322985 | 3284.500803433195  | 3295.4737913658673 | 3305.5448484004683 |\n",
      "| C381 | 135.09302369835137 | 138.15706311648833 | 141.48465511435472 | 144.77210333039832 | 146.68170360273112 | 147.86146176277444 | 148.86247999999998 | 149.80142629218582 | 150.69949808295692 | 151.55926330050195 | 152.37925318623752 | 153.15727698970196 | 153.89088073504192 | 154.5783381938736  | 155.2289503325311  | 155.83876057296638 | 156.40480016348528 | 156.92732339837443 | 157.40689754287945 |\n",
      "| E848 |        0.0         |        0.0         |        0.0         |        0.0         |        0.0         |        0.0         |        0.0         |        0.0         |        0.0         |        0.0         |        0.0         |        0.0         |        0.0         |        0.0         |        0.0         |        0.0         |        0.0         |        0.0         |        0.0         |\n",
      "+------+--------------------+--------------------+--------------------+--------------------+--------------------+--------------------+--------------------+--------------------+--------------------+--------------------+--------------------+--------------------+--------------------+--------------------+--------------------+--------------------+--------------------+--------------------+--------------------+\n",
      "\n",
      "Horas laborales por año calculadas:\n",
      "+---+-------+------+\n",
      "|   | fecha |  0   |\n",
      "+---+-------+------+\n",
      "| 0 | 2017  | 2976 |\n",
      "| 1 | 2018  | 2964 |\n",
      "| 2 | 2019  | 2988 |\n",
      "| 3 | 2020  | 3024 |\n",
      "| 4 | 2021  | 3012 |\n",
      "+---+-------+------+\n",
      "\n",
      "Cantidad de pabellones necesarios calculada:\n",
      "+------+----------------------+---------------------+----------------------+---------------------+---------------------+----------------------+---------------------+---------------------+---------------------+---------------------+----------------------+----------------------+---------------------+----------------------+----------------------+----------------------+---------------------+---------------------+---------------------+\n",
      "|      |         2017         |        2018         |         2019         |        2020         |        2021         |         2022         |        2023         |        2024         |        2025         |        2026         |         2027         |         2028         |        2029         |         2030         |         2031         |         2032         |        2033         |        2034         |        2035         |\n",
      "+------+----------------------+---------------------+----------------------+---------------------+---------------------+----------------------+---------------------+---------------------+---------------------+---------------------+----------------------+----------------------+---------------------+----------------------+----------------------+----------------------+---------------------+---------------------+---------------------+\n",
      "| A152 |         0.0          |         0.0         |         0.0          |         0.0         |         0.0         |         0.0          |         0.0         |         0.0         |         0.0         |         0.0         |         0.0          |         0.0          |         0.0         |         0.0          |         0.0          |         0.0          |         0.0         |         0.0         |         0.0         |\n",
      "| B441 |         0.0          |         0.0         |         0.0          |         0.0         |         0.0         |         0.0          |         0.0         |         0.0         |         0.0         |         0.0         |         0.0          |         0.0          |         0.0         |         0.0          |         0.0          |         0.0          |         0.0         |         0.0         |         0.0         |\n",
      "| C34N |  0.9532773849682055  | 0.9788455888820042  |  0.994370066064742   | 1.0053618286833228  | 1.0226812004174493  |  1.0350302323394218  | 1.0546936842105263  | 1.0528212691217882  | 1.0591330186553214  | 1.0566880907405534  |  1.0624051516968764  |  1.0807469142418489  | 1.0947522003509085  |   1.09077456386806   |  1.086602652327718   |  1.0779360909197295  | 1.0904717142872493  | 1.1118332629439498  |  1.119764515040809  |\n",
      "| C381 | 0.045394161188962154 | 0.04661169470866678 | 0.047350955526892474 | 0.04787437279444389 | 0.04869910478178324 | 0.049287153920924816 | 0.05022350877192982 | 0.05013434614865657 | 0.05043490565025332 | 0.05031848051145483 | 0.050590721509375006 | 0.051464138773421354 | 0.05213105715956705 | 0.051941645898479036 | 0.051742983444177035 | 0.051330290043796564 | 0.05192722448986895 | 0.05294444109256897 | 0.05332211976384805 |\n",
      "| E848 |         0.0          |         0.0         |         0.0          |         0.0         |         0.0         |         0.0          |         0.0         |         0.0         |         0.0         |         0.0         |         0.0          |         0.0          |         0.0         |         0.0          |         0.0          |         0.0          |         0.0         |         0.0         |         0.0         |\n",
      "+------+----------------------+---------------------+----------------------+---------------------+---------------------+----------------------+---------------------+---------------------+---------------------+---------------------+----------------------+----------------------+---------------------+----------------------+----------------------+----------------------+---------------------+---------------------+---------------------+\n",
      "\n"
     ]
    }
   ],
   "source": [
    "# Calcular tiempo utilizado en pabellón en horas\n",
    "tiempo_utilizado_pabellon_horas = pb.calcular_tiempo_utilizado_pabellon(\n",
    "    casos_quirurgicos, resumen_duraciones_diags_relevantes\n",
    ")\n",
    "\n",
    "# Calcular horas laborales\n",
    "horas_laborales = pb.calcular_horas_laborales(ANIO_INICIO, ANIO_TERMINO, 12)\n",
    "\n",
    "# Calcular cantidad de pabellones necesarios\n",
    "cantidad_de_pabellones_necesarios = pb.calcular_cantidad_de_pabellones_necesarios(\n",
    "    tiempo_utilizado_pabellon_horas, horas_laborales\n",
    ")\n",
    "\n",
    "# Obtiene la suma total de pabellones\n",
    "suma_total_pabellones = cantidad_de_pabellones_necesarios.sum()"
   ]
  },
  {
   "cell_type": "markdown",
   "metadata": {},
   "source": [
    "## Complicaciones"
   ]
  },
  {
   "cell_type": "code",
   "execution_count": null,
   "metadata": {},
   "outputs": [],
   "source": [
    "# Define las complicaciones a buscar\n",
    "a_buscar_operaciones = {\n",
    "    \"ecmo\": r\"ECMO\",\n",
    "    \"trasplantes\": r\"TRASPLANTE|TRANSPLANTE\",\n",
    "    \"aseos\": r\"ASEO\",\n",
    "    \"drenajes\": r\"DRENAJE\",\n",
    "    \"traqueostomias\": r\"TRAQUEOSTOMIA|TRAQUEOSTOMÍA\",\n",
    "    \"reintervenciones_reoperaciones\": r\"REINTERVENCION|REOPERACION|REINTERVENCIÓN|REOPERACIÓN\",\n",
    "}\n",
    "\n",
    "# Define los diagnosticos que son complicaciones\n",
    "a_buscar_diagnosticos = {\n",
    "    \"empiemas\": r\"EMPIEMA\",\n",
    "    \"rupturas\": r\"ANEURISMA\",\n",
    "}\n",
    "\n",
    "# Busca los nombres de las operaciones en la base de pabellon\n",
    "resultados_operaciones = pb.iterar_en_complicaciones_a_buscar(\n",
    "    grd_y_pabellon, a_buscar_operaciones, \"intervencion_quirurgica\"\n",
    ")\n",
    "\n",
    "# Busca los diagnosticos en el primer diagnostico y segundo\n",
    "resultados_diagnosticos = pb.iterar_en_complicaciones_a_buscar(\n",
    "    grd_y_pabellon, a_buscar_diagnosticos, \"diagnostico\"\n",
    ")\n",
    "\n",
    "# Obtiene resumen de complicaciones\n",
    "resumen_complicaciones = pd.concat([resultados_operaciones, resultados_diagnosticos])"
   ]
  },
  {
   "cell_type": "code",
   "execution_count": null,
   "metadata": {},
   "outputs": [
    {
     "name": "stdout",
     "output_type": "stream",
     "text": [
      "Cantidad de pabellones necesarios calculada:\n",
      "+--------------------+----------------------+----------------------+----------------------+---------------------+----------------------+---------------------+----------------------+----------------------+----------------------+----------------------+----------------------+----------------------+----------------------+----------------------+----------------------+----------------------+----------------------+----------------------+----------------------+\n",
      "|                    |         2017         |         2018         |         2019         |        2020         |         2021         |        2022         |         2023         |         2024         |         2025         |         2026         |         2027         |         2028         |         2029         |         2030         |         2031         |         2032         |         2033         |         2034         |         2035         |\n",
      "+--------------------+----------------------+----------------------+----------------------+---------------------+----------------------+---------------------+----------------------+----------------------+----------------------+----------------------+----------------------+----------------------+----------------------+----------------------+----------------------+----------------------+----------------------+----------------------+----------------------+\n",
      "|  ('aseos', 'CT')   | 0.08650388928469394  | 0.08882404196579576  | 0.09023279001394448  | 0.09123022290346286 | 0.09280184627205806  | 0.09392244276054722 | 0.09570677656562285  |  0.0955368667470483  | 0.09610961806943459  | 0.09588775633539676  | 0.09640654343325292  | 0.09807094229710443  | 0.09934183337045026  | 0.09898088803454617  | 0.09860231346676361  | 0.09781587787064311  |  0.0989534063518571  | 0.10089183169277768  | 0.10161154262276959  |\n",
      "|  ('aseos', 'CV')   | 0.09309435720814255  |  0.0949702001466395  | 0.09609498155819937  | 0.09690040305743708 | 0.09843584144679321  | 0.09952012612530056 | 0.10129205578928681  | 0.10098679148028886  | 0.10146194433827198  | 0.10109549280846769  | 0.10150933284981879  | 0.10312905299121893  | 0.10433548708820932  | 0.10383202980890822  | 0.10338254803207565  | 0.10247110438168021  |  0.103582229499617   | 0.10553909783628805  |  0.1062302392284631  |\n",
      "|  ('aseos', 'MCP')  |         0.0          |         0.0          |         0.0          |         0.0         |         0.0          |         0.0         |         0.0          |         0.0          |         0.0          |         0.0          |         0.0          |         0.0          |         0.0          |         0.0          |         0.0          |         0.0          |         0.0          |         0.0          |         0.0          |\n",
      "| ('drenajes', 'CT') | 0.009804276902362791 | 0.010067241024894006 | 0.010226907325032909 | 0.01033995551652144 | 0.010518081966318616 | 0.01064508941488324 | 0.010847324283810729 | 0.010828066850144933 | 0.010892981995663858 | 0.010867836376287257 | 0.010926635262705198 | 0.011115276807867103 | 0.011259318516267219 | 0.011218409280288512 | 0.011175501962231204 | 0.011086368023699677 | 0.011215294529852997 | 0.011434994001796935 | 0.011516565423679145 |\n",
      "| ('drenajes', 'CV') | 0.02768022963271552  | 0.02823798377431633  | 0.028572420884064868 | 0.02881190104933605 | 0.029268440935091396 | 0.02959083694048204 | 0.030117694007473758 | 0.030026928182077476 | 0.03016820785373578  | 0.030059248913597646 | 0.030182298126453816 | 0.030663897944093115 | 0.03102261327166949  | 0.030872917699142393 | 0.030739270943618523 | 0.030468266660471473 | 0.030798643273378338 | 0.03138048911822303  | 0.03158598978462013  |\n",
      "+--------------------+----------------------+----------------------+----------------------+---------------------+----------------------+---------------------+----------------------+----------------------+----------------------+----------------------+----------------------+----------------------+----------------------+----------------------+----------------------+----------------------+----------------------+----------------------+----------------------+\n",
      "\n"
     ]
    }
   ],
   "source": [
    "# Une los datos de complicaciones y los casos de especialidad\n",
    "casos_complicaciones = (\n",
    "    casos_especialidad.merge(\n",
    "        resumen_complicaciones[[\"fraccion\", \"tiempo_operacion_75%\", \"complicacion\"]],\n",
    "        how=\"left\",\n",
    "        left_index=True,\n",
    "        right_index=True,\n",
    "    )\n",
    "    .reset_index()\n",
    "    .sort_values([\"complicacion\", \"especialidades\"])\n",
    "    .set_index([\"complicacion\", \"especialidades\"])\n",
    ")\n",
    "\n",
    "# Obtiene los casos de complicaciones\n",
    "casos_complicaciones[COLUMNAS_POBLACION_INE] = casos_complicaciones[COLUMNAS_POBLACION_INE].mul(\n",
    "    casos_complicaciones[\"fraccion\"], axis=0\n",
    ")\n",
    "\n",
    "# Obtiene el tiempo de pabellon por las complicaciones\n",
    "tiempo_utilizado_pabellon_complicaciones_horas = (\n",
    "    casos_complicaciones[COLUMNAS_POBLACION_INE]\n",
    "    .mul(casos_complicaciones[\"tiempo_operacion_75%\"], axis=0)\n",
    "    .apply(lambda x: x.dt.total_seconds() / 3600)\n",
    ")\n",
    "\n",
    "# Divide por las horas laborales\n",
    "pabellones_por_complicaciones = pb.calcular_cantidad_de_pabellones_necesarios(\n",
    "    tiempo_utilizado_pabellon_complicaciones_horas, horas_laborales\n",
    ")\n",
    "\n",
    "# # Obtiene los pabellones de emergencia por anio\n",
    "suma_total_pabellones_complicaciones = pabellones_por_complicaciones.sum()"
   ]
  },
  {
   "cell_type": "code",
   "execution_count": null,
   "metadata": {},
   "outputs": [],
   "source": [
    "# Carga el resumen de area de estudio para MINSAL\n",
    "resumen_area_de_estudio_minsal = (\n",
    "    pd.read_excel(\n",
    "        \"../data/interim/casos_teoricos_diagnosticos.xlsx\", sheet_name=\"resumen_total_INT\"\n",
    "    )\n",
    "    .drop(columns=\"Porcentaje Hospitalizados de Ambulatorios\")\n",
    "    .sort_values(\"Diagnostico\")\n",
    ")\n",
    "resumen_area_de_estudio_minsal[\"diagnostico_separado\"] = (\n",
    "    resumen_area_de_estudio_minsal[\"Diagnostico\"].str.split(\" - \").str[0]\n",
    ")\n",
    "resumen_area_de_estudio_minsal = resumen_area_de_estudio_minsal.set_index(\"diagnostico_separado\")\n",
    "\n",
    "# Sintetiza informacion de pabellon para el 2035\n",
    "resumen_quirurgicos = pd.DataFrame(\n",
    "    {\n",
    "        \"porcentaje_quirurgico\": porcentajes_de_quirurgicos,\n",
    "        \"casos_quirurgicos_2035\": casos_quirurgicos[\"2035\"],\n",
    "        \"tiempo_quirurgico_75%_2019_a_2022\": resumen_duraciones_diags_relevantes,\n",
    "        \"horas_pabellon_2035\": tiempo_utilizado_pabellon_horas[\"2035\"],\n",
    "        \"horas_laborales_2035_pabellon_12_hrs\": horas_laborales[\"2035\"],\n",
    "        \"cantidad_de_pabellones\": cantidad_de_pabellones_necesarios[\"2035\"],\n",
    "    }\n",
    ")\n",
    "\n",
    "# Une ambos resumenes segun el diagnostico\n",
    "resumen_minsal = resumen_area_de_estudio_minsal.merge(\n",
    "    resumen_quirurgicos, how=\"left\", left_index=True, right_index=True\n",
    ")"
   ]
  },
  {
   "cell_type": "code",
   "execution_count": null,
   "metadata": {},
   "outputs": [
    {
     "name": "stdout",
     "output_type": "stream",
     "text": [
      "> Pabellones 2035: 5.44\n",
      "> Pabellones de Emergencia 2035: 0.97\n"
     ]
    }
   ],
   "source": [
    "print(f\"> Pabellones 2035: {resumen_minsal['cantidad_de_pabellones'].sum():.2f}\")\n",
    "print(f\"> Pabellones de Emergencia 2035: {suma_total_pabellones_complicaciones['2035']:.2f}\")"
   ]
  },
  {
   "cell_type": "code",
   "execution_count": null,
   "metadata": {},
   "outputs": [],
   "source": [
    "a_guardar = {\n",
    "    \"casos_area_de_influencia\": casos_area_de_influencia,\n",
    "    \"porcentajes_quirurgicos\": porcentajes_de_quirurgicos,\n",
    "    \"casos_quirurgicos\": casos_quirurgicos,\n",
    "    \"casos_por_especialidad\": casos_especialidad,\n",
    "    \"casos_complicaciones\": casos_complicaciones,\n",
    "    \"resumen_duraciones_int_q_rel\": resumen_duraciones_diags_relevantes,\n",
    "    \"tiempo_utilizado_pabellon\": tiempo_utilizado_pabellon_horas,\n",
    "    \"horas_laborales_por_anio\": horas_laborales,\n",
    "    \"pabellones_desg\": cantidad_de_pabellones_necesarios,\n",
    "    \"pabellones\": suma_total_pabellones,\n",
    "    \"pabellones_desg_emergencia\": pabellones_por_complicaciones,\n",
    "    \"pabellones_emergencia\": suma_total_pabellones_complicaciones,\n",
    "    \"resumen_MINSAL\": resumen_minsal,\n",
    "}"
   ]
  },
  {
   "cell_type": "code",
   "execution_count": null,
   "metadata": {},
   "outputs": [],
   "source": [
    "with pd.ExcelWriter(\"../data/interim/estimacion_pabellones_INT.xlsx\") as file:\n",
    "    for nombre_hoja, df_a_guardar in a_guardar.items():\n",
    "        df_a_guardar.to_excel(file, sheet_name=nombre_hoja)"
   ]
  }
 ],
 "metadata": {
  "kernelspec": {
   "display_name": "base",
   "language": "python",
   "name": "python3"
  },
  "language_info": {
   "codemirror_mode": {
    "name": "ipython",
    "version": 3
   },
   "file_extension": ".py",
   "mimetype": "text/x-python",
   "name": "python",
   "nbconvert_exporter": "python",
   "pygments_lexer": "ipython3",
   "version": "3.11.8"
  }
 },
 "nbformat": 4,
 "nbformat_minor": 2
}
