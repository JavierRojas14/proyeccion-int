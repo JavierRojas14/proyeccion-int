{
 "cells": [
  {
   "cell_type": "code",
   "execution_count": 1,
   "metadata": {},
   "outputs": [],
   "source": [
    "import sys\n",
    "import os\n",
    "\n",
    "project_root = os.path.abspath('..')\n",
    "if project_root not in sys.path:\n",
    "    sys.path.append(project_root)\n",
    "\n",
    "%load_ext autoreload\n",
    "%autoreload 2"
   ]
  },
  {
   "cell_type": "code",
   "execution_count": 2,
   "metadata": {},
   "outputs": [],
   "source": [
    "import pandas as pd\n",
    "import polars as pl\n",
    "import numpy as np\n",
    "\n",
    "import matplotlib.pyplot as plt\n",
    "import seaborn as sns\n",
    "\n",
    "from src.features import build_features\n",
    "from src.visualization import visualize\n",
    "\n",
    "sns.set_theme(palette=\"pastel\")\n",
    "plt.rcParams[\"figure.figsize\"] = (12, 6)\n",
    "pd.set_option(\"display.max_columns\", None)\n",
    "\n",
    "# Asumiendo que es una ocupacion del 80% de camas\n",
    "INDICE_OCUPACION_CAMAS = 1.25\n",
    "\n",
    "# Agrega las columnas de poblacion de interes\n",
    "COLUMNAS_POBLACION_INTERES = {str(i): i for i in range(2017, 2036)}"
   ]
  },
  {
   "cell_type": "markdown",
   "metadata": {},
   "source": [
    "# Proyección de casos INT al 2035\n",
    "\n",
    "En este cuadernillo se quiere estimar la deminada que atenderá el INT para el 2035. Con esta demanada se calcularán las cantidades de camas necesarias para suplir tal demanda. Para determinar la demanda se utilizarán:\n",
    "\n",
    "1. Cantidad de casos teóricos por problemas de salud relevantes seleccionados: Estos se calcularon según la incidencia de cada problema de salud y la proyección de la población al 2035.\n",
    "\n",
    "2. Cantidad de casos atendidos actualmente por cada problema de salud: Estos se obtuvieron al analizar la base de egresos hospitalarios DEIS.\n",
    "\n",
    "Con ambos datos, se obtendrá cuanto % de atención ha cubierto el INT de los casos teóricos."
   ]
  },
  {
   "cell_type": "code",
   "execution_count": 3,
   "metadata": {},
   "outputs": [],
   "source": [
    "# Obtiene los casos de area de influencia\n",
    "casos_area_de_influencia = pd.read_excel(\n",
    "    \"../data/interim/casos_teoricos_diagnosticos.xlsx\", sheet_name=\"casos_area_de_influencia_INT\"\n",
    ")\n",
    "\n",
    "# Preprocesa el diagnostico\n",
    "casos_area_de_influencia[\"Diagnostico\"] = (\n",
    "    casos_area_de_influencia[\"Diagnostico\"].str.split(\" - \").str[0]\n",
    ")\n",
    "\n",
    "# Preprocesa los diagnosticos agrupados\n",
    "casos_area_de_influencia[\"Diagnosticos Contenidos\"] = casos_area_de_influencia[\n",
    "    \"Diagnosticos Contenidos\"\n",
    "].str.split(\", \")\n",
    "\n",
    "# Renombra columnas de la poblacion\n",
    "casos_area_de_influencia = casos_area_de_influencia.rename(columns=COLUMNAS_POBLACION_INTERES)"
   ]
  },
  {
   "cell_type": "code",
   "execution_count": 4,
   "metadata": {},
   "outputs": [],
   "source": [
    "# Obtiene los diagnosticos relevantes a filtrar de los egresos hospitalarios\n",
    "DIAGNOSTICOS_RELEVANTES = list(\n",
    "    casos_area_de_influencia[\"Diagnostico\"].str.split(\" - \").str[0].unique()\n",
    ")\n",
    "\n",
    "# Obtiene los diagnosticos agrupados\n",
    "DIAGNOSTICOS_AGRUPADOS = list(\n",
    "    casos_area_de_influencia.explode(\"Diagnosticos Contenidos\")[\"Diagnosticos Contenidos\"]\n",
    "    .dropna()\n",
    "    .str.strip()\n",
    "    .unique()\n",
    ")\n",
    "\n",
    "# Suma los diagnosticos agrupados a los diagnosticos relevantes\n",
    "DIAGNOSTICOS_RELEVANTES += DIAGNOSTICOS_AGRUPADOS\n",
    "DIAGNOSTICOS_RELEVANTES = sorted(DIAGNOSTICOS_RELEVANTES)"
   ]
  },
  {
   "cell_type": "code",
   "execution_count": 5,
   "metadata": {},
   "outputs": [],
   "source": [
    "# Genera duplas de diagnosticos a reasignar\n",
    "DIAGNOSTICOS_A_REASIGNAR = casos_area_de_influencia.query(\"`Diagnosticos Contenidos`.notna()\")[\n",
    "    [\"Diagnostico\", \"Diagnosticos Contenidos\"]\n",
    "]"
   ]
  },
  {
   "cell_type": "code",
   "execution_count": 6,
   "metadata": {},
   "outputs": [],
   "source": [
    "casos_area_de_influencia = casos_area_de_influencia.set_index(\"Diagnostico\")"
   ]
  },
  {
   "cell_type": "markdown",
   "metadata": {},
   "source": [
    "## Obtención de casos atendidos entre 2017 y 2020 para diagnósticos relevantes.\n",
    "\n",
    "Estos se obtendrán del análisis de egresos hospitalarios a nivel país DEIS."
   ]
  },
  {
   "cell_type": "code",
   "execution_count": 7,
   "metadata": {},
   "outputs": [],
   "source": [
    "# Lee los egresos del Torax\n",
    "egresos_torax = pl.read_csv(\"../data/raw/6_egresos_deis/egresos_procesados_112103.csv\")"
   ]
  },
  {
   "cell_type": "markdown",
   "metadata": {},
   "source": [
    "En primer lugar, se filtrarán ambas bases de datos para solamente tener la información de los diagnósticos más relevantes para el INT. Luego de esto, se calculará la cantidad de egresos, dias de estada y pacientes para cada uno de los diagnósticos. Estos insumos serán utilizados para estimar la demanda.\n"
   ]
  },
  {
   "cell_type": "code",
   "execution_count": 8,
   "metadata": {},
   "outputs": [],
   "source": [
    "# Filtra solamente los diagnosticos mas relevantes del Torax\n",
    "egresos_mas_relevantes_torax = egresos_torax.filter(\n",
    "    (pl.col(\"DIAG1\").is_in(DIAGNOSTICOS_RELEVANTES))\n",
    ")"
   ]
  },
  {
   "cell_type": "markdown",
   "metadata": {},
   "source": [
    "## Reasginación de diagnósticos y agrupación\n",
    "\n",
    "En este apartado se reasignarán diagnósticos de la base de datos DEIS a un grupo mayor. Por ejemplo,\n",
    "los siguientes diagnósticos:\n",
    "\n",
    "- C341 - Tumor maligno del lóbulo superior, bronquio o pulmón\n",
    "- C342 - Tumor maligno del lóbulo medio, bronquio o pulmón\n",
    "- C343 - Tumor maligno del lóbulo inferior, bronquio o pulmón\n",
    "- C780 - Tumor maligno secundario del pulmón\n",
    "- C782 - Tumor maligno secundario de la pleura\n",
    "- D381 - Tumor de comportamiento incierto o desconocido de la tráquea, de los bronquios y del pulmón\n",
    "\n",
    "Todos estos se reasignarán al diagnóstico C34XN (N, para que no se mezclen con los C34X asignados realmente así). Esto, con el fin de poder calcular las estadísticas agrupadas para todos estos diagnósticos (egresos por persona, días de estada)."
   ]
  },
  {
   "cell_type": "code",
   "execution_count": 9,
   "metadata": {},
   "outputs": [
    {
     "name": "stdout",
     "output_type": "stream",
     "text": [
      "Cambiando ['C341', 'C342', 'C343', 'C780', 'C782', 'D381'] a C34N\n",
      "Cambiando ['I052', 'I080', 'I081'] a I051\n",
      "Cambiando ['I352'] a I350\n",
      "Cambiando ['Q201', 'Q202', 'Q203', 'Q204', 'Q205', 'Q206', 'Q208', 'Q209', 'Q210', 'Q211', 'Q212', 'Q213', 'Q214', 'Q218', 'Q220', 'Q221', 'Q222', 'Q223', 'Q224', 'Q225', 'Q228', 'Q230', 'Q231', 'Q233', 'Q240', 'Q241', 'Q244', 'Q245', 'Q246', 'Q248', 'Q249', 'Q250', 'Q251', 'Q253', 'Q254', 'Q255', 'Q256', 'Q257', 'Q258', 'Q259', 'Q264', 'Q268', 'Q272', 'Q273', 'Q288', 'Q289', 'Q311', 'Q320', 'Q321', 'Q330', 'Q331', 'Q332', 'Q334', 'Q338', 'Q341', 'Q348', 'Q676', 'Q677', 'Q678', 'Q765', 'Q766', 'Q767', 'Q768', 'Q769', 'Q780', 'Q790', 'Q798', 'Q839', 'Q850', 'Q858', 'Q859', 'Q874', 'Q893'] a QXXX\n"
     ]
    }
   ],
   "source": [
    "for row in DIAGNOSTICOS_A_REASIGNAR.itertuples():\n",
    "    diagnostico_nuevo = row[1]\n",
    "    diagnosticos_antiguos = row[2]\n",
    "\n",
    "    print(f\"Cambiando {diagnosticos_antiguos} a {diagnostico_nuevo}\")\n",
    "    egresos_mas_relevantes_torax = egresos_mas_relevantes_torax.with_columns(\n",
    "        pl.col(\"DIAG1\").replace(diagnosticos_antiguos, diagnostico_nuevo)\n",
    "    )"
   ]
  },
  {
   "cell_type": "code",
   "execution_count": 10,
   "metadata": {},
   "outputs": [],
   "source": [
    "# Obtiene resumen de metricas para el Torax\n",
    "metricas_diags_relevantes_torax = (\n",
    "    build_features.calcular_resumen_metricas_desagregadas_y_agrupadas_en_anios(\n",
    "        egresos_mas_relevantes_torax, 2017, 2019\n",
    "    )\n",
    ")"
   ]
  },
  {
   "cell_type": "markdown",
   "metadata": {},
   "source": [
    "## Estimación de casos Hospitalizados utilizando % de Hospitalización del INT\n",
    "\n",
    "En este caso, se utilizará el % de hospitalización del INT de los pacientes ambulatorios."
   ]
  },
  {
   "cell_type": "code",
   "execution_count": 11,
   "metadata": {},
   "outputs": [],
   "source": [
    "# Define la ruta donde estan los porcentajes de hospitalizados\n",
    "RUTA_PLANILLA_PORCENTAJES = (\n",
    "    \"../data/raw/3_incidencias_y_porcentajes_marcoprocesos/incidencias_y_prevalencias_INT.xlsx\"\n",
    ")\n",
    "\n",
    "# Solamente lee los diagnosticos y el porcentaje de hospitalizados\n",
    "PORCENTAJE_HOSPITALIZADOS = pd.read_excel(\n",
    "    RUTA_PLANILLA_PORCENTAJES,\n",
    "    sheet_name=\"porcentaje_trazadoras\",\n",
    "    usecols=[\"Diagnostico\", \"Porcentaje Pacientes Hospitalizados\"],\n",
    ")\n",
    "\n",
    "# Deja los diagnosticos que SI aportan a la cantidad de camas del hospital (porcentaje > 0)\n",
    "PORCENTAJE_HOSPITALIZADOS = PORCENTAJE_HOSPITALIZADOS.query(\n",
    "    \"`Porcentaje Pacientes Hospitalizados` > 0\"\n",
    ")\n",
    "\n",
    "# Formatea la columna de diagnosticos\n",
    "PORCENTAJE_HOSPITALIZADOS[\"Diagnostico\"] = (\n",
    "    PORCENTAJE_HOSPITALIZADOS[\"Diagnostico\"].str.split(\" - \").str[0]\n",
    ")\n",
    "\n",
    "# Deja los diagnosticos como el indice\n",
    "PORCENTAJE_HOSPITALIZADOS = PORCENTAJE_HOSPITALIZADOS.set_index(\"Diagnostico\")[\n",
    "    \"Porcentaje Pacientes Hospitalizados\"\n",
    "]"
   ]
  },
  {
   "cell_type": "code",
   "execution_count": 12,
   "metadata": {},
   "outputs": [],
   "source": [
    "casos_INT_hospitalizados_porcentaje_amb = casos_area_de_influencia[\n",
    "    COLUMNAS_POBLACION_INTERES.values()\n",
    "].mul(PORCENTAJE_HOSPITALIZADOS, axis=0)\n",
    "\n",
    "# Se obtiene la cantidad de egresos que debiese tener el INT, asumiendo que trabajara con la misma\n",
    "# eficiencia\n",
    "egresos_estimados_INT_porcentaje_amb = casos_INT_hospitalizados_porcentaje_amb.mul(\n",
    "    metricas_diags_relevantes_torax[(\"agrupado_entre_2017_2019\", \"egresos_por_paciente\")], axis=0\n",
    ")\n",
    "\n",
    "# Se obtiene la cantidad de dias de estada que debiese el INT, asumiendo que trabajara con la misma\n",
    "# eficiencia\n",
    "dias_estada_estimados_int_porcentaje_amb = egresos_estimados_INT_porcentaje_amb.mul(\n",
    "    metricas_diags_relevantes_torax[(\"agrupado_entre_2017_2019\", \"dias_estada_promedio\")], axis=0\n",
    ")\n",
    "\n",
    "# Estima la cantidad de camas necesaarias por diagnostico\n",
    "camas_estimadas_int_porcentaje_amb = (\n",
    "    dias_estada_estimados_int_porcentaje_amb / 365.25\n",
    ") * INDICE_OCUPACION_CAMAS\n",
    "\n",
    "# Calcula las camas totales necesarias\n",
    "camas_totales_int_porcentaje_amb = camas_estimadas_int_porcentaje_amb.sum()"
   ]
  },
  {
   "cell_type": "code",
   "execution_count": 13,
   "metadata": {},
   "outputs": [
    {
     "name": "stdout",
     "output_type": "stream",
     "text": [
      "2017    176.514513\n",
      "2018    179.747053\n",
      "2019    183.545237\n",
      "2020    187.417992\n",
      "2021    189.697631\n",
      "2022    191.104940\n",
      "2023    192.276903\n",
      "2024    193.364254\n",
      "2025    194.397338\n",
      "2026    195.382138\n",
      "2027    196.319293\n",
      "2028    197.209081\n",
      "2029    198.049754\n",
      "2030    198.839423\n",
      "2031    199.660693\n",
      "2032    200.395695\n",
      "2033    201.084783\n",
      "2034    201.731074\n",
      "2035    202.334939\n",
      "dtype: float64\n"
     ]
    }
   ],
   "source": [
    "print(camas_totales_int_porcentaje_amb)"
   ]
  },
  {
   "cell_type": "code",
   "execution_count": 14,
   "metadata": {},
   "outputs": [],
   "source": [
    "# Se quiere tener un 60% de UPC (1:2, UCI:UTI, y 40% de Medias)\n",
    "FRACCION_UCI = 0.2\n",
    "FRACCION_UTI = 0.4\n",
    "FRACCION_MEDIAS = 0.4\n",
    "\n",
    "# Agrega las camas necesarias para trasplantes a las del 2035\n",
    "camas_al_2035 = (camas_totales_int_porcentaje_amb[2035] + 7.91569255)\n",
    "# Obtiene la cantidad de camas UCI, UTI y Medias sin redondear\n",
    "camas_uci = (camas_al_2035 * FRACCION_UCI)\n",
    "camas_uti = (camas_al_2035 * FRACCION_UTI)\n",
    "camas_medias = (camas_al_2035 * FRACCION_MEDIAS)\n",
    "\n",
    "# Obtiene la cantidad de camas UCI, UTI y Medias redondeadas\n",
    "camas_uci_redondeadas = round(camas_al_2035 * FRACCION_UCI)\n",
    "camas_uti_redondeadas = round(camas_al_2035 * FRACCION_UTI)\n",
    "camas_medias_redondeadas = round(camas_al_2035 * FRACCION_MEDIAS)\n",
    "camas_al_2035_redondeadas = round(camas_al_2035)"
   ]
  },
  {
   "cell_type": "code",
   "execution_count": 15,
   "metadata": {},
   "outputs": [
    {
     "name": "stdout",
     "output_type": "stream",
     "text": [
      "> Camas + Trasplantes 2035: 210.25\n",
      "> UCI: 42.05 camas\n",
      "> UTI: 84.10 camas\n",
      "> Medias: 84.10 camas\n",
      "\n",
      "> UCI Redondeadas: 42 camas\n",
      "> UTI Redondeadas: 84 camas\n",
      "> Medias Redondeadas: 84 camas\n",
      "> Total Redondeadas: 210 camas\n"
     ]
    }
   ],
   "source": [
    "print(f\"> Camas + Trasplantes 2035: {camas_al_2035:.2f}\")\n",
    "print(f\"> UCI: {camas_uci:.2f} camas\")\n",
    "print(f\"> UTI: {camas_uti:.2f} camas\")\n",
    "print(f\"> Medias: {camas_medias:.2f} camas\")\n",
    "print()\n",
    "print(f\"> UCI Redondeadas: {camas_uci_redondeadas} camas\")\n",
    "print(f\"> UTI Redondeadas: {camas_uti_redondeadas} camas\")\n",
    "print(f\"> Medias Redondeadas: {camas_medias_redondeadas} camas\")\n",
    "print(f\"> Total Redondeadas: {camas_al_2035_redondeadas} camas\")"
   ]
  },
  {
   "cell_type": "code",
   "execution_count": 16,
   "metadata": {},
   "outputs": [],
   "source": [
    "resumen_final_camas = pd.DataFrame(\n",
    "    {\n",
    "        \"tipo_cama\": [\"UCI\", \"UTI\", \"Medias\", \"Total\"],\n",
    "        \"cantidad_camas_sin_redondear\": [camas_uci, camas_uti, camas_medias, camas_al_2035],\n",
    "        \"cantidad_camas_redondeadas\": [\n",
    "            camas_uci_redondeadas,\n",
    "            camas_uti_redondeadas,\n",
    "            camas_medias_redondeadas,\n",
    "            camas_al_2035_redondeadas,\n",
    "        ],\n",
    "        \"porcentaje_camas\": [FRACCION_UCI, FRACCION_UTI, FRACCION_MEDIAS, 1]\n",
    "    }\n",
    ").set_index(\"tipo_cama\")"
   ]
  },
  {
   "cell_type": "markdown",
   "metadata": {},
   "source": [
    "## Obtener resumen para MINSAL"
   ]
  },
  {
   "cell_type": "code",
   "execution_count": 17,
   "metadata": {},
   "outputs": [],
   "source": [
    "resumen_metricas_hosp = metricas_diags_relevantes_torax[\n",
    "    [\n",
    "        (\"agrupado_entre_2017_2019\", \"egresos_por_paciente\"),\n",
    "        (\"agrupado_entre_2017_2019\", \"dias_estada_promedio\"),\n",
    "    ]\n",
    "]\n",
    "\n",
    "resumen_metricas_hosp.columns = [\n",
    "    \"egresos_por_paciente_agrupado_2017_a_2019\",\n",
    "    \"dias_estada_promedio_agrupado_2017_a_2019\",\n",
    "]\n",
    "resumen_casos = casos_INT_hospitalizados_porcentaje_amb[2035]\n",
    "resumen_casos.name = \"casos_hospitalizados_2035\"\n",
    "\n",
    "resumen_egresos = egresos_estimados_INT_porcentaje_amb[2035]\n",
    "resumen_egresos.name = \"egresos_2035\"\n",
    "\n",
    "resumen_dias_estada = dias_estada_estimados_int_porcentaje_amb[2035]\n",
    "resumen_dias_estada.name = \"dias_estada_totales_2035\"\n",
    "\n",
    "resumen_camas = camas_estimadas_int_porcentaje_amb[2035]\n",
    "resumen_camas.name = \"camas_totales_2035\"\n",
    "\n",
    "resumen_total_hosp = (\n",
    "    resumen_metricas_hosp.merge(\n",
    "        resumen_casos,\n",
    "        how=\"left\",\n",
    "        left_index=True,\n",
    "        right_index=True,\n",
    "    )\n",
    "    .merge(\n",
    "        resumen_egresos,\n",
    "        how=\"left\",\n",
    "        left_index=True,\n",
    "        right_index=True,\n",
    "    )\n",
    "    .merge(\n",
    "        resumen_dias_estada,\n",
    "        how=\"left\",\n",
    "        left_index=True,\n",
    "        right_index=True,\n",
    "    )\n",
    "    .merge(\n",
    "        resumen_camas,\n",
    "        how=\"left\",\n",
    "        left_index=True,\n",
    "        right_index=True,\n",
    "    )\n",
    ")\n",
    "\n",
    "ORDEN_COLUMNAS_RESUMEN = [\n",
    "    \"casos_hospitalizados_2035\",\n",
    "    \"egresos_por_paciente_agrupado_2017_a_2019\",\n",
    "    \"egresos_2035\",\n",
    "    \"dias_estada_promedio_agrupado_2017_a_2019\",\n",
    "    \"dias_estada_totales_2035\",\n",
    "    \"camas_totales_2035\",\n",
    "]\n",
    "\n",
    "resumen_total_hosp = resumen_total_hosp[ORDEN_COLUMNAS_RESUMEN]"
   ]
  },
  {
   "cell_type": "markdown",
   "metadata": {},
   "source": [
    "Finalmente, une el resumen de casos teoricos desde el cuadernillo 1.0 con el resumen de este cuadernillo. Esto obtiene la tabla final para MINSAL."
   ]
  },
  {
   "cell_type": "code",
   "execution_count": 18,
   "metadata": {},
   "outputs": [],
   "source": [
    "resumen_casos_teoricos = pd.read_excel(\n",
    "    \"../data/interim/casos_teoricos_diagnosticos.xlsx\", sheet_name=\"resumen_total_INT\"\n",
    ")\n",
    "\n",
    "resumen_casos_teoricos[\"Diagnostico_codigo\"] = (\n",
    "    resumen_casos_teoricos[\"Diagnostico\"].str.split(\" - \").str[0]\n",
    ")\n",
    "resumen_casos_teoricos = resumen_casos_teoricos.set_index(\"Diagnostico_codigo\")\n",
    "\n",
    "resumen_minsal = resumen_casos_teoricos.merge(\n",
    "    resumen_total_hosp, how=\"right\", left_index=True, right_index=True\n",
    ")\n",
    "\n",
    "resumen_minsal = resumen_minsal.reset_index(drop=True).set_index(\"Diagnostico\")"
   ]
  },
  {
   "cell_type": "markdown",
   "metadata": {},
   "source": [
    "## Guardar archivos"
   ]
  },
  {
   "cell_type": "code",
   "execution_count": 19,
   "metadata": {},
   "outputs": [
    {
     "name": "stdout",
     "output_type": "stream",
     "text": [
      "Guardando metricas_relevantes_INT\n",
      "Guardando casos_hospitalizados_INT\n",
      "Guardando egresos_estimados_INT\n",
      "Guardando dias_estada_estimados_INT\n",
      "Guardando camas_estimadas_desglosadas_INT\n",
      "Guardando camas_totales_INT\n",
      "Guardando resumen_total_hosp_INT\n",
      "Guardando resumen_MINSAL\n",
      "Guardando cantidad_camas_final\n"
     ]
    }
   ],
   "source": [
    "archivos_a_guardar = {\n",
    "    \"metricas_relevantes_INT\": metricas_diags_relevantes_torax,\n",
    "    \"casos_hospitalizados_INT\": casos_INT_hospitalizados_porcentaje_amb,\n",
    "    \"egresos_estimados_INT\": egresos_estimados_INT_porcentaje_amb,\n",
    "    \"dias_estada_estimados_INT\": dias_estada_estimados_int_porcentaje_amb,\n",
    "    \"camas_estimadas_desglosadas_INT\": camas_estimadas_int_porcentaje_amb,\n",
    "    \"camas_totales_INT\": camas_totales_int_porcentaje_amb,\n",
    "    \"resumen_total_hosp_INT\": resumen_total_hosp,\n",
    "    \"resumen_MINSAL\": resumen_minsal,\n",
    "    \"cantidad_camas_final\": resumen_final_camas,\n",
    "}\n",
    "\n",
    "with pd.ExcelWriter(\"../data/interim/estimacion_atencion_cerrada_INT.xlsx\") as file:\n",
    "    for nombre_hoja, df_a_guardar in archivos_a_guardar.items():\n",
    "        print(f\"Guardando {nombre_hoja}\")\n",
    "        df_a_guardar.to_excel(file, sheet_name=nombre_hoja)"
   ]
  }
 ],
 "metadata": {
  "kernelspec": {
   "display_name": "int-proyeccion",
   "language": "python",
   "name": "python3"
  },
  "language_info": {
   "codemirror_mode": {
    "name": "ipython",
    "version": 3
   },
   "file_extension": ".py",
   "mimetype": "text/x-python",
   "name": "python",
   "nbconvert_exporter": "python",
   "pygments_lexer": "ipython3",
   "version": "3.11.8"
  }
 },
 "nbformat": 4,
 "nbformat_minor": 2
}
