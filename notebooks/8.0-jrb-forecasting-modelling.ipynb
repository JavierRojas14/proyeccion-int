{
 "cells": [
  {
   "cell_type": "code",
   "execution_count": 1,
   "metadata": {},
   "outputs": [],
   "source": [
    "import sys\n",
    "import os\n",
    "\n",
    "project_root = os.path.abspath('..')\n",
    "if project_root not in sys.path:\n",
    "    sys.path.append(project_root)\n",
    "\n",
    "%load_ext autoreload\n",
    "%autoreload 2"
   ]
  },
  {
   "cell_type": "code",
   "execution_count": 2,
   "metadata": {},
   "outputs": [],
   "source": [
    "import warnings\n",
    "\n",
    "import pandas as pd\n",
    "import numpy as np\n",
    "\n",
    "import matplotlib.pyplot as plt\n",
    "import seaborn as sns\n",
    "\n",
    "from src.features import build_features\n",
    "\n",
    "warnings.filterwarnings(\"ignore\")\n",
    "\n",
    "sns.set_style()\n",
    "plt.rcParams[\"figure.figsize\"] = (12, 6)"
   ]
  },
  {
   "cell_type": "markdown",
   "metadata": {},
   "source": [
    "# Objetivo del cuadernillo\n",
    "\n",
    "En este cuadernillo se quiere realizar el preprocesamiento de los datos de egresos hospitalarios para confeccionar un modelo de previsión de esta métrica hasta el 2035. De forma general, se utilizarán los datos desde 2001 hasta 2018 para entrenar modelos, y 2019 para evaluar los modelos. Se obviará 2020 del análisis debido a la naturaleza del año (pandemia).\n",
    "\n",
    "- Se entrenarán 6 modelos distintos, y se seleccionará el que tenga el mejor desempeño en el conjunto de evaluación (año 2019). Los modelos a entrenar serán:\n",
    "\n",
    "    - Prophet\n",
    "    - Auto ARIMA\n",
    "    - XGB\n",
    "    - Hibrido\n",
    "    - Feed Forward Neural Network\n",
    "    - Long-Short Term Memory (LSTM)\n",
    "\n",
    "Para simplificar el modelamiento de los datos, se harán las predicciones con una agregación de egresos mensuales."
   ]
  },
  {
   "cell_type": "code",
   "execution_count": 3,
   "metadata": {},
   "outputs": [],
   "source": [
    "# Lee la base de datos\n",
    "egresos_torax = pd.read_csv(\"../data/processed/egresos_torax_mes_y_dia.csv\")\n",
    "\n",
    "# Crea columna de fecha en datetime\n",
    "egresos_torax[\"FECHA_EGRESO\"] = pd.to_datetime(\n",
    "    egresos_torax[\"ANO_EGRESO\"].astype(str)\n",
    "    + \"-\"\n",
    "    + egresos_torax[\"MES_EGRESO\"].astype(str)\n",
    "    + \"-\"\n",
    "    + egresos_torax[\"DIA_EGRESO\"].astype(str),\n",
    "    format=\"%Y-%m-%d\",\n",
    ")\n",
    "\n",
    "# Elimina columnas redundantes\n",
    "egresos_torax = egresos_torax.drop(\n",
    "    columns=[\n",
    "        \"ANO_EGRESO\",\n",
    "        \"MES_EGRESO\",\n",
    "        \"DIA_EGRESO\",\n",
    "        \"ESTABLECIMIENTO_SALUD\",\n",
    "        \"GLOSA_ESTABLECIMIENTO_SALUD\",\n",
    "    ]\n",
    ").sort_values(\"FECHA_EGRESO\")\n",
    "\n",
    "# Elimina el anio 2020, debido a que es anomalo (Pandemia COVID)\n",
    "egresos_torax = egresos_torax.query(\"FECHA_EGRESO < '2020-01-01'\")\n",
    "\n",
    "# Elige la fecha como indice de los datos\n",
    "egresos_torax = egresos_torax.set_index(\"FECHA_EGRESO\")"
   ]
  },
  {
   "cell_type": "code",
   "execution_count": 5,
   "metadata": {},
   "outputs": [],
   "source": [
    "DIAGS_MAS_RELEVANTES = [\n",
    "    \"C33X\",\n",
    "    \"C340\",\n",
    "    \"C341\",\n",
    "    \"C342\",\n",
    "    \"C343\",\n",
    "    \"C381\",\n",
    "    \"C384\",\n",
    "    \"C450\",\n",
    "    \"C780\",\n",
    "    \"C782\",\n",
    "    \"D143\",\n",
    "    \"D381\",\n",
    "    \"E848\",\n",
    "    \"I080\",\n",
    "    \"I081\",\n",
    "    \"I340\",\n",
    "    \"I350\",\n",
    "    \"I351\",\n",
    "    \"I352\",\n",
    "    \"I420\",\n",
    "    \"I456\",\n",
    "    \"I472\",\n",
    "    \"I495\",\n",
    "    \"I710\",\n",
    "    \"I712\",\n",
    "    \"J398\",\n",
    "    \"J47X\",\n",
    "    \"J679\",\n",
    "    \"J841\",\n",
    "    \"J848\",\n",
    "    \"J849\",\n",
    "    \"J860\",\n",
    "    \"J869\",\n",
    "    \"J90X\",\n",
    "    \"J91X\",\n",
    "    \"J931\",\n",
    "    \"J955\",\n",
    "    \"J980\",\n",
    "    \"M348\",\n",
    "    \"Q211\",\n",
    "    \"Q231\",\n",
    "    \"Q676\",\n",
    "    \"T820\",\n",
    "    \"T821\",\n",
    "    \"Z450\",\n",
    "]"
   ]
  },
  {
   "cell_type": "code",
   "execution_count": 8,
   "metadata": {},
   "outputs": [],
   "source": [
    "# Obtiene metricas agregadas por mes (suma los egresos de todos los diags por dia)\n",
    "df = egresos_torax.resample(\"M\").sum()[[\"n_egresos\"]]\n",
    "df_relevantes = (\n",
    "    egresos_torax[egresos_torax[\"DIAG1\"].isin(DIAGS_MAS_RELEVANTES)]\n",
    "    .resample(\"M\")\n",
    "    .sum()[[\"n_egresos\"]]\n",
    ")"
   ]
  },
  {
   "cell_type": "markdown",
   "metadata": {},
   "source": [
    "# 1. Preprocesamiento de los datos\n",
    "\n",
    "Cada uno de los modelos requiere un preprocesamiento distinto de los datos. Por lo tanto, se creará un apartado para cada uno."
   ]
  },
  {
   "cell_type": "code",
   "execution_count": 35,
   "metadata": {},
   "outputs": [],
   "source": [
    "# Previo a cualquier preprocesamiento, se separa en train y test\n",
    "CORTE_TEST = \"2019-01-01\"\n",
    "\n",
    "train = df[df.index < CORTE_TEST]\n",
    "test = df[df.index >= CORTE_TEST]"
   ]
  },
  {
   "cell_type": "markdown",
   "metadata": {},
   "source": [
    "## Prophet"
   ]
  },
  {
   "cell_type": "code",
   "execution_count": 36,
   "metadata": {},
   "outputs": [],
   "source": [
    "train_prophet = train.reset_index().rename(columns={\"FECHA_EGRESO\": \"ds\", \"n_egresos\": \"y\"})\n",
    "test_prophet = test.reset_index().rename(columns={\"FECHA_EGRESO\": \"ds\", \"n_egresos\": \"y\"})"
   ]
  },
  {
   "cell_type": "markdown",
   "metadata": {},
   "source": [
    "## Auto ARIMA"
   ]
  },
  {
   "cell_type": "code",
   "execution_count": 37,
   "metadata": {},
   "outputs": [],
   "source": [
    "train_auto_arima = train[\"n_egresos\"]\n",
    "test_auto_arima = test[\"n_egresos\"]"
   ]
  },
  {
   "cell_type": "markdown",
   "metadata": {},
   "source": [
    "## XGB"
   ]
  },
  {
   "cell_type": "code",
   "execution_count": 114,
   "metadata": {},
   "outputs": [],
   "source": [
    "train_xgb = build_features.add_time_series_columns(train)\n",
    "test_xgb = build_features.add_time_series_columns(test)"
   ]
  },
  {
   "cell_type": "code",
   "execution_count": null,
   "metadata": {},
   "outputs": [],
   "source": []
  }
 ],
 "metadata": {
  "kernelspec": {
   "display_name": "int-proyeccion",
   "language": "python",
   "name": "python3"
  },
  "language_info": {
   "codemirror_mode": {
    "name": "ipython",
    "version": 3
   },
   "file_extension": ".py",
   "mimetype": "text/x-python",
   "name": "python",
   "nbconvert_exporter": "python",
   "pygments_lexer": "ipython3",
   "version": "3.11.5"
  }
 },
 "nbformat": 4,
 "nbformat_minor": 2
}
