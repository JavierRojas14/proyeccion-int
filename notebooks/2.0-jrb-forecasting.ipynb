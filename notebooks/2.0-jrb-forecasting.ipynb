{
 "cells": [
  {
   "cell_type": "code",
   "execution_count": 3,
   "metadata": {},
   "outputs": [],
   "source": [
    "import pandas as pd\n",
    "import numpy as np\n",
    "\n",
    "import matplotlib.pyplot as plt\n",
    "import seaborn as sns\n",
    "\n",
    "import warnings\n",
    "\n",
    "warnings.filterwarnings(\"ignore\")\n",
    "sns.set_style()\n",
    "plt.rcParams[\"figure.figsize\"] = (12, 6)"
   ]
  },
  {
   "cell_type": "code",
   "execution_count": 17,
   "metadata": {},
   "outputs": [],
   "source": [
    "egresos_torax = pd.read_csv(\"../data/processed/egresos_torax.csv\", sep=\";\", encoding=\"latin-1\")\n",
    "egresos_torax[\"ANO_EGRESO\"] = pd.to_datetime(egresos_torax[\"ANO_EGRESO\"], format=\"%Y\")\n",
    "# dias_estada_grd = pd.read_excel(\"../data/processed/dias_estada_hospitalizados.xlsx\")\n",
    "canasta_hospitalizados_grd = pd.read_excel(\n",
    "    \"../data/processed/canasta_procedimientos_hospitalizados.xlsx\"\n",
    ")"
   ]
  },
  {
   "cell_type": "markdown",
   "metadata": {},
   "source": [
    "Primero se quiere hacer un forecasting total de los egresos (sin desglose por diagnostico),\n",
    "y tambien de los procedimientos necesarios totales\n"
   ]
  },
  {
   "cell_type": "code",
   "execution_count": 18,
   "metadata": {},
   "outputs": [],
   "source": [
    "DIAGNOSTICO = \"C341\""
   ]
  },
  {
   "cell_type": "code",
   "execution_count": 19,
   "metadata": {},
   "outputs": [],
   "source": [
    "resumen_egresos_totales = (\n",
    "    egresos_torax.query(\"DIAG1 == @DIAGNOSTICO and ANO_EGRESO == 2019\")\n",
    "    .groupby([\"ANO_EGRESO\"])[\"n_egresos\"]\n",
    "    .sum()\n",
    "    .reset_index()\n",
    ")\n",
    "resumen_procedimientos_totales = canasta_hospitalizados_grd.query(\n",
    "    \"DIAGNOSTICO1 == 'C34.1' and ANIO_EGRESO == 2019\"\n",
    ")"
   ]
  },
  {
   "cell_type": "code",
   "execution_count": 21,
   "metadata": {},
   "outputs": [],
   "source": [
    "EGRESOS_AUMENTADOS = 300\n",
    "EGRESOS_2019 = resumen_egresos_totales.n_egresos.iloc[0]\n",
    "AUMENTO_PROPORCIONAL = EGRESOS_AUMENTADOS / EGRESOS_2019"
   ]
  },
  {
   "cell_type": "code",
   "execution_count": 22,
   "metadata": {},
   "outputs": [],
   "source": [
    "procedimientos_aumentados = resumen_procedimientos_totales.copy()\n",
    "COLS_A_AUMENTAR = [\"cantidad_procedimientos\", \"cantidad_pacientes_distintos\"]\n",
    "\n",
    "procedimientos_aumentados[COLS_A_AUMENTAR] = (\n",
    "    procedimientos_aumentados[COLS_A_AUMENTAR] * AUMENTO_PROPORCIONAL\n",
    ")"
   ]
  },
  {
   "cell_type": "markdown",
   "metadata": {},
   "source": [
    "# 1. Forecasting\n",
    "\n",
    "En este cuadernilllo se quiere predecir la cantidad de egresos hospitalarios que tendra\n",
    "el Hospital del Torax a lo largo del tiempo. Ademas, se quire saber cuantos insumos se necesitaran\n",
    "para atender tales casos."
   ]
  },
  {
   "cell_type": "code",
   "execution_count": 11,
   "metadata": {},
   "outputs": [],
   "source": [
    "resumen_egresos = egresos_torax.groupby([\"ANO_EGRESO\"])[\"n_egresos\"].sum()"
   ]
  },
  {
   "cell_type": "code",
   "execution_count": 16,
   "metadata": {},
   "outputs": [
    {
     "data": {
      "text/plain": [
       "0      2020-01-01\n",
       "1      2020-01-01\n",
       "2      2020-01-01\n",
       "3      2020-01-01\n",
       "4      2020-01-01\n",
       "          ...    \n",
       "5917   2001-01-01\n",
       "5918   2001-01-01\n",
       "5919   2001-01-01\n",
       "5920   2001-01-01\n",
       "5921   2001-01-01\n",
       "Name: ANO_EGRESO, Length: 5922, dtype: datetime64[ns]"
      ]
     },
     "execution_count": 16,
     "metadata": {},
     "output_type": "execute_result"
    }
   ],
   "source": []
  },
  {
   "cell_type": "code",
   "execution_count": null,
   "metadata": {},
   "outputs": [],
   "source": []
  }
 ],
 "metadata": {
  "kernelspec": {
   "display_name": "int-proyeccion",
   "language": "python",
   "name": "python3"
  },
  "language_info": {
   "codemirror_mode": {
    "name": "ipython",
    "version": 3
   },
   "file_extension": ".py",
   "mimetype": "text/x-python",
   "name": "python",
   "nbconvert_exporter": "python",
   "pygments_lexer": "ipython3",
   "version": "3.11.5"
  }
 },
 "nbformat": 4,
 "nbformat_minor": 2
}
