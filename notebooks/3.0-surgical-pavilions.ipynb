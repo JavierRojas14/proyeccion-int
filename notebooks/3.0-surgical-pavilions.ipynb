{
 "cells": [
  {
   "cell_type": "code",
   "execution_count": 1,
   "metadata": {},
   "outputs": [],
   "source": [
    "import sys\n",
    "import os\n",
    "\n",
    "project_root = os.path.abspath('..')\n",
    "if project_root not in sys.path:\n",
    "    sys.path.append(project_root)\n",
    " \n",
    "%load_ext autoreload\n",
    "%autoreload 2"
   ]
  },
  {
   "cell_type": "code",
   "execution_count": 2,
   "metadata": {},
   "outputs": [],
   "source": [
    "import pandas as pd\n",
    "import numpy as np\n",
    "\n",
    "import matplotlib.pyplot as plt\n",
    "import seaborn as sns\n",
    "\n",
    "sns.set_theme(palette=\"pastel\")\n",
    "plt.rcParams[\"figure.figsize\"] = (12, 6)\n",
    "pd.set_option(\"display.max_columns\", None)\n",
    "\n",
    "ANIO_INICIO = 2017\n",
    "ANIO_TERMINO = 2035\n",
    "\n",
    "COLUMNAS_POBLACION_INE = [f\"{i}\" for i in range(ANIO_INICIO, ANIO_TERMINO + 1)]"
   ]
  },
  {
   "cell_type": "code",
   "execution_count": 3,
   "metadata": {},
   "outputs": [],
   "source": [
    "# Lee los casos de area de influencia y deja los diagnosticos en formato codigo\n",
    "casos_area_de_influencia = pd.read_excel(\n",
    "    \"../data/interim/casos_teoricos_diagnosticos.xlsx\", sheet_name=\"casos_area_de_influencia_INT\"\n",
    ")\n",
    "casos_area_de_influencia[\"Diagnostico\"] = (\n",
    "    casos_area_de_influencia[\"Diagnostico\"].str.split(\" - \").str[0]\n",
    ")\n",
    "casos_area_de_influencia = casos_area_de_influencia.set_index(\"Diagnostico\")\n",
    "\n",
    "# Lee los porcentajes de quirurgicos y deja los diagnosticos en formato codigo\n",
    "porcentajes_de_quirurgicos = pd.read_excel(\n",
    "    \"../data/external/incidencias_y_prevalencias_INT.xlsx\", sheet_name=\"porcentajes_trazadoras\"\n",
    ")\n",
    "porcentajes_de_quirurgicos[\"Diagnostico\"] = (\n",
    "    porcentajes_de_quirurgicos[\"Diagnostico\"].str.split(\" - \").str[0]\n",
    ")\n",
    "porcentajes_de_quirurgicos = porcentajes_de_quirurgicos.set_index(\"Diagnostico\")\n",
    "porcentajes_de_quirurgicos = porcentajes_de_quirurgicos[\"Porcentaje Quirúrgico\"]\n",
    "porcentajes_de_quirurgicos = porcentajes_de_quirurgicos.dropna()"
   ]
  },
  {
   "cell_type": "markdown",
   "metadata": {},
   "source": [
    "En este caso, se multiplicaran los casos del area de influencia por el porcentaje de intervenciones quirúrgicas."
   ]
  },
  {
   "cell_type": "code",
   "execution_count": 4,
   "metadata": {},
   "outputs": [],
   "source": [
    "casos_quirurgicos = casos_area_de_influencia[COLUMNAS_POBLACION_INE].mul(\n",
    "    porcentajes_de_quirurgicos, axis=0\n",
    ")"
   ]
  },
  {
   "cell_type": "code",
   "execution_count": 42,
   "metadata": {},
   "outputs": [],
   "source": [
    "duraciones_int_q = pd.read_excel(\n",
    "    \"../data/raw/5_duracion_int_q/duraciones_de_int_q_por_diagnostico.xlsx\"\n",
    ")\n",
    "\n",
    "duraciones_int_q[\"diag_01_principal_(cod)\"] = (\n",
    "    duraciones_int_q[\"diag_01_principal_(cod)\"].str.replace(\".\", \"\", regex=False).str.ljust(4, \"X\")\n",
    ")\n",
    "\n",
    "duraciones_int_q[\"diag_01_principal_(cod)\"] = duraciones_int_q[\n",
    "    \"diag_01_principal_(cod)\"\n",
    "].str.replace(\"C341\", \"C34N\")\n",
    "\n",
    "duraciones_int_q = duraciones_int_q.set_index(\"diag_01_principal_(cod)\")\n",
    "\n",
    "# Convierte las duraciones a tiempo\n",
    "COLUMNAS_DURACION = [\"mean\", \"std\", \"min\", \"25%\", \"50%\", \"75%\", \"max\"]\n",
    "duraciones_int_q[COLUMNAS_DURACION] = duraciones_int_q[COLUMNAS_DURACION].apply(\n",
    "    lambda x: pd.to_timedelta(x, unit=\"D\")\n",
    ")\n",
    "\n",
    "duraciones_int_q = duraciones_int_q.query(\"ano_de_egreso == 2019\")[\"mean\"]"
   ]
  },
  {
   "cell_type": "code",
   "execution_count": 45,
   "metadata": {},
   "outputs": [],
   "source": [
    "tiempo_utilizado_pabellon = casos_quirurgicos.mul(duraciones_int_q, axis=0)"
   ]
  }
 ],
 "metadata": {
  "kernelspec": {
   "display_name": "base",
   "language": "python",
   "name": "python3"
  },
  "language_info": {
   "codemirror_mode": {
    "name": "ipython",
    "version": 3
   },
   "file_extension": ".py",
   "mimetype": "text/x-python",
   "name": "python",
   "nbconvert_exporter": "python",
   "pygments_lexer": "ipython3",
   "version": "3.11.8"
  }
 },
 "nbformat": 4,
 "nbformat_minor": 2
}
