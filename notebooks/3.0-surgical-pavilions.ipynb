{
 "cells": [
  {
   "cell_type": "code",
   "execution_count": 59,
   "metadata": {},
   "outputs": [
    {
     "name": "stdout",
     "output_type": "stream",
     "text": [
      "The autoreload extension is already loaded. To reload it, use:\n",
      "  %reload_ext autoreload\n"
     ]
    }
   ],
   "source": [
    "import sys\n",
    "import os\n",
    "\n",
    "project_root = os.path.abspath('..')\n",
    "if project_root not in sys.path:\n",
    "    sys.path.append(project_root)\n",
    " \n",
    "%load_ext autoreload\n",
    "%autoreload 2"
   ]
  },
  {
   "cell_type": "code",
   "execution_count": 60,
   "metadata": {},
   "outputs": [],
   "source": [
    "#!/usr/bin/env python\n",
    "# coding: utf\n",
    "import pandas as pd\n",
    "import numpy as np\n",
    "import matplotlib.pyplot as plt\n",
    "import seaborn as sns\n",
    "from tabulate import tabulate\n",
    "\n",
    "import src.features.pabellon as pb\n",
    "\n",
    "# Configuración de gráficos\n",
    "sns.set_theme(palette=\"pastel\")\n",
    "plt.rcParams[\"figure.figsize\"] = (12, 6)\n",
    "pd.set_option(\"display.max_columns\", None)\n",
    "\n",
    "ANIO_INICIO = 2017\n",
    "ANIO_TERMINO = 2035\n",
    "COLUMNAS_POBLACION_INE = [f\"{i}\" for i in range(ANIO_INICIO, ANIO_TERMINO + 1)]"
   ]
  },
  {
   "cell_type": "code",
   "execution_count": 73,
   "metadata": {},
   "outputs": [
    {
     "name": "stdout",
     "output_type": "stream",
     "text": [
      "Casos del área de influencia cargados y formateados:\n",
      "+---+-------------+------------------------------------+-------------+----------------------+----------------------+----------------------------------------------------------------------------------------------------------------------------------------------+-------------------------------------------------------------------------------------------------------------------------------------------------------------+-------------------------------------------+-------------------+-------------------+-------------------+-------------------+-------------------+-------------------+-------------------+-------------------+-------------------+-------------------+-------------------+-------------------+-------------------+-------------------+-------------------+-------------------+-------------------+-------------------+-------------------+\n",
      "|   | Diagnostico |      Diagnosticos Contenidos       | Estadística | Casos (Cada 100.000) |   Edad Incidencia    |                                                          Área de Influencia Formal                                                           |                                                                Área de Influencia Propuesta                                                                 | Porcentaje Hospitalizados de Ambulatorios |       2017        |       2018        |       2019        |       2020        |       2021        |       2022        |       2023        |       2024        |       2025        |       2026        |       2027        |       2028        |       2029        |       2030        |       2031        |       2032        |       2033        |       2034        |       2035        |\n",
      "+---+-------------+------------------------------------+-------------+----------------------+----------------------+----------------------------------------------------------------------------------------------------------------------------------------------+-------------------------------------------------------------------------------------------------------------------------------------------------------------+-------------------------------------------+-------------------+-------------------+-------------------+-------------------+-------------------+-------------------+-------------------+-------------------+-------------------+-------------------+-------------------+-------------------+-------------------+-------------------+-------------------+-------------------+-------------------+-------------------+-------------------+\n",
      "| 0 |    A152     |                nan                 | Incidencia  |         13.3         |        todos         |                                                                     SSMO                                                                     |                                                                            SSMO                                                                             |                 0.107856                  | 87.36012795946408 | 89.62417026305242 | 92.12470051439074 | 94.56377607454506 | 95.89190525920128 | 96.68200023130308 | 97.33232600000001 | 97.94185357580619 | 98.52943764407965 | 99.1011914987078  | 99.65550637814134 | 100.1925109833042 | 100.7078294827822 | 101.2019766802712 | 101.679907561343  | 102.1416864764597 | 102.5816505849676 | 103.0020521530358 | 103.401089367729  |\n",
      "| 1 |    C34N     | C341, C342, C343, C780, C782, D381 | Incidencia  |         40.0         |        todos         | SSMO, SSMC, Libertador General Bernardo O'Higgins, Los Ríos, Aysén del General Carlos Ibáñez del Campo, Magallanes y de la Antártica Chilena | Metropolitana de Santiago, Libertador General Bernardo O'Higgins, Los Ríos, Aysén del General Carlos Ibáñez del Campo, Magallanes y de la Antártica Chilena |                 0.353535                  | 2701.860473967028 | 2763.141262329772 | 2829.693102287095 | 2895.44206660797  | 2933.634072054626 | 2957.229235255491 |     2977.2496     | 2996.028525843717 | 3013.989961659144 | 3031.185266010045 | 3047.585063724754 | 3063.14553979404  | 3077.81761470084  | 3091.566763877473 | 3104.579006650622 | 3116.775211459332 | 3128.09600326971  | 3138.546467967493 | 3148.137950857589 |\n",
      "| 2 |    C381     |                nan                 | Incidencia  |         1.2          |        todos         | SSMO, SSMC, Libertador General Bernardo O'Higgins, Los Ríos, Aysén del General Carlos Ibáñez del Campo, Magallanes y de la Antártica Chilena | Metropolitana de Santiago, Libertador General Bernardo O'Higgins, Los Ríos, Aysén del General Carlos Ibáñez del Campo, Magallanes y de la Antártica Chilena |                 0.353535                  | 81.05581421901084 | 82.89423786989316 | 84.89079306861285 | 86.8632619982391  | 88.0090221616388  | 88.71687705766472 |     89.317488     | 89.8808557753115  | 90.4196988497743  | 90.93555798030133 | 91.42755191174261 | 91.89436619382118 | 92.3345284410252  | 92.74700291632419 | 93.13737019951867 | 93.50325634377998 | 93.8428800980913  | 94.15639403902479 | 94.44413852572767 |\n",
      "| 3 |    E848     |                nan                 | Incidencia  |         11.1         | recien_nacidos_vivos |                                                                     Pais                                                                     |                                                                            Pais                                                                             |                 0.326246                  | 20.7550728397142  | 20.32956817334338 | 20.53200659488853 | 20.96072598696541 | 21.20692039728742 | 21.2367459080047  | 21.16495036723615 | 21.04886305007307 | 20.90107496553084 | 20.72658679804111 | 20.52995274235411 | 20.31599488702893 | 20.08917812887953 | 19.85298508742081 | 19.76574100367594 | 19.57223237575872 | 19.3773842787973  | 19.18575090754194 | 19.00251154229684 |\n",
      "| 4 |    I051     |          I052, I080, I081          | Incidencia  |         7.63         |        todos         |                                                                     SSMO                                                                     |                                                                            SSMO                                                                             |                 0.403037                  | 50.11712603990308 | 51.41597136143534 | 52.85048608457153 | 54.24974522171269 | 55.01167196448915 | 55.46493697480018 |    55.8380186     | 56.18769494612039 | 56.52478264844569 | 56.85278880715342 | 57.17079050114424 | 57.47886156410608 | 57.77449165064875 |  58.057976095524  | 58.33215749571785 | 58.59707276807426 | 58.84947323032353 | 59.09065097200475 | 59.31957232148665 |\n",
      "+---+-------------+------------------------------------+-------------+----------------------+----------------------+----------------------------------------------------------------------------------------------------------------------------------------------+-------------------------------------------------------------------------------------------------------------------------------------------------------------+-------------------------------------------+-------------------+-------------------+-------------------+-------------------+-------------------+-------------------+-------------------+-------------------+-------------------+-------------------+-------------------+-------------------+-------------------+-------------------+-------------------+-------------------+-------------------+-------------------+-------------------+\n",
      "\n",
      "Porcentajes quirúrgicos cargados y formateados:\n",
      "+---+-------------+-----------------------+\n",
      "|   | Diagnostico | Porcentaje Quirúrgico |\n",
      "+---+-------------+-----------------------+\n",
      "| 0 |    A152     |          0.0          |\n",
      "| 1 |    B441     |          0.0          |\n",
      "| 2 |    C34N     |          0.3          |\n",
      "| 3 |    C381     |          0.5          |\n",
      "| 4 |    E848     |          0.0          |\n",
      "+---+-------------+-----------------------+\n",
      "\n",
      "Casos quirúrgicos calculados:\n",
      "+-------------+-------------------+-------------------+--------------------+-------------------+-------------------+-------------------+-----------+-------------------+-------------------+-------------------+--------------------+-------------------+-------------------+--------------------+--------------------+-------------------+-------------------+--------------------+-------------------+\n",
      "| Diagnostico |       2017        |       2018        |        2019        |       2020        |       2021        |       2022        |   2023    |       2024        |       2025        |       2026        |        2027        |       2028        |       2029        |        2030        |        2031        |       2032        |       2033        |        2034        |       2035        |\n",
      "+-------------+-------------------+-------------------+--------------------+-------------------+-------------------+-------------------+-----------+-------------------+-------------------+-------------------+--------------------+-------------------+-------------------+--------------------+--------------------+-------------------+-------------------+--------------------+-------------------+\n",
      "|    A152     |        0.0        |        0.0        |        0.0         |        0.0        |        0.0        |        0.0        |    0.0    |        0.0        |        0.0        |        0.0        |        0.0         |        0.0        |        0.0        |        0.0         |        0.0         |        0.0        |        0.0        |        0.0         |        0.0        |\n",
      "|    B441     |        0.0        |        0.0        |        0.0         |        0.0        |        0.0        |        0.0        |    0.0    |        0.0        |        0.0        |        0.0        |        0.0         |        0.0        |        0.0        |        0.0         |        0.0         |        0.0        |        0.0        |        0.0         |        0.0        |\n",
      "|    C34N     | 810.5581421901085 | 828.9423786989315 | 848.9079306861285  | 868.632619982391  | 880.0902216163878 | 887.1687705766473 | 893.17488 | 898.8085577531151 | 904.1969884977431 | 909.3555798030135 | 914.2755191174261  | 918.9436619382119 | 923.3452844102519 | 927.4700291632419  | 931.3737019951866  | 935.0325634377995 | 938.4288009809129 | 941.5639403902478  | 944.4413852572767 |\n",
      "|    C381     | 40.52790710950542 | 41.44711893494658 | 42.445396534306425 | 43.43163099911955 | 44.0045110808194  | 44.35843852883236 | 44.658744 | 44.94042788765575 | 45.20984942488715 | 45.46777899015066 | 45.713775955871306 | 45.94718309691059 | 46.1672642205126  | 46.373501458162096 | 46.568685099759335 | 46.75162817188999 | 46.92144004904565 | 47.078197019512395 | 47.22206926286383 |\n",
      "|    E848     |        0.0        |        0.0        |        0.0         |        0.0        |        0.0        |        0.0        |    0.0    |        0.0        |        0.0        |        0.0        |        0.0         |        0.0        |        0.0        |        0.0         |        0.0         |        0.0        |        0.0        |        0.0         |        0.0        |\n",
      "+-------------+-------------------+-------------------+--------------------+-------------------+-------------------+-------------------+-----------+-------------------+-------------------+-------------------+--------------------+-------------------+-------------------+--------------------+--------------------+-------------------+-------------------+--------------------+-------------------+\n",
      "\n"
     ]
    }
   ],
   "source": [
    "# Cargar datos\n",
    "casos_area_de_influencia = pb.cargar_casos_area_de_influencia(\n",
    "    \"../data/interim/casos_teoricos_diagnosticos.xlsx\"\n",
    ")\n",
    "\n",
    "# Lee porcentajes y especialidades quirurgicas de trazadoras\n",
    "porcentajes_de_quirurgicos, especialidades_quirurgicas = pb.cargar_porcentajes_de_quirurgicos(\n",
    "    \"../data/external/incidencias_y_prevalencias_INT.xlsx\"\n",
    ")\n",
    "\n",
    "# Calcular casos quirúrgicos\n",
    "DIAGS_AREA_DE_INFLUENCIA = casos_area_de_influencia.index\n",
    "casos_quirurgicos = pb.calcular_casos_quirurgicos(\n",
    "    casos_area_de_influencia, porcentajes_de_quirurgicos\n",
    ")\n",
    "\n",
    "# Calcula los casos quirurgicos por especialidad para las complicaciones\n",
    "casos_especialidad = pb.calcular_casos_quirurgicos_por_especialidad(\n",
    "    casos_quirurgicos, especialidades_quirurgicas\n",
    ")"
   ]
  },
  {
   "cell_type": "code",
   "execution_count": 62,
   "metadata": {},
   "outputs": [
    {
     "name": "stdout",
     "output_type": "stream",
     "text": [
      "Cambiando ['C341', 'C342', 'C343', 'C780', 'C782', 'D381'] a C34N\n",
      "Cambiando ['I052', 'I080', 'I081'] a I051\n",
      "Cambiando ['I352'] a I350\n",
      "Cambiando ['Q201', 'Q202', 'Q203', 'Q204', 'Q205', 'Q206', 'Q208', 'Q209', 'Q210', 'Q211', 'Q212', 'Q213', 'Q214', 'Q218', 'Q220', 'Q221', 'Q222', 'Q223', 'Q224', 'Q225', 'Q228', 'Q230', 'Q231', 'Q233', 'Q240', 'Q241', 'Q244', 'Q245', 'Q246', 'Q248', 'Q249', 'Q250', 'Q251', 'Q253', 'Q254', 'Q255', 'Q256', 'Q257', 'Q258', 'Q259', 'Q264', 'Q268', 'Q272', 'Q273', 'Q288', 'Q289', 'Q311', 'Q320', 'Q321', 'Q330', 'Q331', 'Q332', 'Q334', 'Q338', 'Q341', 'Q348', 'Q676', 'Q677', 'Q678', 'Q765', 'Q766', 'Q767', 'Q768', 'Q769', 'Q780', 'Q790', 'Q798', 'Q839', 'Q850', 'Q858', 'Q859', 'Q874', 'Q893'] a QXXX\n"
     ]
    }
   ],
   "source": [
    "# Lee la base de GRD unida con Pabellon\n",
    "grd_y_pabellon = pd.read_csv(\"../data/raw/5_duracion_int_q/grd_interno_y_pabellon.csv\")\n",
    "grd_y_pabellon[\"duracion\"] = pd.to_timedelta(grd_y_pabellon[\"duracion\"])\n",
    "\n",
    "# Extrae los diagnosticos que se van a reasignar\n",
    "diagnosticos_a_reasignar = casos_area_de_influencia.dropna(subset=\"Diagnosticos Contenidos\")\n",
    "diagnosticos_a_reasignar = diagnosticos_a_reasignar[\"Diagnosticos Contenidos\"].str.split(\", \")\n",
    "diagnosticos_a_reasignar = diagnosticos_a_reasignar.reset_index()\n",
    "\n",
    "# Reasigna diagnosticos y los agrupa\n",
    "grd_y_pabellon = pb.reasignar_diagnosticos(\n",
    "    grd_y_pabellon, \"diag_01_principal_cod\", diagnosticos_a_reasignar\n",
    ")"
   ]
  },
  {
   "cell_type": "code",
   "execution_count": 63,
   "metadata": {},
   "outputs": [],
   "source": [
    "# Obtiene el resumen de duraciones de las int. q por diagnostico acumuladas\n",
    "resumen_duraciones_int_q_acumuladas = (\n",
    "    grd_y_pabellon.query(\"ano_de_egreso >= 2019 \")\n",
    "    .groupby([\"diag_01_principal_cod\"])[\"duracion\"]\n",
    "    .describe()\n",
    ")\n",
    "\n",
    "# Obtiene el resumen de duraciones para los diagnosticos relevantes\n",
    "resumen_duraciones_diags_relevantes = resumen_duraciones_int_q_acumuladas[\n",
    "    resumen_duraciones_int_q_acumuladas.index.isin(DIAGS_AREA_DE_INFLUENCIA)\n",
    "][\"75%\"]"
   ]
  },
  {
   "cell_type": "code",
   "execution_count": 64,
   "metadata": {},
   "outputs": [
    {
     "name": "stdout",
     "output_type": "stream",
     "text": [
      "Tiempo utilizado en pabellón calculado (en horas):\n",
      "+------+--------------------+--------------------+--------------------+--------------------+--------------------+--------------------+--------------------+--------------------+--------------------+--------------------+--------------------+--------------------+--------------------+--------------------+--------------------+--------------------+--------------------+--------------------+--------------------+\n",
      "|      |        2017        |        2018        |        2019        |        2020        |        2021        |        2022        |        2023        |        2024        |        2025        |        2026        |        2027        |        2028        |        2029        |        2030        |        2031        |        2032        |        2033        |        2034        |        2035        |\n",
      "+------+--------------------+--------------------+--------------------+--------------------+--------------------+--------------------+--------------------+--------------------+--------------------+--------------------+--------------------+--------------------+--------------------+--------------------+--------------------+--------------------+--------------------+--------------------+--------------------+\n",
      "| A152 |        0.0         |        0.0         |        0.0         |        0.0         |        0.0         |        0.0         |        0.0         |        0.0         |        0.0         |        0.0         |        0.0         |        0.0         |        0.0         |        0.0         |        0.0         |        0.0         |        0.0         |        0.0         |        0.0         |\n",
      "| B441 |        0.0         |        0.0         |        0.0         |        0.0         |        0.0         |        0.0         |        0.0         |        0.0         |        0.0         |        0.0         |        0.0         |        0.0         |        0.0         |        0.0         |        0.0         |        0.0         |        0.0         |        0.0         |        0.0         |\n",
      "| C34N | 2836.9534976653795 | 2901.2983254462606 | 2971.177757401449  | 3040.2141699383683 | 3080.3157756573573 | 3105.0906970182655 |     3126.11208     | 3145.829952135903  | 3164.6894597421006 | 3182.744529310547  | 3199.964316910992  | 3216.302816783742  | 3231.708495435882  | 3246.1451020713466 | 3259.8079569831534 | 3272.6139720322985 | 3284.500803433195  | 3295.4737913658673 | 3305.5448484004683 |\n",
      "| C381 | 135.09302369835137 | 138.15706311648833 | 141.48465511435472 | 144.77210333039832 | 146.68170360273112 | 147.86146176277444 | 148.86247999999998 | 149.80142629218582 | 150.69949808295692 | 151.55926330050195 | 152.37925318623752 | 153.15727698970196 | 153.89088073504192 | 154.5783381938736  | 155.2289503325311  | 155.83876057296638 | 156.40480016348528 | 156.92732339837443 | 157.40689754287945 |\n",
      "| E848 |        0.0         |        0.0         |        0.0         |        0.0         |        0.0         |        0.0         |        0.0         |        0.0         |        0.0         |        0.0         |        0.0         |        0.0         |        0.0         |        0.0         |        0.0         |        0.0         |        0.0         |        0.0         |        0.0         |\n",
      "+------+--------------------+--------------------+--------------------+--------------------+--------------------+--------------------+--------------------+--------------------+--------------------+--------------------+--------------------+--------------------+--------------------+--------------------+--------------------+--------------------+--------------------+--------------------+--------------------+\n",
      "\n",
      "Horas laborales por año calculadas:\n",
      "+---+-------+------+\n",
      "|   | fecha |  0   |\n",
      "+---+-------+------+\n",
      "| 0 | 2017  | 2976 |\n",
      "| 1 | 2018  | 2964 |\n",
      "| 2 | 2019  | 2988 |\n",
      "| 3 | 2020  | 3024 |\n",
      "| 4 | 2021  | 3012 |\n",
      "+---+-------+------+\n",
      "\n",
      "Cantidad de pabellones necesarios calculada:\n",
      "+------+----------------------+---------------------+----------------------+---------------------+---------------------+----------------------+---------------------+---------------------+---------------------+---------------------+----------------------+----------------------+---------------------+----------------------+----------------------+----------------------+---------------------+---------------------+---------------------+\n",
      "|      |         2017         |        2018         |         2019         |        2020         |        2021         |         2022         |        2023         |        2024         |        2025         |        2026         |         2027         |         2028         |        2029         |         2030         |         2031         |         2032         |        2033         |        2034         |        2035         |\n",
      "+------+----------------------+---------------------+----------------------+---------------------+---------------------+----------------------+---------------------+---------------------+---------------------+---------------------+----------------------+----------------------+---------------------+----------------------+----------------------+----------------------+---------------------+---------------------+---------------------+\n",
      "| A152 |         0.0          |         0.0         |         0.0          |         0.0         |         0.0         |         0.0          |         0.0         |         0.0         |         0.0         |         0.0         |         0.0          |         0.0          |         0.0         |         0.0          |         0.0          |         0.0          |         0.0         |         0.0         |         0.0         |\n",
      "| B441 |         0.0          |         0.0         |         0.0          |         0.0         |         0.0         |         0.0          |         0.0         |         0.0         |         0.0         |         0.0         |         0.0          |         0.0          |         0.0         |         0.0          |         0.0          |         0.0          |         0.0         |         0.0         |         0.0         |\n",
      "| C34N |  0.9532773849682055  | 0.9788455888820042  |  0.994370066064742   | 1.0053618286833228  | 1.0226812004174493  |  1.0350302323394218  | 1.0546936842105263  | 1.0528212691217882  | 1.0591330186553214  | 1.0566880907405534  |  1.0624051516968764  |  1.0807469142418489  | 1.0947522003509085  |   1.09077456386806   |  1.086602652327718   |  1.0779360909197295  | 1.0904717142872493  | 1.1118332629439498  |  1.119764515040809  |\n",
      "| C381 | 0.045394161188962154 | 0.04661169470866678 | 0.047350955526892474 | 0.04787437279444389 | 0.04869910478178324 | 0.049287153920924816 | 0.05022350877192982 | 0.05013434614865657 | 0.05043490565025332 | 0.05031848051145483 | 0.050590721509375006 | 0.051464138773421354 | 0.05213105715956705 | 0.051941645898479036 | 0.051742983444177035 | 0.051330290043796564 | 0.05192722448986895 | 0.05294444109256897 | 0.05332211976384805 |\n",
      "| E848 |         0.0          |         0.0         |         0.0          |         0.0         |         0.0         |         0.0          |         0.0         |         0.0         |         0.0         |         0.0         |         0.0          |         0.0          |         0.0         |         0.0          |         0.0          |         0.0          |         0.0         |         0.0         |         0.0         |\n",
      "+------+----------------------+---------------------+----------------------+---------------------+---------------------+----------------------+---------------------+---------------------+---------------------+---------------------+----------------------+----------------------+---------------------+----------------------+----------------------+----------------------+---------------------+---------------------+---------------------+\n",
      "\n"
     ]
    }
   ],
   "source": [
    "# Calcular tiempo utilizado en pabellón en horas\n",
    "tiempo_utilizado_pabellon_horas = pb.calcular_tiempo_utilizado_pabellon(\n",
    "    casos_quirurgicos, resumen_duraciones_diags_relevantes\n",
    ")\n",
    "\n",
    "# Calcular horas laborales\n",
    "horas_laborales = pb.calcular_horas_laborales(ANIO_INICIO, ANIO_TERMINO, 12)\n",
    "\n",
    "# Calcular cantidad de pabellones necesarios\n",
    "cantidad_de_pabellones_necesarios = pb.calcular_cantidad_de_pabellones_necesarios(\n",
    "    tiempo_utilizado_pabellon_horas, horas_laborales\n",
    ")\n",
    "\n",
    "# Obtiene la suma total de pabellones\n",
    "suma_total_pabellones = cantidad_de_pabellones_necesarios.sum()"
   ]
  },
  {
   "cell_type": "markdown",
   "metadata": {},
   "source": [
    "## Complicaciones"
   ]
  },
  {
   "cell_type": "code",
   "execution_count": 92,
   "metadata": {},
   "outputs": [],
   "source": [
    "# Define las complicaciones a buscar\n",
    "a_buscar_operaciones = {\n",
    "    \"ecmo\": r\"ECMO\",\n",
    "    \"trasplantes\": r\"TRASPLANTE|TRANSPLANTE\",\n",
    "    \"aseos\": r\"ASEO\",\n",
    "    \"drenajes\": r\"DRENAJE\",\n",
    "    \"traqueostomias\": r\"TRAQUEOSTOMIA|TRAQUEOSTOMÍA\",\n",
    "    \"reintervenciones_reoperaciones\": r\"REINTERVENCION|REOPERACION|REINTERVENCIÓN|REOPERACIÓN\",\n",
    "}\n",
    "\n",
    "# Define los diagnosticos que son complicaciones\n",
    "a_buscar_diagnosticos = {\n",
    "    \"empiemas\": r\"EMPIEMA\"\n",
    "}\n",
    "\n",
    "# Busca los nombres de las operaciones en la base de pabellon\n",
    "resultados_operaciones = pb.iterar_en_complicaciones_a_buscar(\n",
    "    grd_y_pabellon, a_buscar_operaciones, \"intervencion_quirurgica\"\n",
    ")\n",
    "\n",
    "# Busca los diagnosticos en el primer diagnostico y segundo\n",
    "resultados_diagnosticos = pb.iterar_en_complicaciones_a_buscar(\n",
    "    grd_y_pabellon, a_buscar_diagnosticos, \"diagnostico\"\n",
    ")\n",
    "\n",
    "# Obtiene resumen de complicaciones\n",
    "resumen_complicaciones = pd.concat([resultados_operaciones, resultados_diagnosticos])"
   ]
  },
  {
   "cell_type": "code",
   "execution_count": 146,
   "metadata": {},
   "outputs": [
    {
     "name": "stdout",
     "output_type": "stream",
     "text": [
      "Cantidad de pabellones necesarios calculada:\n",
      "+---+----------------------+----------------------+----------------------+---------------------+----------------------+---------------------+----------------------+----------------------+----------------------+----------------------+----------------------+----------------------+----------------------+----------------------+----------------------+----------------------+----------------------+----------------------+----------------------+\n",
      "|   |         2017         |         2018         |         2019         |        2020         |         2021         |        2022         |         2023         |         2024         |         2025         |         2026         |         2027         |         2028         |         2029         |         2030         |         2031         |         2032         |         2033         |         2034         |         2035         |\n",
      "+---+----------------------+----------------------+----------------------+---------------------+----------------------+---------------------+----------------------+----------------------+----------------------+----------------------+----------------------+----------------------+----------------------+----------------------+----------------------+----------------------+----------------------+----------------------+----------------------+\n",
      "| 0 | 0.08650388928469394  | 0.08882404196579576  | 0.09023279001394448  | 0.09123022290346286 | 0.09280184627205806  | 0.09392244276054722 | 0.09570677656562285  |  0.0955368667470483  | 0.09610961806943459  | 0.09588775633539676  | 0.09640654343325292  | 0.09807094229710443  | 0.09934183337045026  | 0.09898088803454617  | 0.09860231346676361  | 0.09781587787064311  |  0.0989534063518571  | 0.10089183169277768  | 0.10161154262276959  |\n",
      "| 1 | 0.09309435720814255  |  0.0949702001466395  | 0.09609498155819937  | 0.09690040305743708 | 0.09843584144679321  | 0.09952012612530056 | 0.10129205578928681  | 0.10098679148028886  | 0.10146194433827198  | 0.10109549280846769  | 0.10150933284981879  | 0.10312905299121893  | 0.10433548708820932  | 0.10383202980890822  | 0.10338254803207565  | 0.10247110438168021  |  0.103582229499617   | 0.10553909783628805  |  0.1062302392284631  |\n",
      "| 2 |         0.0          |         0.0          |         0.0          |         0.0         |         0.0          |         0.0         |         0.0          |         0.0          |         0.0          |         0.0          |         0.0          |         0.0          |         0.0          |         0.0          |         0.0          |         0.0          |         0.0          |         0.0          |         0.0          |\n",
      "| 3 | 0.009804276902362791 | 0.010067241024894006 | 0.010226907325032909 | 0.01033995551652144 | 0.010518081966318616 | 0.01064508941488324 | 0.010847324283810729 | 0.010828066850144933 | 0.010892981995663858 | 0.010867836376287257 | 0.010926635262705198 | 0.011115276807867103 | 0.011259318516267219 | 0.011218409280288512 | 0.011175501962231204 | 0.011086368023699677 | 0.011215294529852997 | 0.011434994001796935 | 0.011516565423679145 |\n",
      "| 4 | 0.02768022963271552  | 0.02823798377431633  | 0.028572420884064868 | 0.02881190104933605 | 0.029268440935091396 | 0.02959083694048204 | 0.030117694007473758 | 0.030026928182077476 | 0.03016820785373578  | 0.030059248913597646 | 0.030182298126453816 | 0.030663897944093115 | 0.03102261327166949  | 0.030872917699142393 | 0.030739270943618523 | 0.030468266660471473 | 0.030798643273378338 | 0.03138048911822303  | 0.03158598978462013  |\n",
      "+---+----------------------+----------------------+----------------------+---------------------+----------------------+---------------------+----------------------+----------------------+----------------------+----------------------+----------------------+----------------------+----------------------+----------------------+----------------------+----------------------+----------------------+----------------------+----------------------+\n",
      "\n"
     ]
    }
   ],
   "source": [
    "# Une los datos de complicaciones y los casos de especialidad\n",
    "casos_complicaciones = (\n",
    "    casos_especialidad.merge(resumen_complicaciones, how=\"left\", left_index=True, right_index=True)\n",
    "    .reset_index()\n",
    "    .sort_values([\"complicacion\", \"especialidades\"])\n",
    "    .set_index(\"complicacion\")\n",
    "    .reset_index()\n",
    ")\n",
    "\n",
    "# Obtiene los casos de complicaciones\n",
    "casos_complicaciones[COLUMNAS_POBLACION_INE] = casos_complicaciones[COLUMNAS_POBLACION_INE].mul(\n",
    "    casos_complicaciones[\"fraccion\"], axis=0\n",
    ")\n",
    "\n",
    "# Obtiene el tiempo de pabellon por las complicaciones\n",
    "tiempo_utilizado_pabellon_complicaciones_horas = (\n",
    "    casos_complicaciones[COLUMNAS_POBLACION_INE]\n",
    "    .mul(casos_complicaciones[\"tiempo_operacion_75%\"], axis=0)\n",
    "    .apply(lambda x: x.dt.total_seconds() / 3600)\n",
    ")\n",
    "\n",
    "# Divide por las horas laborales\n",
    "pabellones_por_complicaciones = pb.calcular_cantidad_de_pabellones_necesarios(\n",
    "    tiempo_utilizado_pabellon_complicaciones_horas, horas_laborales\n",
    ")\n",
    "\n",
    "# Obtiene los pabellones de emergencia por anio\n",
    "suma_total_pabellones_complicaciones = pabellones_por_complicaciones.sum()"
   ]
  },
  {
   "cell_type": "code",
   "execution_count": 65,
   "metadata": {},
   "outputs": [],
   "source": [
    "# Carga el resumen de area de estudio para MINSAL\n",
    "resumen_area_de_estudio_minsal = (\n",
    "    pd.read_excel(\n",
    "        \"../data/interim/casos_teoricos_diagnosticos.xlsx\", sheet_name=\"resumen_total_INT\"\n",
    "    )\n",
    "    .drop(columns=\"Porcentaje Hospitalizados de Ambulatorios\")\n",
    "    .sort_values(\"Diagnostico\")\n",
    ")\n",
    "resumen_area_de_estudio_minsal[\"diagnostico_separado\"] = (\n",
    "    resumen_area_de_estudio_minsal[\"Diagnostico\"].str.split(\" - \").str[0]\n",
    ")\n",
    "resumen_area_de_estudio_minsal = resumen_area_de_estudio_minsal.set_index(\"diagnostico_separado\")\n",
    "\n",
    "# Sintetiza informacion de pabellon para el 2035\n",
    "resumen_quirurgicos = pd.DataFrame(\n",
    "    {\n",
    "        \"porcentaje_quirurgico\": porcentajes_de_quirurgicos,\n",
    "        \"casos_quirurgicos_2035\": casos_quirurgicos[\"2035\"],\n",
    "        \"tiempo_quirurgico_75%_2019_a_2022\": resumen_duraciones_diags_relevantes,\n",
    "        \"horas_pabellon_2035\": tiempo_utilizado_pabellon_horas[\"2035\"],\n",
    "        \"horas_laborales_2035_pabellon_12_hrs\": horas_laborales[\"2035\"],\n",
    "        \"cantidad_de_pabellones\": cantidad_de_pabellones_necesarios[\"2035\"],\n",
    "    }\n",
    ")\n",
    "\n",
    "# Une ambos resumenes segun el diagnostico\n",
    "resumen_minsal = resumen_area_de_estudio_minsal.merge(\n",
    "    resumen_quirurgicos, how=\"left\", left_index=True, right_index=True\n",
    ")"
   ]
  },
  {
   "cell_type": "code",
   "execution_count": 149,
   "metadata": {},
   "outputs": [
    {
     "name": "stdout",
     "output_type": "stream",
     "text": [
      "> Pabellones 2035: 5.44\n",
      "> Pabellones de Emergencia 2035: 0.57\n"
     ]
    }
   ],
   "source": [
    "print(f\"> Pabellones 2035: {resumen_minsal['cantidad_de_pabellones'].sum():.2f}\")\n",
    "print(f\"> Pabellones de Emergencia 2035: {suma_total_pabellones_complicaciones['2035']:.2f}\")"
   ]
  },
  {
   "cell_type": "code",
   "execution_count": 67,
   "metadata": {},
   "outputs": [],
   "source": [
    "a_guardar = {\n",
    "    \"casos_area_de_influencia\": casos_area_de_influencia,\n",
    "    \"porcentajes_quirurgicos\": porcentajes_de_quirurgicos,\n",
    "    \"casos_quirurgicos\": casos_quirurgicos,\n",
    "    \"resumen_duraciones_int_q_rel\": resumen_duraciones_diags_relevantes,\n",
    "    \"tiempo_utilizado_pabellon\": tiempo_utilizado_pabellon_horas,\n",
    "    \"horas_laborales_por_anio\": horas_laborales,\n",
    "    \"cantidad_de_pabellones_desg\": cantidad_de_pabellones_necesarios,\n",
    "    \"suma_total_pabellones\": suma_total_pabellones,\n",
    "    \"resumen_MINSAL\": resumen_minsal,\n",
    "}"
   ]
  },
  {
   "cell_type": "code",
   "execution_count": 68,
   "metadata": {},
   "outputs": [],
   "source": [
    "with pd.ExcelWriter(\"../data/interim/estimacion_pabellones_INT.xlsx\") as file:\n",
    "    for nombre_hoja, df_a_guardar in a_guardar.items():\n",
    "        df_a_guardar.to_excel(file, sheet_name=nombre_hoja)"
   ]
  }
 ],
 "metadata": {
  "kernelspec": {
   "display_name": "base",
   "language": "python",
   "name": "python3"
  },
  "language_info": {
   "codemirror_mode": {
    "name": "ipython",
    "version": 3
   },
   "file_extension": ".py",
   "mimetype": "text/x-python",
   "name": "python",
   "nbconvert_exporter": "python",
   "pygments_lexer": "ipython3",
   "version": "3.11.8"
  }
 },
 "nbformat": 4,
 "nbformat_minor": 2
}
