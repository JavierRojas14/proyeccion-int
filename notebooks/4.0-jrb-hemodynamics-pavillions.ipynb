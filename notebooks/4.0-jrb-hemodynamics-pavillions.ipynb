{
 "cells": [
  {
   "cell_type": "code",
   "execution_count": 13,
   "metadata": {},
   "outputs": [
    {
     "name": "stdout",
     "output_type": "stream",
     "text": [
      "The autoreload extension is already loaded. To reload it, use:\n",
      "  %reload_ext autoreload\n"
     ]
    }
   ],
   "source": [
    "import sys\n",
    "import os\n",
    "\n",
    "project_root = os.path.abspath('..')\n",
    "if project_root not in sys.path:\n",
    "    sys.path.append(project_root)\n",
    " \n",
    "%load_ext autoreload\n",
    "%autoreload 2"
   ]
  },
  {
   "cell_type": "code",
   "execution_count": 14,
   "metadata": {},
   "outputs": [],
   "source": [
    "import pandas as pd\n",
    "import numpy as np\n",
    "\n",
    "import matplotlib.pyplot as plt\n",
    "import seaborn as sns\n",
    "\n",
    "from src.features import build_features\n",
    "\n",
    "sns.set_theme(palette='pastel')\n",
    "plt.rcParams['figure.figsize'] = (12, 6)\n",
    "pd.set_option('display.max_columns', None)\n",
    "\n",
    "# Agrega las columnas de poblacion de interes\n",
    "COLUMNAS_POBLACION_INTERES = {str(i): i for i in range(2017, 2036)}"
   ]
  },
  {
   "cell_type": "markdown",
   "metadata": {},
   "source": [
    "## Obtencion de casos por area de influencia INT"
   ]
  },
  {
   "cell_type": "code",
   "execution_count": 15,
   "metadata": {},
   "outputs": [],
   "source": [
    "# Lee los casos de area de influencia\n",
    "casos_area_de_influencia = build_features.leer_casos_area_de_influencia(COLUMNAS_POBLACION_INTERES)"
   ]
  },
  {
   "cell_type": "markdown",
   "metadata": {},
   "source": [
    "## Obtencion de porcentajes de Hemodinamia"
   ]
  },
  {
   "cell_type": "code",
   "execution_count": 16,
   "metadata": {},
   "outputs": [],
   "source": [
    "# Define la ruta donde estan los porcentajes de Hemodinamia\n",
    "RUTA_PLANILLA_PORCENTAJES = (\n",
    "    \"../data/raw/3_incidencias_y_porcentajes_marcoprocesos/incidencias_y_prevalencias_INT.xlsx\"\n",
    ")\n",
    "\n",
    "# Solamente lee los diagnosticos y el porcentaje de Hemodinamia\n",
    "porcentaje_hmd = pd.read_excel(\n",
    "    RUTA_PLANILLA_PORCENTAJES,\n",
    "    sheet_name=\"porcentaje_trazadoras\",\n",
    "    usecols=[\"Diagnostico\", \"Porcentaje Pacientes Hemodinamia\"],\n",
    ")\n",
    "\n",
    "# Deja los diagnosticos que SI aportan a la cantidad de pabellones de HMD (porcentaje > 0)\n",
    "porcentaje_hmd = porcentaje_hmd.query(\"`Porcentaje Pacientes Hemodinamia` > 0\")\n",
    "\n",
    "# Formatea la columna de diagnosticos\n",
    "porcentaje_hmd[\"Diagnostico\"] = porcentaje_hmd[\"Diagnostico\"].str.split(\" - \").str[0]\n",
    "\n",
    "# Deja los diagnosticos como el indice\n",
    "porcentaje_hmd = porcentaje_hmd.set_index(\"Diagnostico\")[\"Porcentaje Pacientes Hemodinamia\"]"
   ]
  },
  {
   "cell_type": "code",
   "execution_count": 17,
   "metadata": {},
   "outputs": [],
   "source": [
    "# Filtra los casos de area de influencia solamente a los diagnosticos que tengan un porcentaje de\n",
    "# atencion cerrada mayor a 0\n",
    "casos_area_de_influencia_para_ac = casos_area_de_influencia[\n",
    "    casos_area_de_influencia.index.isin(porcentaje_hmd.index)\n",
    "]"
   ]
  },
  {
   "cell_type": "code",
   "execution_count": 18,
   "metadata": {},
   "outputs": [
    {
     "data": {
      "text/html": [
       "<div>\n",
       "<style scoped>\n",
       "    .dataframe tbody tr th:only-of-type {\n",
       "        vertical-align: middle;\n",
       "    }\n",
       "\n",
       "    .dataframe tbody tr th {\n",
       "        vertical-align: top;\n",
       "    }\n",
       "\n",
       "    .dataframe thead th {\n",
       "        text-align: right;\n",
       "    }\n",
       "</style>\n",
       "<table border=\"1\" class=\"dataframe\">\n",
       "  <thead>\n",
       "    <tr style=\"text-align: right;\">\n",
       "      <th></th>\n",
       "      <th>Diagnosticos Contenidos</th>\n",
       "      <th>Macroproceso</th>\n",
       "      <th>Estadística</th>\n",
       "      <th>Casos (Cada 100.000)</th>\n",
       "      <th>Edad Incidencia</th>\n",
       "      <th>Área de Influencia Formal</th>\n",
       "      <th>Área de Influencia Propuesta</th>\n",
       "      <th>2017</th>\n",
       "      <th>2018</th>\n",
       "      <th>2019</th>\n",
       "      <th>2020</th>\n",
       "      <th>2021</th>\n",
       "      <th>2022</th>\n",
       "      <th>2023</th>\n",
       "      <th>2024</th>\n",
       "      <th>2025</th>\n",
       "      <th>2026</th>\n",
       "      <th>2027</th>\n",
       "      <th>2028</th>\n",
       "      <th>2029</th>\n",
       "      <th>2030</th>\n",
       "      <th>2031</th>\n",
       "      <th>2032</th>\n",
       "      <th>2033</th>\n",
       "      <th>2034</th>\n",
       "      <th>2035</th>\n",
       "    </tr>\n",
       "    <tr>\n",
       "      <th>Diagnostico</th>\n",
       "      <th></th>\n",
       "      <th></th>\n",
       "      <th></th>\n",
       "      <th></th>\n",
       "      <th></th>\n",
       "      <th></th>\n",
       "      <th></th>\n",
       "      <th></th>\n",
       "      <th></th>\n",
       "      <th></th>\n",
       "      <th></th>\n",
       "      <th></th>\n",
       "      <th></th>\n",
       "      <th></th>\n",
       "      <th></th>\n",
       "      <th></th>\n",
       "      <th></th>\n",
       "      <th></th>\n",
       "      <th></th>\n",
       "      <th></th>\n",
       "      <th></th>\n",
       "      <th></th>\n",
       "      <th></th>\n",
       "      <th></th>\n",
       "      <th></th>\n",
       "      <th></th>\n",
       "    </tr>\n",
       "  </thead>\n",
       "  <tbody>\n",
       "    <tr>\n",
       "      <th>Enfermedad Coronaria</th>\n",
       "      <td>NaN</td>\n",
       "      <td>Hemodinamia</td>\n",
       "      <td>Incidencia</td>\n",
       "      <td>123.5</td>\n",
       "      <td>todos</td>\n",
       "      <td>NaN</td>\n",
       "      <td>Pais</td>\n",
       "      <td>18300.205896</td>\n",
       "      <td>18630.272833</td>\n",
       "      <td>18983.785331</td>\n",
       "      <td>19332.611299</td>\n",
       "      <td>19551.242779</td>\n",
       "      <td>19700.472502</td>\n",
       "      <td>19831.94369</td>\n",
       "      <td>19956.62105</td>\n",
       "      <td>20076.418142</td>\n",
       "      <td>20191.523737</td>\n",
       "      <td>20301.790791</td>\n",
       "      <td>20406.98185</td>\n",
       "      <td>20506.896216</td>\n",
       "      <td>20601.341145</td>\n",
       "      <td>20691.860596</td>\n",
       "      <td>20777.186814</td>\n",
       "      <td>20857.21945</td>\n",
       "      <td>20931.898892</td>\n",
       "      <td>21001.221165</td>\n",
       "    </tr>\n",
       "  </tbody>\n",
       "</table>\n",
       "</div>"
      ],
      "text/plain": [
       "                     Diagnosticos Contenidos Macroproceso Estadística  \\\n",
       "Diagnostico                                                             \n",
       "Enfermedad Coronaria                     NaN  Hemodinamia  Incidencia   \n",
       "\n",
       "                      Casos (Cada 100.000) Edad Incidencia  \\\n",
       "Diagnostico                                                  \n",
       "Enfermedad Coronaria                 123.5           todos   \n",
       "\n",
       "                     Área de Influencia Formal Área de Influencia Propuesta  \\\n",
       "Diagnostico                                                                   \n",
       "Enfermedad Coronaria                       NaN                         Pais   \n",
       "\n",
       "                              2017          2018          2019          2020  \\\n",
       "Diagnostico                                                                    \n",
       "Enfermedad Coronaria  18300.205896  18630.272833  18983.785331  19332.611299   \n",
       "\n",
       "                              2021          2022         2023         2024  \\\n",
       "Diagnostico                                                                  \n",
       "Enfermedad Coronaria  19551.242779  19700.472502  19831.94369  19956.62105   \n",
       "\n",
       "                              2025          2026          2027         2028  \\\n",
       "Diagnostico                                                                   \n",
       "Enfermedad Coronaria  20076.418142  20191.523737  20301.790791  20406.98185   \n",
       "\n",
       "                              2029          2030          2031          2032  \\\n",
       "Diagnostico                                                                    \n",
       "Enfermedad Coronaria  20506.896216  20601.341145  20691.860596  20777.186814   \n",
       "\n",
       "                             2033          2034          2035  \n",
       "Diagnostico                                                    \n",
       "Enfermedad Coronaria  20857.21945  20931.898892  21001.221165  "
      ]
     },
     "execution_count": 18,
     "metadata": {},
     "output_type": "execute_result"
    }
   ],
   "source": [
    "casos_area_de_influencia_para_ac"
   ]
  },
  {
   "cell_type": "code",
   "execution_count": null,
   "metadata": {},
   "outputs": [],
   "source": []
  }
 ],
 "metadata": {
  "kernelspec": {
   "display_name": "int-proyeccion",
   "language": "python",
   "name": "python3"
  },
  "language_info": {
   "codemirror_mode": {
    "name": "ipython",
    "version": 3
   },
   "file_extension": ".py",
   "mimetype": "text/x-python",
   "name": "python",
   "nbconvert_exporter": "python",
   "pygments_lexer": "ipython3",
   "version": "3.11.8"
  }
 },
 "nbformat": 4,
 "nbformat_minor": 2
}
