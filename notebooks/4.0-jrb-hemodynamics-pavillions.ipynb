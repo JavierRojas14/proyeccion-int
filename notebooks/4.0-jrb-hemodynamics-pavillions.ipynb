{
 "cells": [
  {
   "cell_type": "code",
   "execution_count": 2,
   "metadata": {},
   "outputs": [],
   "source": [
    "import sys\n",
    "import os\n",
    "\n",
    "project_root = os.path.abspath('..')\n",
    "if project_root not in sys.path:\n",
    "    sys.path.append(project_root)\n",
    " \n",
    "%load_ext autoreload\n",
    "%autoreload 2"
   ]
  },
  {
   "cell_type": "code",
   "execution_count": 3,
   "metadata": {},
   "outputs": [],
   "source": [
    "import pandas as pd\n",
    "import numpy as np\n",
    "\n",
    "import matplotlib.pyplot as plt\n",
    "import seaborn as sns\n",
    "\n",
    "from src.features import build_features\n",
    "\n",
    "sns.set_theme(palette='pastel')\n",
    "plt.rcParams['figure.figsize'] = (12, 6)\n",
    "pd.set_option('display.max_columns', None)\n",
    "\n",
    "# Agrega las columnas de poblacion de interes\n",
    "COLUMNAS_POBLACION_INTERES = {str(i): i for i in range(2017, 2036)}"
   ]
  },
  {
   "cell_type": "markdown",
   "metadata": {},
   "source": [
    "## Obtencion de casos por area de influencia INT"
   ]
  },
  {
   "cell_type": "code",
   "execution_count": 4,
   "metadata": {},
   "outputs": [],
   "source": [
    "# Lee los casos de area de influencia\n",
    "casos_area_de_influencia = build_features.leer_casos_area_de_influencia(COLUMNAS_POBLACION_INTERES)"
   ]
  },
  {
   "cell_type": "markdown",
   "metadata": {},
   "source": [
    "## Obtencion de porcentajes de Hemodinamia"
   ]
  },
  {
   "cell_type": "code",
   "execution_count": 9,
   "metadata": {},
   "outputs": [],
   "source": [
    "# Define la ruta donde estan los porcentajes de Hemodinamia\n",
    "RUTA_PLANILLA_PORCENTAJES = (\n",
    "    \"../data/raw/3_incidencias_y_porcentajes_marcoprocesos/incidencias_y_prevalencias_INT.xlsx\"\n",
    ")\n",
    "\n",
    "# Solamente lee los diagnosticos y el porcentaje de Hemodinamia\n",
    "porcentaje_hmd = pd.read_excel(\n",
    "    RUTA_PLANILLA_PORCENTAJES,\n",
    "    sheet_name=\"porcentaje_trazadoras\",\n",
    "    usecols=[\"Diagnostico\", \"Porcentaje Pacientes Hemodinamia\"],\n",
    ")\n",
    "\n",
    "# Deja los diagnosticos que SI aportan a la cantidad de pabellones de HMD (porcentaje > 0)\n",
    "porcentaje_hmd = porcentaje_hmd.query(\"`Porcentaje Pacientes Hemodinamia` > 0\")\n",
    "\n",
    "# Formatea la columna de diagnosticos\n",
    "porcentaje_hmd[\"Diagnostico\"] = porcentaje_hmd[\"Diagnostico\"].str.split(\" - \").str[0]\n",
    "\n",
    "# Deja los diagnosticos como el indice\n",
    "porcentaje_hmd = porcentaje_hmd.set_index(\"Diagnostico\")[\"Porcentaje Pacientes Hemodinamia\"]"
   ]
  },
  {
   "cell_type": "code",
   "execution_count": 10,
   "metadata": {},
   "outputs": [
    {
     "data": {
      "text/plain": [
       "Diagnostico\n",
       "Enfermedad Coronaria    0.8\n",
       "Name: Porcentaje Pacientes Hemodinamia, dtype: float64"
      ]
     },
     "execution_count": 10,
     "metadata": {},
     "output_type": "execute_result"
    }
   ],
   "source": [
    "porcentaje_hmd"
   ]
  },
  {
   "cell_type": "code",
   "execution_count": null,
   "metadata": {},
   "outputs": [],
   "source": []
  }
 ],
 "metadata": {
  "kernelspec": {
   "display_name": "int-proyeccion",
   "language": "python",
   "name": "python3"
  },
  "language_info": {
   "codemirror_mode": {
    "name": "ipython",
    "version": 3
   },
   "file_extension": ".py",
   "mimetype": "text/x-python",
   "name": "python",
   "nbconvert_exporter": "python",
   "pygments_lexer": "ipython3",
   "version": "3.11.8"
  }
 },
 "nbformat": 4,
 "nbformat_minor": 2
}
