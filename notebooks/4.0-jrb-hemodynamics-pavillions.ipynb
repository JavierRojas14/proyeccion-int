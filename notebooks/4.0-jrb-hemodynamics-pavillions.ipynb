{
 "cells": [
  {
   "cell_type": "code",
   "execution_count": 9,
   "metadata": {},
   "outputs": [
    {
     "name": "stdout",
     "output_type": "stream",
     "text": [
      "The autoreload extension is already loaded. To reload it, use:\n",
      "  %reload_ext autoreload\n"
     ]
    }
   ],
   "source": [
    "import sys\n",
    "import os\n",
    "\n",
    "project_root = os.path.abspath('..')\n",
    "if project_root not in sys.path:\n",
    "    sys.path.append(project_root)\n",
    " \n",
    "%load_ext autoreload\n",
    "%autoreload 2"
   ]
  },
  {
   "cell_type": "code",
   "execution_count": 10,
   "metadata": {},
   "outputs": [],
   "source": [
    "import pandas as pd\n",
    "import numpy as np\n",
    "\n",
    "import matplotlib.pyplot as plt\n",
    "import seaborn as sns\n",
    "\n",
    "from src.features import build_features\n",
    "from src.features import pabellon as pb\n",
    "\n",
    "sns.set_theme(palette='pastel')\n",
    "plt.rcParams['figure.figsize'] = (12, 6)\n",
    "pd.set_option('display.max_columns', None)\n",
    "\n",
    "# Agrega las columnas de poblacion de interes\n",
    "COLUMNAS_POBLACION_INTERES = {str(i): i for i in range(2017, 2036)}"
   ]
  },
  {
   "cell_type": "markdown",
   "metadata": {},
   "source": [
    "## Obtencion de casos por area de influencia INT"
   ]
  },
  {
   "cell_type": "code",
   "execution_count": 33,
   "metadata": {},
   "outputs": [],
   "source": [
    "# Lee los casos de area de influencia\n",
    "casos_area_de_influencia = build_features.leer_casos_area_de_influencia(COLUMNAS_POBLACION_INTERES)"
   ]
  },
  {
   "cell_type": "markdown",
   "metadata": {},
   "source": [
    "## Obtencion de porcentajes de Hemodinamia"
   ]
  },
  {
   "cell_type": "code",
   "execution_count": 34,
   "metadata": {},
   "outputs": [],
   "source": [
    "# Define la ruta donde estan los porcentajes de Hemodinamia\n",
    "RUTA_PLANILLA_PORCENTAJES = (\n",
    "    \"../data/raw/3_incidencias_y_porcentajes_marcoprocesos/incidencias_y_prevalencias_INT.xlsx\"\n",
    ")\n",
    "\n",
    "# Solamente lee los diagnosticos y el porcentaje de Hemodinamia\n",
    "datos_hmd = pd.read_excel(\n",
    "    RUTA_PLANILLA_PORCENTAJES,\n",
    "    sheet_name=\"porcentaje_trazadoras\",\n",
    "    usecols=[\"Diagnostico\", \"Porcentaje Pacientes Hemodinamia\", \"Horas en Hemodinamia\"],\n",
    ")\n",
    "\n",
    "# Deja los diagnosticos que SI aportan a la cantidad de pabellones de HMD (porcentaje > 0)\n",
    "datos_hmd = datos_hmd.query(\"`Porcentaje Pacientes Hemodinamia` > 0\")\n",
    "\n",
    "# Formatea la columna de diagnosticos\n",
    "datos_hmd[\"Diagnostico\"] = datos_hmd[\"Diagnostico\"].str.split(\" - \").str[0]\n",
    "\n",
    "# Deja como indice a los diagnosticos\n",
    "datos_hmd = datos_hmd.set_index(\"Diagnostico\")\n",
    "\n",
    "# Deja los diagnosticos como el indice\n",
    "porcentaje_hmd = datos_hmd[\"Porcentaje Pacientes Hemodinamia\"]\n",
    "\n",
    "# Indica el tiempo quirurgico por diagnostico promedio (o 75%)\n",
    "tiempos_hmd = datos_hmd[\"Horas en Hemodinamia\"]"
   ]
  },
  {
   "cell_type": "code",
   "execution_count": 35,
   "metadata": {},
   "outputs": [],
   "source": [
    "# Filtra los casos de area de influencia solamente a los diagnosticos que tengan un porcentaje de\n",
    "# atencion cerrada mayor a 0\n",
    "casos_area_de_influencia_para_hmd = casos_area_de_influencia[\n",
    "    casos_area_de_influencia.index.isin(porcentaje_hmd.index)\n",
    "]"
   ]
  },
  {
   "cell_type": "code",
   "execution_count": 37,
   "metadata": {},
   "outputs": [
    {
     "data": {
      "text/plain": [
       "fecha\n",
       "2017    2976\n",
       "2018    2964\n",
       "2019    2988\n",
       "2020    3024\n",
       "2021    3012\n",
       "2022    3000\n",
       "2023    2964\n",
       "2024    2988\n",
       "2025    2988\n",
       "2026    3012\n",
       "2027    3012\n",
       "2028    2976\n",
       "2029    2952\n",
       "2030    2976\n",
       "2031    3000\n",
       "2032    3036\n",
       "2033    3012\n",
       "2034    2964\n",
       "2035    2952\n",
       "dtype: int64"
      ]
     },
     "execution_count": 37,
     "metadata": {},
     "output_type": "execute_result"
    }
   ],
   "source": [
    "horas_laborales"
   ]
  },
  {
   "cell_type": "code",
   "execution_count": 39,
   "metadata": {},
   "outputs": [
    {
     "name": "stdout",
     "output_type": "stream",
     "text": [
      "Horas laborales por año calculadas:\n",
      "+---+-------+------+\n",
      "|   | fecha |  0   |\n",
      "+---+-------+------+\n",
      "| 0 | 2017  | 2976 |\n",
      "| 1 | 2018  | 2964 |\n",
      "| 2 | 2019  | 2988 |\n",
      "| 3 | 2020  | 3024 |\n",
      "| 4 | 2021  | 3012 |\n",
      "+---+-------+------+\n",
      "\n",
      "Cantidad de pabellones necesarios calculada:\n",
      "+----------------------+---------------------+---------------------+---------------------+---------------------+---------------------+--------------------+---------------------+-------------------+---------------------+---------------------+--------------------+---------------------+---------------------+---------------------+---------------------+---------------------+---------------------+---------------------+---------------------+\n",
      "|     Diagnostico      |        2017         |        2018         |        2019         |        2020         |        2021         |        2022        |        2023         |       2024        |        2025         |        2026         |        2027        |        2028         |        2029         |        2030         |        2031         |        2032         |        2033         |        2034         |        2035         |\n",
      "+----------------------+---------------------+---------------------+---------------------+---------------------+---------------------+--------------------+---------------------+-------------------+---------------------+---------------------+--------------------+---------------------+---------------------+---------------------+---------------------+---------------------+---------------------+---------------------+---------------------+\n",
      "| Enfermedad Coronaria |  9.838820373980683  |  10.05682744046353  | 10.165346897261946  | 10.228894867277381  | 10.385786336884893  | 10.506918667990986 | 10.705502666666668  | 10.68627633215554 | 10.750424707695139  |  10.72590902341565  | 10.784483820049541 | 10.971495618024848  | 11.114848897738902  | 11.075989862833156  |  11.03565898478329  | 10.949769071913211  | 11.079532244238694  | 11.299270656698841  | 11.382775699219897  |\n",
      "|        I44.1         | 0.06296147956932477 | 0.06435657033636707 | 0.06505101797362209 | 0.06545767995785552 | 0.06646167420541972 | 0.067236835301997  | 0.06850763219635628 | 0.068384597277382 | 0.06879510143158153 | 0.06863821842160472 | 0.0690130556196996 | 0.07020979862850416 | 0.07112715805258524 | 0.07087848776089334 | 0.07062039871588294 | 0.07007076412669157 | 0.07090115649210438 | 0.07230732664673926 | 0.07284169975538239 |\n",
      "+----------------------+---------------------+---------------------+---------------------+---------------------+---------------------+--------------------+---------------------+-------------------+---------------------+---------------------+--------------------+---------------------+---------------------+---------------------+---------------------+---------------------+---------------------+---------------------+---------------------+\n",
      "\n"
     ]
    }
   ],
   "source": [
    "# Se obtiene la cantidad de pacientes que van a hemodinamia\n",
    "casos_hmd = casos_area_de_influencia_para_hmd[COLUMNAS_POBLACION_INTERES.values()].mul(\n",
    "    porcentaje_hmd, axis=0\n",
    ")\n",
    "\n",
    "# Multiplica los casos en HMD con sus tiempos quirurgicos\n",
    "horas_en_hmd_por_casos = casos_hmd.mul(tiempos_hmd, axis=0)\n",
    "\n",
    "# Obtiene la cantidad de horas laborales\n",
    "horas_laborales = pb.calcular_horas_laborales(2017, 2035, 12)\n",
    "horas_laborales.index = horas_laborales.index.astype(int)\n",
    "\n",
    "# Obtiene cantidad de pabellones de hemodinamia\n",
    "pabellones_hmd = pb.calcular_cantidad_de_pabellones_necesarios(\n",
    "    horas_en_hmd_por_casos, horas_laborales\n",
    ")"
   ]
  }
 ],
 "metadata": {
  "kernelspec": {
   "display_name": "int-proyeccion",
   "language": "python",
   "name": "python3"
  },
  "language_info": {
   "codemirror_mode": {
    "name": "ipython",
    "version": 3
   },
   "file_extension": ".py",
   "mimetype": "text/x-python",
   "name": "python",
   "nbconvert_exporter": "python",
   "pygments_lexer": "ipython3",
   "version": "3.11.8"
  }
 },
 "nbformat": 4,
 "nbformat_minor": 2
}
