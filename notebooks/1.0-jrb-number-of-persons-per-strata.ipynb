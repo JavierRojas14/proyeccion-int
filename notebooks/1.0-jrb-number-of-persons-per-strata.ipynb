{
 "cells": [
  {
   "cell_type": "code",
   "execution_count": 1,
   "metadata": {},
   "outputs": [],
   "source": [
    "import pandas as pd"
   ]
  },
  {
   "cell_type": "code",
   "execution_count": 2,
   "metadata": {},
   "outputs": [],
   "source": [
    "df = pd.read_excel(\"../data/raw/estimaciones-y-proyecciones-2002-2035-comunas.xlsx\").iloc[:-2]"
   ]
  },
  {
   "cell_type": "markdown",
   "metadata": {},
   "source": [
    "# Cálculo de Personas por Estrato\n",
    "\n",
    "Aquí se quiere calcular la cantidad de personas que hay en los siguientes estratos:\n",
    "\n",
    "1. Hombres y Mujeres\n",
    "2. Hombres\n",
    "3. Mujeres\n",
    "4. Población sobre 45 años\n",
    "5. Población sobre 60 años\n",
    "6. Población entre 60 a 70 años\n",
    "7. Población recién nacidos\n",
    "\n",
    "Para cada estrato se calculará la población que hay para el SSMO, Región Metropolitana y el País."
   ]
  },
  {
   "cell_type": "markdown",
   "metadata": {},
   "source": [
    "## 1. Hombres y Mujeres"
   ]
  },
  {
   "cell_type": "code",
   "execution_count": 3,
   "metadata": {},
   "outputs": [],
   "source": [
    "COMUNAS_SSMO = [\n",
    "    \"Peñalolén\",\n",
    "    \"Macul\",\n",
    "    \"Ñuñoa\",\n",
    "    \"La Reina\",\n",
    "    \"Providencia\",\n",
    "    \"Las Condes\",\n",
    "    \"Vitacura\",\n",
    "    \"Lo Barnechea\",\n",
    "]\n",
    "\n",
    "poblacion_ssmo = df[\"Nombre Comuna\"].isin(COMUNAS_SSMO)\n",
    "suma_poblacion_ssmo = df[poblacion_ssmo].loc[:, \"Poblacion 2017\":\"Poblacion 2035\"].sum().reset_index()\n",
    "\n",
    "poblacion_rm = (df[\"M\"] == \"Metropolitana de Santiago\")\n",
    "suma_poblacion_rm = df[poblacion_rm].loc[:, \"Poblacion 2017\":\"Poblacion 2035\"].sum().reset_index()\n",
    "\n",
    "suma_poblacion_chile = df.loc[:, \"Poblacion 2017\":\"Poblacion 2035\"].sum().reset_index()"
   ]
  },
  {
   "cell_type": "markdown",
   "metadata": {},
   "source": [
    "## 2. Hombres"
   ]
  },
  {
   "cell_type": "code",
   "execution_count": 4,
   "metadata": {},
   "outputs": [],
   "source": [
    "poblacion_ssmo_hombre = (poblacion_ssmo) & (df[\"Sexo\\n1=Hombre\\n2=Mujer\"] == 1.0)\n",
    "suma_poblacion_ssmo_hombre = (\n",
    "    df[poblacion_ssmo_hombre].loc[:, \"Poblacion 2017\":\"Poblacion 2035\"].sum().reset_index()\n",
    ")\n",
    "\n",
    "poblacion_rm_hombre = (poblacion_rm) & (df[\"Sexo\\n1=Hombre\\n2=Mujer\"] == 1.0)\n",
    "suma_poblacion_rm_hombre = (\n",
    "    df[poblacion_rm_hombre].loc[:, \"Poblacion 2017\":\"Poblacion 2035\"].sum().reset_index()\n",
    ")\n",
    "\n",
    "poblacion_pais_hombre = df[\"Sexo\\n1=Hombre\\n2=Mujer\"] == 1.0\n",
    "suma_poblacion_chile_hombre = (\n",
    "    df[poblacion_pais_hombre].loc[:, \"Poblacion 2017\":\"Poblacion 2035\"].sum().reset_index()\n",
    ")"
   ]
  },
  {
   "cell_type": "markdown",
   "metadata": {},
   "source": [
    "## 3. Mujeres"
   ]
  },
  {
   "cell_type": "code",
   "execution_count": 5,
   "metadata": {},
   "outputs": [],
   "source": [
    "poblacion_ssmo_mujer = (poblacion_ssmo) & (df[\"Sexo\\n1=Hombre\\n2=Mujer\"] == 2.0)\n",
    "suma_poblacion_ssmo_mujer = (\n",
    "    df[poblacion_ssmo_mujer].loc[:, \"Poblacion 2017\":\"Poblacion 2035\"].sum().reset_index()\n",
    ")\n",
    "\n",
    "poblacion_rm_mujer = (poblacion_rm) & (df[\"Sexo\\n1=Hombre\\n2=Mujer\"] == 2.0)\n",
    "suma_poblacion_rm_mujer = (\n",
    "    df[poblacion_rm_mujer].loc[:, \"Poblacion 2017\":\"Poblacion 2035\"].sum().reset_index()\n",
    ")\n",
    "\n",
    "poblacion_pais_mujer = df[\"Sexo\\n1=Hombre\\n2=Mujer\"] == 2.0\n",
    "suma_poblacion_chile_mujer = (\n",
    "    df[poblacion_pais_mujer].loc[:, \"Poblacion 2017\":\"Poblacion 2035\"].sum().reset_index()\n",
    ")"
   ]
  },
  {
   "cell_type": "markdown",
   "metadata": {},
   "source": [
    "## 4. Población sobre 45 años"
   ]
  },
  {
   "cell_type": "code",
   "execution_count": 6,
   "metadata": {},
   "outputs": [],
   "source": [
    "poblacion_ssmo_sobre_45 = (poblacion_ssmo) & (df[\"Edad\"] > 45)\n",
    "suma_poblacion_ssmo_sobre_45 = (\n",
    "    df[poblacion_ssmo_sobre_45].loc[:, \"Poblacion 2017\":\"Poblacion 2035\"].sum().reset_index()\n",
    ")\n",
    "\n",
    "poblacion_rm_sobre_45 = (poblacion_rm) & (df[\"Edad\"] > 45)\n",
    "suma_poblacion_rm_sobre_45 = (\n",
    "    df[poblacion_rm_sobre_45].loc[:, \"Poblacion 2017\":\"Poblacion 2035\"].sum().reset_index()\n",
    ")\n",
    "\n",
    "poblacion_pais_sobre_45 = df[\"Edad\"] > 45\n",
    "suma_poblacion_chile_sobre_45 = (\n",
    "    df[poblacion_pais_sobre_45].loc[:, \"Poblacion 2017\":\"Poblacion 2035\"].sum().reset_index()\n",
    ")"
   ]
  },
  {
   "cell_type": "markdown",
   "metadata": {},
   "source": [
    "## 5. Población sobre 60 años"
   ]
  },
  {
   "cell_type": "code",
   "execution_count": 7,
   "metadata": {},
   "outputs": [],
   "source": [
    "poblacion_ssmo_sobre_60 = (poblacion_ssmo) & (df[\"Edad\"] > 60)\n",
    "suma_poblacion_ssmo_sobre_60 = (\n",
    "    df[poblacion_ssmo_sobre_60].loc[:, \"Poblacion 2017\":\"Poblacion 2035\"].sum().reset_index()\n",
    ")\n",
    "\n",
    "poblacion_rm_sobre_60 = (poblacion_rm) & (df[\"Edad\"] > 60)\n",
    "suma_poblacion_rm_sobre_60 = (\n",
    "    df[poblacion_rm_sobre_60].loc[:, \"Poblacion 2017\":\"Poblacion 2035\"].sum().reset_index()\n",
    ")\n",
    "\n",
    "poblacion_pais_sobre_60 = df[\"Edad\"] > 60\n",
    "suma_poblacion_chile_sobre_60 = (\n",
    "    df[poblacion_pais_sobre_60].loc[:, \"Poblacion 2017\":\"Poblacion 2035\"].sum().reset_index()\n",
    ")"
   ]
  },
  {
   "cell_type": "markdown",
   "metadata": {},
   "source": [
    "## 6. Población entre 60 a 70 años"
   ]
  },
  {
   "cell_type": "code",
   "execution_count": 19,
   "metadata": {},
   "outputs": [],
   "source": [
    "poblacion_ssmo_entre_60_a_70 = (poblacion_ssmo) & ((df[\"Edad\"] >= 60) & (df[\"Edad\"] <= 70))\n",
    "suma_poblacion_ssmo_entre_60_a_70 = (\n",
    "    df[poblacion_ssmo_entre_60_a_70].loc[:, \"Poblacion 2017\":\"Poblacion 2035\"].sum().reset_index()\n",
    ")\n",
    "\n",
    "poblacion_rm_entre_60_a_70 = (poblacion_rm) & ((df[\"Edad\"] >= 60) & (df[\"Edad\"] <= 70))\n",
    "suma_poblacion_rm_entre_60_a_70 = (\n",
    "    df[poblacion_rm_entre_60_a_70].loc[:, \"Poblacion 2017\":\"Poblacion 2035\"].sum().reset_index()\n",
    ")\n",
    "\n",
    "poblacion_pais_entre_60_a_70 = ((df[\"Edad\"] >= 60) & (df[\"Edad\"] <= 70))\n",
    "suma_poblacion_chile_entre_60_a_70 = (\n",
    "    df[poblacion_pais_entre_60_a_70].loc[:, \"Poblacion 2017\":\"Poblacion 2035\"].sum().reset_index()\n",
    ")"
   ]
  },
  {
   "cell_type": "markdown",
   "metadata": {},
   "source": [
    "## 7. Población Recién Nacidos Vivos"
   ]
  },
  {
   "cell_type": "code",
   "execution_count": 24,
   "metadata": {},
   "outputs": [],
   "source": [
    "poblacion_ssmo_recien_nacidos = (poblacion_ssmo) & (df[\"Edad\"] == 0)\n",
    "suma_poblacion_ssmo_recien_nacidos = (\n",
    "    df[poblacion_ssmo_recien_nacidos].loc[:, \"Poblacion 2017\":\"Poblacion 2035\"].sum().reset_index()\n",
    ")\n",
    "\n",
    "poblacion_rm_recien_nacidos = (poblacion_rm) & (df[\"Edad\"] == 0)\n",
    "suma_poblacion_rm_recien_nacidos = (\n",
    "    df[poblacion_rm_recien_nacidos].loc[:, \"Poblacion 2017\":\"Poblacion 2035\"].sum().reset_index()\n",
    ")\n",
    "\n",
    "poblacion_pais_recien_nacidos = (df[\"Edad\"] == 0)\n",
    "suma_poblacion_chile_recien_nacidos = (\n",
    "    df[poblacion_pais_recien_nacidos].loc[:, \"Poblacion 2017\":\"Poblacion 2035\"].sum().reset_index()\n",
    ")"
   ]
  }
 ],
 "metadata": {
  "kernelspec": {
   "display_name": "base",
   "language": "python",
   "name": "python3"
  },
  "language_info": {
   "codemirror_mode": {
    "name": "ipython",
    "version": 3
   },
   "file_extension": ".py",
   "mimetype": "text/x-python",
   "name": "python",
   "nbconvert_exporter": "python",
   "pygments_lexer": "ipython3",
   "version": "3.10.9"
  },
  "orig_nbformat": 4
 },
 "nbformat": 4,
 "nbformat_minor": 2
}
