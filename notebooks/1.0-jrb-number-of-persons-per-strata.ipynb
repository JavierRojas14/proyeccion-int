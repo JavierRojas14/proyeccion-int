{
 "cells": [
  {
   "cell_type": "code",
   "execution_count": 88,
   "metadata": {},
   "outputs": [],
   "source": [
    "import sys\n",
    "import os\n",
    "\n",
    "project_root = os.path.abspath('..')\n",
    "if project_root not in sys.path:\n",
    "    sys.path.append(project_root)\n",
    "\n",
    "%load_ext autoreload\n",
    "%autoreload 2"
   ]
  },
  {
   "cell_type": "code",
   "execution_count": 90,
   "metadata": {},
   "outputs": [],
   "source": [
    "import pandas as pd\n",
    "import numpy as np\n",
    "\n",
    "from src.features import build_features\n",
    "\n",
    "ANIO_INICIO = 2017\n",
    "ANIO_TERMINO = 2035\n",
    "\n",
    "COLUMNAS_POBLACION = [f\"Poblacion {i}\" for i in range(ANIO_INICIO, ANIO_TERMINO + 1)]\n",
    "\n",
    "COMUNAS_SSMO = [\n",
    "    \"Peñalolén\",\n",
    "    \"Macul\",\n",
    "    \"Ñuñoa\",\n",
    "    \"La Reina\",\n",
    "    \"Providencia\",\n",
    "    \"Las Condes\",\n",
    "    \"Vitacura\",\n",
    "    \"Lo Barnechea\",\n",
    "    \"Isla de Pascua\",\n",
    "]"
   ]
  },
  {
   "cell_type": "code",
   "execution_count": 91,
   "metadata": {},
   "outputs": [],
   "source": [
    "ruta_base_de_datos = (\n",
    "    \"../data/raw/3.0-planilla_poblacion_total/estimaciones-y-proyecciones-2002-2035-comunas.xlsx\"\n",
    ")\n",
    "\n",
    "# Lee la base de datos\n",
    "df = pd.read_excel(ruta_base_de_datos).iloc[:-2]\n",
    "\n",
    "# Renombra columna de hombres o mujeres\n",
    "df = df.rename(columns={\"Sexo\\n1=Hombre\\n2=Mujer\": \"hombre_mujer\"})\n",
    "\n",
    "# Indica si es adulto o infantil\n",
    "df[\"grupo_etario_poblacion\"] = np.where(df[\"Edad\"] >= 15, \"Adulto\", \"Infantil\")"
   ]
  },
  {
   "cell_type": "markdown",
   "metadata": {},
   "source": [
    "# Cálculo de Personas por Estrato\n",
    "\n",
    "Aquí se quiere calcular la cantidad de personas que hay en los siguientes estratos:\n",
    "\n",
    "1. Hombres y Mujeres\n",
    "2. Hombres\n",
    "3. Mujeres\n",
    "4. Población sobre 45 años\n",
    "5. Población sobre 60 años\n",
    "6. Población entre 60 a 70 años\n",
    "7. Población recién nacidos\n",
    "8. Población sobre 65 años\n",
    "\n",
    "Para cada estrato se calculará la población que hay para el SSMO, Región Metropolitana y el País."
   ]
  },
  {
   "cell_type": "code",
   "execution_count": 92,
   "metadata": {},
   "outputs": [],
   "source": [
    "ESTRATOS_A_CALCULAR = {}\n",
    "\n",
    "# Obtiene estratos a calcular\n",
    "df_pais = df.copy()\n",
    "ESTRATOS_A_CALCULAR[\"Pais\"] = df_pais\n",
    "\n",
    "for region in df_pais[\"M\"].unique():\n",
    "    df_region = df_pais.query(\"M == @region\").copy()\n",
    "    ESTRATOS_A_CALCULAR[region] = df_region\n",
    "\n",
    "df_ssmo = df_pais[df_pais[\"Nombre Comuna\"].isin(COMUNAS_SSMO)]\n",
    "ESTRATOS_A_CALCULAR[\"SSMO\"] = df_ssmo"
   ]
  },
  {
   "cell_type": "markdown",
   "metadata": {},
   "source": [
    "## Definición de grupos etarios a calcular\n",
    "\n",
    "En el próximo diccionario se definirán todos los grupos etarios que se quieren calcular para cada estrato previamente definidos."
   ]
  },
  {
   "cell_type": "code",
   "execution_count": 93,
   "metadata": {},
   "outputs": [],
   "source": [
    "# Define todos los grupos etarios a calcular.\n",
    "query_strings = {\n",
    "    \"pais\": \"\", # Todo el pais\n",
    "    \"hombres\": \"hombre_mujer == 1\", # Hombres\n",
    "    \"mujeres\": \"hombre_mujer == 2\", # Mujeres\n",
    "    \"recien_nacidos_vivos\": \"Edad == 0\", # Recien Nacidos Vivos\n",
    "    \"sobre_15\": \"Edad > 15\", # Sobre 15 anios\n",
    "    \"sobre_20\": \"Edad > 20\", # Sobre 20 anios\n",
    "    \"sobre_45\": \"Edad > 45\", # Sobre 45 anios\n",
    "    \"sobre_60\": \"Edad > 60\", # Sobre 60 anios\n",
    "    \"sobre_65\": \"Edad > 65\", # Sobre 65 anios\n",
    "    \"entre_15_a_24_anios\": \"Edad >= 15 and Edad <= 24\", # Entre 15 y 24 anios\n",
    "    \"entre_25_a_44_anios\": \"Edad >= 25 and Edad <= 44\", # Entre 25 y 44 anios\n",
    "    \"entre_45_a_59_anios\": \"Edad >= 45 and Edad <= 59\", # Entre 45 y 59 anios\n",
    "    \"entre_60_y_70\": \"Edad >= 60 and Edad <= 70\", # Entre 60 y 70 anios\n",
    "    \"entre_60_a_74_anios\": \"Edad >= 60 and Edad <= 74\", # Entre 60 a 74 anios\n",
    "    \"mayores_a_75_anios\": \"Edad >= 75\", # Mayores a 75 anios\n",
    "\n",
    "}"
   ]
  },
  {
   "cell_type": "code",
   "execution_count": 94,
   "metadata": {},
   "outputs": [],
   "source": [
    "results = build_features.iterate_queries(ESTRATOS_A_CALCULAR, query_strings, COLUMNAS_POBLACION)"
   ]
  }
 ],
 "metadata": {
  "kernelspec": {
   "display_name": "base",
   "language": "python",
   "name": "python3"
  },
  "language_info": {
   "codemirror_mode": {
    "name": "ipython",
    "version": 3
   },
   "file_extension": ".py",
   "mimetype": "text/x-python",
   "name": "python",
   "nbconvert_exporter": "python",
   "pygments_lexer": "ipython3",
   "version": "3.11.5"
  },
  "orig_nbformat": 4
 },
 "nbformat": 4,
 "nbformat_minor": 2
}
