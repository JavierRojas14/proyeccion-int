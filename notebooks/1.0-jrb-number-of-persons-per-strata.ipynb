{
 "cells": [
  {
   "cell_type": "code",
   "execution_count": 1,
   "metadata": {},
   "outputs": [],
   "source": [
    "import sys\n",
    "import os\n",
    "\n",
    "project_root = os.path.abspath('..')\n",
    "if project_root not in sys.path:\n",
    "    sys.path.append(project_root)\n",
    "\n",
    "%load_ext autoreload\n",
    "%autoreload 2"
   ]
  },
  {
   "cell_type": "code",
   "execution_count": 12,
   "metadata": {},
   "outputs": [],
   "source": [
    "import pandas as pd\n",
    "import numpy as np\n",
    "\n",
    "from src.features import build_features\n",
    "\n",
    "import glob\n",
    "\n",
    "ANIO_INICIO = 2017\n",
    "ANIO_TERMINO = 2035\n",
    "\n",
    "COLUMNAS_POBLACION_INE = [f\"{i}\" for i in range(ANIO_INICIO, ANIO_TERMINO + 1)]\n",
    "COLUMNAS_POBLACION_FONASA = [\"2018\", \"2019\", \"2020\", \"2021\", \"2022\"]\n",
    "\n",
    "COMUNAS_SSMO = [\n",
    "    \"Peñalolén\",\n",
    "    \"Macul\",\n",
    "    \"Ñuñoa\",\n",
    "    \"La Reina\",\n",
    "    \"Providencia\",\n",
    "    \"Las Condes\",\n",
    "    \"Vitacura\",\n",
    "    \"Lo Barnechea\",\n",
    "    \"Isla de Pascua\",\n",
    "]\n",
    "\n",
    "COMUNAS_SSMC = [\"Santiago\", \"Maipú\", \"Estación Central\", \"Cerrillos\"]"
   ]
  },
  {
   "cell_type": "markdown",
   "metadata": {},
   "source": [
    "## Obtener poblacion INE"
   ]
  },
  {
   "cell_type": "code",
   "execution_count": 3,
   "metadata": {},
   "outputs": [],
   "source": [
    "ruta_base_de_datos = (\n",
    "    \"../data/raw/3.0-planilla_poblacion_total/estimaciones-y-proyecciones-2002-2035-comunas.xlsx\"\n",
    ")\n",
    "\n",
    "# Lee la base de datos\n",
    "df = pd.read_excel(ruta_base_de_datos).iloc[:-2]\n",
    "\n",
    "# Elimina el sufijo 'Poblacion' de las columnas\n",
    "df.columns = df.columns.str.replace(\"Poblacion \", \"\")\n",
    "\n",
    "# Renombra columna de hombres o mujeres\n",
    "df = df.rename(columns={\"Sexo\\n1=Hombre\\n2=Mujer\": \"hombre_mujer\"})\n",
    "\n",
    "# Indica si es adulto o infantil\n",
    "df[\"grupo_etario_poblacion\"] = np.where(df[\"Edad\"] >= 15, \"Adulto\", \"Infantil\")"
   ]
  },
  {
   "cell_type": "markdown",
   "metadata": {},
   "source": [
    "## Obtener poblacion FONASA"
   ]
  },
  {
   "cell_type": "code",
   "execution_count": 4,
   "metadata": {},
   "outputs": [],
   "source": [
    "archivos = glob.glob(\"../data/raw/5.0-poblacion-fonasa/*.csv\")\n",
    "df_fonasa = pd.concat(pd.read_csv(archivo, encoding=\"latin-1\") for archivo in archivos)\n",
    "\n",
    "df_fonasa[\"ANO_INFORMACION\"] = df_fonasa.MES_INFORMACION.astype(str).str[:4]\n",
    "\n",
    "df_fonasa[\"REGION\"] = df_fonasa[\"REGION\"].str.upper().str.strip()\n",
    "df_fonasa[\"REGION\"] = df_fonasa[\"REGION\"].replace(\n",
    "    {\n",
    "        \"ÑUBLE\": \"DE ÑUBLE\",\n",
    "        \"DEL LIBERTADOR B. O'HIGGINS\": \"DEL LIBERTADOR GENERAL BERNARDO O'HIGGINS\",\n",
    "    }\n",
    ")\n",
    "\n",
    "df_fonasa[\"SEXO\"] = df_fonasa[\"SEXO\"].str.upper().str.strip()\n",
    "df_fonasa[\"SERVICIO_SALUD\"] = df_fonasa[\"SERVICIO_SALUD\"].str.upper().str.strip()\n",
    "df_fonasa[\"COMUNA\"] = df_fonasa[\"COMUNA\"].str.upper().str.strip()\n",
    "\n",
    "df_fonasa[\"EDAD_TRAMO\"] = df_fonasa[\"EDAD_TRAMO\"].replace(\n",
    "    {\"Más de 99 años\": \"99 años\", \"S.I.\": \"-1\"}\n",
    ")\n",
    "df_fonasa[\"EDAD_TRAMO\"] = df_fonasa[\"EDAD_TRAMO\"].str.split().str[0].astype(int)"
   ]
  },
  {
   "cell_type": "markdown",
   "metadata": {},
   "source": [
    "## Definición de Estratos a Calcular\n",
    "\n",
    "En este cuadernillo se quiere calcular la población para distintos Estratos y Grupos Etarios del País. Para esto, se utilizará la base de datos de la estimación de la población del Instituto Nacional de Estadísticas (INE) entre 2017 y 2035.\n",
    "\n",
    "En primer lugar, se definirán los siguientes estratos a calcular:\n",
    "\n",
    "1. País\n",
    "2. Regiones del País\n",
    "3. SSMO\n",
    "4. SSMC"
   ]
  },
  {
   "cell_type": "markdown",
   "metadata": {},
   "source": [
    "### INE"
   ]
  },
  {
   "cell_type": "code",
   "execution_count": 5,
   "metadata": {},
   "outputs": [],
   "source": [
    "ESTRATOS_A_CALCULAR_INE = {}\n",
    "\n",
    "# Obtiene estratos a calcular\n",
    "df_pais = df.copy()\n",
    "ESTRATOS_A_CALCULAR_INE[\"Pais\"] = df_pais\n",
    "\n",
    "for region in df_pais[\"M\"].unique():\n",
    "    df_region = df_pais.query(\"M == @region\").copy()\n",
    "    ESTRATOS_A_CALCULAR_INE[region] = df_region\n",
    "\n",
    "df_ssmo = df_pais[df_pais[\"Nombre Comuna\"].isin(COMUNAS_SSMO)]\n",
    "ESTRATOS_A_CALCULAR_INE[\"SSMO\"] = df_ssmo\n",
    "\n",
    "df_ssmc = df_pais[df_pais[\"Nombre Comuna\"].isin(COMUNAS_SSMC)]\n",
    "ESTRATOS_A_CALCULAR_INE[\"SSMC\"] = df_ssmc"
   ]
  },
  {
   "cell_type": "markdown",
   "metadata": {},
   "source": [
    "### FONASA"
   ]
  },
  {
   "cell_type": "code",
   "execution_count": 6,
   "metadata": {},
   "outputs": [],
   "source": [
    "# Obtiene estratos a calcular FONASA\n",
    "ESTRATOS_A_CALCULAR_FONASA = {}\n",
    "\n",
    "# Estrato pais\n",
    "df_pais_fonasa = df_fonasa.copy()\n",
    "ESTRATOS_A_CALCULAR_FONASA[\"Pais\"] = df_pais_fonasa\n",
    "\n",
    "# Por region\n",
    "for region in df_pais_fonasa[\"REGION\"].unique():\n",
    "    df_region_fonasa = df_pais_fonasa.query(\"REGION == @region\").copy()\n",
    "    ESTRATOS_A_CALCULAR_FONASA[region] = df_region_fonasa\n",
    "\n",
    "# Obtiene SSMO y SSMC\n",
    "df_ssmo_fonasa = df_pais_fonasa.query(\"SERVICIO_SALUD == 'SERVICIO DE SALUD METROPOLITANO ORIENTE'\")\n",
    "df_ssmc_fonasa = df_pais_fonasa.query(\"SERVICIO_SALUD == 'SERVICIO DE SALUD METROPOLITANO CENTRAL'\")\n",
    "\n",
    "ESTRATOS_A_CALCULAR_FONASA[\"SSMO\"] = df_ssmo_fonasa\n",
    "ESTRATOS_A_CALCULAR_FONASA[\"SSMC\"] = df_ssmc_fonasa"
   ]
  },
  {
   "cell_type": "markdown",
   "metadata": {},
   "source": [
    "## Definición de grupos etarios a calcular\n",
    "\n",
    "En el próximo diccionario se definirán todos los grupos etarios que se quieren calcular para cada estrato previamente definidos."
   ]
  },
  {
   "cell_type": "markdown",
   "metadata": {},
   "source": [
    "### INE"
   ]
  },
  {
   "cell_type": "code",
   "execution_count": 7,
   "metadata": {},
   "outputs": [],
   "source": [
    "# Define todos los grupos etarios a calcular.\n",
    "query_strings = {\n",
    "    \"todos\": \"\", # Todo el pais\n",
    "    \"hombres\": \"hombre_mujer == 1\", # Hombres\n",
    "    \"mujeres\": \"hombre_mujer == 2\", # Mujeres\n",
    "    \"recien_nacidos_vivos\": \"Edad == 0\", # Recien Nacidos Vivos\n",
    "    \"sobre_15\": \"Edad > 15\", # Sobre 15 anios\n",
    "    \"sobre_20\": \"Edad > 20\", # Sobre 20 anios\n",
    "    \"sobre_45\": \"Edad > 45\", # Sobre 45 anios\n",
    "    \"sobre_60\": \"Edad > 60\", # Sobre 60 anios\n",
    "    \"sobre_65\": \"Edad > 65\", # Sobre 65 anios\n",
    "    \"sobre_75\": \"Edad > 75\", # Sobre 75 anios\n",
    "    \"entre_15_a_24_anios\": \"Edad >= 15 and Edad <= 24\", # Entre 15 y 24 anios\n",
    "    \"entre_25_a_44_anios\": \"Edad >= 25 and Edad <= 44\", # Entre 25 y 44 anios\n",
    "    \"entre_45_a_59_anios\": \"Edad >= 45 and Edad <= 59\", # Entre 45 y 59 anios\n",
    "    \"entre_60_y_70\": \"Edad >= 60 and Edad <= 70\", # Entre 60 y 70 anios\n",
    "    \"entre_60_a_74_anios\": \"Edad >= 60 and Edad <= 74\", # Entre 60 a 74 anios\n",
    "    \"mayores_a_75_anios\": \"Edad >= 75\", # Mayores a 75 anios\n",
    "\n",
    "}"
   ]
  },
  {
   "cell_type": "markdown",
   "metadata": {},
   "source": [
    "Finalmente, se calculará la cantidad de población para distintos estratos y grupos etarios."
   ]
  },
  {
   "cell_type": "code",
   "execution_count": 8,
   "metadata": {},
   "outputs": [],
   "source": [
    "# Obtiene resultados por estratos y grupos etarios\n",
    "poblaciones_estratos_calculados_ine = build_features.iterate_queries(\n",
    "    ESTRATOS_A_CALCULAR_INE, query_strings, COLUMNAS_POBLACION_INE\n",
    ")\n",
    "# Une todos los resultados en un unico DataFrame\n",
    "poblaciones_estratos_calculados_ine = pd.concat(poblaciones_estratos_calculados_ine)\n",
    "poblaciones_estratos_calculados_ine = poblaciones_estratos_calculados_ine.reset_index(\n",
    "    names=[\"Edad Incidencia\", \"Estrato\"]\n",
    ")"
   ]
  },
  {
   "cell_type": "markdown",
   "metadata": {},
   "source": [
    "### FONASA"
   ]
  },
  {
   "cell_type": "code",
   "execution_count": 9,
   "metadata": {},
   "outputs": [],
   "source": [
    "# Define todos los grupos etarios a calcular.\n",
    "query_strings = {\n",
    "    \"todos\": \"\", # Todo el pais\n",
    "    \"hombres\": \"SEXO == 'HOMBRE'\", # Hombres\n",
    "    \"mujeres\": \"SEXO == 'MUJER'\", # Mujeres\n",
    "    \"recien_nacidos_vivos\": \"\", # Recien Nacidos Vivos\n",
    "    \"sobre_15\": \"EDAD_TRAMO >= 15\", # Sobre 15 anios\n",
    "    \"sobre_20\": \"EDAD_TRAMO >= 20\", # Sobre 20 anios\n",
    "    \"sobre_45\": \"EDAD_TRAMO >= 45\", # Sobre 45 anios\n",
    "    \"sobre_60\": \"EDAD_TRAMO >= 60\", # Sobre 60 anios\n",
    "    \"sobre_65\": \"EDAD_TRAMO >= 65\", # Sobre 65 anios\n",
    "    \"sobre_75\": \"EDAD_TRAMO >= 75\", # Sobre 75 anios\n",
    "    \"entre_15_a_24_anios\": \"EDAD_TRAMO >= 15 and EDAD_TRAMO < 25\", # Entre 15 y 24 anios\n",
    "    \"entre_25_a_44_anios\": \"EDAD_TRAMO >= 25 and EDAD_TRAMO < 45\", # Entre 25 y 44 anios\n",
    "    \"entre_45_a_59_anios\": \"EDAD_TRAMO >= 45 and EDAD_TRAMO < 60\", # Entre 45 y 59 anios\n",
    "    \"entre_60_y_70_anios\": \"EDAD_TRAMO >= 60 and EDAD_TRAMO <= 70\", # Entre 60 y 70 anios\n",
    "    \"entre_60_a_74_anios\": \"EDAD_TRAMO >= 60 and EDAD_TRAMO < 75\", # Entre 60 a 74 anios\n",
    "    \"mayores_a_75_anios\": \"EDAD_TRAMO >= 75\", # Mayores a 75 anios\n",
    "}"
   ]
  },
  {
   "cell_type": "code",
   "execution_count": 10,
   "metadata": {},
   "outputs": [],
   "source": [
    "# Obtiene resultados por estratos y grupos etarios\n",
    "poblaciones_estratos_calculados_fonasa = build_features.iterate_queries(\n",
    "    ESTRATOS_A_CALCULAR_FONASA, query_strings, \"CUENTA_BENEFICIARIOS\", \"FONASA\"\n",
    ")\n",
    "\n",
    "# Une todos los resultaods en un unico DataFrame\n",
    "poblaciones_estratos_calculados_fonasa = pd.concat(poblaciones_estratos_calculados_fonasa)\n",
    "poblaciones_estratos_calculados_fonasa = poblaciones_estratos_calculados_fonasa.reset_index(\n",
    "    names=[\"Edad Incidencia\", \"Estrato\"]\n",
    ")"
   ]
  },
  {
   "cell_type": "markdown",
   "metadata": {},
   "source": [
    "## Obtener porcentaje de población FONASA total\n",
    "\n",
    "En este caso, se quiere saber el % de población FONASA a nivel Nacional. Esto se utilizará para obtener los casos FONASA al 2035."
   ]
  },
  {
   "cell_type": "code",
   "execution_count": 14,
   "metadata": {},
   "outputs": [],
   "source": [
    "poblacion_INE_nacional_2018_y_2022 = poblaciones_estratos_calculados_ine.query(\n",
    "    \"`Edad Incidencia` == 'todos' and Estrato == 'Pais'\"\n",
    ")[COLUMNAS_POBLACION_FONASA]\n",
    "\n",
    "poblacion_FONASA_nacional_2018_y_2022 = poblaciones_estratos_calculados_fonasa.query(\n",
    "    \"`Edad Incidencia` == 'todos' and Estrato == 'Pais'\"\n",
    ")[COLUMNAS_POBLACION_FONASA]\n"
   ]
  },
  {
   "cell_type": "markdown",
   "metadata": {},
   "source": [
    "---"
   ]
  },
  {
   "cell_type": "markdown",
   "metadata": {},
   "source": [
    "En este apartado se leerán las incidencias, junto a las poblaciones respectivas donde se tienen que aplicar tales incidencias. Posteriormente, se calcularán los casos teóricos para cada problema de salud, y para cada estrato definido."
   ]
  },
  {
   "cell_type": "markdown",
   "metadata": {},
   "source": [
    "## Lectura de Incidencias por problema de salud"
   ]
  },
  {
   "cell_type": "code",
   "execution_count": 15,
   "metadata": {},
   "outputs": [],
   "source": [
    "RUTA_PLANILLA_INCIDENCIAS = \"../data/external/incidencias_y_prevalencias.xlsx\"\n",
    "COLUMNAS_A_UTILIZAR = [\"Diagnostico\", \"Estadística\", \"Casos (Cada 100.000)\", \"Edad Incidencia\"]\n",
    "\n",
    "\n",
    "# Lee planilla de incidencias\n",
    "incidencias = pd.read_excel(RUTA_PLANILLA_INCIDENCIAS, usecols=COLUMNAS_A_UTILIZAR)\n",
    "# Convierte las incidencia a numeros e imputa las faltantes como NaN\n",
    "incidencias[\"Casos (Cada 100.000)\"] = pd.to_numeric(\n",
    "    incidencias[\"Casos (Cada 100.000)\"], errors=\"coerce\"\n",
    ")\n",
    "\n",
    "# Obtiene la fraccion de la incidencia, para multiplicar con la poblacion directamente\n",
    "incidencias[\"rate_incidencia\"] = incidencias[\"Casos (Cada 100.000)\"] / 100000"
   ]
  },
  {
   "cell_type": "markdown",
   "metadata": {},
   "source": [
    "## Estimacion de casos con INE"
   ]
  },
  {
   "cell_type": "code",
   "execution_count": 16,
   "metadata": {},
   "outputs": [],
   "source": [
    "# Une las incidencias con las poblacion calculadas segun los estratos respectivos\n",
    "union_poblaciones_e_incidencias_ine = incidencias.merge(\n",
    "    poblaciones_estratos_calculados_ine, how=\"left\", on=\"Edad Incidencia\"\n",
    ")\n",
    "\n",
    "# Multiplica la incidencia por las poblaciones\n",
    "union_poblaciones_e_incidencias_ine[COLUMNAS_POBLACION_INE] = union_poblaciones_e_incidencias_ine[\n",
    "    COLUMNAS_POBLACION_INE\n",
    "].multiply(union_poblaciones_e_incidencias_ine[\"rate_incidencia\"], axis=\"index\")\n",
    "\n",
    "# Elimina rate de incidencia para claridad\n",
    "union_poblaciones_e_incidencias_ine = union_poblaciones_e_incidencias_ine.drop(\n",
    "    columns=\"rate_incidencia\"\n",
    ")"
   ]
  },
  {
   "cell_type": "markdown",
   "metadata": {},
   "source": [
    "## Estimacion de casos con FONASA"
   ]
  },
  {
   "cell_type": "code",
   "execution_count": 17,
   "metadata": {},
   "outputs": [],
   "source": [
    "# Une las incidencias con las poblacion calculadas segun los estratos respectivos\n",
    "union_poblaciones_e_incidencias_fonasa = incidencias.merge(\n",
    "    poblaciones_estratos_calculados_fonasa, how=\"left\", on=\"Edad Incidencia\"\n",
    ")\n",
    "\n",
    "# Multiplica la incidencia por las poblaciones\n",
    "union_poblaciones_e_incidencias_fonasa[COLUMNAS_POBLACION_FONASA] = (\n",
    "    union_poblaciones_e_incidencias_fonasa[COLUMNAS_POBLACION_FONASA].multiply(\n",
    "        union_poblaciones_e_incidencias_fonasa[\"rate_incidencia\"], axis=\"index\"\n",
    "    )\n",
    ")\n",
    "\n",
    "# Elimina rate de incidencia para claridad\n",
    "union_poblaciones_e_incidencias_fonasa = union_poblaciones_e_incidencias_fonasa.drop(\n",
    "    columns=\"rate_incidencia\"\n",
    ")"
   ]
  },
  {
   "cell_type": "code",
   "execution_count": 18,
   "metadata": {},
   "outputs": [],
   "source": [
    "with pd.ExcelWriter(\"../data/interim/casos_teoricos_diagnosticos.xlsx\") as writer:\n",
    "    union_poblaciones_e_incidencias_ine.to_excel(\n",
    "        writer, sheet_name=\"casos_teoricos_INE\", index=False\n",
    "    )\n",
    "    poblaciones_estratos_calculados_ine.to_excel(writer, sheet_name=\"poblacion_INE\", index=False)\n",
    "\n",
    "    union_poblaciones_e_incidencias_fonasa.to_excel(\n",
    "        writer, sheet_name=\"casos_teoricos_FONASA\", index=False\n",
    "    )\n",
    "    poblaciones_estratos_calculados_fonasa.to_excel(\n",
    "        writer, sheet_name=\"poblacion_FONASA\", index=False\n",
    "    )"
   ]
  }
 ],
 "metadata": {
  "kernelspec": {
   "display_name": "base",
   "language": "python",
   "name": "python3"
  },
  "language_info": {
   "codemirror_mode": {
    "name": "ipython",
    "version": 3
   },
   "file_extension": ".py",
   "mimetype": "text/x-python",
   "name": "python",
   "nbconvert_exporter": "python",
   "pygments_lexer": "ipython3",
   "version": "3.11.5"
  },
  "orig_nbformat": 4
 },
 "nbformat": 4,
 "nbformat_minor": 2
}
