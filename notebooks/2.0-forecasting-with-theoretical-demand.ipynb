{
 "cells": [
  {
   "cell_type": "code",
   "execution_count": 94,
   "metadata": {},
   "outputs": [
    {
     "name": "stdout",
     "output_type": "stream",
     "text": [
      "The autoreload extension is already loaded. To reload it, use:\n",
      "  %reload_ext autoreload\n"
     ]
    }
   ],
   "source": [
    "import sys\n",
    "import os\n",
    "\n",
    "project_root = os.path.abspath('..')\n",
    "if project_root not in sys.path:\n",
    "    sys.path.append(project_root)\n",
    "\n",
    "%load_ext autoreload\n",
    "%autoreload 2"
   ]
  },
  {
   "cell_type": "code",
   "execution_count": 95,
   "metadata": {},
   "outputs": [],
   "source": [
    "import pandas as pd\n",
    "import numpy as np\n",
    "\n",
    "import matplotlib.pyplot as plt\n",
    "import seaborn as sns\n",
    "\n",
    "from src.features import build_features\n",
    "from src.visualization import visualize\n",
    "\n",
    "sns.set_theme(palette=\"pastel\")\n",
    "plt.rcParams[\"figure.figsize\"] = (12, 6)\n",
    "\n",
    "# Asumiendo que es una ocupacion del 80% de camas\n",
    "INDICE_OCUPACION_CAMAS = 1.25\n",
    "\n",
    "# Agrega las columnas de poblacion de interes\n",
    "COLUMNAS_POBLACION_INTERES = [i for i in range(2017, 2036)]"
   ]
  },
  {
   "cell_type": "markdown",
   "metadata": {},
   "source": [
    "# Proyección de casos INT al 2035\n",
    "\n",
    "En este cuadernillo se quiere estimar la deminada que atenderá el INT para el 2035. Con esta demanada se calcularán las cantidades de camas necesarias para suplir tal demanda. Para determinar la demanda se utilizarán:\n",
    "\n",
    "1. Cantidad de casos teóricos por problemas de salud relevantes seleccionados: Estos se calcularon según la incidencia de cada problema de salud y la proyección de la población al 2035.\n",
    "\n",
    "2. Cantidad de casos atendidos actualmente por cada problema de salud: Estos se obtuvieron al analizar la base de egresos hospitalarios DEIS.\n",
    "\n",
    "Con ambos datos, se obtendrá cuanto % de atención ha cubierto el INT de los casos teóricos."
   ]
  },
  {
   "cell_type": "code",
   "execution_count": 168,
   "metadata": {},
   "outputs": [],
   "source": [
    "# Obtiene los casos de area de influencia\n",
    "casos_area_de_influencia = pd.read_excel(\n",
    "    \"../data/interim/casos_teoricos_diagnosticos.xlsx\", sheet_name=\"casos_area_de_influencia_INT\"\n",
    ")\n",
    "\n",
    "# Preprocesa el diagnostico\n",
    "casos_area_de_influencia[\"Diagnostico\"] = (\n",
    "    casos_area_de_influencia[\"Diagnostico\"].str.split(\" - \").str[0]\n",
    ")\n",
    "\n",
    "# Preprocesa los diagnosticos agrupados\n",
    "casos_area_de_influencia[\"Diagnosticos Contenidos\"] = casos_area_de_influencia[\n",
    "    \"Diagnosticos Contenidos\"\n",
    "].str.split(\", \")"
   ]
  },
  {
   "cell_type": "code",
   "execution_count": 169,
   "metadata": {},
   "outputs": [],
   "source": [
    "# Obtiene los diagnosticos relevantes a filtrar de los egresos hospitalarios\n",
    "DIAGNOSTICOS_RELEVANTES = list(\n",
    "    casos_area_de_influencia[\"Diagnostico\"].str.split(\" - \").str[0].unique()\n",
    ")\n",
    "\n",
    "# Obtiene los diagnosticos agrupados\n",
    "DIAGNOSTICOS_AGRUPADOS = list(\n",
    "    casos_area_de_influencia.explode(\"Diagnosticos Contenidos\")[\"Diagnosticos Contenidos\"]\n",
    "    .dropna()\n",
    "    .str.strip()\n",
    "    .unique()\n",
    ")\n",
    "\n",
    "# Suma los diagnosticos agrupados a los diagnosticos relevantes\n",
    "DIAGNOSTICOS_RELEVANTES += DIAGNOSTICOS_AGRUPADOS\n",
    "DIAGNOSTICOS_RELEVANTES = sorted(DIAGNOSTICOS_RELEVANTES)"
   ]
  },
  {
   "cell_type": "code",
   "execution_count": 170,
   "metadata": {},
   "outputs": [],
   "source": [
    "# Genera duplas de diagnosticos a reasignar\n",
    "DIAGNOSTICOS_A_REASIGNAR = casos_area_de_influencia.query(\"`Diagnosticos Contenidos`.notna()\")[\n",
    "    [\"Diagnostico\", \"Diagnosticos Contenidos\"]\n",
    "]"
   ]
  },
  {
   "cell_type": "code",
   "execution_count": 171,
   "metadata": {},
   "outputs": [
    {
     "name": "stdout",
     "output_type": "stream",
     "text": [
      "Los diagnosticos ['C341', 'C342', 'C343', 'C780', 'C782', 'D381'] seran reasignados a C34N\n"
     ]
    }
   ],
   "source": [
    "for row in DIAGNOSTICOS_A_REASIGNAR.itertuples():\n",
    "    diagnostico_nuevo = row[1]\n",
    "    diagnosticos_antiguos = row[2]\n",
    "    print(f\"Los diagnosticos {diagnosticos_antiguos} seran reasignados a {diagnostico_nuevo}\")"
   ]
  },
  {
   "cell_type": "markdown",
   "metadata": {},
   "source": [
    "## Obtencion de casos teoricos para cada diagnóstico relevante segun incidencia\n",
    "\n",
    "Estos seran obtenidos desde el cuadernillo 1.0-jrb-number-of-persons-per-strata"
   ]
  },
  {
   "cell_type": "code",
   "execution_count": 172,
   "metadata": {},
   "outputs": [],
   "source": [
    "# Importa los casos teoricos por cada problema de salud\n",
    "casos_teoricos_nacionales = pd.read_excel(\n",
    "    \"../data/interim/casos_teoricos_diagnosticos.xlsx\", sheet_name=\"casos_teoricos_INE\"\n",
    ")\n",
    "casos_teoricos_nacionales[\"Diagnostico\"] = (\n",
    "    casos_teoricos_nacionales[\"Diagnostico\"].str.split(\"-\").str[0].str.strip()\n",
    ")\n",
    "\n",
    "# Extrae los diagnosticos relevantes para el recinto hospitalario\n",
    "casos_teoricos_nacionales = casos_teoricos_nacionales.set_index(\"Diagnostico\")\n",
    "\n",
    "# Renombra columnas\n",
    "COLUMNAS_A_RENOMBRAR = {\n",
    "    \"2017\": 2017,\n",
    "    \"2018\": 2018,\n",
    "    \"2019\": 2019,\n",
    "    \"2020\": 2020,\n",
    "    \"2021\": 2021,\n",
    "    \"2022\": 2022,\n",
    "    \"2023\": 2023,\n",
    "    \"2024\": 2024,\n",
    "    \"2025\": 2025,\n",
    "    \"2026\": 2026,\n",
    "    \"2027\": 2027,\n",
    "    \"2028\": 2028,\n",
    "    \"2029\": 2029,\n",
    "    \"2030\": 2030,\n",
    "    \"2031\": 2031,\n",
    "    \"2032\": 2032,\n",
    "    \"2033\": 2033,\n",
    "    \"2034\": 2034,\n",
    "    \"2035\": 2035,\n",
    "}\n",
    "casos_teoricos_nacionales = casos_teoricos_nacionales.rename(columns=COLUMNAS_A_RENOMBRAR)\n",
    "\n",
    "# Obtiene los casos en el estrato nacional\n",
    "casos_pais = casos_teoricos_nacionales.query(\"Estrato == 'Pais'\").copy().sort_index()\n",
    "casos_pais_del_2017_al_2020 = casos_pais[[i for i in range(2017, 2020)]]"
   ]
  },
  {
   "cell_type": "code",
   "execution_count": 174,
   "metadata": {},
   "outputs": [
    {
     "name": "stdout",
     "output_type": "stream",
     "text": [
      "Los diagnosticos que seran proyectados son: \n",
      "['A152', 'B441', 'C341', 'C342', 'C343', 'C34N', 'C381', 'C780', 'C782', 'D381', 'E848', 'I051', 'I052', 'I080', 'I081', 'I232', 'I330', 'I340', 'I351', 'I352', 'I35C', 'I35D', 'I35X', 'I361', 'I420', 'I421', 'I495', 'I710', 'I711', 'I712', 'I715', 'J679', 'J841', 'J848', 'J955', 'M051', 'M348', 'Q222', 'Q233', 'Q257', 'Z450'] \n",
      "y son 41\n"
     ]
    }
   ],
   "source": [
    "print(\n",
    "    f\"Los diagnosticos que seran proyectados son: \\n{DIAGNOSTICOS_RELEVANTES} \"\n",
    "    f\"\\ny son {len(DIAGNOSTICOS_RELEVANTES)}\"\n",
    ")"
   ]
  },
  {
   "cell_type": "markdown",
   "metadata": {},
   "source": [
    "## Obtención de casos atendidos entre 2017 y 2020 para diagnósticos relevantes.\n",
    "\n",
    "Estos se obtendrán del análisis de egresos hospitalarios a nivel país DEIS."
   ]
  },
  {
   "cell_type": "code",
   "execution_count": 175,
   "metadata": {},
   "outputs": [],
   "source": [
    "# Carga los egresos nacionales\n",
    "egresos_nacionales = pd.read_csv(\n",
    "    \"../data/raw/4_resumen_egresos_nacionales/ranking_nacional_egresos.csv\",\n",
    "    sep=\";\",\n",
    "    encoding=\"latin-1\",\n",
    ")\n",
    "\n",
    "# Filtra solamente los datos del INT\n",
    "egresos_torax = egresos_nacionales.query(\"ESTABLECIMIENTO_SALUD == 112103\").copy()"
   ]
  },
  {
   "cell_type": "markdown",
   "metadata": {},
   "source": [
    "En primer lugar, se filtrarán ambas bases de datos para solamente tener la información de los diagnósticos más relevantes para el INT. Luego de esto, se calculará la cantidad de egresos, dias de estada y pacientes para cada uno de los diagnósticos. Estos insumos serán utilizados para estimar la demanda.\n"
   ]
  },
  {
   "cell_type": "code",
   "execution_count": 176,
   "metadata": {},
   "outputs": [],
   "source": [
    "# Filtra solamente los diagnosticos mas relevantes del Torax\n",
    "egresos_mas_relevantes_nacionales = (\n",
    "    egresos_nacionales[egresos_nacionales[\"DIAG1\"].isin(DIAGNOSTICOS_RELEVANTES)]\n",
    "    .query(\"ANO_EGRESO >= 2017 and ANO_EGRESO <= 2019\")\n",
    "    .copy()\n",
    ")"
   ]
  },
  {
   "cell_type": "markdown",
   "metadata": {},
   "source": [
    "Previo a calcular las métricas para cada diagnóstico, es necesario agrupar algunos de ellos. Esto se debe a que ciertas incidencias fueron imposible de encontrar, como por ejemplo con:\n",
    "\n",
    "- **I052 - Estenosis mitral con insuficiencia**: El 100% de los egresos y cantidad de pacientes será asignado al diagnóstico I051 - Insuficiencia mitral reumática. Sólamente se calculará la cantidad de casos teóricos para la insuficiencia mitral reumática.\n",
    "\n",
    "- **I080 - Trastornos de las válvulas mitral y aórtica**: El 100% de los egresos y cantidad de pacientes será asignado al diagnóstico I340 - Insuficiencia (de la válvula) mitral y I350 - Estenosis (de la válvula) aórtica.\n",
    "\n",
    "- **I081 - Trastornos de las válvulas mitral y tricúspide**: El 100% de los egresos y cantidad de pacientes será asignado al diagnóstico I340 - Insuficiencia (de la válvula) mitral y I361 - Insuficiencia no reumática (de la válvula) tricúspide."
   ]
  },
  {
   "cell_type": "code",
   "execution_count": 177,
   "metadata": {},
   "outputs": [],
   "source": [
    "# Reasigna I052\n",
    "egresos_mas_relevantes_nacionales[\"DIAG1\"] = (\n",
    "    egresos_mas_relevantes_nacionales[\"DIAG1\"].replace({\"I052\": \"I051\"}).copy()\n",
    ")\n",
    "\n",
    "# Reasigna I080 a I340 y I350 (Estenosis Mitral y Aortica, respectivamente)\n",
    "egresos_mas_relevantes_nacionales = build_features.assign_diagnosis(\n",
    "    egresos_mas_relevantes_nacionales, \"I080\", \"I340\", \"I350\"\n",
    ")\n",
    "\n",
    "# Reasigna I081 a I340 y I361 (Estenosis Mitral, y Valvulopatia Tricuspide)\n",
    "egresos_mas_relevantes_nacionales = build_features.assign_diagnosis(\n",
    "    egresos_mas_relevantes_nacionales, \"I081\", \"I340\", \"I361\"\n",
    ")"
   ]
  },
  {
   "cell_type": "markdown",
   "metadata": {},
   "source": [
    "Además, también se reasignarán los diagnósticos de:\n",
    "\n",
    "- C341 - Tumor maligno del lóbulo superior, bronquio o pulmón\n",
    "- C342 - Tumor maligno del lóbulo medio, bronquio o pulmón\n",
    "- C343 - Tumor maligno del lóbulo inferior, bronquio o pulmón\n",
    "- C780 - Tumor maligno secundario del pulmón\n",
    "- C782 - Tumor maligno secundario de la pleura\n",
    "- D381 - Tumor de comportamiento incierto o desconocido de la tráquea, de los bronquios y del pulmón\n",
    "\n",
    "Todos estos se reasignarán al diagnóstico C34XN (N, para que no se mezclen con los C34X asignados realmente así). Esto, con el fin de poder calcular las estadísticas agrupadas para todos estos diagnósticos (egresos por persona, días de estada)."
   ]
  },
  {
   "cell_type": "code",
   "execution_count": 178,
   "metadata": {},
   "outputs": [],
   "source": [
    "# Reasigna C341, C342, C343, C780, C782, D381 a C34XN\n",
    "egresos_mas_relevantes_nacionales[\"DIAG1\"] = (\n",
    "    egresos_mas_relevantes_nacionales[\"DIAG1\"].replace(\n",
    "        [\"C341\", \"C342\", \"C343\", \"C780\", \"C782\", \"D381\"], \"C341\"\n",
    "    )\n",
    ").copy()"
   ]
  },
  {
   "cell_type": "code",
   "execution_count": 179,
   "metadata": {},
   "outputs": [],
   "source": [
    "# Filtra solamente los diagnosticos relevantes para el torax\n",
    "egresos_mas_relevantes_torax = egresos_mas_relevantes_nacionales.query(\n",
    "    \"ESTABLECIMIENTO_SALUD == 112103\"\n",
    ").copy()"
   ]
  },
  {
   "cell_type": "code",
   "execution_count": 180,
   "metadata": {},
   "outputs": [],
   "source": [
    "# Obtiene el resumen de metricas para el estrato nacional\n",
    "metricas_diags_relevantes_nacionales = build_features.calculate_discharges_metrics(\n",
    "    egresos_mas_relevantes_nacionales\n",
    ")\n",
    "\n",
    "# Obtiene resumen de metricas para el Torax\n",
    "metricas_diags_relevantes_torax = build_features.calculate_discharges_metrics(\n",
    "    egresos_mas_relevantes_torax\n",
    ")"
   ]
  },
  {
   "cell_type": "markdown",
   "metadata": {},
   "source": [
    "Solamente se compararán los casos reales vs teóricos entre 2017 y 2020, ya que la información se encuentra disponible en tales periodos.\n",
    "\n",
    "En primer lugar, se obtendrá el porcentaje de atención del INT del total de casos teóricos. O sea:\n",
    "\n",
    "$$\\%atencion = \\frac{Casos Reales}{Casos Teoricos}$$\n",
    "\n",
    "La cantidad de casos están desglosados por año, por lo que es posible calcular un porcentaje de atención anual. Sin embargo, para efectos de cálculo, se obtendrá el porcentaje acumulado entre los años disponibles (2017 a 2020).\n",
    "\n",
    "$$\\%Atencion\\ Acumulada = \\frac{\\sum_{2017}^{2020}Casos Reales}{\\sum_{2017}^{2020}Casos Teoricos}$$"
   ]
  },
  {
   "cell_type": "code",
   "execution_count": 181,
   "metadata": {},
   "outputs": [
    {
     "data": {
      "text/html": [
       "<div>\n",
       "<style scoped>\n",
       "    .dataframe tbody tr th:only-of-type {\n",
       "        vertical-align: middle;\n",
       "    }\n",
       "\n",
       "    .dataframe tbody tr th {\n",
       "        vertical-align: top;\n",
       "    }\n",
       "\n",
       "    .dataframe thead th {\n",
       "        text-align: right;\n",
       "    }\n",
       "</style>\n",
       "<table border=\"1\" class=\"dataframe\">\n",
       "  <thead>\n",
       "    <tr style=\"text-align: right;\">\n",
       "      <th></th>\n",
       "      <th>2017</th>\n",
       "      <th>2018</th>\n",
       "      <th>2019</th>\n",
       "    </tr>\n",
       "    <tr>\n",
       "      <th>Diagnostico</th>\n",
       "      <th></th>\n",
       "      <th></th>\n",
       "      <th></th>\n",
       "    </tr>\n",
       "  </thead>\n",
       "  <tbody>\n",
       "    <tr>\n",
       "      <th>A152</th>\n",
       "      <td>2450</td>\n",
       "      <td>2494</td>\n",
       "      <td>2541</td>\n",
       "    </tr>\n",
       "    <tr>\n",
       "      <th>C34N</th>\n",
       "      <td>7368</td>\n",
       "      <td>7501</td>\n",
       "      <td>7643</td>\n",
       "    </tr>\n",
       "    <tr>\n",
       "      <th>C381</th>\n",
       "      <td>221</td>\n",
       "      <td>225</td>\n",
       "      <td>229</td>\n",
       "    </tr>\n",
       "    <tr>\n",
       "      <th>E848</th>\n",
       "      <td>26</td>\n",
       "      <td>25</td>\n",
       "      <td>26</td>\n",
       "    </tr>\n",
       "    <tr>\n",
       "      <th>I051</th>\n",
       "      <td>1405</td>\n",
       "      <td>1431</td>\n",
       "      <td>1458</td>\n",
       "    </tr>\n",
       "    <tr>\n",
       "      <th>I232</th>\n",
       "      <td>155</td>\n",
       "      <td>158</td>\n",
       "      <td>161</td>\n",
       "    </tr>\n",
       "    <tr>\n",
       "      <th>I330</th>\n",
       "      <td>460</td>\n",
       "      <td>469</td>\n",
       "      <td>478</td>\n",
       "    </tr>\n",
       "    <tr>\n",
       "      <th>I340</th>\n",
       "      <td>1405</td>\n",
       "      <td>1431</td>\n",
       "      <td>1458</td>\n",
       "    </tr>\n",
       "    <tr>\n",
       "      <th>I351</th>\n",
       "      <td>92096</td>\n",
       "      <td>93757</td>\n",
       "      <td>95536</td>\n",
       "    </tr>\n",
       "    <tr>\n",
       "      <th>I352</th>\n",
       "      <td>11924</td>\n",
       "      <td>12415</td>\n",
       "      <td>12898</td>\n",
       "    </tr>\n",
       "    <tr>\n",
       "      <th>I35C</th>\n",
       "      <td>41812</td>\n",
       "      <td>42566</td>\n",
       "      <td>43373</td>\n",
       "    </tr>\n",
       "    <tr>\n",
       "      <th>I35D</th>\n",
       "      <td>12425</td>\n",
       "      <td>12991</td>\n",
       "      <td>13561</td>\n",
       "    </tr>\n",
       "    <tr>\n",
       "      <th>I361</th>\n",
       "      <td>4052</td>\n",
       "      <td>4125</td>\n",
       "      <td>4204</td>\n",
       "    </tr>\n",
       "    <tr>\n",
       "      <th>I420</th>\n",
       "      <td>105</td>\n",
       "      <td>107</td>\n",
       "      <td>109</td>\n",
       "    </tr>\n",
       "    <tr>\n",
       "      <th>I495</th>\n",
       "      <td>5156</td>\n",
       "      <td>5299</td>\n",
       "      <td>5444</td>\n",
       "    </tr>\n",
       "    <tr>\n",
       "      <th>I710</th>\n",
       "      <td>562</td>\n",
       "      <td>572</td>\n",
       "      <td>583</td>\n",
       "    </tr>\n",
       "    <tr>\n",
       "      <th>I711</th>\n",
       "      <td>1474</td>\n",
       "      <td>1500</td>\n",
       "      <td>1529</td>\n",
       "    </tr>\n",
       "    <tr>\n",
       "      <th>I712</th>\n",
       "      <td>1474</td>\n",
       "      <td>1500</td>\n",
       "      <td>1529</td>\n",
       "    </tr>\n",
       "    <tr>\n",
       "      <th>J679</th>\n",
       "      <td>363</td>\n",
       "      <td>369</td>\n",
       "      <td>376</td>\n",
       "    </tr>\n",
       "    <tr>\n",
       "      <th>J841</th>\n",
       "      <td>153</td>\n",
       "      <td>160</td>\n",
       "      <td>167</td>\n",
       "    </tr>\n",
       "    <tr>\n",
       "      <th>J848</th>\n",
       "      <td>5305</td>\n",
       "      <td>5400</td>\n",
       "      <td>5503</td>\n",
       "    </tr>\n",
       "    <tr>\n",
       "      <th>J955</th>\n",
       "      <td>41</td>\n",
       "      <td>42</td>\n",
       "      <td>43</td>\n",
       "    </tr>\n",
       "    <tr>\n",
       "      <th>M348</th>\n",
       "      <td>267</td>\n",
       "      <td>272</td>\n",
       "      <td>277</td>\n",
       "    </tr>\n",
       "    <tr>\n",
       "      <th>Q233</th>\n",
       "      <td>2324</td>\n",
       "      <td>2277</td>\n",
       "      <td>2299</td>\n",
       "    </tr>\n",
       "    <tr>\n",
       "      <th>Q257</th>\n",
       "      <td>130</td>\n",
       "      <td>127</td>\n",
       "      <td>129</td>\n",
       "    </tr>\n",
       "    <tr>\n",
       "      <th>Z450</th>\n",
       "      <td>1625</td>\n",
       "      <td>1655</td>\n",
       "      <td>1686</td>\n",
       "    </tr>\n",
       "  </tbody>\n",
       "</table>\n",
       "</div>"
      ],
      "text/plain": [
       "              2017   2018   2019\n",
       "Diagnostico                     \n",
       "A152          2450   2494   2541\n",
       "C34N          7368   7501   7643\n",
       "C381           221    225    229\n",
       "E848            26     25     26\n",
       "I051          1405   1431   1458\n",
       "I232           155    158    161\n",
       "I330           460    469    478\n",
       "I340          1405   1431   1458\n",
       "I351         92096  93757  95536\n",
       "I352         11924  12415  12898\n",
       "I35C         41812  42566  43373\n",
       "I35D         12425  12991  13561\n",
       "I361          4052   4125   4204\n",
       "I420           105    107    109\n",
       "I495          5156   5299   5444\n",
       "I710           562    572    583\n",
       "I711          1474   1500   1529\n",
       "I712          1474   1500   1529\n",
       "J679           363    369    376\n",
       "J841           153    160    167\n",
       "J848          5305   5400   5503\n",
       "J955            41     42     43\n",
       "M348           267    272    277\n",
       "Q233          2324   2277   2299\n",
       "Q257           130    127    129\n",
       "Z450          1625   1655   1686"
      ]
     },
     "execution_count": 181,
     "metadata": {},
     "output_type": "execute_result"
    }
   ],
   "source": [
    "round(casos_pais_del_2017_al_2020).astype(int)"
   ]
  },
  {
   "cell_type": "code",
   "execution_count": 182,
   "metadata": {},
   "outputs": [],
   "source": [
    "# Obtiene cuanto se hace cargo el INT de los pacientes teoricos\n",
    "porcentaje_hosp_teorica_nacionales = (\n",
    "    metricas_diags_relevantes_nacionales[\"n_pacientes_distintos\"]\n",
    "    .sum(axis=1)\n",
    "    .div(casos_pais_del_2017_al_2020.sum(axis=1), axis=0)\n",
    ")"
   ]
  },
  {
   "cell_type": "code",
   "execution_count": 183,
   "metadata": {},
   "outputs": [
    {
     "data": {
      "text/html": [
       "<style type=\"text/css\">\n",
       "</style>\n",
       "<table id=\"T_239b9\">\n",
       "  <thead>\n",
       "    <tr>\n",
       "      <th class=\"blank level0\" >&nbsp;</th>\n",
       "      <th id=\"T_239b9_level0_col0\" class=\"col_heading level0 col0\" >0</th>\n",
       "    </tr>\n",
       "  </thead>\n",
       "  <tbody>\n",
       "    <tr>\n",
       "      <th id=\"T_239b9_level0_row0\" class=\"row_heading level0 row0\" >A152</th>\n",
       "      <td id=\"T_239b9_row0_col0\" class=\"data row0 col0\" >0.69%</td>\n",
       "    </tr>\n",
       "    <tr>\n",
       "      <th id=\"T_239b9_level0_row1\" class=\"row_heading level0 row1\" >B441</th>\n",
       "      <td id=\"T_239b9_row1_col0\" class=\"data row1 col0\" >nan%</td>\n",
       "    </tr>\n",
       "    <tr>\n",
       "      <th id=\"T_239b9_level0_row2\" class=\"row_heading level0 row2\" >C341</th>\n",
       "      <td id=\"T_239b9_row2_col0\" class=\"data row2 col0\" >nan%</td>\n",
       "    </tr>\n",
       "    <tr>\n",
       "      <th id=\"T_239b9_level0_row3\" class=\"row_heading level0 row3\" >C34N</th>\n",
       "      <td id=\"T_239b9_row3_col0\" class=\"data row3 col0\" >nan%</td>\n",
       "    </tr>\n",
       "    <tr>\n",
       "      <th id=\"T_239b9_level0_row4\" class=\"row_heading level0 row4\" >C381</th>\n",
       "      <td id=\"T_239b9_row4_col0\" class=\"data row4 col0\" >17.77%</td>\n",
       "    </tr>\n",
       "    <tr>\n",
       "      <th id=\"T_239b9_level0_row5\" class=\"row_heading level0 row5\" >E848</th>\n",
       "      <td id=\"T_239b9_row5_col0\" class=\"data row5 col0\" >159.29%</td>\n",
       "    </tr>\n",
       "    <tr>\n",
       "      <th id=\"T_239b9_level0_row6\" class=\"row_heading level0 row6\" >I051</th>\n",
       "      <td id=\"T_239b9_row6_col0\" class=\"data row6 col0\" >4.19%</td>\n",
       "    </tr>\n",
       "    <tr>\n",
       "      <th id=\"T_239b9_level0_row7\" class=\"row_heading level0 row7\" >I232</th>\n",
       "      <td id=\"T_239b9_row7_col0\" class=\"data row7 col0\" >1.26%</td>\n",
       "    </tr>\n",
       "    <tr>\n",
       "      <th id=\"T_239b9_level0_row8\" class=\"row_heading level0 row8\" >I330</th>\n",
       "      <td id=\"T_239b9_row8_col0\" class=\"data row8 col0\" >81.67%</td>\n",
       "    </tr>\n",
       "    <tr>\n",
       "      <th id=\"T_239b9_level0_row9\" class=\"row_heading level0 row9\" >I340</th>\n",
       "      <td id=\"T_239b9_row9_col0\" class=\"data row9 col0\" >37.31%</td>\n",
       "    </tr>\n",
       "  </tbody>\n",
       "</table>\n"
      ],
      "text/plain": [
       "<pandas.io.formats.style.Styler at 0x32002abd0>"
      ]
     },
     "metadata": {},
     "output_type": "display_data"
    }
   ],
   "source": [
    "display(porcentaje_hosp_teorica_nacionales.to_frame().head(10).style.format(\"{:,.2%}\"))"
   ]
  },
  {
   "cell_type": "markdown",
   "metadata": {},
   "source": [
    "Una vez se sabe la proporcion de los casos que atiende el INT históricamente, se procederá a estimar cuántos casos atenderá si es que se mantiene en las mismas condiciones actuales (mismo porcentaje de atención del nacional, mismos egresos por personas y mismos dias de estada por persona).\n",
    "\n",
    "Ademas, se leerán los casos asignados al INT según área de influencia."
   ]
  },
  {
   "cell_type": "markdown",
   "metadata": {},
   "source": [
    "## Estimación utilizando el % de Hospitalización Nacional"
   ]
  },
  {
   "cell_type": "code",
   "execution_count": 184,
   "metadata": {},
   "outputs": [],
   "source": [
    "# Lee casos de area de influencia INT\n",
    "casos_INT = pd.read_excel(\n",
    "    \"../data/interim/casos_teoricos_diagnosticos.xlsx\", sheet_name=\"casos_area_de_influencia_INT\"\n",
    ")\n",
    "\n",
    "\n",
    "DIAGNOSTICOS_A_ELIMINAR = [\"C342\", \"C343\", \"C780\", \"C782\", \"D381\", \"I052\", \"I080\", \"I081\"]\n",
    "# Pone Diagnosticos como indice\n",
    "casos_INT[\"Diagnostico\"] = casos_INT[\"Diagnostico\"].str.split(\" - \").str[0]\n",
    "# Elimina diagnosticos con incidencia y prevalencia\n",
    "casos_INT = casos_INT.drop_duplicates(\"Diagnostico\")\n",
    "\n",
    "# Elimina diagnosticos agrupados\n",
    "casos_INT = casos_INT.query(\"~Diagnostico.isin(@DIAGNOSTICOS_A_ELIMINAR)\")\n",
    "casos_INT = casos_INT.set_index(\"Diagnostico\")\n",
    "\n",
    "# Renombra columnas a tipo numero\n",
    "casos_INT = casos_INT.rename(columns=COLUMNAS_A_RENOMBRAR)"
   ]
  },
  {
   "cell_type": "code",
   "execution_count": 185,
   "metadata": {},
   "outputs": [],
   "source": [
    "# Se obtiene la cantidad de casos que debiese atender el Torax, asumiendo que atendera\n",
    "# lo mismo que entre 2017 y 2020 del total de casos teoricos\n",
    "casos_INT_hospitalizados = casos_INT[COLUMNAS_POBLACION_INTERES].mul(\n",
    "    porcentaje_hosp_teorica_nacionales, axis=0\n",
    ")\n",
    "\n",
    "# Se obtiene la cantidad de egresos que debiese tener el INT, asumiendo que trabajara con la misma\n",
    "# eficiencia\n",
    "egresos_estimados_INT = casos_INT_hospitalizados.mul(\n",
    "    metricas_diags_relevantes_torax[\"egresos_por_paciente_agrupado\"][\"2017-2020\"], axis=0\n",
    ")\n",
    "\n",
    "# Se obtiene la cantidad de dias de estada que debiese el INT, asumiendo que trabajara con la misma\n",
    "# eficiencia\n",
    "dias_estada_estimados_int = egresos_estimados_INT.mul(\n",
    "    metricas_diags_relevantes_torax[\"dias_estada_promedio_agrupado\"][\"2017-2020\"], axis=0\n",
    ")\n",
    "\n",
    "# Estima la cantidad de camas necesaarias por diagnostico\n",
    "camas_estimadas_int = (dias_estada_estimados_int / 365.25) * INDICE_OCUPACION_CAMAS\n",
    "\n",
    "# Ademas, obtiene la cantidad de camas utilizadas realmente por el INT\n",
    "camas_reales_ocupadas_int = (\n",
    "    metricas_diags_relevantes_torax[\"dias_estada_totales\"].sum() / 365.25\n",
    ") * INDICE_OCUPACION_CAMAS"
   ]
  },
  {
   "cell_type": "code",
   "execution_count": 186,
   "metadata": {},
   "outputs": [],
   "source": [
    "comparacion_camas = pd.concat([camas_estimadas_int.sum(), camas_reales_ocupadas_int], axis=1)\n",
    "comparacion_camas.columns = [\"Estimadas\", \"Reales\"]"
   ]
  },
  {
   "cell_type": "code",
   "execution_count": 187,
   "metadata": {},
   "outputs": [
    {
     "data": {
      "image/png": "[encoded data removed]",
      "text/plain": [
       "<Figure size 1200x600 with 1 Axes>"
      ]
     },
     "metadata": {},
     "output_type": "display_data"
    }
   ],
   "source": [
    "comparacion_camas.plot(kind=\"bar\")\n",
    "plt.title(\"Comparacion en la cantidad de Camas Estimadas vs Reales INT\")\n",
    "plt.show()"
   ]
  },
  {
   "cell_type": "markdown",
   "metadata": {},
   "source": [
    "En este caso, se muestra la cantidad de camas que necesitaría el INT para atender los problemas de salud relevantes. Cabe destacar que esta es la cantidad de camas siguiendo solamente el crecimiento natural de la población, sin ningún cierre de brecha.\n",
    "\n",
    "Sin embargo, es importante notar la labor sanitaria del INT, y su compromiso con el cierre de brechas. Por lo tanto, es necesario saber en que problemas de salud existe una brecha de atención a nivel nacional."
   ]
  },
  {
   "cell_type": "code",
   "execution_count": 188,
   "metadata": {},
   "outputs": [],
   "source": [
    "porcentaje_atencion_teorica_nacional = (\n",
    "    metricas_diags_relevantes_nacionales[\"n_pacientes_distintos\"]\n",
    "    .sum(axis=1)\n",
    "    .div(casos_pais_del_2017_al_2020.sum(axis=1), axis=0)\n",
    ") * 100"
   ]
  },
  {
   "cell_type": "code",
   "execution_count": 189,
   "metadata": {},
   "outputs": [
    {
     "data": {
      "image/png": "[encoded data removed]",
      "text/plain": [
       "<Figure size 1200x1300 with 1 Axes>"
      ]
     },
     "metadata": {},
     "output_type": "display_data"
    }
   ],
   "source": [
    "fig, axis = plt.subplots(figsize=(12, 13))\n",
    "porcentaje_atencion_teorica_nacional.sort_values().plot(kind=\"barh\", ax=axis)\n",
    "for i in axis.containers:\n",
    "    axis.bar_label(i)\n",
    "\n",
    "plt.axvline(100)\n",
    "plt.title(\"% de cobertura de casos teoricos segun incidencia en Atencion Cerrada\")\n",
    "plt.show()"
   ]
  },
  {
   "cell_type": "markdown",
   "metadata": {},
   "source": [
    "## Estimación de casos Hospitalizados utilizando % de Hospitalización del INT\n",
    "\n",
    "En este caso, se utilizará el % de hospitalización del INT de los pacientes ambulatorios."
   ]
  },
  {
   "cell_type": "code",
   "execution_count": 190,
   "metadata": {},
   "outputs": [],
   "source": [
    "PORCENTAJE_HOSPITALIZADOS = pd.read_excel(\n",
    "    \"../data/external/incidencias_y_prevalencias_INT.xlsx\",\n",
    "    usecols=[\"Diagnostico\", \"Porcentaje Hospitalizados de Ambulatorios\"],\n",
    ")\n",
    "\n",
    "PORCENTAJE_HOSPITALIZADOS = PORCENTAJE_HOSPITALIZADOS.drop_duplicates(\"Diagnostico\")\n",
    "\n",
    "PORCENTAJE_HOSPITALIZADOS[\"Diagnostico\"] = (\n",
    "    PORCENTAJE_HOSPITALIZADOS[\"Diagnostico\"].str.split(\" - \").str[0]\n",
    ")\n",
    "PORCENTAJE_HOSPITALIZADOS = PORCENTAJE_HOSPITALIZADOS.set_index(\"Diagnostico\")[\n",
    "    \"Porcentaje Hospitalizados de Ambulatorios\"\n",
    "]"
   ]
  },
  {
   "cell_type": "code",
   "execution_count": 191,
   "metadata": {},
   "outputs": [],
   "source": [
    "casos_INT_hospitalizados_porcentaje_amb = casos_INT[COLUMNAS_POBLACION_INTERES].mul(\n",
    "    PORCENTAJE_HOSPITALIZADOS, axis=0\n",
    ")\n",
    "\n",
    "# Se obtiene la cantidad de egresos que debiese tener el INT, asumiendo que trabajara con la misma\n",
    "# eficiencia\n",
    "egresos_estimados_INT_porcentaje_amb = casos_INT_hospitalizados_porcentaje_amb.mul(\n",
    "    metricas_diags_relevantes_torax[\"egresos_por_paciente_agrupado\"][\"2017-2020\"], axis=0\n",
    ")\n",
    "\n",
    "# Se obtiene la cantidad de dias de estada que debiese el INT, asumiendo que trabajara con la misma\n",
    "# eficiencia\n",
    "dias_estada_estimados_int_porcentaje_amb = egresos_estimados_INT_porcentaje_amb.mul(\n",
    "    metricas_diags_relevantes_torax[\"dias_estada_promedio_agrupado\"][\"2017-2020\"], axis=0\n",
    ")\n",
    "\n",
    "# Estima la cantidad de camas necesaarias por diagnostico\n",
    "camas_estimadas_int_porcentaje_amb = (\n",
    "    dias_estada_estimados_int_porcentaje_amb / 365.25\n",
    ") * INDICE_OCUPACION_CAMAS\n",
    "\n",
    "# Calcula las camas totales necesarias\n",
    "camas_totales_int_porcentaje_amb = camas_estimadas_int_porcentaje_amb.sum()"
   ]
  },
  {
   "cell_type": "code",
   "execution_count": 192,
   "metadata": {},
   "outputs": [
    {
     "name": "stdout",
     "output_type": "stream",
     "text": [
      "2017    440.962094\n",
      "2018    449.379363\n",
      "2019    458.480694\n",
      "2020    467.690010\n",
      "2021    473.875189\n",
      "2022    478.579451\n",
      "2023    482.920855\n",
      "2024    487.151921\n",
      "2025    491.310059\n",
      "2026    495.386112\n",
      "2027    499.367048\n",
      "2028    503.237383\n",
      "2029    506.981873\n",
      "2030    510.584331\n",
      "2031    514.154023\n",
      "2032    517.643825\n",
      "2033    521.087190\n",
      "2034    524.477780\n",
      "2035    527.818569\n",
      "dtype: float64\n"
     ]
    }
   ],
   "source": [
    "print(camas_totales_int_porcentaje_amb)"
   ]
  },
  {
   "cell_type": "markdown",
   "metadata": {},
   "source": [
    "## Guardar archivos"
   ]
  },
  {
   "cell_type": "code",
   "execution_count": 193,
   "metadata": {},
   "outputs": [
    {
     "name": "stdout",
     "output_type": "stream",
     "text": [
      "Guardando metricas_relevantes_INT\n",
      "Guardando casos_hospitalizados_INT\n",
      "Guardando egresos_estimados_INT\n",
      "Guardando dias_estada_estimados_INT\n",
      "Guardando camas_estimadas_desglosadas_INT\n",
      "Guardando camas_totales_INT\n"
     ]
    }
   ],
   "source": [
    "archivos_a_guardar = {\n",
    "    \"metricas_relevantes_INT\": metricas_diags_relevantes_torax,\n",
    "    \"casos_hospitalizados_INT\": casos_INT_hospitalizados_porcentaje_amb,\n",
    "    \"egresos_estimados_INT\": egresos_estimados_INT_porcentaje_amb,\n",
    "    \"dias_estada_estimados_INT\": dias_estada_estimados_int_porcentaje_amb,\n",
    "    \"camas_estimadas_desglosadas_INT\": camas_estimadas_int_porcentaje_amb,\n",
    "    \"camas_totales_INT\": camas_totales_int_porcentaje_amb,\n",
    "}\n",
    "\n",
    "with pd.ExcelWriter(\"../data/interim/estimacion_atencion_cerrada_INT.xlsx\") as file:\n",
    "    for nombre_hoja, df_a_guardar in archivos_a_guardar.items():\n",
    "        print(f\"Guardando {nombre_hoja}\")\n",
    "        df_a_guardar.to_excel(file, sheet_name=nombre_hoja)"
   ]
  }
 ],
 "metadata": {
  "kernelspec": {
   "display_name": "int-proyeccion",
   "language": "python",
   "name": "python3"
  },
  "language_info": {
   "codemirror_mode": {
    "name": "ipython",
    "version": 3
   },
   "file_extension": ".py",
   "mimetype": "text/x-python",
   "name": "python",
   "nbconvert_exporter": "python",
   "pygments_lexer": "ipython3",
   "version": "3.11.5"
  }
 },
 "nbformat": 4,
 "nbformat_minor": 2
}
