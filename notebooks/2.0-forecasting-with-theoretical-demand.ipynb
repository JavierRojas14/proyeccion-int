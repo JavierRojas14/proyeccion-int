{
 "cells": [
  {
   "cell_type": "code",
   "execution_count": 27,
   "metadata": {},
   "outputs": [
    {
     "name": "stdout",
     "output_type": "stream",
     "text": [
      "The autoreload extension is already loaded. To reload it, use:\n",
      "  %reload_ext autoreload\n"
     ]
    }
   ],
   "source": [
    "import sys\n",
    "import os\n",
    "\n",
    "project_root = os.path.abspath('..')\n",
    "if project_root not in sys.path:\n",
    "    sys.path.append(project_root)\n",
    "\n",
    "%load_ext autoreload\n",
    "%autoreload 2"
   ]
  },
  {
   "cell_type": "code",
   "execution_count": 28,
   "metadata": {},
   "outputs": [],
   "source": [
    "import pandas as pd\n",
    "import numpy as np\n",
    "\n",
    "import matplotlib.pyplot as plt\n",
    "import seaborn as sns\n",
    "\n",
    "from src.features import build_features\n",
    "from src.visualization import visualize\n",
    "\n",
    "sns.set_theme(palette=\"pastel\")\n",
    "plt.rcParams[\"figure.figsize\"] = (12, 6)\n",
    "\n",
    "# Asumiendo que es una ocupacion del 80% de camas\n",
    "INDICE_OCUPACION_CAMAS = 1.25\n",
    "\n",
    "# Agrega las columnas de poblacion de interes\n",
    "COLUMNAS_POBLACION_INTERES = [i for i in range(2017, 2036)]"
   ]
  },
  {
   "cell_type": "markdown",
   "metadata": {},
   "source": [
    "# Proyección de casos INT al 2035\n",
    "\n",
    "En este cuadernillo se quiere estimar la deminada que atenderá el INT para el 2035. Con esta demanada se calcularán las cantidades de camas necesarias para suplir tal demanda. Para determinar la demanda se utilizarán:\n",
    "\n",
    "1. Cantidad de casos teóricos por problemas de salud relevantes seleccionados: Estos se calcularon según la incidencia de cada problema de salud y la proyección de la población al 2035.\n",
    "\n",
    "2. Cantidad de casos atendidos actualmente por cada problema de salud: Estos se obtuvieron al analizar la base de egresos hospitalarios DEIS.\n",
    "\n",
    "Con ambos datos, se obtendrá cuanto % de atención ha cubierto el INT de los casos teóricos."
   ]
  },
  {
   "cell_type": "code",
   "execution_count": 29,
   "metadata": {},
   "outputs": [],
   "source": [
    "# Obtiene los casos de area de influencia\n",
    "casos_area_de_influencia = pd.read_excel(\n",
    "    \"../data/interim/casos_teoricos_diagnosticos.xlsx\", sheet_name=\"casos_area_de_influencia_INT\"\n",
    ")\n",
    "\n",
    "# Preprocesa el diagnostico\n",
    "casos_area_de_influencia[\"Diagnostico\"] = (\n",
    "    casos_area_de_influencia[\"Diagnostico\"].str.split(\" - \").str[0]\n",
    ")\n",
    "\n",
    "# Preprocesa los diagnosticos agrupados\n",
    "casos_area_de_influencia[\"Diagnosticos Contenidos\"] = casos_area_de_influencia[\n",
    "    \"Diagnosticos Contenidos\"\n",
    "].str.split(\", \")"
   ]
  },
  {
   "cell_type": "code",
   "execution_count": 30,
   "metadata": {},
   "outputs": [],
   "source": [
    "# Obtiene los diagnosticos relevantes a filtrar de los egresos hospitalarios\n",
    "DIAGNOSTICOS_RELEVANTES = list(\n",
    "    casos_area_de_influencia[\"Diagnostico\"].str.split(\" - \").str[0].unique()\n",
    ")\n",
    "\n",
    "# Obtiene los diagnosticos agrupados\n",
    "DIAGNOSTICOS_AGRUPADOS = list(\n",
    "    casos_area_de_influencia.explode(\"Diagnosticos Contenidos\")[\"Diagnosticos Contenidos\"]\n",
    "    .dropna()\n",
    "    .str.strip()\n",
    "    .unique()\n",
    ")\n",
    "\n",
    "# Suma los diagnosticos agrupados a los diagnosticos relevantes\n",
    "DIAGNOSTICOS_RELEVANTES += DIAGNOSTICOS_AGRUPADOS\n",
    "DIAGNOSTICOS_RELEVANTES = sorted(DIAGNOSTICOS_RELEVANTES)"
   ]
  },
  {
   "cell_type": "code",
   "execution_count": 31,
   "metadata": {},
   "outputs": [],
   "source": [
    "# Genera duplas de diagnosticos a reasignar\n",
    "DIAGNOSTICOS_A_REASIGNAR = casos_area_de_influencia.query(\"`Diagnosticos Contenidos`.notna()\")[\n",
    "    [\"Diagnostico\", \"Diagnosticos Contenidos\"]\n",
    "]"
   ]
  },
  {
   "cell_type": "markdown",
   "metadata": {},
   "source": [
    "## Obtencion de casos teoricos para cada diagnóstico relevante segun incidencia\n",
    "\n",
    "Estos seran obtenidos desde el cuadernillo 1.0-jrb-number-of-persons-per-strata"
   ]
  },
  {
   "cell_type": "code",
   "execution_count": 32,
   "metadata": {},
   "outputs": [],
   "source": [
    "# Importa los casos teoricos por cada problema de salud\n",
    "casos_teoricos_nacionales = pd.read_excel(\n",
    "    \"../data/interim/casos_teoricos_diagnosticos.xlsx\", sheet_name=\"casos_teoricos_INE\"\n",
    ")\n",
    "casos_teoricos_nacionales[\"Diagnostico\"] = (\n",
    "    casos_teoricos_nacionales[\"Diagnostico\"].str.split(\"-\").str[0].str.strip()\n",
    ")\n",
    "\n",
    "# Extrae los diagnosticos relevantes para el recinto hospitalario\n",
    "casos_teoricos_nacionales = casos_teoricos_nacionales.set_index(\"Diagnostico\")\n",
    "\n",
    "# Renombra columnas\n",
    "COLUMNAS_A_RENOMBRAR = {\n",
    "    \"2017\": 2017,\n",
    "    \"2018\": 2018,\n",
    "    \"2019\": 2019,\n",
    "    \"2020\": 2020,\n",
    "    \"2021\": 2021,\n",
    "    \"2022\": 2022,\n",
    "    \"2023\": 2023,\n",
    "    \"2024\": 2024,\n",
    "    \"2025\": 2025,\n",
    "    \"2026\": 2026,\n",
    "    \"2027\": 2027,\n",
    "    \"2028\": 2028,\n",
    "    \"2029\": 2029,\n",
    "    \"2030\": 2030,\n",
    "    \"2031\": 2031,\n",
    "    \"2032\": 2032,\n",
    "    \"2033\": 2033,\n",
    "    \"2034\": 2034,\n",
    "    \"2035\": 2035,\n",
    "}\n",
    "casos_teoricos_nacionales = casos_teoricos_nacionales.rename(columns=COLUMNAS_A_RENOMBRAR)\n",
    "\n",
    "# Obtiene los casos en el estrato nacional\n",
    "casos_pais = casos_teoricos_nacionales.query(\"Estrato == 'Pais'\").copy().sort_index()\n",
    "casos_pais_del_2017_al_2020 = casos_pais[[i for i in range(2017, 2020)]]"
   ]
  },
  {
   "cell_type": "code",
   "execution_count": 33,
   "metadata": {},
   "outputs": [
    {
     "name": "stdout",
     "output_type": "stream",
     "text": [
      "Los diagnosticos que seran proyectados son: \n",
      "['A152', 'B441', 'C341', 'C342', 'C343', 'C34N', 'C381', 'C780', 'C782', 'D381', 'E848', 'I051', 'I052', 'I080', 'I081', 'I232', 'I330', 'I340', 'I350', 'I351', 'I352', 'I361', 'I420', 'I421', 'I495', 'I710', 'I711', 'I712', 'I715', 'J679', 'J841', 'J848', 'J955', 'M051', 'M348', 'Q222', 'Q233', 'Q257', 'QXXX', 'Z450'] \n",
      "y son 40\n"
     ]
    }
   ],
   "source": [
    "print(\n",
    "    f\"Los diagnosticos que seran proyectados son: \\n{DIAGNOSTICOS_RELEVANTES} \"\n",
    "    f\"\\ny son {len(DIAGNOSTICOS_RELEVANTES)}\"\n",
    ")"
   ]
  },
  {
   "cell_type": "markdown",
   "metadata": {},
   "source": [
    "## Obtención de casos atendidos entre 2017 y 2020 para diagnósticos relevantes.\n",
    "\n",
    "Estos se obtendrán del análisis de egresos hospitalarios a nivel país DEIS."
   ]
  },
  {
   "cell_type": "code",
   "execution_count": 34,
   "metadata": {},
   "outputs": [],
   "source": [
    "# Carga los egresos nacionales\n",
    "egresos_nacionales = pd.read_csv(\n",
    "    \"../data/raw/4_resumen_egresos_nacionales/ranking_nacional_egresos.csv\",\n",
    "    sep=\";\",\n",
    "    encoding=\"latin-1\",\n",
    ")\n",
    "\n",
    "# Filtra solamente los datos del INT\n",
    "egresos_torax = egresos_nacionales.query(\"ESTABLECIMIENTO_SALUD == 112103\").copy()"
   ]
  },
  {
   "cell_type": "markdown",
   "metadata": {},
   "source": [
    "En primer lugar, se filtrarán ambas bases de datos para solamente tener la información de los diagnósticos más relevantes para el INT. Luego de esto, se calculará la cantidad de egresos, dias de estada y pacientes para cada uno de los diagnósticos. Estos insumos serán utilizados para estimar la demanda.\n"
   ]
  },
  {
   "cell_type": "code",
   "execution_count": 35,
   "metadata": {},
   "outputs": [],
   "source": [
    "# Filtra solamente los diagnosticos mas relevantes del Torax\n",
    "egresos_mas_relevantes_nacionales = (\n",
    "    egresos_nacionales[egresos_nacionales[\"DIAG1\"].isin(DIAGNOSTICOS_RELEVANTES)]\n",
    "    .query(\"ANO_EGRESO >= 2017 and ANO_EGRESO <= 2019\")\n",
    "    .copy()\n",
    ")"
   ]
  },
  {
   "cell_type": "markdown",
   "metadata": {},
   "source": [
    "## Reasginación de diagnósticos y agrupación\n",
    "\n",
    "En este apartado se reasignarán diagnósticos de la base de datos DEIS a un grupo mayor. Por ejemplo,\n",
    "los siguientes diagnósticos:\n",
    "\n",
    "- C341 - Tumor maligno del lóbulo superior, bronquio o pulmón\n",
    "- C342 - Tumor maligno del lóbulo medio, bronquio o pulmón\n",
    "- C343 - Tumor maligno del lóbulo inferior, bronquio o pulmón\n",
    "- C780 - Tumor maligno secundario del pulmón\n",
    "- C782 - Tumor maligno secundario de la pleura\n",
    "- D381 - Tumor de comportamiento incierto o desconocido de la tráquea, de los bronquios y del pulmón\n",
    "\n",
    "Todos estos se reasignarán al diagnóstico C34XN (N, para que no se mezclen con los C34X asignados realmente así). Esto, con el fin de poder calcular las estadísticas agrupadas para todos estos diagnósticos (egresos por persona, días de estada)."
   ]
  },
  {
   "cell_type": "code",
   "execution_count": 36,
   "metadata": {},
   "outputs": [
    {
     "name": "stdout",
     "output_type": "stream",
     "text": [
      "Cambiando ['C341', 'C342', 'C343', 'C780', 'C782', 'D381'] a C34N\n"
     ]
    }
   ],
   "source": [
    "for row in DIAGNOSTICOS_A_REASIGNAR.itertuples():\n",
    "    diagnostico_nuevo = row[1]\n",
    "    diagnosticos_antiguos = row[2]\n",
    "\n",
    "    print(f\"Cambiando {diagnosticos_antiguos} a {diagnostico_nuevo}\")\n",
    "    egresos_mas_relevantes_nacionales[\"DIAG1\"] = (\n",
    "        egresos_mas_relevantes_nacionales[\"DIAG1\"]\n",
    "        .replace(diagnosticos_antiguos, diagnostico_nuevo)\n",
    "        .copy()\n",
    "    )"
   ]
  },
  {
   "cell_type": "markdown",
   "metadata": {},
   "source": [
    "Previo a calcular las métricas para cada diagnóstico, es necesario agrupar algunos de ellos. Esto se debe a que ciertas incidencias fueron imposible de encontrar, como por ejemplo con:\n",
    "\n",
    "- **I052 - Estenosis mitral con insuficiencia**: El 100% de los egresos y cantidad de pacientes será asignado al diagnóstico I051 - Insuficiencia mitral reumática. Sólamente se calculará la cantidad de casos teóricos para la insuficiencia mitral reumática.\n",
    "\n",
    "- **I080 - Trastornos de las válvulas mitral y aórtica**: El 100% de los egresos y cantidad de pacientes será asignado al diagnóstico I340 - Insuficiencia (de la válvula) mitral y I350 - Estenosis (de la válvula) aórtica.\n",
    "\n",
    "- **I081 - Trastornos de las válvulas mitral y tricúspide**: El 100% de los egresos y cantidad de pacientes será asignado al diagnóstico I340 - Insuficiencia (de la válvula) mitral y I361 - Insuficiencia no reumática (de la válvula) tricúspide."
   ]
  },
  {
   "cell_type": "code",
   "execution_count": 37,
   "metadata": {},
   "outputs": [],
   "source": [
    "# Reasigna I052\n",
    "egresos_mas_relevantes_nacionales[\"DIAG1\"] = (\n",
    "    egresos_mas_relevantes_nacionales[\"DIAG1\"].replace({\"I052\": \"I051\"}).copy()\n",
    ")\n",
    "\n",
    "# Reasigna I080 a I340 y I350 (Estenosis Mitral y Aortica, respectivamente)\n",
    "egresos_mas_relevantes_nacionales = build_features.assign_diagnosis(\n",
    "    egresos_mas_relevantes_nacionales, \"I080\", \"I340\", \"I350\"\n",
    ")\n",
    "\n",
    "# Reasigna I081 a I340 y I361 (Estenosis Mitral, y Valvulopatia Tricuspide)\n",
    "egresos_mas_relevantes_nacionales = build_features.assign_diagnosis(\n",
    "    egresos_mas_relevantes_nacionales, \"I081\", \"I340\", \"I361\"\n",
    ")"
   ]
  },
  {
   "cell_type": "code",
   "execution_count": 38,
   "metadata": {},
   "outputs": [],
   "source": [
    "# Filtra solamente los diagnosticos relevantes para el torax\n",
    "egresos_mas_relevantes_torax = egresos_mas_relevantes_nacionales.query(\n",
    "    \"ESTABLECIMIENTO_SALUD == 112103\"\n",
    ").copy()"
   ]
  },
  {
   "cell_type": "code",
   "execution_count": 39,
   "metadata": {},
   "outputs": [],
   "source": [
    "# Obtiene el resumen de metricas para el estrato nacional\n",
    "metricas_diags_relevantes_nacionales = build_features.calculate_discharges_metrics(\n",
    "    egresos_mas_relevantes_nacionales\n",
    ")\n",
    "\n",
    "# Obtiene resumen de metricas para el Torax\n",
    "metricas_diags_relevantes_torax = build_features.calculate_discharges_metrics(\n",
    "    egresos_mas_relevantes_torax\n",
    ")"
   ]
  },
  {
   "cell_type": "markdown",
   "metadata": {},
   "source": [
    "## Estimación de casos Hospitalizados utilizando % de Hospitalización del INT\n",
    "\n",
    "En este caso, se utilizará el % de hospitalización del INT de los pacientes ambulatorios."
   ]
  },
  {
   "cell_type": "code",
   "execution_count": 49,
   "metadata": {},
   "outputs": [],
   "source": [
    "PORCENTAJE_HOSPITALIZADOS = pd.read_excel(\n",
    "    \"../data/external/incidencias_y_prevalencias_INT.xlsx\",\n",
    "    usecols=[\"Diagnostico\", \"Porcentaje Hospitalizados de Ambulatorios\"],\n",
    ")\n",
    "\n",
    "PORCENTAJE_HOSPITALIZADOS = PORCENTAJE_HOSPITALIZADOS.drop_duplicates(\"Diagnostico\")\n",
    "\n",
    "PORCENTAJE_HOSPITALIZADOS[\"Diagnostico\"] = (\n",
    "    PORCENTAJE_HOSPITALIZADOS[\"Diagnostico\"].str.split(\" - \").str[0]\n",
    ")\n",
    "PORCENTAJE_HOSPITALIZADOS = PORCENTAJE_HOSPITALIZADOS.set_index(\"Diagnostico\")[\n",
    "    \"Porcentaje Hospitalizados de Ambulatorios\"\n",
    "]"
   ]
  },
  {
   "cell_type": "code",
   "execution_count": 50,
   "metadata": {},
   "outputs": [],
   "source": [
    "casos_INT_hospitalizados_porcentaje_amb = casos_INT[COLUMNAS_POBLACION_INTERES].mul(\n",
    "    PORCENTAJE_HOSPITALIZADOS, axis=0\n",
    ")\n",
    "\n",
    "# Se obtiene la cantidad de egresos que debiese tener el INT, asumiendo que trabajara con la misma\n",
    "# eficiencia\n",
    "egresos_estimados_INT_porcentaje_amb = casos_INT_hospitalizados_porcentaje_amb.mul(\n",
    "    metricas_diags_relevantes_torax[\"egresos_por_paciente_agrupado\"][\"2017-2020\"], axis=0\n",
    ")\n",
    "\n",
    "# Se obtiene la cantidad de dias de estada que debiese el INT, asumiendo que trabajara con la misma\n",
    "# eficiencia\n",
    "dias_estada_estimados_int_porcentaje_amb = egresos_estimados_INT_porcentaje_amb.mul(\n",
    "    metricas_diags_relevantes_torax[\"dias_estada_promedio_agrupado\"][\"2017-2020\"], axis=0\n",
    ")\n",
    "\n",
    "# Estima la cantidad de camas necesaarias por diagnostico\n",
    "camas_estimadas_int_porcentaje_amb = (\n",
    "    dias_estada_estimados_int_porcentaje_amb / 365.25\n",
    ") * INDICE_OCUPACION_CAMAS\n",
    "\n",
    "# Calcula las camas totales necesarias\n",
    "camas_totales_int_porcentaje_amb = camas_estimadas_int_porcentaje_amb.sum()"
   ]
  },
  {
   "cell_type": "code",
   "execution_count": 51,
   "metadata": {},
   "outputs": [
    {
     "name": "stdout",
     "output_type": "stream",
     "text": [
      "2017    179.548671\n",
      "2018    182.800672\n",
      "2019    186.437355\n",
      "2020    190.089416\n",
      "2021    192.297226\n",
      "2022    193.737863\n",
      "2023    194.975486\n",
      "2024    196.141576\n",
      "2025    197.260250\n",
      "2026    198.335005\n",
      "2027    199.366979\n",
      "2028    200.355396\n",
      "2029    201.297201\n",
      "2030    202.187120\n",
      "2031    203.073328\n",
      "2032    203.897290\n",
      "2033    204.673594\n",
      "2034    205.404798\n",
      "2035    206.089377\n",
      "dtype: float64\n"
     ]
    }
   ],
   "source": [
    "print(camas_totales_int_porcentaje_amb)"
   ]
  },
  {
   "cell_type": "markdown",
   "metadata": {},
   "source": [
    "## Guardar archivos"
   ]
  },
  {
   "cell_type": "code",
   "execution_count": 52,
   "metadata": {},
   "outputs": [
    {
     "name": "stdout",
     "output_type": "stream",
     "text": [
      "Guardando metricas_relevantes_INT\n",
      "Guardando casos_hospitalizados_INT\n",
      "Guardando egresos_estimados_INT\n",
      "Guardando dias_estada_estimados_INT\n",
      "Guardando camas_estimadas_desglosadas_INT\n",
      "Guardando camas_totales_INT\n"
     ]
    }
   ],
   "source": [
    "archivos_a_guardar = {\n",
    "    \"metricas_relevantes_INT\": metricas_diags_relevantes_torax,\n",
    "    \"casos_hospitalizados_INT\": casos_INT_hospitalizados_porcentaje_amb,\n",
    "    \"egresos_estimados_INT\": egresos_estimados_INT_porcentaje_amb,\n",
    "    \"dias_estada_estimados_INT\": dias_estada_estimados_int_porcentaje_amb,\n",
    "    \"camas_estimadas_desglosadas_INT\": camas_estimadas_int_porcentaje_amb,\n",
    "    \"camas_totales_INT\": camas_totales_int_porcentaje_amb,\n",
    "}\n",
    "\n",
    "with pd.ExcelWriter(\"../data/interim/estimacion_atencion_cerrada_INT.xlsx\") as file:\n",
    "    for nombre_hoja, df_a_guardar in archivos_a_guardar.items():\n",
    "        print(f\"Guardando {nombre_hoja}\")\n",
    "        df_a_guardar.to_excel(file, sheet_name=nombre_hoja)"
   ]
  }
 ],
 "metadata": {
  "kernelspec": {
   "display_name": "int-proyeccion",
   "language": "python",
   "name": "python3"
  },
  "language_info": {
   "codemirror_mode": {
    "name": "ipython",
    "version": 3
   },
   "file_extension": ".py",
   "mimetype": "text/x-python",
   "name": "python",
   "nbconvert_exporter": "python",
   "pygments_lexer": "ipython3",
   "version": "3.11.5"
  }
 },
 "nbformat": 4,
 "nbformat_minor": 2
}
