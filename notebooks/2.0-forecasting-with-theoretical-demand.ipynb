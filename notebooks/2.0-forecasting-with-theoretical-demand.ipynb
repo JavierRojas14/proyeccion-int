{
 "cells": [
  {
   "cell_type": "code",
   "execution_count": 1,
   "metadata": {},
   "outputs": [],
   "source": [
    "import sys\n",
    "import os\n",
    "\n",
    "project_root = os.path.abspath('..')\n",
    "if project_root not in sys.path:\n",
    "    sys.path.append(project_root)\n",
    "\n",
    "%load_ext autoreload\n",
    "%autoreload 2"
   ]
  },
  {
   "cell_type": "code",
   "execution_count": 62,
   "metadata": {},
   "outputs": [],
   "source": [
    "import pandas as pd\n",
    "import numpy as np\n",
    "\n",
    "import matplotlib.pyplot as plt\n",
    "import seaborn as sns\n",
    "\n",
    "from src.features import build_features\n",
    "from src.visualization import visualize\n",
    "\n",
    "sns.set_theme(palette=\"pastel\")\n",
    "plt.rcParams[\"figure.figsize\"] = (12, 6)\n",
    "pd.set_option(\"display.max_columns\", None)\n",
    "\n",
    "# Asumiendo que es una ocupacion del 80% de camas\n",
    "INDICE_OCUPACION_CAMAS = 1.25\n",
    "\n",
    "# Agrega las columnas de poblacion de interes\n",
    "COLUMNAS_POBLACION_INTERES = {str(i): i for i in range(2017, 2036)}"
   ]
  },
  {
   "cell_type": "markdown",
   "metadata": {},
   "source": [
    "# Proyección de casos INT al 2035\n",
    "\n",
    "En este cuadernillo se quiere estimar la deminada que atenderá el INT para el 2035. Con esta demanada se calcularán las cantidades de camas necesarias para suplir tal demanda. Para determinar la demanda se utilizarán:\n",
    "\n",
    "1. Cantidad de casos teóricos por problemas de salud relevantes seleccionados: Estos se calcularon según la incidencia de cada problema de salud y la proyección de la población al 2035.\n",
    "\n",
    "2. Cantidad de casos atendidos actualmente por cada problema de salud: Estos se obtuvieron al analizar la base de egresos hospitalarios DEIS.\n",
    "\n",
    "Con ambos datos, se obtendrá cuanto % de atención ha cubierto el INT de los casos teóricos."
   ]
  },
  {
   "cell_type": "code",
   "execution_count": 3,
   "metadata": {},
   "outputs": [],
   "source": [
    "# Obtiene los casos de area de influencia\n",
    "casos_area_de_influencia = pd.read_excel(\n",
    "    \"../data/interim/casos_teoricos_diagnosticos.xlsx\", sheet_name=\"casos_area_de_influencia_INT\"\n",
    ")\n",
    "\n",
    "# Preprocesa el diagnostico\n",
    "casos_area_de_influencia[\"Diagnostico\"] = (\n",
    "    casos_area_de_influencia[\"Diagnostico\"].str.split(\" - \").str[0]\n",
    ")\n",
    "\n",
    "# Preprocesa los diagnosticos agrupados\n",
    "casos_area_de_influencia[\"Diagnosticos Contenidos\"] = casos_area_de_influencia[\n",
    "    \"Diagnosticos Contenidos\"\n",
    "].str.split(\", \")\n",
    "\n",
    "# Renombra columnas de la poblacion\n",
    "casos_area_de_influencia = casos_area_de_influencia.rename(columns=COLUMNAS_POBLACION_INTERES)"
   ]
  },
  {
   "cell_type": "code",
   "execution_count": 4,
   "metadata": {},
   "outputs": [],
   "source": [
    "# Obtiene los diagnosticos relevantes a filtrar de los egresos hospitalarios\n",
    "DIAGNOSTICOS_RELEVANTES = list(\n",
    "    casos_area_de_influencia[\"Diagnostico\"].str.split(\" - \").str[0].unique()\n",
    ")\n",
    "\n",
    "# Obtiene los diagnosticos agrupados\n",
    "DIAGNOSTICOS_AGRUPADOS = list(\n",
    "    casos_area_de_influencia.explode(\"Diagnosticos Contenidos\")[\"Diagnosticos Contenidos\"]\n",
    "    .dropna()\n",
    "    .str.strip()\n",
    "    .unique()\n",
    ")\n",
    "\n",
    "# Suma los diagnosticos agrupados a los diagnosticos relevantes\n",
    "DIAGNOSTICOS_RELEVANTES += DIAGNOSTICOS_AGRUPADOS\n",
    "DIAGNOSTICOS_RELEVANTES = sorted(DIAGNOSTICOS_RELEVANTES)"
   ]
  },
  {
   "cell_type": "code",
   "execution_count": 5,
   "metadata": {},
   "outputs": [],
   "source": [
    "# Genera duplas de diagnosticos a reasignar\n",
    "DIAGNOSTICOS_A_REASIGNAR = casos_area_de_influencia.query(\"`Diagnosticos Contenidos`.notna()\")[\n",
    "    [\"Diagnostico\", \"Diagnosticos Contenidos\"]\n",
    "]"
   ]
  },
  {
   "cell_type": "code",
   "execution_count": 6,
   "metadata": {},
   "outputs": [],
   "source": [
    "casos_area_de_influencia = casos_area_de_influencia.set_index(\"Diagnostico\")"
   ]
  },
  {
   "cell_type": "markdown",
   "metadata": {},
   "source": [
    "## Obtención de casos atendidos entre 2017 y 2020 para diagnósticos relevantes.\n",
    "\n",
    "Estos se obtendrán del análisis de egresos hospitalarios a nivel país DEIS."
   ]
  },
  {
   "cell_type": "code",
   "execution_count": 7,
   "metadata": {},
   "outputs": [],
   "source": [
    "# Carga los egresos nacionales\n",
    "egresos_nacionales = pd.read_csv(\n",
    "    \"../data/raw/4_resumen_egresos_nacionales/ranking_nacional_egresos.csv\",\n",
    "    sep=\";\",\n",
    "    encoding=\"latin-1\",\n",
    ")\n",
    "\n",
    "# Filtra solamente los datos del INT\n",
    "egresos_torax = egresos_nacionales.query(\"ESTABLECIMIENTO_SALUD == 112103\").copy()"
   ]
  },
  {
   "cell_type": "markdown",
   "metadata": {},
   "source": [
    "En primer lugar, se filtrarán ambas bases de datos para solamente tener la información de los diagnósticos más relevantes para el INT. Luego de esto, se calculará la cantidad de egresos, dias de estada y pacientes para cada uno de los diagnósticos. Estos insumos serán utilizados para estimar la demanda.\n"
   ]
  },
  {
   "cell_type": "code",
   "execution_count": 8,
   "metadata": {},
   "outputs": [],
   "source": [
    "# Filtra solamente los diagnosticos mas relevantes del Torax\n",
    "egresos_mas_relevantes_nacionales = (\n",
    "    egresos_nacionales[egresos_nacionales[\"DIAG1\"].isin(DIAGNOSTICOS_RELEVANTES)]\n",
    "    .query(\"ANO_EGRESO >= 2017 and ANO_EGRESO <= 2019\")\n",
    "    .copy()\n",
    ")"
   ]
  },
  {
   "cell_type": "markdown",
   "metadata": {},
   "source": [
    "## Reasginación de diagnósticos y agrupación\n",
    "\n",
    "En este apartado se reasignarán diagnósticos de la base de datos DEIS a un grupo mayor. Por ejemplo,\n",
    "los siguientes diagnósticos:\n",
    "\n",
    "- C341 - Tumor maligno del lóbulo superior, bronquio o pulmón\n",
    "- C342 - Tumor maligno del lóbulo medio, bronquio o pulmón\n",
    "- C343 - Tumor maligno del lóbulo inferior, bronquio o pulmón\n",
    "- C780 - Tumor maligno secundario del pulmón\n",
    "- C782 - Tumor maligno secundario de la pleura\n",
    "- D381 - Tumor de comportamiento incierto o desconocido de la tráquea, de los bronquios y del pulmón\n",
    "\n",
    "Todos estos se reasignarán al diagnóstico C34XN (N, para que no se mezclen con los C34X asignados realmente así). Esto, con el fin de poder calcular las estadísticas agrupadas para todos estos diagnósticos (egresos por persona, días de estada)."
   ]
  },
  {
   "cell_type": "code",
   "execution_count": 9,
   "metadata": {},
   "outputs": [
    {
     "name": "stdout",
     "output_type": "stream",
     "text": [
      "Cambiando ['C341', 'C342', 'C343', 'C780', 'C782', 'D381'] a C34N\n",
      "Cambiando ['Q201', 'Q202', 'Q203', 'Q204', 'Q205', 'Q206', 'Q208', 'Q209', 'Q210', 'Q211', 'Q212', 'Q213', 'Q214', 'Q218', 'Q220', 'Q221', 'Q222', 'Q223', 'Q224', 'Q225', 'Q228', 'Q230', 'Q231', 'Q233', 'Q240', 'Q241', 'Q244', 'Q245', 'Q246', 'Q248', 'Q249', 'Q250', 'Q251', 'Q253', 'Q254', 'Q255', 'Q256', 'Q257', 'Q258', 'Q259', 'Q264', 'Q268', 'Q272', 'Q273', 'Q288', 'Q289', 'Q311', 'Q320', 'Q321', 'Q330', 'Q331', 'Q332', 'Q334', 'Q338', 'Q341', 'Q348', 'Q676', 'Q677', 'Q678', 'Q765', 'Q766', 'Q767', 'Q768', 'Q769', 'Q780', 'Q790', 'Q798', 'Q839', 'Q850', 'Q858', 'Q859', 'Q874', 'Q893'] a QXXX\n"
     ]
    }
   ],
   "source": [
    "for row in DIAGNOSTICOS_A_REASIGNAR.itertuples():\n",
    "    diagnostico_nuevo = row[1]\n",
    "    diagnosticos_antiguos = row[2]\n",
    "\n",
    "    print(f\"Cambiando {diagnosticos_antiguos} a {diagnostico_nuevo}\")\n",
    "    egresos_mas_relevantes_nacionales[\"DIAG1\"] = (\n",
    "        egresos_mas_relevantes_nacionales[\"DIAG1\"]\n",
    "        .replace(diagnosticos_antiguos, diagnostico_nuevo)\n",
    "        .copy()\n",
    "    )"
   ]
  },
  {
   "cell_type": "markdown",
   "metadata": {},
   "source": [
    "Previo a calcular las métricas para cada diagnóstico, es necesario agrupar algunos de ellos. Esto se debe a que ciertas incidencias fueron imposible de encontrar, como por ejemplo con:\n",
    "\n",
    "- **I052 - Estenosis mitral con insuficiencia**: El 100% de los egresos y cantidad de pacientes será asignado al diagnóstico I051 - Insuficiencia mitral reumática. Sólamente se calculará la cantidad de casos teóricos para la insuficiencia mitral reumática.\n",
    "\n",
    "- **I080 - Trastornos de las válvulas mitral y aórtica**: El 100% de los egresos y cantidad de pacientes será asignado al diagnóstico I340 - Insuficiencia (de la válvula) mitral y I350 - Estenosis (de la válvula) aórtica.\n",
    "\n",
    "- **I081 - Trastornos de las válvulas mitral y tricúspide**: El 100% de los egresos y cantidad de pacientes será asignado al diagnóstico I340 - Insuficiencia (de la válvula) mitral y I361 - Insuficiencia no reumática (de la válvula) tricúspide."
   ]
  },
  {
   "cell_type": "code",
   "execution_count": 10,
   "metadata": {},
   "outputs": [],
   "source": [
    "# Reasigna I052\n",
    "egresos_mas_relevantes_nacionales[\"DIAG1\"] = (\n",
    "    egresos_mas_relevantes_nacionales[\"DIAG1\"].replace({\"I052\": \"I051\"}).copy()\n",
    ")\n",
    "\n",
    "# Reasigna I080 a I340 y I350 (Estenosis Mitral y Aortica, respectivamente)\n",
    "egresos_mas_relevantes_nacionales = build_features.assign_diagnosis(\n",
    "    egresos_mas_relevantes_nacionales, \"I080\", \"I340\", \"I350\"\n",
    ")\n",
    "\n",
    "# Reasigna I081 a I340 y I361 (Estenosis Mitral, y Valvulopatia Tricuspide)\n",
    "egresos_mas_relevantes_nacionales = build_features.assign_diagnosis(\n",
    "    egresos_mas_relevantes_nacionales, \"I081\", \"I340\", \"I361\"\n",
    ")"
   ]
  },
  {
   "cell_type": "code",
   "execution_count": 11,
   "metadata": {},
   "outputs": [],
   "source": [
    "# Filtra solamente los diagnosticos relevantes para el torax\n",
    "egresos_mas_relevantes_torax = egresos_mas_relevantes_nacionales.query(\n",
    "    \"ESTABLECIMIENTO_SALUD == 112103\"\n",
    ").copy()"
   ]
  },
  {
   "cell_type": "code",
   "execution_count": 12,
   "metadata": {},
   "outputs": [],
   "source": [
    "# Obtiene el resumen de metricas para el estrato nacional\n",
    "metricas_diags_relevantes_nacionales = build_features.calculate_discharges_metrics(\n",
    "    egresos_mas_relevantes_nacionales\n",
    ")\n",
    "\n",
    "# Obtiene resumen de metricas para el Torax\n",
    "metricas_diags_relevantes_torax = build_features.calculate_discharges_metrics(\n",
    "    egresos_mas_relevantes_torax\n",
    ")"
   ]
  },
  {
   "cell_type": "markdown",
   "metadata": {},
   "source": [
    "## Estimación de casos Hospitalizados utilizando % de Hospitalización del INT\n",
    "\n",
    "En este caso, se utilizará el % de hospitalización del INT de los pacientes ambulatorios."
   ]
  },
  {
   "cell_type": "code",
   "execution_count": 13,
   "metadata": {},
   "outputs": [],
   "source": [
    "PORCENTAJE_HOSPITALIZADOS = pd.read_excel(\n",
    "    \"../data/external/incidencias_y_prevalencias_INT.xlsx\",\n",
    "    usecols=[\"Diagnostico\", \"Porcentaje Hospitalizados de Ambulatorios\"],\n",
    ")\n",
    "\n",
    "PORCENTAJE_HOSPITALIZADOS = PORCENTAJE_HOSPITALIZADOS.drop_duplicates(\"Diagnostico\")\n",
    "\n",
    "PORCENTAJE_HOSPITALIZADOS[\"Diagnostico\"] = (\n",
    "    PORCENTAJE_HOSPITALIZADOS[\"Diagnostico\"].str.split(\" - \").str[0]\n",
    ")\n",
    "PORCENTAJE_HOSPITALIZADOS = PORCENTAJE_HOSPITALIZADOS.set_index(\"Diagnostico\")[\n",
    "    \"Porcentaje Hospitalizados de Ambulatorios\"\n",
    "]"
   ]
  },
  {
   "cell_type": "code",
   "execution_count": 14,
   "metadata": {},
   "outputs": [],
   "source": [
    "casos_INT_hospitalizados_porcentaje_amb = casos_area_de_influencia[\n",
    "    COLUMNAS_POBLACION_INTERES.values()\n",
    "].mul(PORCENTAJE_HOSPITALIZADOS, axis=0)\n",
    "\n",
    "# Se obtiene la cantidad de egresos que debiese tener el INT, asumiendo que trabajara con la misma\n",
    "# eficiencia\n",
    "egresos_estimados_INT_porcentaje_amb = casos_INT_hospitalizados_porcentaje_amb.mul(\n",
    "    metricas_diags_relevantes_torax[\"egresos_por_paciente_agrupado\"][\"2017-2019\"], axis=0\n",
    ")\n",
    "\n",
    "# Se obtiene la cantidad de dias de estada que debiese el INT, asumiendo que trabajara con la misma\n",
    "# eficiencia\n",
    "dias_estada_estimados_int_porcentaje_amb = egresos_estimados_INT_porcentaje_amb.mul(\n",
    "    metricas_diags_relevantes_torax[\"dias_estada_promedio_agrupado\"][\"2017-2019\"], axis=0\n",
    ")\n",
    "\n",
    "# Estima la cantidad de camas necesaarias por diagnostico\n",
    "camas_estimadas_int_porcentaje_amb = (\n",
    "    dias_estada_estimados_int_porcentaje_amb / 365.25\n",
    ") * INDICE_OCUPACION_CAMAS\n",
    "\n",
    "# Calcula las camas totales necesarias\n",
    "camas_totales_int_porcentaje_amb = camas_estimadas_int_porcentaje_amb.sum()"
   ]
  },
  {
   "cell_type": "code",
   "execution_count": 15,
   "metadata": {},
   "outputs": [
    {
     "name": "stdout",
     "output_type": "stream",
     "text": [
      "2017    251.322644\n",
      "2018    255.840360\n",
      "2019    260.974027\n",
      "2020    266.146273\n",
      "2021    269.273089\n",
      "2022    271.289849\n",
      "2023    273.009605\n",
      "2024    274.620873\n",
      "2025    276.159245\n",
      "2026    277.630885\n",
      "2027    279.035711\n",
      "2028    280.372704\n",
      "2029    281.639365\n",
      "2030    282.833152\n",
      "2031    284.034785\n",
      "2032    285.133739\n",
      "2033    286.165213\n",
      "2034    287.131548\n",
      "2035    288.033006\n",
      "dtype: float64\n"
     ]
    }
   ],
   "source": [
    "print(camas_totales_int_porcentaje_amb)"
   ]
  },
  {
   "cell_type": "markdown",
   "metadata": {},
   "source": [
    "## Obtener resumen para MINSAL"
   ]
  },
  {
   "cell_type": "code",
   "execution_count": 16,
   "metadata": {},
   "outputs": [],
   "source": [
    "resumen_metricas_hosp = metricas_diags_relevantes_torax[\n",
    "    [\"egresos_por_paciente_agrupado\", \"dias_estada_promedio_agrupado\"]\n",
    "]\n",
    "resumen_metricas_hosp.columns = [\n",
    "    \"egresos_por_paciente_agrupado_2017_a_2019\",\n",
    "    \"dias_estada_promedio_agrupado_2017_a_2019\",\n",
    "]\n",
    "resumen_casos = casos_INT_hospitalizados_porcentaje_amb[2035]\n",
    "resumen_casos.name = \"casos_hospitalizados_2035\"\n",
    "\n",
    "resumen_egresos = egresos_estimados_INT_porcentaje_amb[2035]\n",
    "resumen_egresos.name = \"egresos_2035\"\n",
    "\n",
    "resumen_dias_estada = dias_estada_estimados_int_porcentaje_amb[2035]\n",
    "resumen_dias_estada.name = \"dias_estada_totales_2035\"\n",
    "\n",
    "resumen_camas = camas_estimadas_int_porcentaje_amb[2035]\n",
    "resumen_camas.name = \"camas_totales_2035\"\n",
    "\n",
    "resumen_total_hosp = (\n",
    "    resumen_metricas_hosp.merge(\n",
    "        resumen_casos,\n",
    "        how=\"left\",\n",
    "        left_index=True,\n",
    "        right_index=True,\n",
    "    )\n",
    "    .merge(\n",
    "        resumen_egresos,\n",
    "        how=\"left\",\n",
    "        left_index=True,\n",
    "        right_index=True,\n",
    "    )\n",
    "    .merge(\n",
    "        resumen_dias_estada,\n",
    "        how=\"left\",\n",
    "        left_index=True,\n",
    "        right_index=True,\n",
    "    )\n",
    "    .merge(\n",
    "        resumen_camas,\n",
    "        how=\"left\",\n",
    "        left_index=True,\n",
    "        right_index=True,\n",
    "    )\n",
    ")\n",
    "\n",
    "ORDEN_COLUMNAS_RESUMEN = [\n",
    "    \"casos_hospitalizados_2035\",\n",
    "    \"egresos_por_paciente_agrupado_2017_a_2019\",\n",
    "    \"egresos_2035\",\n",
    "    \"dias_estada_promedio_agrupado_2017_a_2019\",\n",
    "    \"dias_estada_totales_2035\",\n",
    "    \"camas_totales_2035\",\n",
    "]\n",
    "\n",
    "resumen_total_hosp = resumen_total_hosp[ORDEN_COLUMNAS_RESUMEN]"
   ]
  },
  {
   "cell_type": "markdown",
   "metadata": {},
   "source": [
    "Finalmente, une el resumen de casos teoricos desde el cuadernillo 1.0 con el resumen de este cuadernillo. Esto obtiene la tabla final para MINSAL."
   ]
  },
  {
   "cell_type": "code",
   "execution_count": 17,
   "metadata": {},
   "outputs": [],
   "source": [
    "resumen_casos_teoricos = pd.read_excel(\n",
    "    \"../data/interim/casos_teoricos_diagnosticos.xlsx\", sheet_name=\"resumen_total_INT\"\n",
    ")\n",
    "\n",
    "resumen_casos_teoricos[\"Diagnostico_codigo\"] = (\n",
    "    resumen_casos_teoricos[\"Diagnostico\"].str.split(\" - \").str[0]\n",
    ")\n",
    "resumen_casos_teoricos = resumen_casos_teoricos.set_index(\"Diagnostico_codigo\")\n",
    "\n",
    "resumen_minsal = resumen_casos_teoricos.merge(\n",
    "    resumen_total_hosp, how=\"right\", left_index=True, right_index=True\n",
    ")\n",
    "\n",
    "resumen_minsal = resumen_minsal.reset_index(drop=True).set_index(\"Diagnostico\")"
   ]
  },
  {
   "cell_type": "markdown",
   "metadata": {},
   "source": [
    "## Guardar archivos"
   ]
  },
  {
   "cell_type": "code",
   "execution_count": 18,
   "metadata": {},
   "outputs": [
    {
     "name": "stdout",
     "output_type": "stream",
     "text": [
      "Guardando metricas_relevantes_INT\n",
      "Guardando casos_hospitalizados_INT\n",
      "Guardando egresos_estimados_INT\n",
      "Guardando dias_estada_estimados_INT\n",
      "Guardando camas_estimadas_desglosadas_INT\n",
      "Guardando camas_totales_INT\n",
      "Guardando resumen_total_hosp_INT\n",
      "Guardando resumen_MINSAL\n"
     ]
    }
   ],
   "source": [
    "archivos_a_guardar = {\n",
    "    \"metricas_relevantes_INT\": metricas_diags_relevantes_torax,\n",
    "    \"casos_hospitalizados_INT\": casos_INT_hospitalizados_porcentaje_amb,\n",
    "    \"egresos_estimados_INT\": egresos_estimados_INT_porcentaje_amb,\n",
    "    \"dias_estada_estimados_INT\": dias_estada_estimados_int_porcentaje_amb,\n",
    "    \"camas_estimadas_desglosadas_INT\": camas_estimadas_int_porcentaje_amb,\n",
    "    \"camas_totales_INT\": camas_totales_int_porcentaje_amb,\n",
    "    \"resumen_total_hosp_INT\": resumen_total_hosp,\n",
    "    \"resumen_MINSAL\": resumen_minsal,\n",
    "}\n",
    "\n",
    "with pd.ExcelWriter(\"../data/interim/estimacion_atencion_cerrada_INT.xlsx\") as file:\n",
    "    for nombre_hoja, df_a_guardar in archivos_a_guardar.items():\n",
    "        print(f\"Guardando {nombre_hoja}\")\n",
    "        df_a_guardar.to_excel(file, sheet_name=nombre_hoja)"
   ]
  },
  {
   "cell_type": "code",
   "execution_count": 19,
   "metadata": {},
   "outputs": [],
   "source": [
    "DIAGS_CONGENITAS = (\n",
    "    egresos_torax[\n",
    "        egresos_torax[\"Sección\"].isin(\n",
    "            [\n",
    "                \"Q20-Q28  MALFORMACIONES CONGÉNITAS DEL APARATO CIRCULATORIO\",\n",
    "                \"Q30-Q34  MALFORMACIONES CONGÉNITAS DEL APARATO RESPIRATORIO\",\n",
    "                \"Q80-Q89  OTRAS MALFORMACIONES CONGÉNITAS\",\n",
    "            ]\n",
    "        )\n",
    "    ][\"DIAG1\"]\n",
    "    .value_counts()\n",
    "    .index.sort_values()\n",
    "    .to_list()\n",
    ")"
   ]
  },
  {
   "cell_type": "code",
   "execution_count": 21,
   "metadata": {},
   "outputs": [],
   "source": [
    "import polars as pl"
   ]
  },
  {
   "cell_type": "code",
   "execution_count": 25,
   "metadata": {},
   "outputs": [],
   "source": [
    "df_torax = pl.read_csv(\"../data/raw/6_egresos_torax/egresos_procesados_112103.csv\")"
   ]
  },
  {
   "cell_type": "code",
   "execution_count": 100,
   "metadata": {},
   "outputs": [],
   "source": [
    "def obtener_metricas_egresos(df, agrupacion):\n",
    "    resumen = (\n",
    "        df.group_by(agrupacion).agg(\n",
    "            [\n",
    "                pl.col(\"DIAG1\").count().alias(\"n_egresos\"),\n",
    "                pl.col(\"ID_PACIENTE\").n_unique().alias(\"n_pacientes_distintos\"),\n",
    "                pl.col(\"DIAS_ESTADA\").sum().alias(\"dias_estada_totales\"),\n",
    "            ]\n",
    "        )\n",
    "    ).with_columns(\n",
    "        [\n",
    "            (pl.col(\"n_egresos\") / pl.col(\"n_pacientes_distintos\")).alias(\"egresos_por_paciente\"),\n",
    "            (pl.col(\"dias_estada_totales\") / pl.col(\"n_egresos\")).alias(\"dias_estada_promedio\"),\n",
    "        ]\n",
    "    )\n",
    "\n",
    "    return resumen\n",
    "\n",
    "\n",
    "def calcular_resumen_metricas_desagregadas_y_agrupadas_en_anios(df, ano_inicio, ano_termino):\n",
    "    df_filtrada = df.filter(\n",
    "        (pl.col(\"ANO_EGRESO\") >= ano_inicio) & (pl.col(\"ANO_EGRESO\") <= ano_termino)\n",
    "    )\n",
    "    \n",
    "    # Obtiene las metricas desagregadas por anio\n",
    "    metricas_desagregadas = obtener_metricas_egresos(df_filtrada, [\"ANO_EGRESO\", \"DIAG1\"])\n",
    "    metricas_desagregadas = metricas_desagregadas.sort([\"ANO_EGRESO\", \"n_egresos\"], descending=True)\n",
    "\n",
    "    # Obtiene las metricas agrupadas en el periodo determinado\n",
    "    metricas_agrupadas = obtener_metricas_egresos(df_filtrada, [\"DIAG1\"])\n",
    "    metricas_agrupadas = metricas_agrupadas.sort([\"n_egresos\"], descending=True)\n",
    "    \n",
    "    return metricas_desagregadas, metricas_agrupadas"
   ]
  },
  {
   "cell_type": "code",
   "execution_count": 101,
   "metadata": {},
   "outputs": [],
   "source": [
    "resumenes = calcular_resumen_metricas_desagregadas_y_agrupadas_en_anios(df_torax, 2017, 2019)"
   ]
  },
  {
   "cell_type": "code",
   "execution_count": 102,
   "metadata": {},
   "outputs": [
    {
     "data": {
      "text/html": [
       "<div><style>\n",
       ".dataframe > thead > tr,\n",
       ".dataframe > tbody > tr {\n",
       "  text-align: right;\n",
       "  white-space: pre-wrap;\n",
       "}\n",
       "</style>\n",
       "<small>shape: (1_155, 7)</small><table border=\"1\" class=\"dataframe\"><thead><tr><th>ANO_EGRESO</th><th>DIAG1</th><th>n_egresos</th><th>n_pacientes_distintos</th><th>dias_estada_totales</th><th>egresos_por_paciente</th><th>dias_estada_promedio</th></tr><tr><td>i64</td><td>str</td><td>u32</td><td>u32</td><td>i64</td><td>f64</td><td>f64</td></tr></thead><tbody><tr><td>2019</td><td>&quot;Z511&quot;</td><td>611</td><td>148</td><td>706</td><td>4.128378</td><td>1.155483</td></tr><tr><td>2019</td><td>&quot;Z514&quot;</td><td>476</td><td>439</td><td>499</td><td>1.084282</td><td>1.048319</td></tr><tr><td>2019</td><td>&quot;I251&quot;</td><td>323</td><td>294</td><td>2862</td><td>1.098639</td><td>8.860681</td></tr><tr><td>2019</td><td>&quot;Z291&quot;</td><td>302</td><td>32</td><td>306</td><td>9.4375</td><td>1.013245</td></tr><tr><td>2019</td><td>&quot;C341&quot;</td><td>220</td><td>176</td><td>2767</td><td>1.25</td><td>12.577273</td></tr><tr><td>&hellip;</td><td>&hellip;</td><td>&hellip;</td><td>&hellip;</td><td>&hellip;</td><td>&hellip;</td><td>&hellip;</td></tr><tr><td>2017</td><td>&quot;D848&quot;</td><td>1</td><td>1</td><td>1</td><td>1.0</td><td>1.0</td></tr><tr><td>2017</td><td>&quot;Q248&quot;</td><td>1</td><td>1</td><td>3</td><td>1.0</td><td>3.0</td></tr><tr><td>2017</td><td>&quot;C493&quot;</td><td>1</td><td>1</td><td>7</td><td>1.0</td><td>7.0</td></tr><tr><td>2017</td><td>&quot;D377&quot;</td><td>1</td><td>1</td><td>17</td><td>1.0</td><td>17.0</td></tr><tr><td>2017</td><td>&quot;Z538&quot;</td><td>1</td><td>1</td><td>1</td><td>1.0</td><td>1.0</td></tr></tbody></table></div>"
      ],
      "text/plain": [
       "shape: (1_155, 7)\n",
       "┌────────────┬───────┬───────────┬────────────────┬────────────────┬───────────────┬───────────────┐\n",
       "│ ANO_EGRESO ┆ DIAG1 ┆ n_egresos ┆ n_pacientes_di ┆ dias_estada_to ┆ egresos_por_p ┆ dias_estada_p │\n",
       "│ ---        ┆ ---   ┆ ---       ┆ stintos        ┆ tales          ┆ aciente       ┆ romedio       │\n",
       "│ i64        ┆ str   ┆ u32       ┆ ---            ┆ ---            ┆ ---           ┆ ---           │\n",
       "│            ┆       ┆           ┆ u32            ┆ i64            ┆ f64           ┆ f64           │\n",
       "╞════════════╪═══════╪═══════════╪════════════════╪════════════════╪═══════════════╪═══════════════╡\n",
       "│ 2019       ┆ Z511  ┆ 611       ┆ 148            ┆ 706            ┆ 4.128378      ┆ 1.155483      │\n",
       "│ 2019       ┆ Z514  ┆ 476       ┆ 439            ┆ 499            ┆ 1.084282      ┆ 1.048319      │\n",
       "│ 2019       ┆ I251  ┆ 323       ┆ 294            ┆ 2862           ┆ 1.098639      ┆ 8.860681      │\n",
       "│ 2019       ┆ Z291  ┆ 302       ┆ 32             ┆ 306            ┆ 9.4375        ┆ 1.013245      │\n",
       "│ 2019       ┆ C341  ┆ 220       ┆ 176            ┆ 2767           ┆ 1.25          ┆ 12.577273     │\n",
       "│ …          ┆ …     ┆ …         ┆ …              ┆ …              ┆ …             ┆ …             │\n",
       "│ 2017       ┆ D848  ┆ 1         ┆ 1              ┆ 1              ┆ 1.0           ┆ 1.0           │\n",
       "│ 2017       ┆ Q248  ┆ 1         ┆ 1              ┆ 3              ┆ 1.0           ┆ 3.0           │\n",
       "│ 2017       ┆ C493  ┆ 1         ┆ 1              ┆ 7              ┆ 1.0           ┆ 7.0           │\n",
       "│ 2017       ┆ D377  ┆ 1         ┆ 1              ┆ 17             ┆ 1.0           ┆ 17.0          │\n",
       "│ 2017       ┆ Z538  ┆ 1         ┆ 1              ┆ 1              ┆ 1.0           ┆ 1.0           │\n",
       "└────────────┴───────┴───────────┴────────────────┴────────────────┴───────────────┴───────────────┘"
      ]
     },
     "execution_count": 102,
     "metadata": {},
     "output_type": "execute_result"
    }
   ],
   "source": [
    "resumenes[0]"
   ]
  },
  {
   "cell_type": "code",
   "execution_count": 103,
   "metadata": {},
   "outputs": [
    {
     "data": {
      "text/html": [
       "<div><style>\n",
       ".dataframe > thead > tr,\n",
       ".dataframe > tbody > tr {\n",
       "  text-align: right;\n",
       "  white-space: pre-wrap;\n",
       "}\n",
       "</style>\n",
       "<small>shape: (599, 6)</small><table border=\"1\" class=\"dataframe\"><thead><tr><th>DIAG1</th><th>n_egresos</th><th>n_pacientes_distintos</th><th>dias_estada_totales</th><th>egresos_por_paciente</th><th>dias_estada_promedio</th></tr><tr><td>str</td><td>u32</td><td>u32</td><td>i64</td><td>f64</td><td>f64</td></tr></thead><tbody><tr><td>&quot;Z511&quot;</td><td>1764</td><td>380</td><td>2046</td><td>4.642105</td><td>1.159864</td></tr><tr><td>&quot;Z514&quot;</td><td>1259</td><td>1079</td><td>1315</td><td>1.166821</td><td>1.04448</td></tr><tr><td>&quot;I251&quot;</td><td>978</td><td>868</td><td>8587</td><td>1.126728</td><td>8.780164</td></tr><tr><td>&quot;Z291&quot;</td><td>646</td><td>34</td><td>650</td><td>19.0</td><td>1.006192</td></tr><tr><td>&quot;C341&quot;</td><td>620</td><td>466</td><td>7506</td><td>1.330472</td><td>12.106452</td></tr><tr><td>&hellip;</td><td>&hellip;</td><td>&hellip;</td><td>&hellip;</td><td>&hellip;</td><td>&hellip;</td></tr><tr><td>&quot;J438&quot;</td><td>1</td><td>1</td><td>9</td><td>1.0</td><td>9.0</td></tr><tr><td>&quot;Q202&quot;</td><td>1</td><td>1</td><td>1</td><td>1.0</td><td>1.0</td></tr><tr><td>&quot;I652&quot;</td><td>1</td><td>1</td><td>5</td><td>1.0</td><td>5.0</td></tr><tr><td>&quot;Z548&quot;</td><td>1</td><td>1</td><td>2</td><td>1.0</td><td>2.0</td></tr><tr><td>&quot;M940&quot;</td><td>1</td><td>1</td><td>1</td><td>1.0</td><td>1.0</td></tr></tbody></table></div>"
      ],
      "text/plain": [
       "shape: (599, 6)\n",
       "┌───────┬───────────┬───────────────────┬───────────────────┬───────────────────┬──────────────────┐\n",
       "│ DIAG1 ┆ n_egresos ┆ n_pacientes_disti ┆ dias_estada_total ┆ egresos_por_pacie ┆ dias_estada_prom │\n",
       "│ ---   ┆ ---       ┆ ntos              ┆ es                ┆ nte               ┆ edio             │\n",
       "│ str   ┆ u32       ┆ ---               ┆ ---               ┆ ---               ┆ ---              │\n",
       "│       ┆           ┆ u32               ┆ i64               ┆ f64               ┆ f64              │\n",
       "╞═══════╪═══════════╪═══════════════════╪═══════════════════╪═══════════════════╪══════════════════╡\n",
       "│ Z511  ┆ 1764      ┆ 380               ┆ 2046              ┆ 4.642105          ┆ 1.159864         │\n",
       "│ Z514  ┆ 1259      ┆ 1079              ┆ 1315              ┆ 1.166821          ┆ 1.04448          │\n",
       "│ I251  ┆ 978       ┆ 868               ┆ 8587              ┆ 1.126728          ┆ 8.780164         │\n",
       "│ Z291  ┆ 646       ┆ 34                ┆ 650               ┆ 19.0              ┆ 1.006192         │\n",
       "│ C341  ┆ 620       ┆ 466               ┆ 7506              ┆ 1.330472          ┆ 12.106452        │\n",
       "│ …     ┆ …         ┆ …                 ┆ …                 ┆ …                 ┆ …                │\n",
       "│ J438  ┆ 1         ┆ 1                 ┆ 9                 ┆ 1.0               ┆ 9.0              │\n",
       "│ Q202  ┆ 1         ┆ 1                 ┆ 1                 ┆ 1.0               ┆ 1.0              │\n",
       "│ I652  ┆ 1         ┆ 1                 ┆ 5                 ┆ 1.0               ┆ 5.0              │\n",
       "│ Z548  ┆ 1         ┆ 1                 ┆ 2                 ┆ 1.0               ┆ 2.0              │\n",
       "│ M940  ┆ 1         ┆ 1                 ┆ 1                 ┆ 1.0               ┆ 1.0              │\n",
       "└───────┴───────────┴───────────────────┴───────────────────┴───────────────────┴──────────────────┘"
      ]
     },
     "execution_count": 103,
     "metadata": {},
     "output_type": "execute_result"
    }
   ],
   "source": [
    "resumenes[1]"
   ]
  },
  {
   "cell_type": "code",
   "execution_count": null,
   "metadata": {},
   "outputs": [],
   "source": []
  }
 ],
 "metadata": {
  "kernelspec": {
   "display_name": "int-proyeccion",
   "language": "python",
   "name": "python3"
  },
  "language_info": {
   "codemirror_mode": {
    "name": "ipython",
    "version": 3
   },
   "file_extension": ".py",
   "mimetype": "text/x-python",
   "name": "python",
   "nbconvert_exporter": "python",
   "pygments_lexer": "ipython3",
   "version": "3.11.8"
  }
 },
 "nbformat": 4,
 "nbformat_minor": 2
}
