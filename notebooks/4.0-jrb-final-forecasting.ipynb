{
 "cells": [
  {
   "cell_type": "code",
   "execution_count": 1,
   "metadata": {},
   "outputs": [],
   "source": [
    "import sys\n",
    "import os\n",
    "\n",
    "project_root = os.path.abspath('..')\n",
    "if project_root not in sys.path:\n",
    "    sys.path.append(project_root)\n",
    "\n",
    "%load_ext autoreload\n",
    "%autoreload 2\n"
   ]
  },
  {
   "cell_type": "code",
   "execution_count": 2,
   "metadata": {},
   "outputs": [],
   "source": [
    "import pandas as pd\n",
    "import numpy as np\n",
    "\n",
    "import matplotlib.pyplot as plt\n",
    "import seaborn as sns\n",
    "import warnings\n",
    "\n",
    "from sklearn.metrics import mean_squared_error\n",
    "from sklearn.model_selection import TimeSeriesSplit, GridSearchCV\n",
    "from prophet import Prophet\n",
    "\n",
    "from src.features import build_features\n",
    "from src.models import train_model\n",
    "\n",
    "warnings.filterwarnings('ignore')\n",
    "sns.set_style()\n",
    "plt.rcParams[\"figure.figsize\"] = (12, 6)"
   ]
  },
  {
   "cell_type": "code",
   "execution_count": 3,
   "metadata": {},
   "outputs": [],
   "source": [
    "DIAGS_RELEVANTES = [\n",
    "    \"C33X\",\n",
    "    \"C340\",\n",
    "    \"C341\",\n",
    "    \"C342\",\n",
    "    \"C343\",\n",
    "    \"C381\",\n",
    "    \"C384\",\n",
    "    \"C450\",\n",
    "    \"C780\",\n",
    "    \"C782\",\n",
    "    \"D143\",\n",
    "    \"D381\",\n",
    "    \"E848\",\n",
    "    \"I080\",\n",
    "    \"I081\",\n",
    "    \"I340\",\n",
    "    \"I351\",\n",
    "    \"I352\",\n",
    "    \"I420\",\n",
    "    \"I456\",\n",
    "    \"I472\",\n",
    "    \"I495\",\n",
    "    \"I710\",\n",
    "    \"I712\",\n",
    "    \"J47X\",\n",
    "    \"J679\",\n",
    "    \"J841\",\n",
    "    \"J848\",\n",
    "    \"J849\",\n",
    "    \"J860\",\n",
    "    \"J869\",\n",
    "    \"J955\",\n",
    "    \"M348\",\n",
    "    \"T820\",\n",
    "    \"T821\",\n",
    "    \"Z450\",\n",
    "]"
   ]
  },
  {
   "cell_type": "code",
   "execution_count": 16,
   "metadata": {},
   "outputs": [],
   "source": [
    "egresos_torax = pd.read_csv(\"../data/processed/egresos_torax_mes_y_dia.csv\")\n",
    "egresos_torax[\"FECHA_EGRESO\"] = pd.to_datetime(\n",
    "    egresos_torax[\"ANO_EGRESO\"].astype(str)\n",
    "    + \"-\"\n",
    "    + egresos_torax[\"MES_EGRESO\"].astype(str)\n",
    "    + \"-\"\n",
    "    + egresos_torax[\"DIA_EGRESO\"].astype(str),\n",
    "    format=\"%Y-%m-%d\",\n",
    ")"
   ]
  },
  {
   "cell_type": "markdown",
   "metadata": {},
   "source": [
    "# 1. Proyección de Egresos Hospitalarios para Diagnósticos más frecuentes en el INT\n",
    "\n",
    "En este cuadernillo se quiere crear un modelo para estimar la proyección de egresos\n",
    "hospitalarios para los diagnósticos más relevantes para el INT hasta el año 2035. Para realizar\n",
    "la proyección se utilizará el modelo Prophet, y se hará una proyección por día.\n",
    "\n",
    "Para este análisis se obviará el año 2019 para entrenar/testear el modelo. Esto, ya que es un\n",
    "año anómalo."
   ]
  },
  {
   "cell_type": "code",
   "execution_count": 33,
   "metadata": {},
   "outputs": [],
   "source": [
    "df = egresos_torax.query(\"ANO_EGRESO <= 2019\")\n",
    "df = df[df[\"DIAG1\"].isin(DIAGS_RELEVANTES)]\n",
    "df = df.drop(\n",
    "    columns={\n",
    "        \"ANO_EGRESO\",\n",
    "        \"MES_EGRESO\",\n",
    "        \"DIA_EGRESO\",\n",
    "        \"ESTABLECIMIENTO_SALUD\",\n",
    "        \"GLOSA_ESTABLECIMIENTO_SALUD\",\n",
    "    }\n",
    ")\n",
    "\n",
    "\n",
    "# Agrupa por día y genera un calendario completo hasta el 2019 (imputa días faltantes)\n",
    "df = df.groupby(\"FECHA_EGRESO\").sum().resample(\"D\").sum()\n",
    "df = df.drop(columns=\"DIAG1\")"
   ]
  },
  {
   "cell_type": "markdown",
   "metadata": {},
   "source": [
    "## 1.1 Preprocesamiento para Modelo Prophet\n",
    "\n",
    "El modelo prophet requiere 2 columnas para hacer la proyección"
   ]
  },
  {
   "cell_type": "code",
   "execution_count": 42,
   "metadata": {},
   "outputs": [],
   "source": [
    "df_prophet = (\n",
    "    df.copy()\n",
    "    .reset_index()[[\"FECHA_EGRESO\", \"n_egresos\"]]\n",
    "    .rename(columns={\"FECHA_EGRESO\": \"ds\", \"n_egresos\": \"y\"})\n",
    ")"
   ]
  },
  {
   "cell_type": "code",
   "execution_count": null,
   "metadata": {},
   "outputs": [],
   "source": []
  }
 ],
 "metadata": {
  "kernelspec": {
   "display_name": "int-proyeccion",
   "language": "python",
   "name": "python3"
  },
  "language_info": {
   "codemirror_mode": {
    "name": "ipython",
    "version": 3
   },
   "file_extension": ".py",
   "mimetype": "text/x-python",
   "name": "python",
   "nbconvert_exporter": "python",
   "pygments_lexer": "ipython3",
   "version": "3.11.5"
  }
 },
 "nbformat": 4,
 "nbformat_minor": 2
}
