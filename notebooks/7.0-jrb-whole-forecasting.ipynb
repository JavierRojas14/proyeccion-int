{
 "cells": [
  {
   "cell_type": "code",
   "execution_count": 1,
   "metadata": {},
   "outputs": [],
   "source": [
    "import pandas as pd\n",
    "import numpy as np\n",
    "\n",
    "import matplotlib.pyplot as plt\n",
    "import seaborn as sns\n",
    "\n",
    "sns.set_style()\n",
    "plt.rcParams['figure.figsize'] = (12, 6)"
   ]
  },
  {
   "cell_type": "markdown",
   "metadata": {},
   "source": [
    "# Objetivo del cuadernillo\n",
    "\n",
    "En este cuadernillo se quieren incluir 3 secciones principales:\n",
    "\n",
    "1. Análisis Exploratorio de los datos para los egresos hospitalarios del INT entre 2001 a 2019.\n",
    "2. Entrenamiento de modelos predictivos\n",
    "3. Estimación de Egresos Hospitalarios a 2035"
   ]
  },
  {
   "cell_type": "code",
   "execution_count": 8,
   "metadata": {},
   "outputs": [],
   "source": [
    "# Lee la base de datos\n",
    "egresos_torax = pd.read_csv(\"../data/processed/egresos_torax_mes_y_dia.csv\")\n",
    "\n",
    "# Crea columna de fecha en datetime\n",
    "egresos_torax[\"FECHA_EGRESO\"] = pd.to_datetime(\n",
    "    egresos_torax[\"ANO_EGRESO\"].astype(str)\n",
    "    + \"-\"\n",
    "    + egresos_torax[\"MES_EGRESO\"].astype(str)\n",
    "    + \"-\"\n",
    "    + egresos_torax[\"DIA_EGRESO\"].astype(str),\n",
    "    format=\"%Y-%m-%d\",\n",
    ")\n",
    "\n",
    "# Elimina columnas redundantes\n",
    "egresos_torax = egresos_torax.drop(\n",
    "    columns=[\n",
    "        \"ANO_EGRESO\",\n",
    "        \"MES_EGRESO\",\n",
    "        \"DIA_EGRESO\",\n",
    "        \"ESTABLECIMIENTO_SALUD\",\n",
    "        \"GLOSA_ESTABLECIMIENTO_SALUD\",\n",
    "    ]\n",
    ").sort_values(\"FECHA_EGRESO\")"
   ]
  }
 ],
 "metadata": {
  "kernelspec": {
   "display_name": "int-proyeccion",
   "language": "python",
   "name": "python3"
  },
  "language_info": {
   "codemirror_mode": {
    "name": "ipython",
    "version": 3
   },
   "file_extension": ".py",
   "mimetype": "text/x-python",
   "name": "python",
   "nbconvert_exporter": "python",
   "pygments_lexer": "ipython3",
   "version": "3.11.5"
  }
 },
 "nbformat": 4,
 "nbformat_minor": 2
}
